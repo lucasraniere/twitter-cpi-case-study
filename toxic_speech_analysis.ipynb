{
 "cells": [
  {
   "cell_type": "markdown",
   "id": "7970c12a-2e1f-4a7d-977e-7027b01dd22d",
   "metadata": {},
   "source": [
    "# __Analysing Tweets to Verify the Presence of Toxic Speech With ToLD-Br__"
   ]
  },
  {
   "cell_type": "code",
   "execution_count": 1,
   "id": "1b8d7d9c-e249-4150-8fcf-167e6b228604",
   "metadata": {},
   "outputs": [
    {
     "name": "stderr",
     "output_type": "stream",
     "text": [
      "/home/lucas/anaconda3/envs/twitter-cpi/lib/python3.9/site-packages/torchvision/io/image.py:13: UserWarning: Failed to load image Python extension: libc10_cuda.so: cannot open shared object file: No such file or directory\n",
      "  warn(f\"Failed to load image Python extension: {e}\")\n"
     ]
    }
   ],
   "source": [
    "import pandas as pd\n",
    "from IPython.display import clear_output\n",
    "from modules import preprocessing as pp\n",
    "from simpletransformers.classification import ClassificationModel"
   ]
  },
  {
   "cell_type": "code",
   "execution_count": 2,
   "id": "f97f8bed-bed4-4fd1-a43e-cdf2e7d3da4e",
   "metadata": {},
   "outputs": [
    {
     "data": {
      "text/plain": [
       "(1272586, 5)"
      ]
     },
     "execution_count": 2,
     "metadata": {},
     "output_type": "execute_result"
    }
   ],
   "source": [
    "# data\n",
    "tweets_df = pd.read_parquet('data/networks/complete_group_interacs.parquet')\n",
    "tweets_df.shape"
   ]
  },
  {
   "cell_type": "code",
   "execution_count": 3,
   "id": "74244fad-b76b-441a-9c3a-242797ec8083",
   "metadata": {},
   "outputs": [
    {
     "data": {
      "text/html": [
       "<div>\n",
       "<style scoped>\n",
       "    .dataframe tbody tr th:only-of-type {\n",
       "        vertical-align: middle;\n",
       "    }\n",
       "\n",
       "    .dataframe tbody tr th {\n",
       "        vertical-align: top;\n",
       "    }\n",
       "\n",
       "    .dataframe thead th {\n",
       "        text-align: right;\n",
       "    }\n",
       "</style>\n",
       "<table border=\"1\" class=\"dataframe\">\n",
       "  <thead>\n",
       "    <tr style=\"text-align: right;\">\n",
       "      <th></th>\n",
       "      <th>source</th>\n",
       "      <th>target</th>\n",
       "      <th>factions</th>\n",
       "      <th>interac_type</th>\n",
       "      <th>tweet_content</th>\n",
       "    </tr>\n",
       "  </thead>\n",
       "  <tbody>\n",
       "    <tr>\n",
       "      <th>519662</th>\n",
       "      <td>Alessan79751750</td>\n",
       "      <td>roxmo</td>\n",
       "      <td>pro gov to neutral</td>\n",
       "      <td>quoted_rt</td>\n",
       "      <td>#BolsonaroPresidenteAte2026 🇧🇷Deus abençoe o B...</td>\n",
       "    </tr>\n",
       "    <tr>\n",
       "      <th>1265986</th>\n",
       "      <td>MaraCri40407638</td>\n",
       "      <td>camarotedacpi</td>\n",
       "      <td>against gov to neutral</td>\n",
       "      <td>reply</td>\n",
       "      <td>@camarotedacpi Vergonha senhores senadores #Bo...</td>\n",
       "    </tr>\n",
       "    <tr>\n",
       "      <th>1268620</th>\n",
       "      <td>MARCELO03904378</td>\n",
       "      <td>SenadoFederal</td>\n",
       "      <td>pro gov to neutral</td>\n",
       "      <td>reply</td>\n",
       "      <td>@SenadoFederal Vergonha pura dessa #CPIdoCirco!</td>\n",
       "    </tr>\n",
       "    <tr>\n",
       "      <th>136326</th>\n",
       "      <td>hbrumjunior</td>\n",
       "      <td>baia_canuto</td>\n",
       "      <td>pro gov to pro gov</td>\n",
       "      <td>quoted_rt</td>\n",
       "      <td>Nossa , é isso q foi dito mesmo hoje no Senado...</td>\n",
       "    </tr>\n",
       "    <tr>\n",
       "      <th>495500</th>\n",
       "      <td>raphaellazaro</td>\n",
       "      <td>JovemPanNews</td>\n",
       "      <td>pro gov to neutral</td>\n",
       "      <td>reply</td>\n",
       "      <td>@JovemPanNews O #RenanVagabundo não tem moral ...</td>\n",
       "    </tr>\n",
       "    <tr>\n",
       "      <th>234807</th>\n",
       "      <td>dani_jaming</td>\n",
       "      <td>AnarcoFino</td>\n",
       "      <td>neutral to neutral</td>\n",
       "      <td>reply</td>\n",
       "      <td>@AnarcoFino CPI do Genocídio vai virar púlpito...</td>\n",
       "    </tr>\n",
       "    <tr>\n",
       "      <th>122263</th>\n",
       "      <td>Jailson42394700</td>\n",
       "      <td>OmarAzizSenador</td>\n",
       "      <td>pro gov to neutral</td>\n",
       "      <td>reply</td>\n",
       "      <td>@OmarAzizSenador Essa pesquisa é tão falsa, co...</td>\n",
       "    </tr>\n",
       "    <tr>\n",
       "      <th>952573</th>\n",
       "      <td>Aldo08978663</td>\n",
       "      <td>jornalodia</td>\n",
       "      <td>pro gov to neutral</td>\n",
       "      <td>reply</td>\n",
       "      <td>@jornalodia #FechadoComBolsonaroAte2026   #que...</td>\n",
       "    </tr>\n",
       "    <tr>\n",
       "      <th>1119271</th>\n",
       "      <td>Diana_Rozza</td>\n",
       "      <td>Ticostacruz</td>\n",
       "      <td>against gov to against gov</td>\n",
       "      <td>mention</td>\n",
       "      <td>\"O silêncio também é uma posição política.\" @T...</td>\n",
       "    </tr>\n",
       "    <tr>\n",
       "      <th>1080960</th>\n",
       "      <td>Anderso89729239</td>\n",
       "      <td>o_antagonista</td>\n",
       "      <td>against gov to against gov</td>\n",
       "      <td>reply</td>\n",
       "      <td>@o_antagonista O Brasil vive a pior gestão de ...</td>\n",
       "    </tr>\n",
       "  </tbody>\n",
       "</table>\n",
       "</div>"
      ],
      "text/plain": [
       "                  source           target                    factions  \\\n",
       "519662   Alessan79751750            roxmo          pro gov to neutral   \n",
       "1265986  MaraCri40407638    camarotedacpi      against gov to neutral   \n",
       "1268620  MARCELO03904378    SenadoFederal          pro gov to neutral   \n",
       "136326       hbrumjunior      baia_canuto          pro gov to pro gov   \n",
       "495500     raphaellazaro     JovemPanNews          pro gov to neutral   \n",
       "234807       dani_jaming       AnarcoFino          neutral to neutral   \n",
       "122263   Jailson42394700  OmarAzizSenador          pro gov to neutral   \n",
       "952573      Aldo08978663       jornalodia          pro gov to neutral   \n",
       "1119271      Diana_Rozza      Ticostacruz  against gov to against gov   \n",
       "1080960  Anderso89729239    o_antagonista  against gov to against gov   \n",
       "\n",
       "        interac_type                                      tweet_content  \n",
       "519662     quoted_rt  #BolsonaroPresidenteAte2026 🇧🇷Deus abençoe o B...  \n",
       "1265986        reply  @camarotedacpi Vergonha senhores senadores #Bo...  \n",
       "1268620        reply    @SenadoFederal Vergonha pura dessa #CPIdoCirco!  \n",
       "136326     quoted_rt  Nossa , é isso q foi dito mesmo hoje no Senado...  \n",
       "495500         reply  @JovemPanNews O #RenanVagabundo não tem moral ...  \n",
       "234807         reply  @AnarcoFino CPI do Genocídio vai virar púlpito...  \n",
       "122263         reply  @OmarAzizSenador Essa pesquisa é tão falsa, co...  \n",
       "952573         reply  @jornalodia #FechadoComBolsonaroAte2026   #que...  \n",
       "1119271      mention  \"O silêncio também é uma posição política.\" @T...  \n",
       "1080960        reply  @o_antagonista O Brasil vive a pior gestão de ...  "
      ]
     },
     "execution_count": 3,
     "metadata": {},
     "output_type": "execute_result"
    }
   ],
   "source": [
    "tweets_df.sample(10)"
   ]
  },
  {
   "cell_type": "code",
   "execution_count": 4,
   "id": "62547a1e-b161-4f4e-99e5-8e7fd2ba93f0",
   "metadata": {},
   "outputs": [
    {
     "data": {
      "text/plain": [
       "pro gov to pro gov            420024\n",
       "against gov to against gov    233985\n",
       "against gov to neutral        210992\n",
       "pro gov to neutral            150756\n",
       "neutral to neutral            128118\n",
       "pro gov to against gov         45385\n",
       "against gov to pro gov         36404\n",
       "neutral to against gov         36088\n",
       "neutral to pro gov             10834\n",
       "Name: factions, dtype: int64"
      ]
     },
     "execution_count": 4,
     "metadata": {},
     "output_type": "execute_result"
    }
   ],
   "source": [
    "tweets_df['factions'].value_counts()"
   ]
  },
  {
   "cell_type": "code",
   "execution_count": 8,
   "id": "ad32d3cd-869a-4229-b0fb-2cd725894b41",
   "metadata": {},
   "outputs": [],
   "source": [
    "model = ClassificationModel(\"distilbert\", \"toxic_bert_model\", use_cuda=False)"
   ]
  },
  {
   "cell_type": "code",
   "execution_count": 9,
   "id": "d12df9e8-748c-4274-99f5-616695368ffc",
   "metadata": {},
   "outputs": [],
   "source": [
    "n = 1\n",
    "n_samples = 200\n",
    "sample_dict = {}\n",
    "predict_dict = {}\n",
    "slices = ['pro gov to pro gov', 'against gov to against gov', 'against gov to neutral',\n",
    "          'pro gov to neutral', 'neutral to neutral', 'pro gov to against gov',\n",
    "          'against gov to pro gov']"
   ]
  },
  {
   "cell_type": "code",
   "execution_count": 10,
   "id": "e9911fc3-eec9-4ebc-b7a4-f0233f19173b",
   "metadata": {},
   "outputs": [
    {
     "name": "stdout",
     "output_type": "stream",
     "text": [
      "Starting prediction slice: pro gov to pro gov\n",
      "Starting prediction number 0...\n"
     ]
    },
    {
     "data": {
      "application/vnd.jupyter.widget-view+json": {
       "model_id": "081dc542525f45d79c155adbc809eee3",
       "version_major": 2,
       "version_minor": 0
      },
      "text/plain": [
       "  0%|          | 0/200 [00:00<?, ?it/s]"
      ]
     },
     "metadata": {},
     "output_type": "display_data"
    },
    {
     "ename": "KeyboardInterrupt",
     "evalue": "",
     "output_type": "error",
     "traceback": [
      "\u001b[0;31m---------------------------------------------------------------------------\u001b[0m",
      "\u001b[0;31mIndexError\u001b[0m                                Traceback (most recent call last)",
      "File \u001b[0;32m~/anaconda3/envs/twitter-cpi/lib/python3.9/multiprocessing/pool.py:853\u001b[0m, in \u001b[0;36mIMapIterator.next\u001b[0;34m(self, timeout)\u001b[0m\n\u001b[1;32m    852\u001b[0m \u001b[38;5;28;01mtry\u001b[39;00m:\n\u001b[0;32m--> 853\u001b[0m     item \u001b[38;5;241m=\u001b[39m \u001b[38;5;28;43mself\u001b[39;49m\u001b[38;5;241;43m.\u001b[39;49m\u001b[43m_items\u001b[49m\u001b[38;5;241;43m.\u001b[39;49m\u001b[43mpopleft\u001b[49m\u001b[43m(\u001b[49m\u001b[43m)\u001b[49m\n\u001b[1;32m    854\u001b[0m \u001b[38;5;28;01mexcept\u001b[39;00m \u001b[38;5;167;01mIndexError\u001b[39;00m:\n",
      "\u001b[0;31mIndexError\u001b[0m: pop from an empty deque",
      "\nDuring handling of the above exception, another exception occurred:\n",
      "\u001b[0;31mKeyboardInterrupt\u001b[0m                         Traceback (most recent call last)",
      "File \u001b[0;32m<timed exec>:9\u001b[0m, in \u001b[0;36m<module>\u001b[0;34m\u001b[0m\n",
      "File \u001b[0;32m~/anaconda3/envs/twitter-cpi/lib/python3.9/site-packages/simpletransformers/classification/classification_model.py:2062\u001b[0m, in \u001b[0;36mClassificationModel.predict\u001b[0;34m(self, to_predict, multi_label)\u001b[0m\n\u001b[1;32m   2060\u001b[0m         out_label_ids \u001b[38;5;241m=\u001b[39m np\u001b[38;5;241m.\u001b[39mempty((\u001b[38;5;28mlen\u001b[39m(eval_dataset)))\n\u001b[1;32m   2061\u001b[0m \u001b[38;5;28;01melse\u001b[39;00m:\n\u001b[0;32m-> 2062\u001b[0m     eval_dataset \u001b[38;5;241m=\u001b[39m \u001b[38;5;28;43mself\u001b[39;49m\u001b[38;5;241;43m.\u001b[39;49m\u001b[43mload_and_cache_examples\u001b[49m\u001b[43m(\u001b[49m\n\u001b[1;32m   2063\u001b[0m \u001b[43m        \u001b[49m\u001b[43meval_examples\u001b[49m\u001b[43m,\u001b[49m\u001b[43m \u001b[49m\u001b[43mevaluate\u001b[49m\u001b[38;5;241;43m=\u001b[39;49m\u001b[38;5;28;43;01mTrue\u001b[39;49;00m\u001b[43m,\u001b[49m\u001b[43m \u001b[49m\u001b[43mmulti_label\u001b[49m\u001b[38;5;241;43m=\u001b[39;49m\u001b[43mmulti_label\u001b[49m\u001b[43m,\u001b[49m\u001b[43m \u001b[49m\u001b[43mno_cache\u001b[49m\u001b[38;5;241;43m=\u001b[39;49m\u001b[38;5;28;43;01mTrue\u001b[39;49;00m\n\u001b[1;32m   2064\u001b[0m \u001b[43m    \u001b[49m\u001b[43m)\u001b[49m\n\u001b[1;32m   2066\u001b[0m eval_sampler \u001b[38;5;241m=\u001b[39m SequentialSampler(eval_dataset)\n\u001b[1;32m   2067\u001b[0m eval_dataloader \u001b[38;5;241m=\u001b[39m DataLoader(\n\u001b[1;32m   2068\u001b[0m     eval_dataset, sampler\u001b[38;5;241m=\u001b[39meval_sampler, batch_size\u001b[38;5;241m=\u001b[39margs\u001b[38;5;241m.\u001b[39meval_batch_size\n\u001b[1;32m   2069\u001b[0m )\n",
      "File \u001b[0;32m~/anaconda3/envs/twitter-cpi/lib/python3.9/site-packages/simpletransformers/classification/classification_model.py:1815\u001b[0m, in \u001b[0;36mClassificationModel.load_and_cache_examples\u001b[0;34m(self, examples, evaluate, no_cache, multi_label, verbose, silent)\u001b[0m\n\u001b[1;32m   1813\u001b[0m         \u001b[38;5;28;01mreturn\u001b[39;00m dataset\n\u001b[1;32m   1814\u001b[0m \u001b[38;5;28;01melse\u001b[39;00m:\n\u001b[0;32m-> 1815\u001b[0m     dataset \u001b[38;5;241m=\u001b[39m \u001b[43mClassificationDataset\u001b[49m\u001b[43m(\u001b[49m\n\u001b[1;32m   1816\u001b[0m \u001b[43m        \u001b[49m\u001b[43mexamples\u001b[49m\u001b[43m,\u001b[49m\n\u001b[1;32m   1817\u001b[0m \u001b[43m        \u001b[49m\u001b[38;5;28;43mself\u001b[39;49m\u001b[38;5;241;43m.\u001b[39;49m\u001b[43mtokenizer\u001b[49m\u001b[43m,\u001b[49m\n\u001b[1;32m   1818\u001b[0m \u001b[43m        \u001b[49m\u001b[38;5;28;43mself\u001b[39;49m\u001b[38;5;241;43m.\u001b[39;49m\u001b[43margs\u001b[49m\u001b[43m,\u001b[49m\n\u001b[1;32m   1819\u001b[0m \u001b[43m        \u001b[49m\u001b[43mmode\u001b[49m\u001b[38;5;241;43m=\u001b[39;49m\u001b[43mmode\u001b[49m\u001b[43m,\u001b[49m\n\u001b[1;32m   1820\u001b[0m \u001b[43m        \u001b[49m\u001b[43mmulti_label\u001b[49m\u001b[38;5;241;43m=\u001b[39;49m\u001b[43mmulti_label\u001b[49m\u001b[43m,\u001b[49m\n\u001b[1;32m   1821\u001b[0m \u001b[43m        \u001b[49m\u001b[43moutput_mode\u001b[49m\u001b[38;5;241;43m=\u001b[39;49m\u001b[43moutput_mode\u001b[49m\u001b[43m,\u001b[49m\n\u001b[1;32m   1822\u001b[0m \u001b[43m        \u001b[49m\u001b[43mno_cache\u001b[49m\u001b[38;5;241;43m=\u001b[39;49m\u001b[43mno_cache\u001b[49m\u001b[43m,\u001b[49m\n\u001b[1;32m   1823\u001b[0m \u001b[43m    \u001b[49m\u001b[43m)\u001b[49m\n\u001b[1;32m   1824\u001b[0m     \u001b[38;5;28;01mreturn\u001b[39;00m dataset\n",
      "File \u001b[0;32m~/anaconda3/envs/twitter-cpi/lib/python3.9/site-packages/simpletransformers/classification/classification_utils.py:278\u001b[0m, in \u001b[0;36mClassificationDataset.__init__\u001b[0;34m(self, data, tokenizer, args, mode, multi_label, output_mode, no_cache)\u001b[0m\n\u001b[1;32m    277\u001b[0m \u001b[38;5;28;01mdef\u001b[39;00m \u001b[38;5;21m__init__\u001b[39m(\u001b[38;5;28mself\u001b[39m, data, tokenizer, args, mode, multi_label, output_mode, no_cache):\n\u001b[0;32m--> 278\u001b[0m     \u001b[38;5;28mself\u001b[39m\u001b[38;5;241m.\u001b[39mexamples, \u001b[38;5;28mself\u001b[39m\u001b[38;5;241m.\u001b[39mlabels \u001b[38;5;241m=\u001b[39m \u001b[43mbuild_classification_dataset\u001b[49m\u001b[43m(\u001b[49m\n\u001b[1;32m    279\u001b[0m \u001b[43m        \u001b[49m\u001b[43mdata\u001b[49m\u001b[43m,\u001b[49m\u001b[43m \u001b[49m\u001b[43mtokenizer\u001b[49m\u001b[43m,\u001b[49m\u001b[43m \u001b[49m\u001b[43margs\u001b[49m\u001b[43m,\u001b[49m\u001b[43m \u001b[49m\u001b[43mmode\u001b[49m\u001b[43m,\u001b[49m\u001b[43m \u001b[49m\u001b[43mmulti_label\u001b[49m\u001b[43m,\u001b[49m\u001b[43m \u001b[49m\u001b[43moutput_mode\u001b[49m\u001b[43m,\u001b[49m\u001b[43m \u001b[49m\u001b[43mno_cache\u001b[49m\n\u001b[1;32m    280\u001b[0m \u001b[43m    \u001b[49m\u001b[43m)\u001b[49m\n",
      "File \u001b[0;32m~/anaconda3/envs/twitter-cpi/lib/python3.9/site-packages/simpletransformers/classification/classification_utils.py:245\u001b[0m, in \u001b[0;36mbuild_classification_dataset\u001b[0;34m(data, tokenizer, args, mode, multi_label, output_mode, no_cache)\u001b[0m\n\u001b[1;32m    239\u001b[0m         data \u001b[38;5;241m=\u001b[39m [\n\u001b[1;32m    240\u001b[0m             (text_a[i : i \u001b[38;5;241m+\u001b[39m chunksize], \u001b[38;5;28;01mNone\u001b[39;00m, tokenizer, args\u001b[38;5;241m.\u001b[39mmax_seq_length)\n\u001b[1;32m    241\u001b[0m             \u001b[38;5;28;01mfor\u001b[39;00m i \u001b[38;5;129;01min\u001b[39;00m \u001b[38;5;28mrange\u001b[39m(\u001b[38;5;241m0\u001b[39m, \u001b[38;5;28mlen\u001b[39m(text_a), chunksize)\n\u001b[1;32m    242\u001b[0m         ]\n\u001b[1;32m    244\u001b[0m     \u001b[38;5;28;01mwith\u001b[39;00m Pool(args\u001b[38;5;241m.\u001b[39mprocess_count) \u001b[38;5;28;01mas\u001b[39;00m p:\n\u001b[0;32m--> 245\u001b[0m         examples \u001b[38;5;241m=\u001b[39m \u001b[38;5;28;43mlist\u001b[39;49m\u001b[43m(\u001b[49m\n\u001b[1;32m    246\u001b[0m \u001b[43m            \u001b[49m\u001b[43mtqdm\u001b[49m\u001b[43m(\u001b[49m\n\u001b[1;32m    247\u001b[0m \u001b[43m                \u001b[49m\u001b[43mp\u001b[49m\u001b[38;5;241;43m.\u001b[39;49m\u001b[43mimap\u001b[49m\u001b[43m(\u001b[49m\u001b[43mpreprocess_data_multiprocessing\u001b[49m\u001b[43m,\u001b[49m\u001b[43m \u001b[49m\u001b[43mdata\u001b[49m\u001b[43m)\u001b[49m\u001b[43m,\u001b[49m\n\u001b[1;32m    248\u001b[0m \u001b[43m                \u001b[49m\u001b[43mtotal\u001b[49m\u001b[38;5;241;43m=\u001b[39;49m\u001b[38;5;28;43mlen\u001b[39;49m\u001b[43m(\u001b[49m\u001b[43mtext_a\u001b[49m\u001b[43m)\u001b[49m\u001b[43m,\u001b[49m\n\u001b[1;32m    249\u001b[0m \u001b[43m                \u001b[49m\u001b[43mdisable\u001b[49m\u001b[38;5;241;43m=\u001b[39;49m\u001b[43margs\u001b[49m\u001b[38;5;241;43m.\u001b[39;49m\u001b[43msilent\u001b[49m\u001b[43m,\u001b[49m\n\u001b[1;32m    250\u001b[0m \u001b[43m            \u001b[49m\u001b[43m)\u001b[49m\n\u001b[1;32m    251\u001b[0m \u001b[43m        \u001b[49m\u001b[43m)\u001b[49m\n\u001b[1;32m    253\u001b[0m     examples \u001b[38;5;241m=\u001b[39m {\n\u001b[1;32m    254\u001b[0m         key: torch\u001b[38;5;241m.\u001b[39mcat([example[key] \u001b[38;5;28;01mfor\u001b[39;00m example \u001b[38;5;129;01min\u001b[39;00m examples])\n\u001b[1;32m    255\u001b[0m         \u001b[38;5;28;01mfor\u001b[39;00m key \u001b[38;5;129;01min\u001b[39;00m examples[\u001b[38;5;241m0\u001b[39m]\n\u001b[1;32m    256\u001b[0m     }\n\u001b[1;32m    257\u001b[0m \u001b[38;5;28;01melse\u001b[39;00m:\n",
      "File \u001b[0;32m~/anaconda3/envs/twitter-cpi/lib/python3.9/site-packages/tqdm/notebook.py:258\u001b[0m, in \u001b[0;36mtqdm_notebook.__iter__\u001b[0;34m(self)\u001b[0m\n\u001b[1;32m    256\u001b[0m \u001b[38;5;28;01mtry\u001b[39;00m:\n\u001b[1;32m    257\u001b[0m     it \u001b[38;5;241m=\u001b[39m \u001b[38;5;28msuper\u001b[39m(tqdm_notebook, \u001b[38;5;28mself\u001b[39m)\u001b[38;5;241m.\u001b[39m\u001b[38;5;21m__iter__\u001b[39m()\n\u001b[0;32m--> 258\u001b[0m     \u001b[38;5;28;01mfor\u001b[39;00m obj \u001b[38;5;129;01min\u001b[39;00m it:\n\u001b[1;32m    259\u001b[0m         \u001b[38;5;66;03m# return super(tqdm...) will not catch exception\u001b[39;00m\n\u001b[1;32m    260\u001b[0m         \u001b[38;5;28;01myield\u001b[39;00m obj\n\u001b[1;32m    261\u001b[0m \u001b[38;5;66;03m# NB: except ... [ as ...] breaks IPython async KeyboardInterrupt\u001b[39;00m\n",
      "File \u001b[0;32m~/anaconda3/envs/twitter-cpi/lib/python3.9/site-packages/tqdm/std.py:1195\u001b[0m, in \u001b[0;36mtqdm.__iter__\u001b[0;34m(self)\u001b[0m\n\u001b[1;32m   1192\u001b[0m time \u001b[38;5;241m=\u001b[39m \u001b[38;5;28mself\u001b[39m\u001b[38;5;241m.\u001b[39m_time\n\u001b[1;32m   1194\u001b[0m \u001b[38;5;28;01mtry\u001b[39;00m:\n\u001b[0;32m-> 1195\u001b[0m     \u001b[38;5;28;01mfor\u001b[39;00m obj \u001b[38;5;129;01min\u001b[39;00m iterable:\n\u001b[1;32m   1196\u001b[0m         \u001b[38;5;28;01myield\u001b[39;00m obj\n\u001b[1;32m   1197\u001b[0m         \u001b[38;5;66;03m# Update and possibly print the progressbar.\u001b[39;00m\n\u001b[1;32m   1198\u001b[0m         \u001b[38;5;66;03m# Note: does not call self.update(1) for speed optimisation.\u001b[39;00m\n",
      "File \u001b[0;32m~/anaconda3/envs/twitter-cpi/lib/python3.9/multiprocessing/pool.py:858\u001b[0m, in \u001b[0;36mIMapIterator.next\u001b[0;34m(self, timeout)\u001b[0m\n\u001b[1;32m    856\u001b[0m     \u001b[38;5;28mself\u001b[39m\u001b[38;5;241m.\u001b[39m_pool \u001b[38;5;241m=\u001b[39m \u001b[38;5;28;01mNone\u001b[39;00m\n\u001b[1;32m    857\u001b[0m     \u001b[38;5;28;01mraise\u001b[39;00m \u001b[38;5;167;01mStopIteration\u001b[39;00m \u001b[38;5;28;01mfrom\u001b[39;00m \u001b[38;5;28mNone\u001b[39m\n\u001b[0;32m--> 858\u001b[0m \u001b[38;5;28;43mself\u001b[39;49m\u001b[38;5;241;43m.\u001b[39;49m\u001b[43m_cond\u001b[49m\u001b[38;5;241;43m.\u001b[39;49m\u001b[43mwait\u001b[49m\u001b[43m(\u001b[49m\u001b[43mtimeout\u001b[49m\u001b[43m)\u001b[49m\n\u001b[1;32m    859\u001b[0m \u001b[38;5;28;01mtry\u001b[39;00m:\n\u001b[1;32m    860\u001b[0m     item \u001b[38;5;241m=\u001b[39m \u001b[38;5;28mself\u001b[39m\u001b[38;5;241m.\u001b[39m_items\u001b[38;5;241m.\u001b[39mpopleft()\n",
      "File \u001b[0;32m~/anaconda3/envs/twitter-cpi/lib/python3.9/threading.py:312\u001b[0m, in \u001b[0;36mCondition.wait\u001b[0;34m(self, timeout)\u001b[0m\n\u001b[1;32m    310\u001b[0m \u001b[38;5;28;01mtry\u001b[39;00m:    \u001b[38;5;66;03m# restore state no matter what (e.g., KeyboardInterrupt)\u001b[39;00m\n\u001b[1;32m    311\u001b[0m     \u001b[38;5;28;01mif\u001b[39;00m timeout \u001b[38;5;129;01mis\u001b[39;00m \u001b[38;5;28;01mNone\u001b[39;00m:\n\u001b[0;32m--> 312\u001b[0m         \u001b[43mwaiter\u001b[49m\u001b[38;5;241;43m.\u001b[39;49m\u001b[43macquire\u001b[49m\u001b[43m(\u001b[49m\u001b[43m)\u001b[49m\n\u001b[1;32m    313\u001b[0m         gotit \u001b[38;5;241m=\u001b[39m \u001b[38;5;28;01mTrue\u001b[39;00m\n\u001b[1;32m    314\u001b[0m     \u001b[38;5;28;01melse\u001b[39;00m:\n",
      "\u001b[0;31mKeyboardInterrupt\u001b[0m: "
     ]
    }
   ],
   "source": [
    "%%time\n",
    "\n",
    "for slice in slices:\n",
    "    sample_dict[slice] = []\n",
    "    predict_dict[slice] = []\n",
    "    print(f'Starting prediction slice: {slice}')\n",
    "    for x in range(n):\n",
    "        print(f'Starting prediction number {x}...')\n",
    "        samples = tweets_df[tweets_df['factions']==slice].sample(n_samples)\n",
    "        sample_dict[slice].append(samples)\n",
    "        predictions, outputs = model.predict(samples['tweet_content'].tolist())\n",
    "        predict_dict[slice].append(predictions)"
   ]
  },
  {
   "cell_type": "code",
   "execution_count": null,
   "id": "ad1504a9-4399-4ea4-947c-92dfc0c1c955",
   "metadata": {},
   "outputs": [],
   "source": [
    "# pred_list = []\n",
    "# count = 0\n",
    "\n",
    "# for tweet in tweets_df['tweet_content'].tolist():\n",
    "#     clear_output(wait=False)\n",
    "#     print('Tweet number: ', count)\n",
    "#     prediction, output = model.predict([tweet])\n",
    "#     pred_list.append(prediction[0])\n",
    "#     count+=1\n",
    "# #print(\"Predictions:\", predictions)\n",
    "# #print(\"Outputs:\", outputs)"
   ]
  },
  {
   "cell_type": "code",
   "execution_count": null,
   "id": "90959516-f2ef-4479-9ec8-cd7110bbc890",
   "metadata": {},
   "outputs": [],
   "source": [
    "def pred_toxic(tweet: str):\n",
    "    pred, out = model.predict([tweet])\n",
    "    return pred[0]"
   ]
  },
  {
   "cell_type": "code",
   "execution_count": null,
   "id": "650b1472-652d-415c-babe-880b0998ebf9",
   "metadata": {},
   "outputs": [],
   "source": [
    "import scipy.stats as st\n",
    "from math import ceil\n",
    "\n",
    "# Cochran's formula\n",
    "def get_sample_size(n_size, conf_level, margin_error, prop):\n",
    "    z = st.norm.ppf(1-(1-conf_level)/2)\n",
    "    n_0 = z**2*prop*(1-prop)/margin_error**2\n",
    "    n = n_0/(1+(n_0-1)/n_size)\n",
    "    n = ceil(n)\n",
    "    return n\n",
    "\n",
    "# Yamane's formula\n",
    "def get_sample_size_2(n_size, e):\n",
    "    n = n_size/(1+e**2)\n",
    "    n = ceil(n)\n",
    "    return n"
   ]
  },
  {
   "cell_type": "code",
   "execution_count": null,
   "id": "80bd268e-ed10-4c4f-9b5c-5965ebee8011",
   "metadata": {},
   "outputs": [],
   "source": [
    "#n = 5\n",
    "n = 5\n",
    "#percent_val = 2\n",
    "n_samples = 5000\n",
    "#sample_dict = {}\n",
    "#predict_dict = {}\n",
    "#samples = []\n",
    "sample_predicts = []\n",
    "slices = ['pro gov to pro gov', 'against gov to against gov', 'against gov to neutral',\n",
    "          'pro gov to neutral', 'neutral to neutral', 'pro gov to against gov',\n",
    "          'against gov to pro gov']\n",
    "\n",
    "#n_total_slice = {}\n",
    "#for slice in slices:\n",
    "#    n_total_slice[slice] = int(tweets_df['factions'].value_counts()[slice])"
   ]
  },
  {
   "cell_type": "code",
   "execution_count": null,
   "id": "6d5c7089-7b4f-4921-966a-4ff4baa67400",
   "metadata": {},
   "outputs": [],
   "source": [
    "get_sample_size(10000, 0.95, 0.05, 0.5)"
   ]
  },
  {
   "cell_type": "code",
   "execution_count": null,
   "id": "766a95c1-daf3-440d-a384-f72f40582f0a",
   "metadata": {},
   "outputs": [],
   "source": [
    "get_sample_size_2(400000, 0.05)"
   ]
  },
  {
   "cell_type": "code",
   "execution_count": null,
   "id": "71077c16-720c-4c9a-9ca5-b84f273f8fdf",
   "metadata": {},
   "outputs": [],
   "source": [
    "#%%capture\n",
    "\n",
    "#for slice in slices:\n",
    "#    samples_slice = []\n",
    "#    for x in range(n):\n",
    "#        total_slice_size = tweets_df[tweets_df['factions']==slice].shape[0]\n",
    "#        sample = tweets_df[tweets_df['factions']==slice].sample(x_perc_of(percent_val, total_slice_size))\n",
    "#        sample['toxic_predict'] = sample['tweet_content'].map(lambda x: pred_toxic(pp.no_emoji_pipeline(x)))\n",
    "#        samples_slice.append(sample)\n",
    "#    samples.append(samples_slice)"
   ]
  },
  {
   "cell_type": "code",
   "execution_count": null,
   "id": "07506c41-f32f-42df-8347-4ccdcedbe532",
   "metadata": {},
   "outputs": [],
   "source": [
    "for slice in slices:\n",
    "    #sample_dict[slice] = []\n",
    "    #predict_dict[slice] = []\n",
    "    print(f'Starting prediction slice: {slice}')\n",
    "    for x in range(n):\n",
    "        print(f'Starting prediction number {x}...')\n",
    "        samples = tweets_df[tweets_df['factions']==slice].sample(n_samples)\n",
    "        #n_sample = get_sample_size(n_total_slice[slice], 0.95, 0.05, 0.5)\n",
    "        #samples = tweets_df[tweets_df['factions']==slice].sample(n_sample)\n",
    "        samples_tt = [pp.no_emoji_pipeline(sample) for sample in samples['tweet_content'].tolist()]\n",
    "        #sample_dict[slice].append(samples)\n",
    "        predictions, outputs = model.predict(samples_tt)\n",
    "        #predict_dict[slice].append(predictions)\n",
    "        ##sample_predicts.extend(zip(samples['source'].tolist(), samples['target'].tolist(), samples['factions'].tolist(), samples['tweet_content'].tolist(),predictions))\n",
    "        #for pred_tuples in zip(samples['source'].tolist(), samples['target'].tolist(), samples['factions'].tolist(), samples['tweet_content'].tolist(),predictions):\n",
    "            #sample_predicts.append(pred_tuples)"
   ]
  },
  {
   "cell_type": "code",
   "execution_count": null,
   "id": "5e53e87b-396b-4932-9e7f-18c221a2a68f",
   "metadata": {},
   "outputs": [],
   "source": [
    "#del sample, samples_tt\n",
    "\n",
    "sample2 = tweets_df.sample(10)\n",
    "samples_tt2 = [pp.no_emoji_pipeline(sample) for sample in samples['tweet_content'].tolist()]"
   ]
  },
  {
   "cell_type": "code",
   "execution_count": null,
   "id": "dd4fbe89-765c-414e-bfbc-1a1c942d0522",
   "metadata": {},
   "outputs": [],
   "source": [
    "predictions, outputs = model.predict(samples_tt)\n",
    "predictions"
   ]
  },
  {
   "cell_type": "code",
   "execution_count": null,
   "id": "6de6214a-d727-4d65-8d28-40cac9291eb1",
   "metadata": {},
   "outputs": [],
   "source": [
    "columns = ['source', 'target', 'factions', 'tweet_content', 'toxic_pred']\n",
    "pd.DataFrame(columns=columns, data=sample_predicts)"
   ]
  },
  {
   "cell_type": "code",
   "execution_count": null,
   "id": "3e4d7650-c2e2-4c21-8e3c-36422a268d5b",
   "metadata": {},
   "outputs": [],
   "source": [
    "pd.Series(predict_dict['pro gov to pro gov'][0]).value_counts()"
   ]
  },
  {
   "cell_type": "code",
   "execution_count": null,
   "id": "b1da11b3-ea3e-4c95-8edf-c382ce61f930",
   "metadata": {},
   "outputs": [],
   "source": [
    "pd.Series(predict_dict['against gov to against gov'][3]).value_counts()"
   ]
  },
  {
   "cell_type": "code",
   "execution_count": null,
   "id": "d1dcc3df-422b-4753-a532-2c19a2842926",
   "metadata": {},
   "outputs": [],
   "source": [
    "pd.Series(predict_dict['against gov to neutral'][2]).value_counts()"
   ]
  },
  {
   "cell_type": "code",
   "execution_count": null,
   "id": "275c3d7e-53c7-4505-9c78-36b64957ae38",
   "metadata": {},
   "outputs": [],
   "source": [
    "pd.Series(predict_dict['pro gov to neutral'][2]).value_counts()"
   ]
  },
  {
   "cell_type": "code",
   "execution_count": null,
   "id": "60b578bf-a05c-4a69-8ffb-1e2c6f38035f",
   "metadata": {},
   "outputs": [],
   "source": [
    "pd.Series(predict_dict['pro gov to against gov'][1]).value_counts()"
   ]
  },
  {
   "cell_type": "code",
   "execution_count": null,
   "id": "c4ce1629-a0aa-45b6-b87a-30077e2d4caa",
   "metadata": {},
   "outputs": [],
   "source": [
    "pd.Series(predict_dict['against gov to pro gov'][1]).value_counts()"
   ]
  },
  {
   "cell_type": "code",
   "execution_count": null,
   "id": "84bc21cd-b2cd-4652-b07b-3a0e950e5546",
   "metadata": {},
   "outputs": [],
   "source": [
    "pd.Series(predict_dict['neutral to neutral'][2]).value_counts()"
   ]
  },
  {
   "cell_type": "code",
   "execution_count": null,
   "id": "91a33d34-694e-442e-b4ae-dfbeda9a0f53",
   "metadata": {},
   "outputs": [],
   "source": [
    "predict_dict['pro gov to pro gov'][0][:10]"
   ]
  },
  {
   "cell_type": "code",
   "execution_count": null,
   "id": "b372c99d-09c6-4b57-9a6e-45f52b289499",
   "metadata": {},
   "outputs": [],
   "source": [
    "sample_dict['pro gov to pro gov'][0][:10]"
   ]
  },
  {
   "cell_type": "markdown",
   "id": "634de119-7195-4f8f-aabf-f803f252dd24",
   "metadata": {
    "tags": []
   },
   "source": [
    "## Faction Study"
   ]
  },
  {
   "cell_type": "code",
   "execution_count": 3,
   "id": "86a284e6-e55b-44ed-83f5-6251bb854c84",
   "metadata": {},
   "outputs": [
    {
     "data": {
      "text/html": [
       "<div>\n",
       "<style scoped>\n",
       "    .dataframe tbody tr th:only-of-type {\n",
       "        vertical-align: middle;\n",
       "    }\n",
       "\n",
       "    .dataframe tbody tr th {\n",
       "        vertical-align: top;\n",
       "    }\n",
       "\n",
       "    .dataframe thead th {\n",
       "        text-align: right;\n",
       "    }\n",
       "</style>\n",
       "<table border=\"1\" class=\"dataframe\">\n",
       "  <thead>\n",
       "    <tr style=\"text-align: right;\">\n",
       "      <th></th>\n",
       "      <th>source</th>\n",
       "      <th>target</th>\n",
       "      <th>factions</th>\n",
       "      <th>interac_type</th>\n",
       "      <th>tweet_content</th>\n",
       "    </tr>\n",
       "  </thead>\n",
       "  <tbody>\n",
       "    <tr>\n",
       "      <th>273880</th>\n",
       "      <td>carioca_lia</td>\n",
       "      <td>OmarAzizSenador</td>\n",
       "      <td>neutral to neutral</td>\n",
       "      <td>mention</td>\n",
       "      <td>Vocês vão deixar a Mayra Pinheiro fazer defesa...</td>\n",
       "    </tr>\n",
       "  </tbody>\n",
       "</table>\n",
       "</div>"
      ],
      "text/plain": [
       "             source           target            factions interac_type  \\\n",
       "273880  carioca_lia  OmarAzizSenador  neutral to neutral      mention   \n",
       "\n",
       "                                            tweet_content  \n",
       "273880  Vocês vão deixar a Mayra Pinheiro fazer defesa...  "
      ]
     },
     "execution_count": 3,
     "metadata": {},
     "output_type": "execute_result"
    }
   ],
   "source": [
    "tweets_df[tweets_df['target']=='OmarAzizSenador'].sample()"
   ]
  },
  {
   "cell_type": "code",
   "execution_count": 4,
   "id": "b66c091a-533b-4e14-855c-2831efdb88fe",
   "metadata": {},
   "outputs": [
    {
     "data": {
      "text/html": [
       "<div>\n",
       "<style scoped>\n",
       "    .dataframe tbody tr th:only-of-type {\n",
       "        vertical-align: middle;\n",
       "    }\n",
       "\n",
       "    .dataframe tbody tr th {\n",
       "        vertical-align: top;\n",
       "    }\n",
       "\n",
       "    .dataframe thead th {\n",
       "        text-align: right;\n",
       "    }\n",
       "</style>\n",
       "<table border=\"1\" class=\"dataframe\">\n",
       "  <thead>\n",
       "    <tr style=\"text-align: right;\">\n",
       "      <th></th>\n",
       "      <th>source</th>\n",
       "      <th>target</th>\n",
       "      <th>factions</th>\n",
       "      <th>interac_type</th>\n",
       "      <th>tweet_content</th>\n",
       "    </tr>\n",
       "  </thead>\n",
       "  <tbody>\n",
       "    <tr>\n",
       "      <th>723409</th>\n",
       "      <td>ErikakHilton</td>\n",
       "      <td>randolfeap</td>\n",
       "      <td>neutral to neutral</td>\n",
       "      <td>reply</td>\n",
       "      <td>@randolfeap Boa Senador! É escandalosa a atitu...</td>\n",
       "    </tr>\n",
       "  </tbody>\n",
       "</table>\n",
       "</div>"
      ],
      "text/plain": [
       "              source      target            factions interac_type  \\\n",
       "723409  ErikakHilton  randolfeap  neutral to neutral        reply   \n",
       "\n",
       "                                            tweet_content  \n",
       "723409  @randolfeap Boa Senador! É escandalosa a atitu...  "
      ]
     },
     "execution_count": 4,
     "metadata": {},
     "output_type": "execute_result"
    }
   ],
   "source": [
    "tweets_df[tweets_df['target']=='randolfeap'].sample()"
   ]
  },
  {
   "cell_type": "code",
   "execution_count": 5,
   "id": "3c34807e-ef5f-4b28-84a2-00aef2d3842f",
   "metadata": {},
   "outputs": [
    {
     "data": {
      "text/html": [
       "<div>\n",
       "<style scoped>\n",
       "    .dataframe tbody tr th:only-of-type {\n",
       "        vertical-align: middle;\n",
       "    }\n",
       "\n",
       "    .dataframe tbody tr th {\n",
       "        vertical-align: top;\n",
       "    }\n",
       "\n",
       "    .dataframe thead th {\n",
       "        text-align: right;\n",
       "    }\n",
       "</style>\n",
       "<table border=\"1\" class=\"dataframe\">\n",
       "  <thead>\n",
       "    <tr style=\"text-align: right;\">\n",
       "      <th></th>\n",
       "      <th>source</th>\n",
       "      <th>target</th>\n",
       "      <th>factions</th>\n",
       "      <th>interac_type</th>\n",
       "      <th>tweet_content</th>\n",
       "    </tr>\n",
       "  </thead>\n",
       "  <tbody>\n",
       "    <tr>\n",
       "      <th>1204960</th>\n",
       "      <td>julianamelles</td>\n",
       "      <td>renancalheiros</td>\n",
       "      <td>pro gov to neutral</td>\n",
       "      <td>mention</td>\n",
       "      <td>@OmarAzizSenador , @renancalheiros , @randolfe...</td>\n",
       "    </tr>\n",
       "  </tbody>\n",
       "</table>\n",
       "</div>"
      ],
      "text/plain": [
       "                source          target            factions interac_type  \\\n",
       "1204960  julianamelles  renancalheiros  pro gov to neutral      mention   \n",
       "\n",
       "                                             tweet_content  \n",
       "1204960  @OmarAzizSenador , @renancalheiros , @randolfe...  "
      ]
     },
     "execution_count": 5,
     "metadata": {},
     "output_type": "execute_result"
    }
   ],
   "source": [
    "tweets_df[tweets_df['target']=='renancalheiros'].sample()"
   ]
  },
  {
   "cell_type": "code",
   "execution_count": 6,
   "id": "2aacbf3c-2b53-4b55-af63-a9444753bba9",
   "metadata": {},
   "outputs": [
    {
     "data": {
      "text/html": [
       "<div>\n",
       "<style scoped>\n",
       "    .dataframe tbody tr th:only-of-type {\n",
       "        vertical-align: middle;\n",
       "    }\n",
       "\n",
       "    .dataframe tbody tr th {\n",
       "        vertical-align: top;\n",
       "    }\n",
       "\n",
       "    .dataframe thead th {\n",
       "        text-align: right;\n",
       "    }\n",
       "</style>\n",
       "<table border=\"1\" class=\"dataframe\">\n",
       "  <thead>\n",
       "    <tr style=\"text-align: right;\">\n",
       "      <th></th>\n",
       "      <th>source</th>\n",
       "      <th>target</th>\n",
       "      <th>factions</th>\n",
       "      <th>interac_type</th>\n",
       "      <th>tweet_content</th>\n",
       "    </tr>\n",
       "  </thead>\n",
       "  <tbody>\n",
       "    <tr>\n",
       "      <th>1136524</th>\n",
       "      <td>BenevidesThomas</td>\n",
       "      <td>taoquei1</td>\n",
       "      <td>pro gov to pro gov</td>\n",
       "      <td>reply</td>\n",
       "      <td>@taoquei1 Eu também #EuConfioNoPresidente Bras...</td>\n",
       "    </tr>\n",
       "  </tbody>\n",
       "</table>\n",
       "</div>"
      ],
      "text/plain": [
       "                  source    target            factions interac_type  \\\n",
       "1136524  BenevidesThomas  taoquei1  pro gov to pro gov        reply   \n",
       "\n",
       "                                             tweet_content  \n",
       "1136524  @taoquei1 Eu também #EuConfioNoPresidente Bras...  "
      ]
     },
     "execution_count": 6,
     "metadata": {},
     "output_type": "execute_result"
    }
   ],
   "source": [
    "tweets_df[tweets_df['target']=='taoquei1'].sample()"
   ]
  },
  {
   "cell_type": "code",
   "execution_count": 7,
   "id": "42aeb8a3-0985-436f-aa0a-d464bac60c8f",
   "metadata": {},
   "outputs": [
    {
     "data": {
      "text/html": [
       "<div>\n",
       "<style scoped>\n",
       "    .dataframe tbody tr th:only-of-type {\n",
       "        vertical-align: middle;\n",
       "    }\n",
       "\n",
       "    .dataframe tbody tr th {\n",
       "        vertical-align: top;\n",
       "    }\n",
       "\n",
       "    .dataframe thead th {\n",
       "        text-align: right;\n",
       "    }\n",
       "</style>\n",
       "<table border=\"1\" class=\"dataframe\">\n",
       "  <thead>\n",
       "    <tr style=\"text-align: right;\">\n",
       "      <th></th>\n",
       "      <th>source</th>\n",
       "      <th>target</th>\n",
       "      <th>factions</th>\n",
       "      <th>interac_type</th>\n",
       "      <th>tweet_content</th>\n",
       "    </tr>\n",
       "  </thead>\n",
       "  <tbody>\n",
       "    <tr>\n",
       "      <th>870414</th>\n",
       "      <td>luxintenebris7_</td>\n",
       "      <td>CarlaZambelli38</td>\n",
       "      <td>against gov to pro gov</td>\n",
       "      <td>reply</td>\n",
       "      <td>@CarlaZambelli38 @lipepaesleme @o_antagonista ...</td>\n",
       "    </tr>\n",
       "  </tbody>\n",
       "</table>\n",
       "</div>"
      ],
      "text/plain": [
       "                 source           target                factions interac_type  \\\n",
       "870414  luxintenebris7_  CarlaZambelli38  against gov to pro gov        reply   \n",
       "\n",
       "                                            tweet_content  \n",
       "870414  @CarlaZambelli38 @lipepaesleme @o_antagonista ...  "
      ]
     },
     "execution_count": 7,
     "metadata": {},
     "output_type": "execute_result"
    }
   ],
   "source": [
    "tweets_df[tweets_df['target']=='CarlaZambelli38'].sample()"
   ]
  },
  {
   "cell_type": "code",
   "execution_count": 8,
   "id": "88cfa9cd-bb72-4b1d-9815-1c6389557529",
   "metadata": {},
   "outputs": [
    {
     "data": {
      "text/html": [
       "<div>\n",
       "<style scoped>\n",
       "    .dataframe tbody tr th:only-of-type {\n",
       "        vertical-align: middle;\n",
       "    }\n",
       "\n",
       "    .dataframe tbody tr th {\n",
       "        vertical-align: top;\n",
       "    }\n",
       "\n",
       "    .dataframe thead th {\n",
       "        text-align: right;\n",
       "    }\n",
       "</style>\n",
       "<table border=\"1\" class=\"dataframe\">\n",
       "  <thead>\n",
       "    <tr style=\"text-align: right;\">\n",
       "      <th></th>\n",
       "      <th>source</th>\n",
       "      <th>target</th>\n",
       "      <th>factions</th>\n",
       "      <th>interac_type</th>\n",
       "      <th>tweet_content</th>\n",
       "    </tr>\n",
       "  </thead>\n",
       "  <tbody>\n",
       "    <tr>\n",
       "      <th>1020049</th>\n",
       "      <td>CentraldeCanc12</td>\n",
       "      <td>MarcosRogerio</td>\n",
       "      <td>against gov to neutral</td>\n",
       "      <td>mention</td>\n",
       "      <td>Esse senador @MarcosRogerio é um completo imbe...</td>\n",
       "    </tr>\n",
       "  </tbody>\n",
       "</table>\n",
       "</div>"
      ],
      "text/plain": [
       "                  source         target                factions interac_type  \\\n",
       "1020049  CentraldeCanc12  MarcosRogerio  against gov to neutral      mention   \n",
       "\n",
       "                                             tweet_content  \n",
       "1020049  Esse senador @MarcosRogerio é um completo imbe...  "
      ]
     },
     "execution_count": 8,
     "metadata": {},
     "output_type": "execute_result"
    }
   ],
   "source": [
    "tweets_df[tweets_df['target']=='MarcosRogerio'].sample()"
   ]
  },
  {
   "cell_type": "code",
   "execution_count": 9,
   "id": "25e6d282-07d3-4521-a10f-78d1969152b2",
   "metadata": {},
   "outputs": [
    {
     "data": {
      "text/html": [
       "<div>\n",
       "<style scoped>\n",
       "    .dataframe tbody tr th:only-of-type {\n",
       "        vertical-align: middle;\n",
       "    }\n",
       "\n",
       "    .dataframe tbody tr th {\n",
       "        vertical-align: top;\n",
       "    }\n",
       "\n",
       "    .dataframe thead th {\n",
       "        text-align: right;\n",
       "    }\n",
       "</style>\n",
       "<table border=\"1\" class=\"dataframe\">\n",
       "  <thead>\n",
       "    <tr style=\"text-align: right;\">\n",
       "      <th></th>\n",
       "      <th>source</th>\n",
       "      <th>target</th>\n",
       "      <th>factions</th>\n",
       "      <th>interac_type</th>\n",
       "      <th>tweet_content</th>\n",
       "    </tr>\n",
       "  </thead>\n",
       "  <tbody>\n",
       "    <tr>\n",
       "      <th>686835</th>\n",
       "      <td>Jerrydevolta</td>\n",
       "      <td>kimpaim</td>\n",
       "      <td>pro gov to pro gov</td>\n",
       "      <td>reply</td>\n",
       "      <td>@kimpaim @LeilaDutra6 Relaxa...\\n#RenanSabiaDe...</td>\n",
       "    </tr>\n",
       "  </tbody>\n",
       "</table>\n",
       "</div>"
      ],
      "text/plain": [
       "              source   target            factions interac_type  \\\n",
       "686835  Jerrydevolta  kimpaim  pro gov to pro gov        reply   \n",
       "\n",
       "                                            tweet_content  \n",
       "686835  @kimpaim @LeilaDutra6 Relaxa...\\n#RenanSabiaDe...  "
      ]
     },
     "execution_count": 9,
     "metadata": {},
     "output_type": "execute_result"
    }
   ],
   "source": [
    "tweets_df[tweets_df['target']=='kimpaim'].sample()"
   ]
  },
  {
   "cell_type": "code",
   "execution_count": 10,
   "id": "fc05ae1b-31aa-4169-8546-80292b972b6b",
   "metadata": {},
   "outputs": [
    {
     "data": {
      "text/html": [
       "<div>\n",
       "<style scoped>\n",
       "    .dataframe tbody tr th:only-of-type {\n",
       "        vertical-align: middle;\n",
       "    }\n",
       "\n",
       "    .dataframe tbody tr th {\n",
       "        vertical-align: top;\n",
       "    }\n",
       "\n",
       "    .dataframe thead th {\n",
       "        text-align: right;\n",
       "    }\n",
       "</style>\n",
       "<table border=\"1\" class=\"dataframe\">\n",
       "  <thead>\n",
       "    <tr style=\"text-align: right;\">\n",
       "      <th></th>\n",
       "      <th>source</th>\n",
       "      <th>target</th>\n",
       "      <th>factions</th>\n",
       "      <th>interac_type</th>\n",
       "      <th>tweet_content</th>\n",
       "    </tr>\n",
       "  </thead>\n",
       "  <tbody>\n",
       "    <tr>\n",
       "      <th>450115</th>\n",
       "      <td>Nanda23838332</td>\n",
       "      <td>SenadoFederal</td>\n",
       "      <td>pro gov to neutral</td>\n",
       "      <td>quoted_rt</td>\n",
       "      <td>Quero ver quebrar o sigilo do mandetta.\\nEssa ...</td>\n",
       "    </tr>\n",
       "  </tbody>\n",
       "</table>\n",
       "</div>"
      ],
      "text/plain": [
       "               source         target            factions interac_type  \\\n",
       "450115  Nanda23838332  SenadoFederal  pro gov to neutral    quoted_rt   \n",
       "\n",
       "                                            tweet_content  \n",
       "450115  Quero ver quebrar o sigilo do mandetta.\\nEssa ...  "
      ]
     },
     "execution_count": 10,
     "metadata": {},
     "output_type": "execute_result"
    }
   ],
   "source": [
    "tweets_df[tweets_df['target']=='SenadoFederal'].sample()"
   ]
  },
  {
   "cell_type": "code",
   "execution_count": 11,
   "id": "d097429e-c2ed-4d8d-b3ba-c9b088b4f1f5",
   "metadata": {},
   "outputs": [
    {
     "data": {
      "text/html": [
       "<div>\n",
       "<style scoped>\n",
       "    .dataframe tbody tr th:only-of-type {\n",
       "        vertical-align: middle;\n",
       "    }\n",
       "\n",
       "    .dataframe tbody tr th {\n",
       "        vertical-align: top;\n",
       "    }\n",
       "\n",
       "    .dataframe thead th {\n",
       "        text-align: right;\n",
       "    }\n",
       "</style>\n",
       "<table border=\"1\" class=\"dataframe\">\n",
       "  <thead>\n",
       "    <tr style=\"text-align: right;\">\n",
       "      <th></th>\n",
       "      <th>source</th>\n",
       "      <th>target</th>\n",
       "      <th>factions</th>\n",
       "      <th>interac_type</th>\n",
       "      <th>tweet_content</th>\n",
       "    </tr>\n",
       "  </thead>\n",
       "  <tbody>\n",
       "    <tr>\n",
       "      <th>1120095</th>\n",
       "      <td>TeoMeow</td>\n",
       "      <td>Rconstantino</td>\n",
       "      <td>against gov to pro gov</td>\n",
       "      <td>reply</td>\n",
       "      <td>@Rconstantino #ForaBolsonaro  Vcs se fuderam f...</td>\n",
       "    </tr>\n",
       "  </tbody>\n",
       "</table>\n",
       "</div>"
      ],
      "text/plain": [
       "          source        target                factions interac_type  \\\n",
       "1120095  TeoMeow  Rconstantino  against gov to pro gov        reply   \n",
       "\n",
       "                                             tweet_content  \n",
       "1120095  @Rconstantino #ForaBolsonaro  Vcs se fuderam f...  "
      ]
     },
     "execution_count": 11,
     "metadata": {},
     "output_type": "execute_result"
    }
   ],
   "source": [
    "tweets_df[tweets_df['target']=='Rconstantino'].sample()"
   ]
  },
  {
   "cell_type": "code",
   "execution_count": 12,
   "id": "619f91ec-644c-4952-b5bd-1718894b8448",
   "metadata": {},
   "outputs": [
    {
     "data": {
      "text/html": [
       "<div>\n",
       "<style scoped>\n",
       "    .dataframe tbody tr th:only-of-type {\n",
       "        vertical-align: middle;\n",
       "    }\n",
       "\n",
       "    .dataframe tbody tr th {\n",
       "        vertical-align: top;\n",
       "    }\n",
       "\n",
       "    .dataframe thead th {\n",
       "        text-align: right;\n",
       "    }\n",
       "</style>\n",
       "<table border=\"1\" class=\"dataframe\">\n",
       "  <thead>\n",
       "    <tr style=\"text-align: right;\">\n",
       "      <th></th>\n",
       "      <th>source</th>\n",
       "      <th>target</th>\n",
       "      <th>factions</th>\n",
       "      <th>interac_type</th>\n",
       "      <th>tweet_content</th>\n",
       "    </tr>\n",
       "  </thead>\n",
       "  <tbody>\n",
       "    <tr>\n",
       "      <th>998451</th>\n",
       "      <td>CarlosR10950076</td>\n",
       "      <td>BolsonaroSP</td>\n",
       "      <td>against gov to pro gov</td>\n",
       "      <td>reply</td>\n",
       "      <td>@BolsonaroSP É a sua foto ao lado ANDA pensei ...</td>\n",
       "    </tr>\n",
       "  </tbody>\n",
       "</table>\n",
       "</div>"
      ],
      "text/plain": [
       "                 source       target                factions interac_type  \\\n",
       "998451  CarlosR10950076  BolsonaroSP  against gov to pro gov        reply   \n",
       "\n",
       "                                            tweet_content  \n",
       "998451  @BolsonaroSP É a sua foto ao lado ANDA pensei ...  "
      ]
     },
     "execution_count": 12,
     "metadata": {},
     "output_type": "execute_result"
    }
   ],
   "source": [
    "tweets_df[tweets_df['target']=='BolsonaroSP'].sample()"
   ]
  },
  {
   "cell_type": "code",
   "execution_count": 13,
   "id": "05faa45f-f444-4556-a59d-6d76f5e15186",
   "metadata": {},
   "outputs": [
    {
     "data": {
      "text/html": [
       "<div>\n",
       "<style scoped>\n",
       "    .dataframe tbody tr th:only-of-type {\n",
       "        vertical-align: middle;\n",
       "    }\n",
       "\n",
       "    .dataframe tbody tr th {\n",
       "        vertical-align: top;\n",
       "    }\n",
       "\n",
       "    .dataframe thead th {\n",
       "        text-align: right;\n",
       "    }\n",
       "</style>\n",
       "<table border=\"1\" class=\"dataframe\">\n",
       "  <thead>\n",
       "    <tr style=\"text-align: right;\">\n",
       "      <th></th>\n",
       "      <th>source</th>\n",
       "      <th>target</th>\n",
       "      <th>factions</th>\n",
       "      <th>interac_type</th>\n",
       "      <th>tweet_content</th>\n",
       "    </tr>\n",
       "  </thead>\n",
       "  <tbody>\n",
       "    <tr>\n",
       "      <th>294526</th>\n",
       "      <td>vagnerpde</td>\n",
       "      <td>senadorhumberto</td>\n",
       "      <td>neutral to against gov</td>\n",
       "      <td>mention</td>\n",
       "      <td>@senadorhumberto Bom dia! Meu artigo sobre a f...</td>\n",
       "    </tr>\n",
       "  </tbody>\n",
       "</table>\n",
       "</div>"
      ],
      "text/plain": [
       "           source           target                factions interac_type  \\\n",
       "294526  vagnerpde  senadorhumberto  neutral to against gov      mention   \n",
       "\n",
       "                                            tweet_content  \n",
       "294526  @senadorhumberto Bom dia! Meu artigo sobre a f...  "
      ]
     },
     "execution_count": 13,
     "metadata": {},
     "output_type": "execute_result"
    }
   ],
   "source": [
    "tweets_df[tweets_df['target']=='senadorhumberto'].sample()"
   ]
  },
  {
   "cell_type": "code",
   "execution_count": 14,
   "id": "283451dd-5efd-4489-a3e5-69c4745d3eb0",
   "metadata": {},
   "outputs": [
    {
     "data": {
      "text/html": [
       "<div>\n",
       "<style scoped>\n",
       "    .dataframe tbody tr th:only-of-type {\n",
       "        vertical-align: middle;\n",
       "    }\n",
       "\n",
       "    .dataframe tbody tr th {\n",
       "        vertical-align: top;\n",
       "    }\n",
       "\n",
       "    .dataframe thead th {\n",
       "        text-align: right;\n",
       "    }\n",
       "</style>\n",
       "<table border=\"1\" class=\"dataframe\">\n",
       "  <thead>\n",
       "    <tr style=\"text-align: right;\">\n",
       "      <th></th>\n",
       "      <th>source</th>\n",
       "      <th>target</th>\n",
       "      <th>factions</th>\n",
       "      <th>interac_type</th>\n",
       "      <th>tweet_content</th>\n",
       "    </tr>\n",
       "  </thead>\n",
       "  <tbody>\n",
       "    <tr>\n",
       "      <th>883866</th>\n",
       "      <td>claudioinf</td>\n",
       "      <td>folha</td>\n",
       "      <td>against gov to neutral</td>\n",
       "      <td>reply</td>\n",
       "      <td>@folha Esse leitor deve ser um boi do bolsonar...</td>\n",
       "    </tr>\n",
       "  </tbody>\n",
       "</table>\n",
       "</div>"
      ],
      "text/plain": [
       "            source target                factions interac_type  \\\n",
       "883866  claudioinf  folha  against gov to neutral        reply   \n",
       "\n",
       "                                            tweet_content  \n",
       "883866  @folha Esse leitor deve ser um boi do bolsonar...  "
      ]
     },
     "execution_count": 14,
     "metadata": {},
     "output_type": "execute_result"
    }
   ],
   "source": [
    "tweets_df[tweets_df['target']=='folha'].sample()"
   ]
  },
  {
   "cell_type": "code",
   "execution_count": 15,
   "id": "bb20afa1-8092-4f27-9a05-c1fd2ece5d4d",
   "metadata": {},
   "outputs": [
    {
     "data": {
      "text/html": [
       "<div>\n",
       "<style scoped>\n",
       "    .dataframe tbody tr th:only-of-type {\n",
       "        vertical-align: middle;\n",
       "    }\n",
       "\n",
       "    .dataframe tbody tr th {\n",
       "        vertical-align: top;\n",
       "    }\n",
       "\n",
       "    .dataframe thead th {\n",
       "        text-align: right;\n",
       "    }\n",
       "</style>\n",
       "<table border=\"1\" class=\"dataframe\">\n",
       "  <thead>\n",
       "    <tr style=\"text-align: right;\">\n",
       "      <th></th>\n",
       "      <th>source</th>\n",
       "      <th>target</th>\n",
       "      <th>factions</th>\n",
       "      <th>interac_type</th>\n",
       "      <th>tweet_content</th>\n",
       "    </tr>\n",
       "  </thead>\n",
       "  <tbody>\n",
       "    <tr>\n",
       "      <th>914971</th>\n",
       "      <td>nandoakr</td>\n",
       "      <td>UOLNoticias</td>\n",
       "      <td>pro gov to neutral</td>\n",
       "      <td>reply</td>\n",
       "      <td>@UOLNoticias Mostrou que é possível fraudar, e...</td>\n",
       "    </tr>\n",
       "  </tbody>\n",
       "</table>\n",
       "</div>"
      ],
      "text/plain": [
       "          source       target            factions interac_type  \\\n",
       "914971  nandoakr  UOLNoticias  pro gov to neutral        reply   \n",
       "\n",
       "                                            tweet_content  \n",
       "914971  @UOLNoticias Mostrou que é possível fraudar, e...  "
      ]
     },
     "execution_count": 15,
     "metadata": {},
     "output_type": "execute_result"
    }
   ],
   "source": [
    "tweets_df[tweets_df['target']=='UOLNoticias'].sample()"
   ]
  },
  {
   "cell_type": "code",
   "execution_count": 16,
   "id": "f27f6714-1098-4fe7-8bd5-428b8132dc30",
   "metadata": {},
   "outputs": [
    {
     "data": {
      "text/html": [
       "<div>\n",
       "<style scoped>\n",
       "    .dataframe tbody tr th:only-of-type {\n",
       "        vertical-align: middle;\n",
       "    }\n",
       "\n",
       "    .dataframe tbody tr th {\n",
       "        vertical-align: top;\n",
       "    }\n",
       "\n",
       "    .dataframe thead th {\n",
       "        text-align: right;\n",
       "    }\n",
       "</style>\n",
       "<table border=\"1\" class=\"dataframe\">\n",
       "  <thead>\n",
       "    <tr style=\"text-align: right;\">\n",
       "      <th></th>\n",
       "      <th>source</th>\n",
       "      <th>target</th>\n",
       "      <th>factions</th>\n",
       "      <th>interac_type</th>\n",
       "      <th>tweet_content</th>\n",
       "    </tr>\n",
       "  </thead>\n",
       "  <tbody>\n",
       "    <tr>\n",
       "      <th>986539</th>\n",
       "      <td>edsonbahiag4</td>\n",
       "      <td>STF_oficial</td>\n",
       "      <td>pro gov to neutral</td>\n",
       "      <td>mention</td>\n",
       "      <td>#TSEApagouAsProvas atentado a democracia é iss...</td>\n",
       "    </tr>\n",
       "  </tbody>\n",
       "</table>\n",
       "</div>"
      ],
      "text/plain": [
       "              source       target            factions interac_type  \\\n",
       "986539  edsonbahiag4  STF_oficial  pro gov to neutral      mention   \n",
       "\n",
       "                                            tweet_content  \n",
       "986539  #TSEApagouAsProvas atentado a democracia é iss...  "
      ]
     },
     "execution_count": 16,
     "metadata": {},
     "output_type": "execute_result"
    }
   ],
   "source": [
    "tweets_df[tweets_df['target']=='STF_oficial'].sample()"
   ]
  },
  {
   "cell_type": "code",
   "execution_count": 17,
   "id": "d5c7ceff-4a0a-443f-9a66-c3de8edc9843",
   "metadata": {},
   "outputs": [
    {
     "data": {
      "text/html": [
       "<div>\n",
       "<style scoped>\n",
       "    .dataframe tbody tr th:only-of-type {\n",
       "        vertical-align: middle;\n",
       "    }\n",
       "\n",
       "    .dataframe tbody tr th {\n",
       "        vertical-align: top;\n",
       "    }\n",
       "\n",
       "    .dataframe thead th {\n",
       "        text-align: right;\n",
       "    }\n",
       "</style>\n",
       "<table border=\"1\" class=\"dataframe\">\n",
       "  <thead>\n",
       "    <tr style=\"text-align: right;\">\n",
       "      <th></th>\n",
       "      <th>source</th>\n",
       "      <th>target</th>\n",
       "      <th>factions</th>\n",
       "      <th>interac_type</th>\n",
       "      <th>tweet_content</th>\n",
       "    </tr>\n",
       "  </thead>\n",
       "  <tbody>\n",
       "    <tr>\n",
       "      <th>852875</th>\n",
       "      <td>n_maximoff</td>\n",
       "      <td>Sen_Alessandro</td>\n",
       "      <td>neutral to neutral</td>\n",
       "      <td>mention</td>\n",
       "      <td>A #CPIdaCovid tem que voltar depois da ordem d...</td>\n",
       "    </tr>\n",
       "  </tbody>\n",
       "</table>\n",
       "</div>"
      ],
      "text/plain": [
       "            source          target            factions interac_type  \\\n",
       "852875  n_maximoff  Sen_Alessandro  neutral to neutral      mention   \n",
       "\n",
       "                                            tweet_content  \n",
       "852875  A #CPIdaCovid tem que voltar depois da ordem d...  "
      ]
     },
     "execution_count": 17,
     "metadata": {},
     "output_type": "execute_result"
    }
   ],
   "source": [
    "tweets_df[tweets_df['target']=='Sen_Alessandro'].sample()"
   ]
  },
  {
   "cell_type": "code",
   "execution_count": 18,
   "id": "ef3a2f4d-2bcd-4a72-96c1-05a1b0504ada",
   "metadata": {},
   "outputs": [
    {
     "data": {
      "text/html": [
       "<div>\n",
       "<style scoped>\n",
       "    .dataframe tbody tr th:only-of-type {\n",
       "        vertical-align: middle;\n",
       "    }\n",
       "\n",
       "    .dataframe tbody tr th {\n",
       "        vertical-align: top;\n",
       "    }\n",
       "\n",
       "    .dataframe thead th {\n",
       "        text-align: right;\n",
       "    }\n",
       "</style>\n",
       "<table border=\"1\" class=\"dataframe\">\n",
       "  <thead>\n",
       "    <tr style=\"text-align: right;\">\n",
       "      <th></th>\n",
       "      <th>source</th>\n",
       "      <th>target</th>\n",
       "      <th>factions</th>\n",
       "      <th>interac_type</th>\n",
       "      <th>tweet_content</th>\n",
       "    </tr>\n",
       "  </thead>\n",
       "  <tbody>\n",
       "    <tr>\n",
       "      <th>1233033</th>\n",
       "      <td>Pbmmesbr</td>\n",
       "      <td>Metropoles</td>\n",
       "      <td>against gov to neutral</td>\n",
       "      <td>quoted_rt</td>\n",
       "      <td>\"Expectativa : Siru vai comandar os protestos ...</td>\n",
       "    </tr>\n",
       "  </tbody>\n",
       "</table>\n",
       "</div>"
      ],
      "text/plain": [
       "           source      target                factions interac_type  \\\n",
       "1233033  Pbmmesbr  Metropoles  against gov to neutral    quoted_rt   \n",
       "\n",
       "                                             tweet_content  \n",
       "1233033  \"Expectativa : Siru vai comandar os protestos ...  "
      ]
     },
     "execution_count": 18,
     "metadata": {},
     "output_type": "execute_result"
    }
   ],
   "source": [
    "tweets_df[tweets_df['target']=='Metropoles'].sample()"
   ]
  },
  {
   "cell_type": "code",
   "execution_count": 19,
   "id": "7af0ebed-95d4-4174-b139-5e222d832be1",
   "metadata": {},
   "outputs": [
    {
     "data": {
      "text/html": [
       "<div>\n",
       "<style scoped>\n",
       "    .dataframe tbody tr th:only-of-type {\n",
       "        vertical-align: middle;\n",
       "    }\n",
       "\n",
       "    .dataframe tbody tr th {\n",
       "        vertical-align: top;\n",
       "    }\n",
       "\n",
       "    .dataframe thead th {\n",
       "        text-align: right;\n",
       "    }\n",
       "</style>\n",
       "<table border=\"1\" class=\"dataframe\">\n",
       "  <thead>\n",
       "    <tr style=\"text-align: right;\">\n",
       "      <th></th>\n",
       "      <th>source</th>\n",
       "      <th>target</th>\n",
       "      <th>factions</th>\n",
       "      <th>interac_type</th>\n",
       "      <th>tweet_content</th>\n",
       "    </tr>\n",
       "  </thead>\n",
       "  <tbody>\n",
       "    <tr>\n",
       "      <th>1267695</th>\n",
       "      <td>CAntunes0</td>\n",
       "      <td>MidiaNINJA</td>\n",
       "      <td>neutral to neutral</td>\n",
       "      <td>quoted_rt</td>\n",
       "      <td>Que esse relatório e os crimes ecoem internaci...</td>\n",
       "    </tr>\n",
       "  </tbody>\n",
       "</table>\n",
       "</div>"
      ],
      "text/plain": [
       "            source      target            factions interac_type  \\\n",
       "1267695  CAntunes0  MidiaNINJA  neutral to neutral    quoted_rt   \n",
       "\n",
       "                                             tweet_content  \n",
       "1267695  Que esse relatório e os crimes ecoem internaci...  "
      ]
     },
     "execution_count": 19,
     "metadata": {},
     "output_type": "execute_result"
    }
   ],
   "source": [
    "tweets_df[tweets_df['target']=='MidiaNINJA'].sample()"
   ]
  },
  {
   "cell_type": "code",
   "execution_count": 20,
   "id": "02190ae1-0c13-4f3f-a91f-56ca64a20b67",
   "metadata": {},
   "outputs": [
    {
     "data": {
      "text/html": [
       "<div>\n",
       "<style scoped>\n",
       "    .dataframe tbody tr th:only-of-type {\n",
       "        vertical-align: middle;\n",
       "    }\n",
       "\n",
       "    .dataframe tbody tr th {\n",
       "        vertical-align: top;\n",
       "    }\n",
       "\n",
       "    .dataframe thead th {\n",
       "        text-align: right;\n",
       "    }\n",
       "</style>\n",
       "<table border=\"1\" class=\"dataframe\">\n",
       "  <thead>\n",
       "    <tr style=\"text-align: right;\">\n",
       "      <th></th>\n",
       "      <th>source</th>\n",
       "      <th>target</th>\n",
       "      <th>factions</th>\n",
       "      <th>interac_type</th>\n",
       "      <th>tweet_content</th>\n",
       "    </tr>\n",
       "  </thead>\n",
       "  <tbody>\n",
       "    <tr>\n",
       "      <th>102081</th>\n",
       "      <td>NaldoValenca</td>\n",
       "      <td>Estadao</td>\n",
       "      <td>against gov to neutral</td>\n",
       "      <td>quoted_rt</td>\n",
       "      <td>O chefe da famiglia milíciana no poder central...</td>\n",
       "    </tr>\n",
       "  </tbody>\n",
       "</table>\n",
       "</div>"
      ],
      "text/plain": [
       "              source   target                factions interac_type  \\\n",
       "102081  NaldoValenca  Estadao  against gov to neutral    quoted_rt   \n",
       "\n",
       "                                            tweet_content  \n",
       "102081  O chefe da famiglia milíciana no poder central...  "
      ]
     },
     "execution_count": 20,
     "metadata": {},
     "output_type": "execute_result"
    }
   ],
   "source": [
    "tweets_df[tweets_df['target']=='Estadao'].sample()"
   ]
  },
  {
   "cell_type": "code",
   "execution_count": 21,
   "id": "85f061ac-d8aa-41e2-aa44-172ccaf6d977",
   "metadata": {},
   "outputs": [
    {
     "data": {
      "text/html": [
       "<div>\n",
       "<style scoped>\n",
       "    .dataframe tbody tr th:only-of-type {\n",
       "        vertical-align: middle;\n",
       "    }\n",
       "\n",
       "    .dataframe tbody tr th {\n",
       "        vertical-align: top;\n",
       "    }\n",
       "\n",
       "    .dataframe thead th {\n",
       "        text-align: right;\n",
       "    }\n",
       "</style>\n",
       "<table border=\"1\" class=\"dataframe\">\n",
       "  <thead>\n",
       "    <tr style=\"text-align: right;\">\n",
       "      <th></th>\n",
       "      <th>source</th>\n",
       "      <th>target</th>\n",
       "      <th>factions</th>\n",
       "      <th>interac_type</th>\n",
       "      <th>tweet_content</th>\n",
       "    </tr>\n",
       "  </thead>\n",
       "  <tbody>\n",
       "    <tr>\n",
       "      <th>107668</th>\n",
       "      <td>anselmo_sene</td>\n",
       "      <td>MarceloFreixo</td>\n",
       "      <td>against gov to neutral</td>\n",
       "      <td>reply</td>\n",
       "      <td>@MarceloFreixo Não conheço um país desenvolvid...</td>\n",
       "    </tr>\n",
       "  </tbody>\n",
       "</table>\n",
       "</div>"
      ],
      "text/plain": [
       "              source         target                factions interac_type  \\\n",
       "107668  anselmo_sene  MarceloFreixo  against gov to neutral        reply   \n",
       "\n",
       "                                            tweet_content  \n",
       "107668  @MarceloFreixo Não conheço um país desenvolvid...  "
      ]
     },
     "execution_count": 21,
     "metadata": {},
     "output_type": "execute_result"
    }
   ],
   "source": [
    "tweets_df[tweets_df['target']=='MarceloFreixo'].sample()"
   ]
  },
  {
   "cell_type": "code",
   "execution_count": 22,
   "id": "a104acd2-493a-4d7f-828f-e57a35cca843",
   "metadata": {},
   "outputs": [
    {
     "data": {
      "text/html": [
       "<div>\n",
       "<style scoped>\n",
       "    .dataframe tbody tr th:only-of-type {\n",
       "        vertical-align: middle;\n",
       "    }\n",
       "\n",
       "    .dataframe tbody tr th {\n",
       "        vertical-align: top;\n",
       "    }\n",
       "\n",
       "    .dataframe thead th {\n",
       "        text-align: right;\n",
       "    }\n",
       "</style>\n",
       "<table border=\"1\" class=\"dataframe\">\n",
       "  <thead>\n",
       "    <tr style=\"text-align: right;\">\n",
       "      <th></th>\n",
       "      <th>source</th>\n",
       "      <th>target</th>\n",
       "      <th>factions</th>\n",
       "      <th>interac_type</th>\n",
       "      <th>tweet_content</th>\n",
       "    </tr>\n",
       "  </thead>\n",
       "  <tbody>\n",
       "    <tr>\n",
       "      <th>1164893</th>\n",
       "      <td>EsquerdaPlease</td>\n",
       "      <td>GuilhermeBoulos</td>\n",
       "      <td>against gov to against gov</td>\n",
       "      <td>reply</td>\n",
       "      <td>@GuilhermeBoulos O que atrapalha é o excesso d...</td>\n",
       "    </tr>\n",
       "  </tbody>\n",
       "</table>\n",
       "</div>"
      ],
      "text/plain": [
       "                 source           target                    factions  \\\n",
       "1164893  EsquerdaPlease  GuilhermeBoulos  against gov to against gov   \n",
       "\n",
       "        interac_type                                      tweet_content  \n",
       "1164893        reply  @GuilhermeBoulos O que atrapalha é o excesso d...  "
      ]
     },
     "execution_count": 22,
     "metadata": {},
     "output_type": "execute_result"
    }
   ],
   "source": [
    "tweets_df[tweets_df['target']=='GuilhermeBoulos'].sample()"
   ]
  },
  {
   "cell_type": "code",
   "execution_count": 23,
   "id": "23da82e3-f448-42f3-b1a6-e2b36c81d6a8",
   "metadata": {},
   "outputs": [
    {
     "data": {
      "text/html": [
       "<div>\n",
       "<style scoped>\n",
       "    .dataframe tbody tr th:only-of-type {\n",
       "        vertical-align: middle;\n",
       "    }\n",
       "\n",
       "    .dataframe tbody tr th {\n",
       "        vertical-align: top;\n",
       "    }\n",
       "\n",
       "    .dataframe thead th {\n",
       "        text-align: right;\n",
       "    }\n",
       "</style>\n",
       "<table border=\"1\" class=\"dataframe\">\n",
       "  <thead>\n",
       "    <tr style=\"text-align: right;\">\n",
       "      <th></th>\n",
       "      <th>source</th>\n",
       "      <th>target</th>\n",
       "      <th>factions</th>\n",
       "      <th>interac_type</th>\n",
       "      <th>tweet_content</th>\n",
       "    </tr>\n",
       "  </thead>\n",
       "  <tbody>\n",
       "    <tr>\n",
       "      <th>846272</th>\n",
       "      <td>SuzamaraSoares</td>\n",
       "      <td>o_antagonista</td>\n",
       "      <td>pro gov to against gov</td>\n",
       "      <td>reply</td>\n",
       "      <td>@o_antagonista Tá difícil né?\\nDoeu muito ter ...</td>\n",
       "    </tr>\n",
       "  </tbody>\n",
       "</table>\n",
       "</div>"
      ],
      "text/plain": [
       "                source         target                factions interac_type  \\\n",
       "846272  SuzamaraSoares  o_antagonista  pro gov to against gov        reply   \n",
       "\n",
       "                                            tweet_content  \n",
       "846272  @o_antagonista Tá difícil né?\\nDoeu muito ter ...  "
      ]
     },
     "execution_count": 23,
     "metadata": {},
     "output_type": "execute_result"
    }
   ],
   "source": [
    "tweets_df[tweets_df['target']=='o_antagonista'].sample()"
   ]
  },
  {
   "cell_type": "code",
   "execution_count": 24,
   "id": "1fc43db6-00b1-4911-a9b9-6ce3653b4a5a",
   "metadata": {},
   "outputs": [
    {
     "data": {
      "text/html": [
       "<div>\n",
       "<style scoped>\n",
       "    .dataframe tbody tr th:only-of-type {\n",
       "        vertical-align: middle;\n",
       "    }\n",
       "\n",
       "    .dataframe tbody tr th {\n",
       "        vertical-align: top;\n",
       "    }\n",
       "\n",
       "    .dataframe thead th {\n",
       "        text-align: right;\n",
       "    }\n",
       "</style>\n",
       "<table border=\"1\" class=\"dataframe\">\n",
       "  <thead>\n",
       "    <tr style=\"text-align: right;\">\n",
       "      <th></th>\n",
       "      <th>source</th>\n",
       "      <th>target</th>\n",
       "      <th>factions</th>\n",
       "      <th>interac_type</th>\n",
       "      <th>tweet_content</th>\n",
       "    </tr>\n",
       "  </thead>\n",
       "  <tbody>\n",
       "    <tr>\n",
       "      <th>923096</th>\n",
       "      <td>Critica_Nata</td>\n",
       "      <td>ContaratoSenado</td>\n",
       "      <td>against gov to against gov</td>\n",
       "      <td>quoted_rt</td>\n",
       "      <td>Deve com Guedes que o Bolsonás aprendeu que -4...</td>\n",
       "    </tr>\n",
       "  </tbody>\n",
       "</table>\n",
       "</div>"
      ],
      "text/plain": [
       "              source           target                    factions  \\\n",
       "923096  Critica_Nata  ContaratoSenado  against gov to against gov   \n",
       "\n",
       "       interac_type                                      tweet_content  \n",
       "923096    quoted_rt  Deve com Guedes que o Bolsonás aprendeu que -4...  "
      ]
     },
     "execution_count": 24,
     "metadata": {},
     "output_type": "execute_result"
    }
   ],
   "source": [
    "tweets_df[tweets_df['target']=='ContaratoSenado'].sample()"
   ]
  },
  {
   "cell_type": "code",
   "execution_count": 25,
   "id": "b1b9e950-c7d5-443e-8a13-5c5c260cf285",
   "metadata": {},
   "outputs": [
    {
     "data": {
      "text/html": [
       "<div>\n",
       "<style scoped>\n",
       "    .dataframe tbody tr th:only-of-type {\n",
       "        vertical-align: middle;\n",
       "    }\n",
       "\n",
       "    .dataframe tbody tr th {\n",
       "        vertical-align: top;\n",
       "    }\n",
       "\n",
       "    .dataframe thead th {\n",
       "        text-align: right;\n",
       "    }\n",
       "</style>\n",
       "<table border=\"1\" class=\"dataframe\">\n",
       "  <thead>\n",
       "    <tr style=\"text-align: right;\">\n",
       "      <th></th>\n",
       "      <th>source</th>\n",
       "      <th>target</th>\n",
       "      <th>factions</th>\n",
       "      <th>interac_type</th>\n",
       "      <th>tweet_content</th>\n",
       "    </tr>\n",
       "  </thead>\n",
       "  <tbody>\n",
       "    <tr>\n",
       "      <th>1014469</th>\n",
       "      <td>mdominguezbr</td>\n",
       "      <td>cirogomes</td>\n",
       "      <td>against gov to against gov</td>\n",
       "      <td>reply</td>\n",
       "      <td>@cirogomes Traidor, mentiroso, genocida, incom...</td>\n",
       "    </tr>\n",
       "  </tbody>\n",
       "</table>\n",
       "</div>"
      ],
      "text/plain": [
       "               source     target                    factions interac_type  \\\n",
       "1014469  mdominguezbr  cirogomes  against gov to against gov        reply   \n",
       "\n",
       "                                             tweet_content  \n",
       "1014469  @cirogomes Traidor, mentiroso, genocida, incom...  "
      ]
     },
     "execution_count": 25,
     "metadata": {},
     "output_type": "execute_result"
    }
   ],
   "source": [
    "tweets_df[tweets_df['target']=='cirogomes'].sample()"
   ]
  },
  {
   "cell_type": "code",
   "execution_count": 26,
   "id": "61e79c19-a28e-4896-9478-bd7da8047973",
   "metadata": {},
   "outputs": [
    {
     "data": {
      "text/html": [
       "<div>\n",
       "<style scoped>\n",
       "    .dataframe tbody tr th:only-of-type {\n",
       "        vertical-align: middle;\n",
       "    }\n",
       "\n",
       "    .dataframe tbody tr th {\n",
       "        vertical-align: top;\n",
       "    }\n",
       "\n",
       "    .dataframe thead th {\n",
       "        text-align: right;\n",
       "    }\n",
       "</style>\n",
       "<table border=\"1\" class=\"dataframe\">\n",
       "  <thead>\n",
       "    <tr style=\"text-align: right;\">\n",
       "      <th></th>\n",
       "      <th>source</th>\n",
       "      <th>target</th>\n",
       "      <th>factions</th>\n",
       "      <th>interac_type</th>\n",
       "      <th>tweet_content</th>\n",
       "    </tr>\n",
       "  </thead>\n",
       "  <tbody>\n",
       "    <tr>\n",
       "      <th>1108711</th>\n",
       "      <td>DrikaReis45</td>\n",
       "      <td>juliette</td>\n",
       "      <td>against gov to against gov</td>\n",
       "      <td>reply</td>\n",
       "      <td>@juliette É isso aí #ForaBolsonaro  e #foralul...</td>\n",
       "    </tr>\n",
       "  </tbody>\n",
       "</table>\n",
       "</div>"
      ],
      "text/plain": [
       "              source    target                    factions interac_type  \\\n",
       "1108711  DrikaReis45  juliette  against gov to against gov        reply   \n",
       "\n",
       "                                             tweet_content  \n",
       "1108711  @juliette É isso aí #ForaBolsonaro  e #foralul...  "
      ]
     },
     "execution_count": 26,
     "metadata": {},
     "output_type": "execute_result"
    }
   ],
   "source": [
    "tweets_df[tweets_df['target']=='juliette'].sample()"
   ]
  },
  {
   "cell_type": "code",
   "execution_count": 27,
   "id": "222c7d29-b1b1-4ced-a13b-7a57c97cff3e",
   "metadata": {},
   "outputs": [
    {
     "data": {
      "text/html": [
       "<div>\n",
       "<style scoped>\n",
       "    .dataframe tbody tr th:only-of-type {\n",
       "        vertical-align: middle;\n",
       "    }\n",
       "\n",
       "    .dataframe tbody tr th {\n",
       "        vertical-align: top;\n",
       "    }\n",
       "\n",
       "    .dataframe thead th {\n",
       "        text-align: right;\n",
       "    }\n",
       "</style>\n",
       "<table border=\"1\" class=\"dataframe\">\n",
       "  <thead>\n",
       "    <tr style=\"text-align: right;\">\n",
       "      <th></th>\n",
       "      <th>source</th>\n",
       "      <th>target</th>\n",
       "      <th>factions</th>\n",
       "      <th>interac_type</th>\n",
       "      <th>tweet_content</th>\n",
       "    </tr>\n",
       "  </thead>\n",
       "  <tbody>\n",
       "    <tr>\n",
       "      <th>1107916</th>\n",
       "      <td>renata_rela</td>\n",
       "      <td>brunogagliasso</td>\n",
       "      <td>against gov to against gov</td>\n",
       "      <td>reply</td>\n",
       "      <td>@brunogagliasso Bozo Flopou! O improvável é fl...</td>\n",
       "    </tr>\n",
       "  </tbody>\n",
       "</table>\n",
       "</div>"
      ],
      "text/plain": [
       "              source          target                    factions interac_type  \\\n",
       "1107916  renata_rela  brunogagliasso  against gov to against gov        reply   \n",
       "\n",
       "                                             tweet_content  \n",
       "1107916  @brunogagliasso Bozo Flopou! O improvável é fl...  "
      ]
     },
     "execution_count": 27,
     "metadata": {},
     "output_type": "execute_result"
    }
   ],
   "source": [
    "tweets_df[tweets_df['target']=='brunogagliasso'].sample()"
   ]
  },
  {
   "cell_type": "code",
   "execution_count": 28,
   "id": "5a58ac37-679e-4a31-b4f6-8ed405d45631",
   "metadata": {},
   "outputs": [
    {
     "data": {
      "text/html": [
       "<div>\n",
       "<style scoped>\n",
       "    .dataframe tbody tr th:only-of-type {\n",
       "        vertical-align: middle;\n",
       "    }\n",
       "\n",
       "    .dataframe tbody tr th {\n",
       "        vertical-align: top;\n",
       "    }\n",
       "\n",
       "    .dataframe thead th {\n",
       "        text-align: right;\n",
       "    }\n",
       "</style>\n",
       "<table border=\"1\" class=\"dataframe\">\n",
       "  <thead>\n",
       "    <tr style=\"text-align: right;\">\n",
       "      <th></th>\n",
       "      <th>source</th>\n",
       "      <th>target</th>\n",
       "      <th>factions</th>\n",
       "      <th>interac_type</th>\n",
       "      <th>tweet_content</th>\n",
       "    </tr>\n",
       "  </thead>\n",
       "  <tbody>\n",
       "    <tr>\n",
       "      <th>1130014</th>\n",
       "      <td>damattagab</td>\n",
       "      <td>MBLivre</td>\n",
       "      <td>against gov to against gov</td>\n",
       "      <td>reply</td>\n",
       "      <td>@MBLivre A notícia que recebi AGORA é MUITO BO...</td>\n",
       "    </tr>\n",
       "  </tbody>\n",
       "</table>\n",
       "</div>"
      ],
      "text/plain": [
       "             source   target                    factions interac_type  \\\n",
       "1130014  damattagab  MBLivre  against gov to against gov        reply   \n",
       "\n",
       "                                             tweet_content  \n",
       "1130014  @MBLivre A notícia que recebi AGORA é MUITO BO...  "
      ]
     },
     "execution_count": 28,
     "metadata": {},
     "output_type": "execute_result"
    }
   ],
   "source": [
    "tweets_df[tweets_df['target']=='MBLivre'].sample()"
   ]
  },
  {
   "cell_type": "code",
   "execution_count": 29,
   "id": "553ea056-c85e-48dc-9c63-f447b1bc9284",
   "metadata": {},
   "outputs": [
    {
     "data": {
      "text/html": [
       "<div>\n",
       "<style scoped>\n",
       "    .dataframe tbody tr th:only-of-type {\n",
       "        vertical-align: middle;\n",
       "    }\n",
       "\n",
       "    .dataframe tbody tr th {\n",
       "        vertical-align: top;\n",
       "    }\n",
       "\n",
       "    .dataframe thead th {\n",
       "        text-align: right;\n",
       "    }\n",
       "</style>\n",
       "<table border=\"1\" class=\"dataframe\">\n",
       "  <thead>\n",
       "    <tr style=\"text-align: right;\">\n",
       "      <th></th>\n",
       "      <th>source</th>\n",
       "      <th>target</th>\n",
       "      <th>factions</th>\n",
       "      <th>interac_type</th>\n",
       "      <th>tweet_content</th>\n",
       "    </tr>\n",
       "  </thead>\n",
       "  <tbody>\n",
       "    <tr>\n",
       "      <th>1034612</th>\n",
       "      <td>l_samar</td>\n",
       "      <td>jdoriajr</td>\n",
       "      <td>pro gov to against gov</td>\n",
       "      <td>reply</td>\n",
       "      <td>@jdoriajr Vamos agradecer ao Ministério da Saú...</td>\n",
       "    </tr>\n",
       "  </tbody>\n",
       "</table>\n",
       "</div>"
      ],
      "text/plain": [
       "          source    target                factions interac_type  \\\n",
       "1034612  l_samar  jdoriajr  pro gov to against gov        reply   \n",
       "\n",
       "                                             tweet_content  \n",
       "1034612  @jdoriajr Vamos agradecer ao Ministério da Saú...  "
      ]
     },
     "execution_count": 29,
     "metadata": {},
     "output_type": "execute_result"
    }
   ],
   "source": [
    "tweets_df[tweets_df['target']=='jdoriajr'].sample()"
   ]
  },
  {
   "cell_type": "code",
   "execution_count": 30,
   "id": "e3156503-ca14-4f6f-9318-fa78eac8da78",
   "metadata": {},
   "outputs": [
    {
     "data": {
      "text/html": [
       "<div>\n",
       "<style scoped>\n",
       "    .dataframe tbody tr th:only-of-type {\n",
       "        vertical-align: middle;\n",
       "    }\n",
       "\n",
       "    .dataframe tbody tr th {\n",
       "        vertical-align: top;\n",
       "    }\n",
       "\n",
       "    .dataframe thead th {\n",
       "        text-align: right;\n",
       "    }\n",
       "</style>\n",
       "<table border=\"1\" class=\"dataframe\">\n",
       "  <thead>\n",
       "    <tr style=\"text-align: right;\">\n",
       "      <th></th>\n",
       "      <th>source</th>\n",
       "      <th>target</th>\n",
       "      <th>factions</th>\n",
       "      <th>interac_type</th>\n",
       "      <th>tweet_content</th>\n",
       "    </tr>\n",
       "  </thead>\n",
       "  <tbody>\n",
       "    <tr>\n",
       "      <th>802403</th>\n",
       "      <td>dyi11952124</td>\n",
       "      <td>veramagalhaes</td>\n",
       "      <td>against gov to neutral</td>\n",
       "      <td>reply</td>\n",
       "      <td>@veramagalhaes #CPIdaCovid    @FFAABrasil além...</td>\n",
       "    </tr>\n",
       "  </tbody>\n",
       "</table>\n",
       "</div>"
      ],
      "text/plain": [
       "             source         target                factions interac_type  \\\n",
       "802403  dyi11952124  veramagalhaes  against gov to neutral        reply   \n",
       "\n",
       "                                            tweet_content  \n",
       "802403  @veramagalhaes #CPIdaCovid    @FFAABrasil além...  "
      ]
     },
     "execution_count": 30,
     "metadata": {},
     "output_type": "execute_result"
    }
   ],
   "source": [
    "tweets_df[tweets_df['target']=='veramagalhaes'].sample()"
   ]
  },
  {
   "cell_type": "code",
   "execution_count": 31,
   "id": "cd4cc4fa-8fab-45ff-aa7e-bc3a0a76ba52",
   "metadata": {},
   "outputs": [
    {
     "data": {
      "text/html": [
       "<div>\n",
       "<style scoped>\n",
       "    .dataframe tbody tr th:only-of-type {\n",
       "        vertical-align: middle;\n",
       "    }\n",
       "\n",
       "    .dataframe tbody tr th {\n",
       "        vertical-align: top;\n",
       "    }\n",
       "\n",
       "    .dataframe thead th {\n",
       "        text-align: right;\n",
       "    }\n",
       "</style>\n",
       "<table border=\"1\" class=\"dataframe\">\n",
       "  <thead>\n",
       "    <tr style=\"text-align: right;\">\n",
       "      <th></th>\n",
       "      <th>source</th>\n",
       "      <th>target</th>\n",
       "      <th>factions</th>\n",
       "      <th>interac_type</th>\n",
       "      <th>tweet_content</th>\n",
       "    </tr>\n",
       "  </thead>\n",
       "  <tbody>\n",
       "    <tr>\n",
       "      <th>884275</th>\n",
       "      <td>Sonia_Pers</td>\n",
       "      <td>RubensNunesMBL</td>\n",
       "      <td>against gov to against gov</td>\n",
       "      <td>reply</td>\n",
       "      <td>@RubensNunesMBL Maior Estelionato Eleitoral da...</td>\n",
       "    </tr>\n",
       "  </tbody>\n",
       "</table>\n",
       "</div>"
      ],
      "text/plain": [
       "            source          target                    factions interac_type  \\\n",
       "884275  Sonia_Pers  RubensNunesMBL  against gov to against gov        reply   \n",
       "\n",
       "                                            tweet_content  \n",
       "884275  @RubensNunesMBL Maior Estelionato Eleitoral da...  "
      ]
     },
     "execution_count": 31,
     "metadata": {},
     "output_type": "execute_result"
    }
   ],
   "source": [
    "tweets_df[tweets_df['target']=='RubensNunesMBL'].sample()"
   ]
  },
  {
   "cell_type": "code",
   "execution_count": 32,
   "id": "482e2a78-be81-48ba-8422-a66a1171c409",
   "metadata": {},
   "outputs": [
    {
     "data": {
      "text/html": [
       "<div>\n",
       "<style scoped>\n",
       "    .dataframe tbody tr th:only-of-type {\n",
       "        vertical-align: middle;\n",
       "    }\n",
       "\n",
       "    .dataframe tbody tr th {\n",
       "        vertical-align: top;\n",
       "    }\n",
       "\n",
       "    .dataframe thead th {\n",
       "        text-align: right;\n",
       "    }\n",
       "</style>\n",
       "<table border=\"1\" class=\"dataframe\">\n",
       "  <thead>\n",
       "    <tr style=\"text-align: right;\">\n",
       "      <th></th>\n",
       "      <th>source</th>\n",
       "      <th>target</th>\n",
       "      <th>factions</th>\n",
       "      <th>interac_type</th>\n",
       "      <th>tweet_content</th>\n",
       "    </tr>\n",
       "  </thead>\n",
       "  <tbody>\n",
       "    <tr>\n",
       "      <th>713276</th>\n",
       "      <td>ConcurseiroLima</td>\n",
       "      <td>KimKataguiri</td>\n",
       "      <td>against gov to against gov</td>\n",
       "      <td>reply</td>\n",
       "      <td>@KimKataguiri Ele disse que se fosse pra \"faze...</td>\n",
       "    </tr>\n",
       "  </tbody>\n",
       "</table>\n",
       "</div>"
      ],
      "text/plain": [
       "                 source        target                    factions  \\\n",
       "713276  ConcurseiroLima  KimKataguiri  against gov to against gov   \n",
       "\n",
       "       interac_type                                      tweet_content  \n",
       "713276        reply  @KimKataguiri Ele disse que se fosse pra \"faze...  "
      ]
     },
     "execution_count": 32,
     "metadata": {},
     "output_type": "execute_result"
    }
   ],
   "source": [
    "tweets_df[tweets_df['target']=='KimKataguiri'].sample()"
   ]
  },
  {
   "cell_type": "code",
   "execution_count": 37,
   "id": "ef5717d1-2288-4540-87dd-78c7d31e8ba6",
   "metadata": {},
   "outputs": [
    {
     "data": {
      "text/html": [
       "<div>\n",
       "<style scoped>\n",
       "    .dataframe tbody tr th:only-of-type {\n",
       "        vertical-align: middle;\n",
       "    }\n",
       "\n",
       "    .dataframe tbody tr th {\n",
       "        vertical-align: top;\n",
       "    }\n",
       "\n",
       "    .dataframe thead th {\n",
       "        text-align: right;\n",
       "    }\n",
       "</style>\n",
       "<table border=\"1\" class=\"dataframe\">\n",
       "  <thead>\n",
       "    <tr style=\"text-align: right;\">\n",
       "      <th></th>\n",
       "      <th>source</th>\n",
       "      <th>target</th>\n",
       "      <th>factions</th>\n",
       "      <th>interac_type</th>\n",
       "      <th>tweet_content</th>\n",
       "    </tr>\n",
       "  </thead>\n",
       "  <tbody>\n",
       "    <tr>\n",
       "      <th>150583</th>\n",
       "      <td>Leonardo16397</td>\n",
       "      <td>renancalheiros</td>\n",
       "      <td>pro gov to neutral</td>\n",
       "      <td>mention</td>\n",
       "      <td>@rpsenador \\n@renancalheiros \\n#CPIdoCirco \\n#...</td>\n",
       "    </tr>\n",
       "  </tbody>\n",
       "</table>\n",
       "</div>"
      ],
      "text/plain": [
       "               source          target            factions interac_type  \\\n",
       "150583  Leonardo16397  renancalheiros  pro gov to neutral      mention   \n",
       "\n",
       "                                            tweet_content  \n",
       "150583  @rpsenador \\n@renancalheiros \\n#CPIdoCirco \\n#...  "
      ]
     },
     "execution_count": 37,
     "metadata": {},
     "output_type": "execute_result"
    }
   ],
   "source": [
    "tweets_df[tweets_df['target']=='renancalheiros'].sample()"
   ]
  },
  {
   "cell_type": "code",
   "execution_count": 33,
   "id": "8865f776-1260-48aa-a1de-8451e7010c45",
   "metadata": {},
   "outputs": [
    {
     "data": {
      "text/html": [
       "<div>\n",
       "<style scoped>\n",
       "    .dataframe tbody tr th:only-of-type {\n",
       "        vertical-align: middle;\n",
       "    }\n",
       "\n",
       "    .dataframe tbody tr th {\n",
       "        vertical-align: top;\n",
       "    }\n",
       "\n",
       "    .dataframe thead th {\n",
       "        text-align: right;\n",
       "    }\n",
       "</style>\n",
       "<table border=\"1\" class=\"dataframe\">\n",
       "  <thead>\n",
       "    <tr style=\"text-align: right;\">\n",
       "      <th></th>\n",
       "      <th>source</th>\n",
       "      <th>target</th>\n",
       "      <th>factions</th>\n",
       "      <th>interac_type</th>\n",
       "      <th>tweet_content</th>\n",
       "    </tr>\n",
       "  </thead>\n",
       "  <tbody>\n",
       "    <tr>\n",
       "      <th>368206</th>\n",
       "      <td>pnolasco2000</td>\n",
       "      <td>a_postagem</td>\n",
       "      <td>against gov to against gov</td>\n",
       "      <td>mention</td>\n",
       "      <td>CPI da Covid: Otto Alencar faz Dra. Nise Yamag...</td>\n",
       "    </tr>\n",
       "    <tr>\n",
       "      <th>1224613</th>\n",
       "      <td>angelacfgomes</td>\n",
       "      <td>ptbrasil</td>\n",
       "      <td>against gov to against gov</td>\n",
       "      <td>quoted_rt</td>\n",
       "      <td>Hoje é dia de luta na rua\\n#Dia2ForaBolsonaro ...</td>\n",
       "    </tr>\n",
       "    <tr>\n",
       "      <th>1010832</th>\n",
       "      <td>eltoncpaulo</td>\n",
       "      <td>guimaraes13PT</td>\n",
       "      <td>against gov to against gov</td>\n",
       "      <td>reply</td>\n",
       "      <td>@guimaraes13PT São Paulo!!!\\n#ForaBolsonaro</td>\n",
       "    </tr>\n",
       "    <tr>\n",
       "      <th>534306</th>\n",
       "      <td>jucampea_</td>\n",
       "      <td>vivireispsol</td>\n",
       "      <td>against gov to against gov</td>\n",
       "      <td>reply</td>\n",
       "      <td>@vivireispsol @juliette É isso #ForaBolsonaro</td>\n",
       "    </tr>\n",
       "    <tr>\n",
       "      <th>1151206</th>\n",
       "      <td>JulioK70</td>\n",
       "      <td>wvidal1906</td>\n",
       "      <td>against gov to against gov</td>\n",
       "      <td>reply</td>\n",
       "      <td>@wvidal1906 @Nilsonhandebol Bora lá, companhei...</td>\n",
       "    </tr>\n",
       "    <tr>\n",
       "      <th>1230379</th>\n",
       "      <td>guimaraes13PT</td>\n",
       "      <td>Larissafgaspar</td>\n",
       "      <td>against gov to against gov</td>\n",
       "      <td>mention</td>\n",
       "      <td>Ao lado da Vereadora @Larissafgaspar, na luta ...</td>\n",
       "    </tr>\n",
       "    <tr>\n",
       "      <th>1087149</th>\n",
       "      <td>GisaMaciel_</td>\n",
       "      <td>andrearoeirap</td>\n",
       "      <td>against gov to against gov</td>\n",
       "      <td>quoted_rt</td>\n",
       "      <td>Tanta terra pra boi e a população segue passan...</td>\n",
       "    </tr>\n",
       "    <tr>\n",
       "      <th>470703</th>\n",
       "      <td>MoshePhabio</td>\n",
       "      <td>JANI_VALVERD</td>\n",
       "      <td>against gov to against gov</td>\n",
       "      <td>reply</td>\n",
       "      <td>@JANI_VALVERD Boçal, Bitolado, BolsoNarco. Cit...</td>\n",
       "    </tr>\n",
       "    <tr>\n",
       "      <th>346193</th>\n",
       "      <td>ZheRhai</td>\n",
       "      <td>vivireispsol</td>\n",
       "      <td>against gov to against gov</td>\n",
       "      <td>reply</td>\n",
       "      <td>@vivireispsol Com distanciamento é mais emocio...</td>\n",
       "    </tr>\n",
       "    <tr>\n",
       "      <th>115920</th>\n",
       "      <td>felipepalha</td>\n",
       "      <td>henrychristian</td>\n",
       "      <td>against gov to against gov</td>\n",
       "      <td>reply</td>\n",
       "      <td>@henrychristian @VEJA O @desmentindobozo já pu...</td>\n",
       "    </tr>\n",
       "    <tr>\n",
       "      <th>1032639</th>\n",
       "      <td>karenmirandado2</td>\n",
       "      <td>Adrysscamar1</td>\n",
       "      <td>against gov to against gov</td>\n",
       "      <td>quoted_rt</td>\n",
       "      <td>Nem o Presidente de Portugal aguentou!\\n#ForaB...</td>\n",
       "    </tr>\n",
       "    <tr>\n",
       "      <th>787858</th>\n",
       "      <td>oliveiira_gu</td>\n",
       "      <td>updatechartuc</td>\n",
       "      <td>against gov to against gov</td>\n",
       "      <td>quoted_rt</td>\n",
       "      <td>Já até parei de seguir.. gosto muito mas num m...</td>\n",
       "    </tr>\n",
       "    <tr>\n",
       "      <th>628592</th>\n",
       "      <td>tppereir</td>\n",
       "      <td>lolaescreva</td>\n",
       "      <td>against gov to against gov</td>\n",
       "      <td>quoted_rt</td>\n",
       "      <td>Além da Covaxin, no início de junho, governo c...</td>\n",
       "    </tr>\n",
       "    <tr>\n",
       "      <th>1243771</th>\n",
       "      <td>OmarMartins6</td>\n",
       "      <td>kakassio</td>\n",
       "      <td>against gov to against gov</td>\n",
       "      <td>reply</td>\n",
       "      <td>@kakassio @JovemPanNews @AnaPaulaVolei Jornali...</td>\n",
       "    </tr>\n",
       "    <tr>\n",
       "      <th>609618</th>\n",
       "      <td>Fenix96829784</td>\n",
       "      <td>BelleMPacheco</td>\n",
       "      <td>against gov to against gov</td>\n",
       "      <td>reply</td>\n",
       "      <td>@BelleMPacheco *** Fooooraaaa #BolsonaroVaiCair</td>\n",
       "    </tr>\n",
       "    <tr>\n",
       "      <th>623005</th>\n",
       "      <td>MarcoAntnioFig5</td>\n",
       "      <td>senadorhumberto</td>\n",
       "      <td>against gov to against gov</td>\n",
       "      <td>reply</td>\n",
       "      <td>@senadorhumberto @A_Bizarra @jairbolsonaro Bol...</td>\n",
       "    </tr>\n",
       "    <tr>\n",
       "      <th>306108</th>\n",
       "      <td>bruunarf</td>\n",
       "      <td>erikakokay</td>\n",
       "      <td>against gov to against gov</td>\n",
       "      <td>quoted_rt</td>\n",
       "      <td>ORGULHO!!!!!!!\\n#ForaBolsonaro \\n#ImpeachmentB...</td>\n",
       "    </tr>\n",
       "    <tr>\n",
       "      <th>265023</th>\n",
       "      <td>dariocoutinho</td>\n",
       "      <td>samiabomfim</td>\n",
       "      <td>against gov to against gov</td>\n",
       "      <td>reply</td>\n",
       "      <td>@samiabomfim @mmoreira_igor Impressionante com...</td>\n",
       "    </tr>\n",
       "    <tr>\n",
       "      <th>1259966</th>\n",
       "      <td>souantiBozo</td>\n",
       "      <td>LuaSantis</td>\n",
       "      <td>against gov to against gov</td>\n",
       "      <td>quoted_rt</td>\n",
       "      <td>Vamos participar.\\nTemos que militar um grande...</td>\n",
       "    </tr>\n",
       "    <tr>\n",
       "      <th>1034217</th>\n",
       "      <td>cruz_edigar</td>\n",
       "      <td>CludiaD56477534</td>\n",
       "      <td>against gov to against gov</td>\n",
       "      <td>reply</td>\n",
       "      <td>@CludiaD56477534 Veja o Bolsonaro fez o país p...</td>\n",
       "    </tr>\n",
       "  </tbody>\n",
       "</table>\n",
       "</div>"
      ],
      "text/plain": [
       "                  source           target                    factions  \\\n",
       "368206      pnolasco2000       a_postagem  against gov to against gov   \n",
       "1224613    angelacfgomes         ptbrasil  against gov to against gov   \n",
       "1010832      eltoncpaulo    guimaraes13PT  against gov to against gov   \n",
       "534306         jucampea_     vivireispsol  against gov to against gov   \n",
       "1151206         JulioK70       wvidal1906  against gov to against gov   \n",
       "1230379    guimaraes13PT   Larissafgaspar  against gov to against gov   \n",
       "1087149      GisaMaciel_    andrearoeirap  against gov to against gov   \n",
       "470703       MoshePhabio     JANI_VALVERD  against gov to against gov   \n",
       "346193           ZheRhai     vivireispsol  against gov to against gov   \n",
       "115920       felipepalha   henrychristian  against gov to against gov   \n",
       "1032639  karenmirandado2     Adrysscamar1  against gov to against gov   \n",
       "787858      oliveiira_gu    updatechartuc  against gov to against gov   \n",
       "628592          tppereir      lolaescreva  against gov to against gov   \n",
       "1243771     OmarMartins6         kakassio  against gov to against gov   \n",
       "609618     Fenix96829784    BelleMPacheco  against gov to against gov   \n",
       "623005   MarcoAntnioFig5  senadorhumberto  against gov to against gov   \n",
       "306108          bruunarf       erikakokay  against gov to against gov   \n",
       "265023     dariocoutinho      samiabomfim  against gov to against gov   \n",
       "1259966      souantiBozo        LuaSantis  against gov to against gov   \n",
       "1034217      cruz_edigar  CludiaD56477534  against gov to against gov   \n",
       "\n",
       "        interac_type                                      tweet_content  \n",
       "368206       mention  CPI da Covid: Otto Alencar faz Dra. Nise Yamag...  \n",
       "1224613    quoted_rt  Hoje é dia de luta na rua\\n#Dia2ForaBolsonaro ...  \n",
       "1010832        reply        @guimaraes13PT São Paulo!!!\\n#ForaBolsonaro  \n",
       "534306         reply      @vivireispsol @juliette É isso #ForaBolsonaro  \n",
       "1151206        reply  @wvidal1906 @Nilsonhandebol Bora lá, companhei...  \n",
       "1230379      mention  Ao lado da Vereadora @Larissafgaspar, na luta ...  \n",
       "1087149    quoted_rt  Tanta terra pra boi e a população segue passan...  \n",
       "470703         reply  @JANI_VALVERD Boçal, Bitolado, BolsoNarco. Cit...  \n",
       "346193         reply  @vivireispsol Com distanciamento é mais emocio...  \n",
       "115920         reply  @henrychristian @VEJA O @desmentindobozo já pu...  \n",
       "1032639    quoted_rt  Nem o Presidente de Portugal aguentou!\\n#ForaB...  \n",
       "787858     quoted_rt  Já até parei de seguir.. gosto muito mas num m...  \n",
       "628592     quoted_rt  Além da Covaxin, no início de junho, governo c...  \n",
       "1243771        reply  @kakassio @JovemPanNews @AnaPaulaVolei Jornali...  \n",
       "609618         reply    @BelleMPacheco *** Fooooraaaa #BolsonaroVaiCair  \n",
       "623005         reply  @senadorhumberto @A_Bizarra @jairbolsonaro Bol...  \n",
       "306108     quoted_rt  ORGULHO!!!!!!!\\n#ForaBolsonaro \\n#ImpeachmentB...  \n",
       "265023         reply  @samiabomfim @mmoreira_igor Impressionante com...  \n",
       "1259966    quoted_rt  Vamos participar.\\nTemos que militar um grande...  \n",
       "1034217        reply  @CludiaD56477534 Veja o Bolsonaro fez o país p...  "
      ]
     },
     "execution_count": 33,
     "metadata": {},
     "output_type": "execute_result"
    }
   ],
   "source": [
    "tweets_df[tweets_df['factions']=='against gov to against gov'].sample(20)"
   ]
  },
  {
   "cell_type": "code",
   "execution_count": null,
   "id": "85b7ad8b-d5ca-4d5a-959c-dffd55616108",
   "metadata": {},
   "outputs": [],
   "source": []
  },
  {
   "cell_type": "code",
   "execution_count": 34,
   "id": "fc6f1989-53f7-49d9-ba93-d56f1d4a3295",
   "metadata": {},
   "outputs": [
    {
     "data": {
      "text/plain": [
       "OmarAzizSenador    21213\n",
       "SenadoFederal      19172\n",
       "MarcosRogerio       8611\n",
       "renancalheiros      8171\n",
       "SigaGazetaBR        7692\n",
       "                   ...  \n",
       "joseleonidas           1\n",
       "pinkbloc_              1\n",
       "seujosias1             1\n",
       "true_news_now          1\n",
       "marianasendoela        1\n",
       "Name: target, Length: 2236, dtype: int64"
      ]
     },
     "execution_count": 34,
     "metadata": {},
     "output_type": "execute_result"
    }
   ],
   "source": [
    "tweets_df[tweets_df['factions']=='pro gov to neutral']['target'].value_counts()"
   ]
  },
  {
   "cell_type": "code",
   "execution_count": 35,
   "id": "adb8b172-0030-40b2-acf2-7776235a42ef",
   "metadata": {},
   "outputs": [
    {
     "data": {
      "text/plain": [
       "AAMachadoRP        12301\n",
       "randolfeap         11253\n",
       "UOLNoticias         9657\n",
       "OmarAzizSenador     8223\n",
       "MidiaNINJA          8044\n",
       "                   ...  \n",
       "ootimistajornal        1\n",
       "LilianaRochaF          1\n",
       "cruzeiro_mauro         1\n",
       "printandonews          1\n",
       "CarlosHortmann         1\n",
       "Name: target, Length: 5116, dtype: int64"
      ]
     },
     "execution_count": 35,
     "metadata": {},
     "output_type": "execute_result"
    }
   ],
   "source": [
    "tweets_df[tweets_df['factions']=='against gov to neutral']['target'].value_counts()"
   ]
  },
  {
   "cell_type": "code",
   "execution_count": 38,
   "id": "4597f6c4-f623-4fce-b642-ecf732b0ca27",
   "metadata": {},
   "outputs": [
    {
     "data": {
      "text/plain": [
       "senadorhumberto    6176\n",
       "revistaoeste       5839\n",
       "o_antagonista      4790\n",
       "jandira_feghali    1996\n",
       "joaoamoedonovo     1385\n",
       "DeputadoFederal    1220\n",
       "jdoriajr           1068\n",
       "MBLivre             836\n",
       "KimKataguiri        827\n",
       "erikakokay          791\n",
       "pauloteixeira13     697\n",
       "cirogomes           676\n",
       "GuilhermeBoulos     657\n",
       "joicehasselmann     502\n",
       "janainalimasp       454\n",
       "IvanValente         433\n",
       "guimaraes13PT       426\n",
       "samiabomfim         424\n",
       "ptbrasil            358\n",
       "taliriapetrone      338\n",
       "Name: target, dtype: int64"
      ]
     },
     "execution_count": 38,
     "metadata": {},
     "output_type": "execute_result"
    }
   ],
   "source": [
    "tweets_df[tweets_df['factions']=='pro gov to against gov']['target'].value_counts()[:20]"
   ]
  },
  {
   "cell_type": "code",
   "execution_count": null,
   "id": "d98e16a3-baf5-402b-94b2-daf18e0af6d1",
   "metadata": {},
   "outputs": [],
   "source": []
  }
 ],
 "metadata": {
  "kernelspec": {
   "display_name": "Python 3 (ipykernel)",
   "language": "python",
   "name": "python3"
  },
  "language_info": {
   "codemirror_mode": {
    "name": "ipython",
    "version": 3
   },
   "file_extension": ".py",
   "mimetype": "text/x-python",
   "name": "python",
   "nbconvert_exporter": "python",
   "pygments_lexer": "ipython3",
   "version": "3.9.12"
  }
 },
 "nbformat": 4,
 "nbformat_minor": 5
}

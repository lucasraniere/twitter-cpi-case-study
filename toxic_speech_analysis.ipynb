{
 "cells": [
  {
   "cell_type": "markdown",
   "id": "7970c12a-2e1f-4a7d-977e-7027b01dd22d",
   "metadata": {},
   "source": [
    "# __Analysing Tweets to Verify the Presence of Toxic Speech With ToLD-Br__"
   ]
  },
  {
   "cell_type": "code",
   "execution_count": 1,
   "id": "1b8d7d9c-e249-4150-8fcf-167e6b228604",
   "metadata": {},
   "outputs": [
    {
     "name": "stderr",
     "output_type": "stream",
     "text": [
      "/home/lucas/anaconda3/envs/twitter-cpi/lib/python3.9/site-packages/torchvision/io/image.py:13: UserWarning: Failed to load image Python extension: libc10_cuda.so: cannot open shared object file: No such file or directory\n",
      "  warn(f\"Failed to load image Python extension: {e}\")\n"
     ]
    }
   ],
   "source": [
    "import pandas as pd\n",
    "from IPython.display import clear_output\n",
    "from simpletransformers.classification import ClassificationModel"
   ]
  },
  {
   "cell_type": "code",
   "execution_count": 2,
   "id": "f97f8bed-bed4-4fd1-a43e-cdf2e7d3da4e",
   "metadata": {},
   "outputs": [
    {
     "data": {
      "text/plain": [
       "(1272586, 5)"
      ]
     },
     "execution_count": 2,
     "metadata": {},
     "output_type": "execute_result"
    }
   ],
   "source": [
    "# data\n",
    "tweets_df = pd.read_parquet('data/networks/complete_group_interacs.parquet')\n",
    "tweets_df.shape"
   ]
  },
  {
   "cell_type": "code",
   "execution_count": 3,
   "id": "74244fad-b76b-441a-9c3a-242797ec8083",
   "metadata": {},
   "outputs": [
    {
     "data": {
      "text/html": [
       "<div>\n",
       "<style scoped>\n",
       "    .dataframe tbody tr th:only-of-type {\n",
       "        vertical-align: middle;\n",
       "    }\n",
       "\n",
       "    .dataframe tbody tr th {\n",
       "        vertical-align: top;\n",
       "    }\n",
       "\n",
       "    .dataframe thead th {\n",
       "        text-align: right;\n",
       "    }\n",
       "</style>\n",
       "<table border=\"1\" class=\"dataframe\">\n",
       "  <thead>\n",
       "    <tr style=\"text-align: right;\">\n",
       "      <th></th>\n",
       "      <th>source</th>\n",
       "      <th>target</th>\n",
       "      <th>factions</th>\n",
       "      <th>interac_type</th>\n",
       "      <th>tweet_content</th>\n",
       "    </tr>\n",
       "  </thead>\n",
       "  <tbody>\n",
       "    <tr>\n",
       "      <th>362928</th>\n",
       "      <td>FeSeu</td>\n",
       "      <td>EduGiraoOficial</td>\n",
       "      <td>pro gov to neutral</td>\n",
       "      <td>mention</td>\n",
       "      <td>Renan afirma tópicos que foram negados por tod...</td>\n",
       "    </tr>\n",
       "    <tr>\n",
       "      <th>1197952</th>\n",
       "      <td>pensadorpensa</td>\n",
       "      <td>g1</td>\n",
       "      <td>pro gov to neutral</td>\n",
       "      <td>reply</td>\n",
       "      <td>@g1 A #CPIdoCirco em ação.</td>\n",
       "    </tr>\n",
       "    <tr>\n",
       "      <th>570695</th>\n",
       "      <td>Esbaile</td>\n",
       "      <td>EduGiraoOficial</td>\n",
       "      <td>pro gov to neutral</td>\n",
       "      <td>quoted_rt</td>\n",
       "      <td>É o óbvio que, ao ser ouvido dá NOJO E REVOLTA...</td>\n",
       "    </tr>\n",
       "    <tr>\n",
       "      <th>292920</th>\n",
       "      <td>Cristin07229113</td>\n",
       "      <td>SenadoFederal</td>\n",
       "      <td>pro gov to neutral</td>\n",
       "      <td>reply</td>\n",
       "      <td>@SenadoFederal O que dificutou foram as mentir...</td>\n",
       "    </tr>\n",
       "    <tr>\n",
       "      <th>795607</th>\n",
       "      <td>Neneto</td>\n",
       "      <td>MarcosRogerio</td>\n",
       "      <td>neutral to neutral</td>\n",
       "      <td>mention</td>\n",
       "      <td>@MarcosRogerio porque o senhor está defendendo...</td>\n",
       "    </tr>\n",
       "    <tr>\n",
       "      <th>787295</th>\n",
       "      <td>tatyanecibele</td>\n",
       "      <td>MarcosRogerio</td>\n",
       "      <td>neutral to neutral</td>\n",
       "      <td>mention</td>\n",
       "      <td>Resumindo @MarcosRogerio nao agrega nada repet...</td>\n",
       "    </tr>\n",
       "    <tr>\n",
       "      <th>918753</th>\n",
       "      <td>draChristina22</td>\n",
       "      <td>TSEjusbr</td>\n",
       "      <td>pro gov to neutral</td>\n",
       "      <td>reply</td>\n",
       "      <td>@TSEjusbr @policiafederal Queremos VOTO IMPRES...</td>\n",
       "    </tr>\n",
       "    <tr>\n",
       "      <th>217395</th>\n",
       "      <td>MidiaNINJA</td>\n",
       "      <td>randolfeap</td>\n",
       "      <td>neutral to neutral</td>\n",
       "      <td>mention</td>\n",
       "      <td>Acompanhou a #CPIdoCOVID hoje? Quer saber quai...</td>\n",
       "    </tr>\n",
       "    <tr>\n",
       "      <th>622909</th>\n",
       "      <td>emmaiafilho</td>\n",
       "      <td>camaradeputados</td>\n",
       "      <td>pro gov to neutral</td>\n",
       "      <td>mention</td>\n",
       "      <td>Alguma representação ou bancada feminina da @c...</td>\n",
       "    </tr>\n",
       "    <tr>\n",
       "      <th>186834</th>\n",
       "      <td>Zambele_se</td>\n",
       "      <td>STF_oficial</td>\n",
       "      <td>against gov to neutral</td>\n",
       "      <td>mention</td>\n",
       "      <td>Esse verme não tem respeito nem pela pai dos s...</td>\n",
       "    </tr>\n",
       "  </tbody>\n",
       "</table>\n",
       "</div>"
      ],
      "text/plain": [
       "                  source           target                factions  \\\n",
       "362928             FeSeu  EduGiraoOficial      pro gov to neutral   \n",
       "1197952    pensadorpensa               g1      pro gov to neutral   \n",
       "570695           Esbaile  EduGiraoOficial      pro gov to neutral   \n",
       "292920   Cristin07229113    SenadoFederal      pro gov to neutral   \n",
       "795607            Neneto    MarcosRogerio      neutral to neutral   \n",
       "787295     tatyanecibele    MarcosRogerio      neutral to neutral   \n",
       "918753    draChristina22         TSEjusbr      pro gov to neutral   \n",
       "217395        MidiaNINJA       randolfeap      neutral to neutral   \n",
       "622909       emmaiafilho  camaradeputados      pro gov to neutral   \n",
       "186834        Zambele_se      STF_oficial  against gov to neutral   \n",
       "\n",
       "        interac_type                                      tweet_content  \n",
       "362928       mention  Renan afirma tópicos que foram negados por tod...  \n",
       "1197952        reply                         @g1 A #CPIdoCirco em ação.  \n",
       "570695     quoted_rt  É o óbvio que, ao ser ouvido dá NOJO E REVOLTA...  \n",
       "292920         reply  @SenadoFederal O que dificutou foram as mentir...  \n",
       "795607       mention  @MarcosRogerio porque o senhor está defendendo...  \n",
       "787295       mention  Resumindo @MarcosRogerio nao agrega nada repet...  \n",
       "918753         reply  @TSEjusbr @policiafederal Queremos VOTO IMPRES...  \n",
       "217395       mention  Acompanhou a #CPIdoCOVID hoje? Quer saber quai...  \n",
       "622909       mention  Alguma representação ou bancada feminina da @c...  \n",
       "186834       mention  Esse verme não tem respeito nem pela pai dos s...  "
      ]
     },
     "execution_count": 3,
     "metadata": {},
     "output_type": "execute_result"
    }
   ],
   "source": [
    "tweets_df.sample(10)"
   ]
  },
  {
   "cell_type": "code",
   "execution_count": 4,
   "id": "78e54617-827d-40c7-b7ce-b85db440db6e",
   "metadata": {},
   "outputs": [],
   "source": [
    "def x_perc_of(v1, v2):\n",
    "    return round((v1*v2)/100)"
   ]
  },
  {
   "cell_type": "code",
   "execution_count": 5,
   "id": "62547a1e-b161-4f4e-99e5-8e7fd2ba93f0",
   "metadata": {},
   "outputs": [
    {
     "data": {
      "text/plain": [
       "pro gov to pro gov            420024\n",
       "against gov to against gov    233985\n",
       "against gov to neutral        210992\n",
       "pro gov to neutral            150756\n",
       "neutral to neutral            128118\n",
       "pro gov to against gov         45385\n",
       "against gov to pro gov         36404\n",
       "neutral to against gov         36088\n",
       "neutral to pro gov             10834\n",
       "Name: factions, dtype: int64"
      ]
     },
     "execution_count": 5,
     "metadata": {},
     "output_type": "execute_result"
    }
   ],
   "source": [
    "tweets_df['factions'].value_counts()"
   ]
  },
  {
   "cell_type": "code",
   "execution_count": null,
   "id": "4a1d6e46-7b56-4354-9745-58b40ff315f4",
   "metadata": {},
   "outputs": [],
   "source": [
    "total_size = tweets_df[tweets_df['factions']=='pro gov to pro gov'].shape[0]\n",
    "pro_gov2pro_gov_sample = tweets_df[tweets_df['factions']=='pro gov to pro gov'].sample(x_perc_of(20, total_size))\n",
    "pro_gov2pro_gov_sample.shape"
   ]
  },
  {
   "cell_type": "code",
   "execution_count": null,
   "id": "56a183f0-0d7b-41bb-b4c6-831f3e80cf96",
   "metadata": {},
   "outputs": [],
   "source": [
    "total_size = tweets_df[tweets_df['factions']=='against gov to against gov'].shape[0]\n",
    "ant_gov2ant_gov_sample = tweets_df[tweets_df['factions']=='against gov to against gov'].sample(x_perc_of(20, total_size))\n",
    "ant_gov2ant_gov_sample.shape"
   ]
  },
  {
   "cell_type": "code",
   "execution_count": null,
   "id": "939cf6cf-b9da-4643-b2df-8099a62ec60d",
   "metadata": {},
   "outputs": [],
   "source": [
    "total_size = tweets_df[tweets_df['factions']=='against gov to neutral'].shape[0]\n",
    "ant_gov2neutral_sample = tweets_df[tweets_df['factions']=='against gov to neutral'].sample(x_perc_of(20, total_size))\n",
    "ant_gov2neutral_sample.shape"
   ]
  },
  {
   "cell_type": "code",
   "execution_count": null,
   "id": "28a0e06e-c80a-4c48-957b-3167df4da6bb",
   "metadata": {},
   "outputs": [],
   "source": [
    "total_size = tweets_df[tweets_df['factions']=='pro gov to neutral'].shape[0]\n",
    "pro_gov2neutral_sample = tweets_df[tweets_df['factions']=='pro gov to neutral'].sample(x_perc_of(20, total_size))\n",
    "pro_gov2neutral_sample.shape"
   ]
  },
  {
   "cell_type": "code",
   "execution_count": null,
   "id": "c4e5cb90-a4c0-4ef4-b8e8-a838930f709f",
   "metadata": {},
   "outputs": [],
   "source": [
    "total_size = tweets_df[tweets_df['factions']=='neutral to neutral'].shape[0]\n",
    "neutral2neutral_sample = tweets_df[tweets_df['factions']=='neutral to neutral'].sample(x_perc_of(20, total_size))\n",
    "neutral2neutral_sample.shape"
   ]
  },
  {
   "cell_type": "code",
   "execution_count": null,
   "id": "ab8585c9-1279-4edd-8a5a-cfa65d9c8e60",
   "metadata": {},
   "outputs": [],
   "source": [
    "sample_list = [pro_gov2pro_gov_sample, ant_gov2ant_gov_sample, ant_gov2neutral_sample, pro_gov2neutral_sample, neutral2neutral_sample]\n",
    "prediction_sample_list = []"
   ]
  },
  {
   "cell_type": "code",
   "execution_count": 8,
   "id": "ad32d3cd-869a-4229-b0fb-2cd725894b41",
   "metadata": {},
   "outputs": [],
   "source": [
    "model = ClassificationModel(\"distilbert\", \"toxic_bert_model\", use_cuda=False)"
   ]
  },
  {
   "cell_type": "code",
   "execution_count": null,
   "id": "ff4bf914-72ce-440b-820f-97655c924f5d",
   "metadata": {},
   "outputs": [],
   "source": [
    "count = 0\n",
    "\n",
    "for df in sample_list:\n",
    "    sample_predicts = []\n",
    "    for tweet in df['tweet_content'].tolist():\n",
    "        clear_output(wait=False)\n",
    "        print(f'Sample number {count} in process...')\n",
    "        prediction, output = model.predict([tweet])\n",
    "        sample_predicts.append(prediction[0])\n",
    "    prediction_sample_list.append(sample_predicts)\n",
    "    count+=1"
   ]
  },
  {
   "cell_type": "code",
   "execution_count": null,
   "id": "ad1504a9-4399-4ea4-947c-92dfc0c1c955",
   "metadata": {},
   "outputs": [],
   "source": [
    "# pred_list = []\n",
    "# count = 0\n",
    "\n",
    "# for tweet in tweets_df['tweet_content'].tolist():\n",
    "#     clear_output(wait=False)\n",
    "#     print('Tweet number: ', count)\n",
    "#     prediction, output = model.predict([tweet])\n",
    "#     pred_list.append(prediction[0])\n",
    "#     count+=1\n",
    "# #print(\"Predictions:\", predictions)\n",
    "# #print(\"Outputs:\", outputs)"
   ]
  },
  {
   "cell_type": "code",
   "execution_count": 18,
   "id": "6129b7ba-04ca-490a-a386-59d3dfaf34bd",
   "metadata": {},
   "outputs": [
    {
     "data": {
      "application/vnd.jupyter.widget-view+json": {
       "model_id": "1ade4bdfed6d4d8b9fd44458b2d3418c",
       "version_major": 2,
       "version_minor": 0
      },
      "text/plain": [
       "  0%|          | 0/2000 [00:00<?, ?it/s]"
      ]
     },
     "metadata": {},
     "output_type": "display_data"
    },
    {
     "data": {
      "application/vnd.jupyter.widget-view+json": {
       "model_id": "998d05642a874694be462abf8fc3a9e9",
       "version_major": 2,
       "version_minor": 0
      },
      "text/plain": [
       "  0%|          | 0/250 [00:00<?, ?it/s]"
      ]
     },
     "metadata": {},
     "output_type": "display_data"
    },
    {
     "name": "stdout",
     "output_type": "stream",
     "text": [
      "CPU times: user 19min 55s, sys: 17 s, total: 20min 12s\n",
      "Wall time: 5min 6s\n"
     ]
    }
   ],
   "source": [
    "%%time\n",
    "predictions, outputs = model.predict(tweets_df[tweets_df['factions']=='pro gov to pro gov'].sample(2000)['tweet_content'].tolist())"
   ]
  },
  {
   "cell_type": "code",
   "execution_count": 17,
   "id": "d914b6ee-75d0-4e9e-b144-6dd8a21fbcab",
   "metadata": {},
   "outputs": [
    {
     "data": {
      "text/plain": [
       "0    2322\n",
       "1     678\n",
       "dtype: int64"
      ]
     },
     "execution_count": 17,
     "metadata": {},
     "output_type": "execute_result"
    }
   ],
   "source": [
    "pd.Series(predictions).value_counts()"
   ]
  },
  {
   "cell_type": "code",
   "execution_count": 40,
   "id": "80bd268e-ed10-4c4f-9b5c-5965ebee8011",
   "metadata": {},
   "outputs": [],
   "source": [
    "n = 3\n",
    "n_samples = 2000\n",
    "sample_dict = {}\n",
    "predict_dict = {}\n",
    "slices = ['pro gov to pro gov', 'against gov to against gov', 'against gov to neutral',\n",
    "          'pro gov to neutral', 'neutral to neutral', 'pro gov to against gov',\n",
    "          'against gov to pro gov']\n"
   ]
  },
  {
   "cell_type": "code",
   "execution_count": 41,
   "id": "07506c41-f32f-42df-8347-4ccdcedbe532",
   "metadata": {},
   "outputs": [
    {
     "name": "stdout",
     "output_type": "stream",
     "text": [
      "Starting prediction slice: pro gov to pro gov\n",
      "Starting prediction number 0...\n"
     ]
    },
    {
     "data": {
      "application/vnd.jupyter.widget-view+json": {
       "model_id": "0f2d8e8fad334832b4c6e2c4966ee25b",
       "version_major": 2,
       "version_minor": 0
      },
      "text/plain": [
       "  0%|          | 0/2000 [00:00<?, ?it/s]"
      ]
     },
     "metadata": {},
     "output_type": "display_data"
    },
    {
     "data": {
      "application/vnd.jupyter.widget-view+json": {
       "model_id": "bcb506d3564241db9cf848bea6fffaee",
       "version_major": 2,
       "version_minor": 0
      },
      "text/plain": [
       "  0%|          | 0/250 [00:00<?, ?it/s]"
      ]
     },
     "metadata": {},
     "output_type": "display_data"
    },
    {
     "name": "stdout",
     "output_type": "stream",
     "text": [
      "Starting prediction number 1...\n"
     ]
    },
    {
     "data": {
      "application/vnd.jupyter.widget-view+json": {
       "model_id": "bac026e8e33c47239bbeef586cebbab7",
       "version_major": 2,
       "version_minor": 0
      },
      "text/plain": [
       "  0%|          | 0/2000 [00:00<?, ?it/s]"
      ]
     },
     "metadata": {},
     "output_type": "display_data"
    },
    {
     "data": {
      "application/vnd.jupyter.widget-view+json": {
       "model_id": "98cbf17985234d2e92cbd7ed2a928f25",
       "version_major": 2,
       "version_minor": 0
      },
      "text/plain": [
       "  0%|          | 0/250 [00:00<?, ?it/s]"
      ]
     },
     "metadata": {},
     "output_type": "display_data"
    },
    {
     "name": "stdout",
     "output_type": "stream",
     "text": [
      "Starting prediction number 2...\n"
     ]
    },
    {
     "data": {
      "application/vnd.jupyter.widget-view+json": {
       "model_id": "577831d5168d446bbec3ef3a963f3285",
       "version_major": 2,
       "version_minor": 0
      },
      "text/plain": [
       "  0%|          | 0/2000 [00:00<?, ?it/s]"
      ]
     },
     "metadata": {},
     "output_type": "display_data"
    },
    {
     "data": {
      "application/vnd.jupyter.widget-view+json": {
       "model_id": "88213d2963bf44d8ba88a01ee7723934",
       "version_major": 2,
       "version_minor": 0
      },
      "text/plain": [
       "  0%|          | 0/250 [00:00<?, ?it/s]"
      ]
     },
     "metadata": {},
     "output_type": "display_data"
    },
    {
     "name": "stdout",
     "output_type": "stream",
     "text": [
      "Starting prediction slice: against gov to against gov\n",
      "Starting prediction number 0...\n"
     ]
    },
    {
     "data": {
      "application/vnd.jupyter.widget-view+json": {
       "model_id": "34f5dbe3c66b42d88100afa4fec383b3",
       "version_major": 2,
       "version_minor": 0
      },
      "text/plain": [
       "  0%|          | 0/2000 [00:00<?, ?it/s]"
      ]
     },
     "metadata": {},
     "output_type": "display_data"
    },
    {
     "data": {
      "application/vnd.jupyter.widget-view+json": {
       "model_id": "2401982d7ce74847bac715a8d8eb646a",
       "version_major": 2,
       "version_minor": 0
      },
      "text/plain": [
       "  0%|          | 0/250 [00:00<?, ?it/s]"
      ]
     },
     "metadata": {},
     "output_type": "display_data"
    },
    {
     "name": "stdout",
     "output_type": "stream",
     "text": [
      "Starting prediction number 1...\n"
     ]
    },
    {
     "data": {
      "application/vnd.jupyter.widget-view+json": {
       "model_id": "959d93c41abc45ec987e79622ce81dbb",
       "version_major": 2,
       "version_minor": 0
      },
      "text/plain": [
       "  0%|          | 0/2000 [00:00<?, ?it/s]"
      ]
     },
     "metadata": {},
     "output_type": "display_data"
    },
    {
     "data": {
      "application/vnd.jupyter.widget-view+json": {
       "model_id": "ffd4edbb49eb4ca5a34f11f0561e4acd",
       "version_major": 2,
       "version_minor": 0
      },
      "text/plain": [
       "  0%|          | 0/250 [00:00<?, ?it/s]"
      ]
     },
     "metadata": {},
     "output_type": "display_data"
    },
    {
     "name": "stdout",
     "output_type": "stream",
     "text": [
      "Starting prediction number 2...\n"
     ]
    },
    {
     "data": {
      "application/vnd.jupyter.widget-view+json": {
       "model_id": "d30171aeca87407896450c3e9f8a3b6f",
       "version_major": 2,
       "version_minor": 0
      },
      "text/plain": [
       "  0%|          | 0/2000 [00:00<?, ?it/s]"
      ]
     },
     "metadata": {},
     "output_type": "display_data"
    },
    {
     "data": {
      "application/vnd.jupyter.widget-view+json": {
       "model_id": "09defd34927b40bfb0050dde5cc48857",
       "version_major": 2,
       "version_minor": 0
      },
      "text/plain": [
       "  0%|          | 0/250 [00:00<?, ?it/s]"
      ]
     },
     "metadata": {},
     "output_type": "display_data"
    },
    {
     "name": "stdout",
     "output_type": "stream",
     "text": [
      "Starting prediction slice: against gov to neutral\n",
      "Starting prediction number 0...\n"
     ]
    },
    {
     "data": {
      "application/vnd.jupyter.widget-view+json": {
       "model_id": "98f1c20a8b674286952053af064b2fca",
       "version_major": 2,
       "version_minor": 0
      },
      "text/plain": [
       "  0%|          | 0/2000 [00:00<?, ?it/s]"
      ]
     },
     "metadata": {},
     "output_type": "display_data"
    },
    {
     "data": {
      "application/vnd.jupyter.widget-view+json": {
       "model_id": "a8bf6e5fa2eb4479a2c659314e2f3d3f",
       "version_major": 2,
       "version_minor": 0
      },
      "text/plain": [
       "  0%|          | 0/250 [00:00<?, ?it/s]"
      ]
     },
     "metadata": {},
     "output_type": "display_data"
    },
    {
     "name": "stdout",
     "output_type": "stream",
     "text": [
      "Starting prediction number 1...\n"
     ]
    },
    {
     "data": {
      "application/vnd.jupyter.widget-view+json": {
       "model_id": "d4ab197564af4e2e9d1edaecef7d0522",
       "version_major": 2,
       "version_minor": 0
      },
      "text/plain": [
       "  0%|          | 0/2000 [00:00<?, ?it/s]"
      ]
     },
     "metadata": {},
     "output_type": "display_data"
    },
    {
     "data": {
      "application/vnd.jupyter.widget-view+json": {
       "model_id": "e7d7b81b15194e86afd05eba137ba2df",
       "version_major": 2,
       "version_minor": 0
      },
      "text/plain": [
       "  0%|          | 0/250 [00:00<?, ?it/s]"
      ]
     },
     "metadata": {},
     "output_type": "display_data"
    },
    {
     "name": "stdout",
     "output_type": "stream",
     "text": [
      "Starting prediction number 2...\n"
     ]
    },
    {
     "data": {
      "application/vnd.jupyter.widget-view+json": {
       "model_id": "7db50b7c5efa410cbac0ea4a3c30b9a5",
       "version_major": 2,
       "version_minor": 0
      },
      "text/plain": [
       "  0%|          | 0/2000 [00:00<?, ?it/s]"
      ]
     },
     "metadata": {},
     "output_type": "display_data"
    },
    {
     "data": {
      "application/vnd.jupyter.widget-view+json": {
       "model_id": "e74e0d511f804ee1842730ed1f9abd42",
       "version_major": 2,
       "version_minor": 0
      },
      "text/plain": [
       "  0%|          | 0/250 [00:00<?, ?it/s]"
      ]
     },
     "metadata": {},
     "output_type": "display_data"
    },
    {
     "name": "stdout",
     "output_type": "stream",
     "text": [
      "Starting prediction slice: pro gov to neutral\n",
      "Starting prediction number 0...\n"
     ]
    },
    {
     "data": {
      "application/vnd.jupyter.widget-view+json": {
       "model_id": "a185e7e3e3fc49ad876507efee697e85",
       "version_major": 2,
       "version_minor": 0
      },
      "text/plain": [
       "  0%|          | 0/2000 [00:00<?, ?it/s]"
      ]
     },
     "metadata": {},
     "output_type": "display_data"
    },
    {
     "data": {
      "application/vnd.jupyter.widget-view+json": {
       "model_id": "21fa027e21d347b7b5a24739c677ee0c",
       "version_major": 2,
       "version_minor": 0
      },
      "text/plain": [
       "  0%|          | 0/250 [00:00<?, ?it/s]"
      ]
     },
     "metadata": {},
     "output_type": "display_data"
    },
    {
     "name": "stdout",
     "output_type": "stream",
     "text": [
      "Starting prediction number 1...\n"
     ]
    },
    {
     "data": {
      "application/vnd.jupyter.widget-view+json": {
       "model_id": "8b083678213d4aaf8add35c5f42b91bc",
       "version_major": 2,
       "version_minor": 0
      },
      "text/plain": [
       "  0%|          | 0/2000 [00:00<?, ?it/s]"
      ]
     },
     "metadata": {},
     "output_type": "display_data"
    },
    {
     "data": {
      "application/vnd.jupyter.widget-view+json": {
       "model_id": "eb1a676406e94033ab412f57266e322e",
       "version_major": 2,
       "version_minor": 0
      },
      "text/plain": [
       "  0%|          | 0/250 [00:00<?, ?it/s]"
      ]
     },
     "metadata": {},
     "output_type": "display_data"
    },
    {
     "name": "stdout",
     "output_type": "stream",
     "text": [
      "Starting prediction number 2...\n"
     ]
    },
    {
     "data": {
      "application/vnd.jupyter.widget-view+json": {
       "model_id": "07c6677290d94bc7960ae1fd52d23f8e",
       "version_major": 2,
       "version_minor": 0
      },
      "text/plain": [
       "  0%|          | 0/2000 [00:00<?, ?it/s]"
      ]
     },
     "metadata": {},
     "output_type": "display_data"
    },
    {
     "data": {
      "application/vnd.jupyter.widget-view+json": {
       "model_id": "a300c44555014fee9edb0d5d23b94817",
       "version_major": 2,
       "version_minor": 0
      },
      "text/plain": [
       "  0%|          | 0/250 [00:00<?, ?it/s]"
      ]
     },
     "metadata": {},
     "output_type": "display_data"
    },
    {
     "name": "stdout",
     "output_type": "stream",
     "text": [
      "Starting prediction slice: neutral to neutral\n",
      "Starting prediction number 0...\n"
     ]
    },
    {
     "data": {
      "application/vnd.jupyter.widget-view+json": {
       "model_id": "0691e5cbed6c47c68183061c1d7a4ff0",
       "version_major": 2,
       "version_minor": 0
      },
      "text/plain": [
       "  0%|          | 0/2000 [00:00<?, ?it/s]"
      ]
     },
     "metadata": {},
     "output_type": "display_data"
    },
    {
     "data": {
      "application/vnd.jupyter.widget-view+json": {
       "model_id": "04fc2879f4514db0acaffef7d326753a",
       "version_major": 2,
       "version_minor": 0
      },
      "text/plain": [
       "  0%|          | 0/250 [00:00<?, ?it/s]"
      ]
     },
     "metadata": {},
     "output_type": "display_data"
    },
    {
     "name": "stdout",
     "output_type": "stream",
     "text": [
      "Starting prediction number 1...\n"
     ]
    },
    {
     "data": {
      "application/vnd.jupyter.widget-view+json": {
       "model_id": "6c0c7574a49c4a4c94ed467fae9a5e59",
       "version_major": 2,
       "version_minor": 0
      },
      "text/plain": [
       "  0%|          | 0/2000 [00:00<?, ?it/s]"
      ]
     },
     "metadata": {},
     "output_type": "display_data"
    },
    {
     "data": {
      "application/vnd.jupyter.widget-view+json": {
       "model_id": "18ec0fd3264b46de8a56fc2b438fba80",
       "version_major": 2,
       "version_minor": 0
      },
      "text/plain": [
       "  0%|          | 0/250 [00:00<?, ?it/s]"
      ]
     },
     "metadata": {},
     "output_type": "display_data"
    },
    {
     "name": "stdout",
     "output_type": "stream",
     "text": [
      "Starting prediction number 2...\n"
     ]
    },
    {
     "data": {
      "application/vnd.jupyter.widget-view+json": {
       "model_id": "39cd718659fa473187c6fddef90d343c",
       "version_major": 2,
       "version_minor": 0
      },
      "text/plain": [
       "  0%|          | 0/2000 [00:00<?, ?it/s]"
      ]
     },
     "metadata": {},
     "output_type": "display_data"
    },
    {
     "data": {
      "application/vnd.jupyter.widget-view+json": {
       "model_id": "cb8e400d90f8433c851a3371f8d59677",
       "version_major": 2,
       "version_minor": 0
      },
      "text/plain": [
       "  0%|          | 0/250 [00:00<?, ?it/s]"
      ]
     },
     "metadata": {},
     "output_type": "display_data"
    },
    {
     "name": "stdout",
     "output_type": "stream",
     "text": [
      "Starting prediction slice: pro gov to against gov\n",
      "Starting prediction number 0...\n"
     ]
    },
    {
     "data": {
      "application/vnd.jupyter.widget-view+json": {
       "model_id": "a2c2ff5f74024e578079f04b22a090b9",
       "version_major": 2,
       "version_minor": 0
      },
      "text/plain": [
       "  0%|          | 0/2000 [00:00<?, ?it/s]"
      ]
     },
     "metadata": {},
     "output_type": "display_data"
    },
    {
     "data": {
      "application/vnd.jupyter.widget-view+json": {
       "model_id": "f867a3f6d74747409728c8d15f08e321",
       "version_major": 2,
       "version_minor": 0
      },
      "text/plain": [
       "  0%|          | 0/250 [00:00<?, ?it/s]"
      ]
     },
     "metadata": {},
     "output_type": "display_data"
    },
    {
     "name": "stdout",
     "output_type": "stream",
     "text": [
      "Starting prediction number 1...\n"
     ]
    },
    {
     "data": {
      "application/vnd.jupyter.widget-view+json": {
       "model_id": "dc571a1e577a48ffa821e66bdb31bd48",
       "version_major": 2,
       "version_minor": 0
      },
      "text/plain": [
       "  0%|          | 0/2000 [00:00<?, ?it/s]"
      ]
     },
     "metadata": {},
     "output_type": "display_data"
    },
    {
     "data": {
      "application/vnd.jupyter.widget-view+json": {
       "model_id": "628969fe04a94ab8a811392f640c4651",
       "version_major": 2,
       "version_minor": 0
      },
      "text/plain": [
       "  0%|          | 0/250 [00:00<?, ?it/s]"
      ]
     },
     "metadata": {},
     "output_type": "display_data"
    },
    {
     "name": "stdout",
     "output_type": "stream",
     "text": [
      "Starting prediction number 2...\n"
     ]
    },
    {
     "data": {
      "application/vnd.jupyter.widget-view+json": {
       "model_id": "9865346c5cc445558df1ded8f6ca5356",
       "version_major": 2,
       "version_minor": 0
      },
      "text/plain": [
       "  0%|          | 0/2000 [00:00<?, ?it/s]"
      ]
     },
     "metadata": {},
     "output_type": "display_data"
    },
    {
     "data": {
      "application/vnd.jupyter.widget-view+json": {
       "model_id": "9b24ea3751ba493a8f561bc63b691e48",
       "version_major": 2,
       "version_minor": 0
      },
      "text/plain": [
       "  0%|          | 0/250 [00:00<?, ?it/s]"
      ]
     },
     "metadata": {},
     "output_type": "display_data"
    },
    {
     "name": "stdout",
     "output_type": "stream",
     "text": [
      "Starting prediction slice: against gov to pro gov\n",
      "Starting prediction number 0...\n"
     ]
    },
    {
     "data": {
      "application/vnd.jupyter.widget-view+json": {
       "model_id": "15381dd2c7f543139b31a8a5aced9914",
       "version_major": 2,
       "version_minor": 0
      },
      "text/plain": [
       "  0%|          | 0/2000 [00:00<?, ?it/s]"
      ]
     },
     "metadata": {},
     "output_type": "display_data"
    },
    {
     "data": {
      "application/vnd.jupyter.widget-view+json": {
       "model_id": "f1df48f4de0a4b408a4da02d76ab34f8",
       "version_major": 2,
       "version_minor": 0
      },
      "text/plain": [
       "  0%|          | 0/250 [00:00<?, ?it/s]"
      ]
     },
     "metadata": {},
     "output_type": "display_data"
    },
    {
     "name": "stdout",
     "output_type": "stream",
     "text": [
      "Starting prediction number 1...\n"
     ]
    },
    {
     "data": {
      "application/vnd.jupyter.widget-view+json": {
       "model_id": "643732040df04cc8ae8f747829ac7aeb",
       "version_major": 2,
       "version_minor": 0
      },
      "text/plain": [
       "  0%|          | 0/2000 [00:00<?, ?it/s]"
      ]
     },
     "metadata": {},
     "output_type": "display_data"
    },
    {
     "data": {
      "application/vnd.jupyter.widget-view+json": {
       "model_id": "84e703eea54a407d85a637362eb67b05",
       "version_major": 2,
       "version_minor": 0
      },
      "text/plain": [
       "  0%|          | 0/250 [00:00<?, ?it/s]"
      ]
     },
     "metadata": {},
     "output_type": "display_data"
    },
    {
     "name": "stdout",
     "output_type": "stream",
     "text": [
      "Starting prediction number 2...\n"
     ]
    },
    {
     "data": {
      "application/vnd.jupyter.widget-view+json": {
       "model_id": "6055ae5c4ecd4dafaf4e1e0e61aca8cf",
       "version_major": 2,
       "version_minor": 0
      },
      "text/plain": [
       "  0%|          | 0/2000 [00:00<?, ?it/s]"
      ]
     },
     "metadata": {},
     "output_type": "display_data"
    },
    {
     "data": {
      "application/vnd.jupyter.widget-view+json": {
       "model_id": "fb30f33f47bf4e18b1ac61c01104ea85",
       "version_major": 2,
       "version_minor": 0
      },
      "text/plain": [
       "  0%|          | 0/250 [00:00<?, ?it/s]"
      ]
     },
     "metadata": {},
     "output_type": "display_data"
    },
    {
     "name": "stdout",
     "output_type": "stream",
     "text": [
      "CPU times: user 7h 17min 8s, sys: 6min 25s, total: 7h 23min 34s\n",
      "Wall time: 1h 52min 27s\n"
     ]
    }
   ],
   "source": [
    "%%time\n",
    "\n",
    "for slice in slices:\n",
    "    sample_dict[slice] = []\n",
    "    predict_dict[slice] = []\n",
    "    print(f'Starting prediction slice: {slice}')\n",
    "    for x in range(n):\n",
    "        print(f'Starting prediction number {x}...')\n",
    "        samples = tweets_df[tweets_df['factions']==slice].sample(n_samples)\n",
    "        sample_dict[slice].append(samples)\n",
    "        predictions, outputs = model.predict(samples['tweet_content'].tolist())\n",
    "        predict_dict[slice].append(predictions)"
   ]
  },
  {
   "cell_type": "code",
   "execution_count": 44,
   "id": "3e4d7650-c2e2-4c21-8e3c-36422a268d5b",
   "metadata": {},
   "outputs": [
    {
     "data": {
      "text/plain": [
       "0    1539\n",
       "1     461\n",
       "dtype: int64"
      ]
     },
     "execution_count": 44,
     "metadata": {},
     "output_type": "execute_result"
    }
   ],
   "source": [
    "pd.Series(predict_dict['pro gov to pro gov'][1]).value_counts()"
   ]
  },
  {
   "cell_type": "code",
   "execution_count": 46,
   "id": "b1da11b3-ea3e-4c95-8edf-c382ce61f930",
   "metadata": {},
   "outputs": [
    {
     "data": {
      "text/plain": [
       "0    1666\n",
       "1     334\n",
       "dtype: int64"
      ]
     },
     "execution_count": 46,
     "metadata": {},
     "output_type": "execute_result"
    }
   ],
   "source": [
    "pd.Series(predict_dict['against gov to against gov'][0]).value_counts()"
   ]
  },
  {
   "cell_type": "code",
   "execution_count": 49,
   "id": "d1dcc3df-422b-4753-a532-2c19a2842926",
   "metadata": {},
   "outputs": [
    {
     "data": {
      "text/plain": [
       "0    1547\n",
       "1     453\n",
       "dtype: int64"
      ]
     },
     "execution_count": 49,
     "metadata": {},
     "output_type": "execute_result"
    }
   ],
   "source": [
    "pd.Series(predict_dict['against gov to neutral'][2]).value_counts()"
   ]
  },
  {
   "cell_type": "code",
   "execution_count": 52,
   "id": "275c3d7e-53c7-4505-9c78-36b64957ae38",
   "metadata": {},
   "outputs": [
    {
     "data": {
      "text/plain": [
       "0    1241\n",
       "1     759\n",
       "dtype: int64"
      ]
     },
     "execution_count": 52,
     "metadata": {},
     "output_type": "execute_result"
    }
   ],
   "source": [
    "pd.Series(predict_dict['pro gov to neutral'][2]).value_counts()"
   ]
  },
  {
   "cell_type": "code",
   "execution_count": 55,
   "id": "60b578bf-a05c-4a69-8ffb-1e2c6f38035f",
   "metadata": {},
   "outputs": [
    {
     "data": {
      "text/plain": [
       "0    1238\n",
       "1     762\n",
       "dtype: int64"
      ]
     },
     "execution_count": 55,
     "metadata": {},
     "output_type": "execute_result"
    }
   ],
   "source": [
    "pd.Series(predict_dict['pro gov to against gov'][1]).value_counts()"
   ]
  },
  {
   "cell_type": "code",
   "execution_count": 56,
   "id": "c4ce1629-a0aa-45b6-b87a-30077e2d4caa",
   "metadata": {},
   "outputs": [
    {
     "data": {
      "text/plain": [
       "0    1289\n",
       "1     711\n",
       "dtype: int64"
      ]
     },
     "execution_count": 56,
     "metadata": {},
     "output_type": "execute_result"
    }
   ],
   "source": [
    "pd.Series(predict_dict['against gov to pro gov'][1]).value_counts()"
   ]
  },
  {
   "cell_type": "code",
   "execution_count": 59,
   "id": "84bc21cd-b2cd-4652-b07b-3a0e950e5546",
   "metadata": {},
   "outputs": [
    {
     "data": {
      "text/plain": [
       "0    1615\n",
       "1     385\n",
       "dtype: int64"
      ]
     },
     "execution_count": 59,
     "metadata": {},
     "output_type": "execute_result"
    }
   ],
   "source": [
    "pd.Series(predict_dict['neutral to neutral'][2]).value_counts()"
   ]
  },
  {
   "cell_type": "code",
   "execution_count": 63,
   "id": "86a284e6-e55b-44ed-83f5-6251bb854c84",
   "metadata": {},
   "outputs": [
    {
     "data": {
      "text/html": [
       "<div>\n",
       "<style scoped>\n",
       "    .dataframe tbody tr th:only-of-type {\n",
       "        vertical-align: middle;\n",
       "    }\n",
       "\n",
       "    .dataframe tbody tr th {\n",
       "        vertical-align: top;\n",
       "    }\n",
       "\n",
       "    .dataframe thead th {\n",
       "        text-align: right;\n",
       "    }\n",
       "</style>\n",
       "<table border=\"1\" class=\"dataframe\">\n",
       "  <thead>\n",
       "    <tr style=\"text-align: right;\">\n",
       "      <th></th>\n",
       "      <th>source</th>\n",
       "      <th>target</th>\n",
       "      <th>factions</th>\n",
       "      <th>interac_type</th>\n",
       "      <th>tweet_content</th>\n",
       "    </tr>\n",
       "  </thead>\n",
       "  <tbody>\n",
       "    <tr>\n",
       "      <th>481912</th>\n",
       "      <td>rsaraivaaa</td>\n",
       "      <td>OmarAzizSenador</td>\n",
       "      <td>neutral to neutral</td>\n",
       "      <td>mention</td>\n",
       "      <td>@OmarAzizSenador dando uma mijada de leve nas ...</td>\n",
       "    </tr>\n",
       "  </tbody>\n",
       "</table>\n",
       "</div>"
      ],
      "text/plain": [
       "            source           target            factions interac_type  \\\n",
       "481912  rsaraivaaa  OmarAzizSenador  neutral to neutral      mention   \n",
       "\n",
       "                                            tweet_content  \n",
       "481912  @OmarAzizSenador dando uma mijada de leve nas ...  "
      ]
     },
     "execution_count": 63,
     "metadata": {},
     "output_type": "execute_result"
    }
   ],
   "source": [
    "tweets_df[tweets_df['target']=='OmarAzizSenador'].sample()"
   ]
  },
  {
   "cell_type": "code",
   "execution_count": 64,
   "id": "b66c091a-533b-4e14-855c-2831efdb88fe",
   "metadata": {},
   "outputs": [
    {
     "data": {
      "text/html": [
       "<div>\n",
       "<style scoped>\n",
       "    .dataframe tbody tr th:only-of-type {\n",
       "        vertical-align: middle;\n",
       "    }\n",
       "\n",
       "    .dataframe tbody tr th {\n",
       "        vertical-align: top;\n",
       "    }\n",
       "\n",
       "    .dataframe thead th {\n",
       "        text-align: right;\n",
       "    }\n",
       "</style>\n",
       "<table border=\"1\" class=\"dataframe\">\n",
       "  <thead>\n",
       "    <tr style=\"text-align: right;\">\n",
       "      <th></th>\n",
       "      <th>source</th>\n",
       "      <th>target</th>\n",
       "      <th>factions</th>\n",
       "      <th>interac_type</th>\n",
       "      <th>tweet_content</th>\n",
       "    </tr>\n",
       "  </thead>\n",
       "  <tbody>\n",
       "    <tr>\n",
       "      <th>725017</th>\n",
       "      <td>dulcinealisboa</td>\n",
       "      <td>randolfeap</td>\n",
       "      <td>neutral to neutral</td>\n",
       "      <td>reply</td>\n",
       "      <td>@randolfeap @AnaPaul11890999 Este tal domighet...</td>\n",
       "    </tr>\n",
       "  </tbody>\n",
       "</table>\n",
       "</div>"
      ],
      "text/plain": [
       "                source      target            factions interac_type  \\\n",
       "725017  dulcinealisboa  randolfeap  neutral to neutral        reply   \n",
       "\n",
       "                                            tweet_content  \n",
       "725017  @randolfeap @AnaPaul11890999 Este tal domighet...  "
      ]
     },
     "execution_count": 64,
     "metadata": {},
     "output_type": "execute_result"
    }
   ],
   "source": [
    "tweets_df[tweets_df['target']=='randolfeap'].sample()"
   ]
  },
  {
   "cell_type": "code",
   "execution_count": 65,
   "id": "3c34807e-ef5f-4b28-84a2-00aef2d3842f",
   "metadata": {},
   "outputs": [
    {
     "data": {
      "text/html": [
       "<div>\n",
       "<style scoped>\n",
       "    .dataframe tbody tr th:only-of-type {\n",
       "        vertical-align: middle;\n",
       "    }\n",
       "\n",
       "    .dataframe tbody tr th {\n",
       "        vertical-align: top;\n",
       "    }\n",
       "\n",
       "    .dataframe thead th {\n",
       "        text-align: right;\n",
       "    }\n",
       "</style>\n",
       "<table border=\"1\" class=\"dataframe\">\n",
       "  <thead>\n",
       "    <tr style=\"text-align: right;\">\n",
       "      <th></th>\n",
       "      <th>source</th>\n",
       "      <th>target</th>\n",
       "      <th>factions</th>\n",
       "      <th>interac_type</th>\n",
       "      <th>tweet_content</th>\n",
       "    </tr>\n",
       "  </thead>\n",
       "  <tbody>\n",
       "    <tr>\n",
       "      <th>272409</th>\n",
       "      <td>Eduhst</td>\n",
       "      <td>renancalheiros</td>\n",
       "      <td>neutral to neutral</td>\n",
       "      <td>mention</td>\n",
       "      <td>Vixi, a Mayra citou o @RodrigoMenegat como o \"...</td>\n",
       "    </tr>\n",
       "  </tbody>\n",
       "</table>\n",
       "</div>"
      ],
      "text/plain": [
       "        source          target            factions interac_type  \\\n",
       "272409  Eduhst  renancalheiros  neutral to neutral      mention   \n",
       "\n",
       "                                            tweet_content  \n",
       "272409  Vixi, a Mayra citou o @RodrigoMenegat como o \"...  "
      ]
     },
     "execution_count": 65,
     "metadata": {},
     "output_type": "execute_result"
    }
   ],
   "source": [
    "tweets_df[tweets_df['target']=='renancalheiros'].sample()"
   ]
  },
  {
   "cell_type": "code",
   "execution_count": 68,
   "id": "2aacbf3c-2b53-4b55-af63-a9444753bba9",
   "metadata": {},
   "outputs": [
    {
     "data": {
      "text/html": [
       "<div>\n",
       "<style scoped>\n",
       "    .dataframe tbody tr th:only-of-type {\n",
       "        vertical-align: middle;\n",
       "    }\n",
       "\n",
       "    .dataframe tbody tr th {\n",
       "        vertical-align: top;\n",
       "    }\n",
       "\n",
       "    .dataframe thead th {\n",
       "        text-align: right;\n",
       "    }\n",
       "</style>\n",
       "<table border=\"1\" class=\"dataframe\">\n",
       "  <thead>\n",
       "    <tr style=\"text-align: right;\">\n",
       "      <th></th>\n",
       "      <th>source</th>\n",
       "      <th>target</th>\n",
       "      <th>factions</th>\n",
       "      <th>interac_type</th>\n",
       "      <th>tweet_content</th>\n",
       "    </tr>\n",
       "  </thead>\n",
       "  <tbody>\n",
       "    <tr>\n",
       "      <th>230579</th>\n",
       "      <td>LidiaCa28545681</td>\n",
       "      <td>taoquei1</td>\n",
       "      <td>pro gov to pro gov</td>\n",
       "      <td>quoted_rt</td>\n",
       "      <td>#RenanVagabundo gastando dinheiro público só p...</td>\n",
       "    </tr>\n",
       "  </tbody>\n",
       "</table>\n",
       "</div>"
      ],
      "text/plain": [
       "                 source    target            factions interac_type  \\\n",
       "230579  LidiaCa28545681  taoquei1  pro gov to pro gov    quoted_rt   \n",
       "\n",
       "                                            tweet_content  \n",
       "230579  #RenanVagabundo gastando dinheiro público só p...  "
      ]
     },
     "execution_count": 68,
     "metadata": {},
     "output_type": "execute_result"
    }
   ],
   "source": [
    "tweets_df[tweets_df['target']=='taoquei1'].sample()"
   ]
  },
  {
   "cell_type": "code",
   "execution_count": 69,
   "id": "42aeb8a3-0985-436f-aa0a-d464bac60c8f",
   "metadata": {},
   "outputs": [
    {
     "data": {
      "text/html": [
       "<div>\n",
       "<style scoped>\n",
       "    .dataframe tbody tr th:only-of-type {\n",
       "        vertical-align: middle;\n",
       "    }\n",
       "\n",
       "    .dataframe tbody tr th {\n",
       "        vertical-align: top;\n",
       "    }\n",
       "\n",
       "    .dataframe thead th {\n",
       "        text-align: right;\n",
       "    }\n",
       "</style>\n",
       "<table border=\"1\" class=\"dataframe\">\n",
       "  <thead>\n",
       "    <tr style=\"text-align: right;\">\n",
       "      <th></th>\n",
       "      <th>source</th>\n",
       "      <th>target</th>\n",
       "      <th>factions</th>\n",
       "      <th>interac_type</th>\n",
       "      <th>tweet_content</th>\n",
       "    </tr>\n",
       "  </thead>\n",
       "  <tbody>\n",
       "    <tr>\n",
       "      <th>411051</th>\n",
       "      <td>AparecidaSaler3</td>\n",
       "      <td>CarlaZambelli38</td>\n",
       "      <td>pro gov to pro gov</td>\n",
       "      <td>quoted_rt</td>\n",
       "      <td>Com certeza, s dúvida alguma!!#LulaLadrao http...</td>\n",
       "    </tr>\n",
       "  </tbody>\n",
       "</table>\n",
       "</div>"
      ],
      "text/plain": [
       "                 source           target            factions interac_type  \\\n",
       "411051  AparecidaSaler3  CarlaZambelli38  pro gov to pro gov    quoted_rt   \n",
       "\n",
       "                                            tweet_content  \n",
       "411051  Com certeza, s dúvida alguma!!#LulaLadrao http...  "
      ]
     },
     "execution_count": 69,
     "metadata": {},
     "output_type": "execute_result"
    }
   ],
   "source": [
    "tweets_df[tweets_df['target']=='CarlaZambelli38'].sample()"
   ]
  },
  {
   "cell_type": "code",
   "execution_count": 70,
   "id": "88cfa9cd-bb72-4b1d-9815-1c6389557529",
   "metadata": {},
   "outputs": [
    {
     "data": {
      "text/html": [
       "<div>\n",
       "<style scoped>\n",
       "    .dataframe tbody tr th:only-of-type {\n",
       "        vertical-align: middle;\n",
       "    }\n",
       "\n",
       "    .dataframe tbody tr th {\n",
       "        vertical-align: top;\n",
       "    }\n",
       "\n",
       "    .dataframe thead th {\n",
       "        text-align: right;\n",
       "    }\n",
       "</style>\n",
       "<table border=\"1\" class=\"dataframe\">\n",
       "  <thead>\n",
       "    <tr style=\"text-align: right;\">\n",
       "      <th></th>\n",
       "      <th>source</th>\n",
       "      <th>target</th>\n",
       "      <th>factions</th>\n",
       "      <th>interac_type</th>\n",
       "      <th>tweet_content</th>\n",
       "    </tr>\n",
       "  </thead>\n",
       "  <tbody>\n",
       "    <tr>\n",
       "      <th>483565</th>\n",
       "      <td>elcivanni</td>\n",
       "      <td>MarcosRogerio</td>\n",
       "      <td>pro gov to neutral</td>\n",
       "      <td>reply</td>\n",
       "      <td>@MarcosRogerio @FlavioBolsonaro Interrompa! Pe...</td>\n",
       "    </tr>\n",
       "  </tbody>\n",
       "</table>\n",
       "</div>"
      ],
      "text/plain": [
       "           source         target            factions interac_type  \\\n",
       "483565  elcivanni  MarcosRogerio  pro gov to neutral        reply   \n",
       "\n",
       "                                            tweet_content  \n",
       "483565  @MarcosRogerio @FlavioBolsonaro Interrompa! Pe...  "
      ]
     },
     "execution_count": 70,
     "metadata": {},
     "output_type": "execute_result"
    }
   ],
   "source": [
    "tweets_df[tweets_df['target']=='MarcosRogerio'].sample()"
   ]
  },
  {
   "cell_type": "code",
   "execution_count": 71,
   "id": "25e6d282-07d3-4521-a10f-78d1969152b2",
   "metadata": {},
   "outputs": [
    {
     "data": {
      "text/html": [
       "<div>\n",
       "<style scoped>\n",
       "    .dataframe tbody tr th:only-of-type {\n",
       "        vertical-align: middle;\n",
       "    }\n",
       "\n",
       "    .dataframe tbody tr th {\n",
       "        vertical-align: top;\n",
       "    }\n",
       "\n",
       "    .dataframe thead th {\n",
       "        text-align: right;\n",
       "    }\n",
       "</style>\n",
       "<table border=\"1\" class=\"dataframe\">\n",
       "  <thead>\n",
       "    <tr style=\"text-align: right;\">\n",
       "      <th></th>\n",
       "      <th>source</th>\n",
       "      <th>target</th>\n",
       "      <th>factions</th>\n",
       "      <th>interac_type</th>\n",
       "      <th>tweet_content</th>\n",
       "    </tr>\n",
       "  </thead>\n",
       "  <tbody>\n",
       "    <tr>\n",
       "      <th>964417</th>\n",
       "      <td>DireiBrasileira</td>\n",
       "      <td>kimpaim</td>\n",
       "      <td>pro gov to pro gov</td>\n",
       "      <td>reply</td>\n",
       "      <td>@kimpaim @antonio69183994 Caso contrário é #Ba...</td>\n",
       "    </tr>\n",
       "  </tbody>\n",
       "</table>\n",
       "</div>"
      ],
      "text/plain": [
       "                 source   target            factions interac_type  \\\n",
       "964417  DireiBrasileira  kimpaim  pro gov to pro gov        reply   \n",
       "\n",
       "                                            tweet_content  \n",
       "964417  @kimpaim @antonio69183994 Caso contrário é #Ba...  "
      ]
     },
     "execution_count": 71,
     "metadata": {},
     "output_type": "execute_result"
    }
   ],
   "source": [
    "tweets_df[tweets_df['target']=='kimpaim'].sample()"
   ]
  },
  {
   "cell_type": "code",
   "execution_count": 72,
   "id": "fc05ae1b-31aa-4169-8546-80292b972b6b",
   "metadata": {},
   "outputs": [
    {
     "data": {
      "text/html": [
       "<div>\n",
       "<style scoped>\n",
       "    .dataframe tbody tr th:only-of-type {\n",
       "        vertical-align: middle;\n",
       "    }\n",
       "\n",
       "    .dataframe tbody tr th {\n",
       "        vertical-align: top;\n",
       "    }\n",
       "\n",
       "    .dataframe thead th {\n",
       "        text-align: right;\n",
       "    }\n",
       "</style>\n",
       "<table border=\"1\" class=\"dataframe\">\n",
       "  <thead>\n",
       "    <tr style=\"text-align: right;\">\n",
       "      <th></th>\n",
       "      <th>source</th>\n",
       "      <th>target</th>\n",
       "      <th>factions</th>\n",
       "      <th>interac_type</th>\n",
       "      <th>tweet_content</th>\n",
       "    </tr>\n",
       "  </thead>\n",
       "  <tbody>\n",
       "    <tr>\n",
       "      <th>802215</th>\n",
       "      <td>mad13257</td>\n",
       "      <td>SenadoFederal</td>\n",
       "      <td>pro gov to neutral</td>\n",
       "      <td>reply</td>\n",
       "      <td>@SenadoFederal -\\n        [...impulsionada pel...</td>\n",
       "    </tr>\n",
       "  </tbody>\n",
       "</table>\n",
       "</div>"
      ],
      "text/plain": [
       "          source         target            factions interac_type  \\\n",
       "802215  mad13257  SenadoFederal  pro gov to neutral        reply   \n",
       "\n",
       "                                            tweet_content  \n",
       "802215  @SenadoFederal -\\n        [...impulsionada pel...  "
      ]
     },
     "execution_count": 72,
     "metadata": {},
     "output_type": "execute_result"
    }
   ],
   "source": [
    "tweets_df[tweets_df['target']=='SenadoFederal'].sample()"
   ]
  },
  {
   "cell_type": "code",
   "execution_count": 73,
   "id": "d097429e-c2ed-4d8d-b3ba-c9b088b4f1f5",
   "metadata": {},
   "outputs": [
    {
     "data": {
      "text/html": [
       "<div>\n",
       "<style scoped>\n",
       "    .dataframe tbody tr th:only-of-type {\n",
       "        vertical-align: middle;\n",
       "    }\n",
       "\n",
       "    .dataframe tbody tr th {\n",
       "        vertical-align: top;\n",
       "    }\n",
       "\n",
       "    .dataframe thead th {\n",
       "        text-align: right;\n",
       "    }\n",
       "</style>\n",
       "<table border=\"1\" class=\"dataframe\">\n",
       "  <thead>\n",
       "    <tr style=\"text-align: right;\">\n",
       "      <th></th>\n",
       "      <th>source</th>\n",
       "      <th>target</th>\n",
       "      <th>factions</th>\n",
       "      <th>interac_type</th>\n",
       "      <th>tweet_content</th>\n",
       "    </tr>\n",
       "  </thead>\n",
       "  <tbody>\n",
       "    <tr>\n",
       "      <th>556367</th>\n",
       "      <td>ORLANDOSALUSTI2</td>\n",
       "      <td>Rconstantino</td>\n",
       "      <td>pro gov to pro gov</td>\n",
       "      <td>reply</td>\n",
       "      <td>@Rconstantino Boa noite!\\n😴🙏🏽🇧🇷🙏🏽\\n#AGloboNãoP...</td>\n",
       "    </tr>\n",
       "  </tbody>\n",
       "</table>\n",
       "</div>"
      ],
      "text/plain": [
       "                 source        target            factions interac_type  \\\n",
       "556367  ORLANDOSALUSTI2  Rconstantino  pro gov to pro gov        reply   \n",
       "\n",
       "                                            tweet_content  \n",
       "556367  @Rconstantino Boa noite!\\n😴🙏🏽🇧🇷🙏🏽\\n#AGloboNãoP...  "
      ]
     },
     "execution_count": 73,
     "metadata": {},
     "output_type": "execute_result"
    }
   ],
   "source": [
    "tweets_df[tweets_df['target']=='Rconstantino'].sample()"
   ]
  },
  {
   "cell_type": "code",
   "execution_count": 74,
   "id": "619f91ec-644c-4952-b5bd-1718894b8448",
   "metadata": {},
   "outputs": [
    {
     "data": {
      "text/html": [
       "<div>\n",
       "<style scoped>\n",
       "    .dataframe tbody tr th:only-of-type {\n",
       "        vertical-align: middle;\n",
       "    }\n",
       "\n",
       "    .dataframe tbody tr th {\n",
       "        vertical-align: top;\n",
       "    }\n",
       "\n",
       "    .dataframe thead th {\n",
       "        text-align: right;\n",
       "    }\n",
       "</style>\n",
       "<table border=\"1\" class=\"dataframe\">\n",
       "  <thead>\n",
       "    <tr style=\"text-align: right;\">\n",
       "      <th></th>\n",
       "      <th>source</th>\n",
       "      <th>target</th>\n",
       "      <th>factions</th>\n",
       "      <th>interac_type</th>\n",
       "      <th>tweet_content</th>\n",
       "    </tr>\n",
       "  </thead>\n",
       "  <tbody>\n",
       "    <tr>\n",
       "      <th>560194</th>\n",
       "      <td>SheylaPereirad3</td>\n",
       "      <td>BolsonaroSP</td>\n",
       "      <td>pro gov to pro gov</td>\n",
       "      <td>quoted_rt</td>\n",
       "      <td>Bolsonaro está certo.\\n#AGloboNaoPresta https:...</td>\n",
       "    </tr>\n",
       "  </tbody>\n",
       "</table>\n",
       "</div>"
      ],
      "text/plain": [
       "                 source       target            factions interac_type  \\\n",
       "560194  SheylaPereirad3  BolsonaroSP  pro gov to pro gov    quoted_rt   \n",
       "\n",
       "                                            tweet_content  \n",
       "560194  Bolsonaro está certo.\\n#AGloboNaoPresta https:...  "
      ]
     },
     "execution_count": 74,
     "metadata": {},
     "output_type": "execute_result"
    }
   ],
   "source": [
    "tweets_df[tweets_df['target']=='BolsonaroSP'].sample()"
   ]
  },
  {
   "cell_type": "code",
   "execution_count": 78,
   "id": "05faa45f-f444-4556-a59d-6d76f5e15186",
   "metadata": {},
   "outputs": [
    {
     "data": {
      "text/html": [
       "<div>\n",
       "<style scoped>\n",
       "    .dataframe tbody tr th:only-of-type {\n",
       "        vertical-align: middle;\n",
       "    }\n",
       "\n",
       "    .dataframe tbody tr th {\n",
       "        vertical-align: top;\n",
       "    }\n",
       "\n",
       "    .dataframe thead th {\n",
       "        text-align: right;\n",
       "    }\n",
       "</style>\n",
       "<table border=\"1\" class=\"dataframe\">\n",
       "  <thead>\n",
       "    <tr style=\"text-align: right;\">\n",
       "      <th></th>\n",
       "      <th>source</th>\n",
       "      <th>target</th>\n",
       "      <th>factions</th>\n",
       "      <th>interac_type</th>\n",
       "      <th>tweet_content</th>\n",
       "    </tr>\n",
       "  </thead>\n",
       "  <tbody>\n",
       "    <tr>\n",
       "      <th>1245114</th>\n",
       "      <td>katialeticia112</td>\n",
       "      <td>senadorhumberto</td>\n",
       "      <td>against gov to against gov</td>\n",
       "      <td>quoted_rt</td>\n",
       "      <td>Resta saber se teremos punição severa pra TODO...</td>\n",
       "    </tr>\n",
       "  </tbody>\n",
       "</table>\n",
       "</div>"
      ],
      "text/plain": [
       "                  source           target                    factions  \\\n",
       "1245114  katialeticia112  senadorhumberto  against gov to against gov   \n",
       "\n",
       "        interac_type                                      tweet_content  \n",
       "1245114    quoted_rt  Resta saber se teremos punição severa pra TODO...  "
      ]
     },
     "execution_count": 78,
     "metadata": {},
     "output_type": "execute_result"
    }
   ],
   "source": [
    "tweets_df[tweets_df['target']=='senadorhumberto'].sample()"
   ]
  },
  {
   "cell_type": "code",
   "execution_count": 79,
   "id": "283451dd-5efd-4489-a3e5-69c4745d3eb0",
   "metadata": {},
   "outputs": [
    {
     "data": {
      "text/html": [
       "<div>\n",
       "<style scoped>\n",
       "    .dataframe tbody tr th:only-of-type {\n",
       "        vertical-align: middle;\n",
       "    }\n",
       "\n",
       "    .dataframe tbody tr th {\n",
       "        vertical-align: top;\n",
       "    }\n",
       "\n",
       "    .dataframe thead th {\n",
       "        text-align: right;\n",
       "    }\n",
       "</style>\n",
       "<table border=\"1\" class=\"dataframe\">\n",
       "  <thead>\n",
       "    <tr style=\"text-align: right;\">\n",
       "      <th></th>\n",
       "      <th>source</th>\n",
       "      <th>target</th>\n",
       "      <th>factions</th>\n",
       "      <th>interac_type</th>\n",
       "      <th>tweet_content</th>\n",
       "    </tr>\n",
       "  </thead>\n",
       "  <tbody>\n",
       "    <tr>\n",
       "      <th>367483</th>\n",
       "      <td>BiaRMesquita</td>\n",
       "      <td>folha</td>\n",
       "      <td>neutral to neutral</td>\n",
       "      <td>quoted_rt</td>\n",
       "      <td>O Brasil vai matar mais gente por Covid-19 até...</td>\n",
       "    </tr>\n",
       "  </tbody>\n",
       "</table>\n",
       "</div>"
      ],
      "text/plain": [
       "              source target            factions interac_type  \\\n",
       "367483  BiaRMesquita  folha  neutral to neutral    quoted_rt   \n",
       "\n",
       "                                            tweet_content  \n",
       "367483  O Brasil vai matar mais gente por Covid-19 até...  "
      ]
     },
     "execution_count": 79,
     "metadata": {},
     "output_type": "execute_result"
    }
   ],
   "source": [
    "tweets_df[tweets_df['target']=='folha'].sample()"
   ]
  },
  {
   "cell_type": "code",
   "execution_count": 80,
   "id": "bb20afa1-8092-4f27-9a05-c1fd2ece5d4d",
   "metadata": {},
   "outputs": [
    {
     "data": {
      "text/html": [
       "<div>\n",
       "<style scoped>\n",
       "    .dataframe tbody tr th:only-of-type {\n",
       "        vertical-align: middle;\n",
       "    }\n",
       "\n",
       "    .dataframe tbody tr th {\n",
       "        vertical-align: top;\n",
       "    }\n",
       "\n",
       "    .dataframe thead th {\n",
       "        text-align: right;\n",
       "    }\n",
       "</style>\n",
       "<table border=\"1\" class=\"dataframe\">\n",
       "  <thead>\n",
       "    <tr style=\"text-align: right;\">\n",
       "      <th></th>\n",
       "      <th>source</th>\n",
       "      <th>target</th>\n",
       "      <th>factions</th>\n",
       "      <th>interac_type</th>\n",
       "      <th>tweet_content</th>\n",
       "    </tr>\n",
       "  </thead>\n",
       "  <tbody>\n",
       "    <tr>\n",
       "      <th>41234</th>\n",
       "      <td>LucasPazoline3</td>\n",
       "      <td>UOLNoticias</td>\n",
       "      <td>pro gov to neutral</td>\n",
       "      <td>reply</td>\n",
       "      <td>@UOLNoticias ATENÇÃO: Essa é a tag que precisa...</td>\n",
       "    </tr>\n",
       "  </tbody>\n",
       "</table>\n",
       "</div>"
      ],
      "text/plain": [
       "               source       target            factions interac_type  \\\n",
       "41234  LucasPazoline3  UOLNoticias  pro gov to neutral        reply   \n",
       "\n",
       "                                           tweet_content  \n",
       "41234  @UOLNoticias ATENÇÃO: Essa é a tag que precisa...  "
      ]
     },
     "execution_count": 80,
     "metadata": {},
     "output_type": "execute_result"
    }
   ],
   "source": [
    "tweets_df[tweets_df['target']=='UOLNoticias'].sample()"
   ]
  },
  {
   "cell_type": "code",
   "execution_count": 86,
   "id": "f27f6714-1098-4fe7-8bd5-428b8132dc30",
   "metadata": {},
   "outputs": [
    {
     "data": {
      "text/html": [
       "<div>\n",
       "<style scoped>\n",
       "    .dataframe tbody tr th:only-of-type {\n",
       "        vertical-align: middle;\n",
       "    }\n",
       "\n",
       "    .dataframe tbody tr th {\n",
       "        vertical-align: top;\n",
       "    }\n",
       "\n",
       "    .dataframe thead th {\n",
       "        text-align: right;\n",
       "    }\n",
       "</style>\n",
       "<table border=\"1\" class=\"dataframe\">\n",
       "  <thead>\n",
       "    <tr style=\"text-align: right;\">\n",
       "      <th></th>\n",
       "      <th>source</th>\n",
       "      <th>target</th>\n",
       "      <th>factions</th>\n",
       "      <th>interac_type</th>\n",
       "      <th>tweet_content</th>\n",
       "    </tr>\n",
       "  </thead>\n",
       "  <tbody>\n",
       "    <tr>\n",
       "      <th>440393</th>\n",
       "      <td>_karrlinhos_</td>\n",
       "      <td>STF_oficial</td>\n",
       "      <td>pro gov to neutral</td>\n",
       "      <td>mention</td>\n",
       "      <td>CPI _URGENTE\\n\\nGov @wilsonlimaAM do @pscnacio...</td>\n",
       "    </tr>\n",
       "  </tbody>\n",
       "</table>\n",
       "</div>"
      ],
      "text/plain": [
       "              source       target            factions interac_type  \\\n",
       "440393  _karrlinhos_  STF_oficial  pro gov to neutral      mention   \n",
       "\n",
       "                                            tweet_content  \n",
       "440393  CPI _URGENTE\\n\\nGov @wilsonlimaAM do @pscnacio...  "
      ]
     },
     "execution_count": 86,
     "metadata": {},
     "output_type": "execute_result"
    }
   ],
   "source": [
    "tweets_df[tweets_df['target']=='STF_oficial'].sample()"
   ]
  },
  {
   "cell_type": "code",
   "execution_count": 87,
   "id": "d5c7ceff-4a0a-443f-9a66-c3de8edc9843",
   "metadata": {},
   "outputs": [
    {
     "data": {
      "text/html": [
       "<div>\n",
       "<style scoped>\n",
       "    .dataframe tbody tr th:only-of-type {\n",
       "        vertical-align: middle;\n",
       "    }\n",
       "\n",
       "    .dataframe tbody tr th {\n",
       "        vertical-align: top;\n",
       "    }\n",
       "\n",
       "    .dataframe thead th {\n",
       "        text-align: right;\n",
       "    }\n",
       "</style>\n",
       "<table border=\"1\" class=\"dataframe\">\n",
       "  <thead>\n",
       "    <tr style=\"text-align: right;\">\n",
       "      <th></th>\n",
       "      <th>source</th>\n",
       "      <th>target</th>\n",
       "      <th>factions</th>\n",
       "      <th>interac_type</th>\n",
       "      <th>tweet_content</th>\n",
       "    </tr>\n",
       "  </thead>\n",
       "  <tbody>\n",
       "    <tr>\n",
       "      <th>788017</th>\n",
       "      <td>KeziaFer</td>\n",
       "      <td>Sen_Alessandro</td>\n",
       "      <td>neutral to neutral</td>\n",
       "      <td>mention</td>\n",
       "      <td>@Sen_Alessandro mais uma vez craque do dia !! ...</td>\n",
       "    </tr>\n",
       "  </tbody>\n",
       "</table>\n",
       "</div>"
      ],
      "text/plain": [
       "          source          target            factions interac_type  \\\n",
       "788017  KeziaFer  Sen_Alessandro  neutral to neutral      mention   \n",
       "\n",
       "                                            tweet_content  \n",
       "788017  @Sen_Alessandro mais uma vez craque do dia !! ...  "
      ]
     },
     "execution_count": 87,
     "metadata": {},
     "output_type": "execute_result"
    }
   ],
   "source": [
    "tweets_df[tweets_df['target']=='Sen_Alessandro'].sample()"
   ]
  },
  {
   "cell_type": "code",
   "execution_count": 88,
   "id": "ef3a2f4d-2bcd-4a72-96c1-05a1b0504ada",
   "metadata": {},
   "outputs": [
    {
     "data": {
      "text/html": [
       "<div>\n",
       "<style scoped>\n",
       "    .dataframe tbody tr th:only-of-type {\n",
       "        vertical-align: middle;\n",
       "    }\n",
       "\n",
       "    .dataframe tbody tr th {\n",
       "        vertical-align: top;\n",
       "    }\n",
       "\n",
       "    .dataframe thead th {\n",
       "        text-align: right;\n",
       "    }\n",
       "</style>\n",
       "<table border=\"1\" class=\"dataframe\">\n",
       "  <thead>\n",
       "    <tr style=\"text-align: right;\">\n",
       "      <th></th>\n",
       "      <th>source</th>\n",
       "      <th>target</th>\n",
       "      <th>factions</th>\n",
       "      <th>interac_type</th>\n",
       "      <th>tweet_content</th>\n",
       "    </tr>\n",
       "  </thead>\n",
       "  <tbody>\n",
       "    <tr>\n",
       "      <th>1162334</th>\n",
       "      <td>MATHFREIREB_TW</td>\n",
       "      <td>Metropoles</td>\n",
       "      <td>neutral to neutral</td>\n",
       "      <td>reply</td>\n",
       "      <td>@Metropoles @mqueiroga2 A gota d'água – um Min...</td>\n",
       "    </tr>\n",
       "  </tbody>\n",
       "</table>\n",
       "</div>"
      ],
      "text/plain": [
       "                 source      target            factions interac_type  \\\n",
       "1162334  MATHFREIREB_TW  Metropoles  neutral to neutral        reply   \n",
       "\n",
       "                                             tweet_content  \n",
       "1162334  @Metropoles @mqueiroga2 A gota d'água – um Min...  "
      ]
     },
     "execution_count": 88,
     "metadata": {},
     "output_type": "execute_result"
    }
   ],
   "source": [
    "tweets_df[tweets_df['target']=='Metropoles'].sample()"
   ]
  },
  {
   "cell_type": "code",
   "execution_count": 89,
   "id": "7af0ebed-95d4-4174-b139-5e222d832be1",
   "metadata": {},
   "outputs": [
    {
     "data": {
      "text/html": [
       "<div>\n",
       "<style scoped>\n",
       "    .dataframe tbody tr th:only-of-type {\n",
       "        vertical-align: middle;\n",
       "    }\n",
       "\n",
       "    .dataframe tbody tr th {\n",
       "        vertical-align: top;\n",
       "    }\n",
       "\n",
       "    .dataframe thead th {\n",
       "        text-align: right;\n",
       "    }\n",
       "</style>\n",
       "<table border=\"1\" class=\"dataframe\">\n",
       "  <thead>\n",
       "    <tr style=\"text-align: right;\">\n",
       "      <th></th>\n",
       "      <th>source</th>\n",
       "      <th>target</th>\n",
       "      <th>factions</th>\n",
       "      <th>interac_type</th>\n",
       "      <th>tweet_content</th>\n",
       "    </tr>\n",
       "  </thead>\n",
       "  <tbody>\n",
       "    <tr>\n",
       "      <th>435956</th>\n",
       "      <td>esterd8</td>\n",
       "      <td>MidiaNINJA</td>\n",
       "      <td>neutral to neutral</td>\n",
       "      <td>reply</td>\n",
       "      <td>@MidiaNINJA Outro absurdo que ninguém fala: os...</td>\n",
       "    </tr>\n",
       "  </tbody>\n",
       "</table>\n",
       "</div>"
      ],
      "text/plain": [
       "         source      target            factions interac_type  \\\n",
       "435956  esterd8  MidiaNINJA  neutral to neutral        reply   \n",
       "\n",
       "                                            tweet_content  \n",
       "435956  @MidiaNINJA Outro absurdo que ninguém fala: os...  "
      ]
     },
     "execution_count": 89,
     "metadata": {},
     "output_type": "execute_result"
    }
   ],
   "source": [
    "tweets_df[tweets_df['target']=='MidiaNINJA'].sample()"
   ]
  },
  {
   "cell_type": "code",
   "execution_count": 90,
   "id": "02190ae1-0c13-4f3f-a91f-56ca64a20b67",
   "metadata": {},
   "outputs": [
    {
     "data": {
      "text/html": [
       "<div>\n",
       "<style scoped>\n",
       "    .dataframe tbody tr th:only-of-type {\n",
       "        vertical-align: middle;\n",
       "    }\n",
       "\n",
       "    .dataframe tbody tr th {\n",
       "        vertical-align: top;\n",
       "    }\n",
       "\n",
       "    .dataframe thead th {\n",
       "        text-align: right;\n",
       "    }\n",
       "</style>\n",
       "<table border=\"1\" class=\"dataframe\">\n",
       "  <thead>\n",
       "    <tr style=\"text-align: right;\">\n",
       "      <th></th>\n",
       "      <th>source</th>\n",
       "      <th>target</th>\n",
       "      <th>factions</th>\n",
       "      <th>interac_type</th>\n",
       "      <th>tweet_content</th>\n",
       "    </tr>\n",
       "  </thead>\n",
       "  <tbody>\n",
       "    <tr>\n",
       "      <th>1102728</th>\n",
       "      <td>ItajahyCarol</td>\n",
       "      <td>Estadao</td>\n",
       "      <td>against gov to neutral</td>\n",
       "      <td>reply</td>\n",
       "      <td>@Estadao IMPEACHMENT URGENTE!!!  Cadeia para B...</td>\n",
       "    </tr>\n",
       "  </tbody>\n",
       "</table>\n",
       "</div>"
      ],
      "text/plain": [
       "               source   target                factions interac_type  \\\n",
       "1102728  ItajahyCarol  Estadao  against gov to neutral        reply   \n",
       "\n",
       "                                             tweet_content  \n",
       "1102728  @Estadao IMPEACHMENT URGENTE!!!  Cadeia para B...  "
      ]
     },
     "execution_count": 90,
     "metadata": {},
     "output_type": "execute_result"
    }
   ],
   "source": [
    "tweets_df[tweets_df['target']=='Estadao'].sample()"
   ]
  },
  {
   "cell_type": "code",
   "execution_count": 94,
   "id": "85f061ac-d8aa-41e2-aa44-172ccaf6d977",
   "metadata": {},
   "outputs": [
    {
     "data": {
      "text/html": [
       "<div>\n",
       "<style scoped>\n",
       "    .dataframe tbody tr th:only-of-type {\n",
       "        vertical-align: middle;\n",
       "    }\n",
       "\n",
       "    .dataframe tbody tr th {\n",
       "        vertical-align: top;\n",
       "    }\n",
       "\n",
       "    .dataframe thead th {\n",
       "        text-align: right;\n",
       "    }\n",
       "</style>\n",
       "<table border=\"1\" class=\"dataframe\">\n",
       "  <thead>\n",
       "    <tr style=\"text-align: right;\">\n",
       "      <th></th>\n",
       "      <th>source</th>\n",
       "      <th>target</th>\n",
       "      <th>factions</th>\n",
       "      <th>interac_type</th>\n",
       "      <th>tweet_content</th>\n",
       "    </tr>\n",
       "  </thead>\n",
       "  <tbody>\n",
       "    <tr>\n",
       "      <th>772507</th>\n",
       "      <td>jessymr</td>\n",
       "      <td>MarceloFreixo</td>\n",
       "      <td>against gov to neutral</td>\n",
       "      <td>mention</td>\n",
       "      <td>Deputados, rogo suas assinaturas na emenda Nº:...</td>\n",
       "    </tr>\n",
       "  </tbody>\n",
       "</table>\n",
       "</div>"
      ],
      "text/plain": [
       "         source         target                factions interac_type  \\\n",
       "772507  jessymr  MarceloFreixo  against gov to neutral      mention   \n",
       "\n",
       "                                            tweet_content  \n",
       "772507  Deputados, rogo suas assinaturas na emenda Nº:...  "
      ]
     },
     "execution_count": 94,
     "metadata": {},
     "output_type": "execute_result"
    }
   ],
   "source": [
    "tweets_df[tweets_df['target']=='MarceloFreixo'].sample()"
   ]
  },
  {
   "cell_type": "code",
   "execution_count": 95,
   "id": "a104acd2-493a-4d7f-828f-e57a35cca843",
   "metadata": {},
   "outputs": [
    {
     "data": {
      "text/html": [
       "<div>\n",
       "<style scoped>\n",
       "    .dataframe tbody tr th:only-of-type {\n",
       "        vertical-align: middle;\n",
       "    }\n",
       "\n",
       "    .dataframe tbody tr th {\n",
       "        vertical-align: top;\n",
       "    }\n",
       "\n",
       "    .dataframe thead th {\n",
       "        text-align: right;\n",
       "    }\n",
       "</style>\n",
       "<table border=\"1\" class=\"dataframe\">\n",
       "  <thead>\n",
       "    <tr style=\"text-align: right;\">\n",
       "      <th></th>\n",
       "      <th>source</th>\n",
       "      <th>target</th>\n",
       "      <th>factions</th>\n",
       "      <th>interac_type</th>\n",
       "      <th>tweet_content</th>\n",
       "    </tr>\n",
       "  </thead>\n",
       "  <tbody>\n",
       "    <tr>\n",
       "      <th>577521</th>\n",
       "      <td>martinsbruno021</td>\n",
       "      <td>GuilhermeBoulos</td>\n",
       "      <td>against gov to against gov</td>\n",
       "      <td>reply</td>\n",
       "      <td>@GuilhermeBoulos O Risco é grande já que a tro...</td>\n",
       "    </tr>\n",
       "  </tbody>\n",
       "</table>\n",
       "</div>"
      ],
      "text/plain": [
       "                 source           target                    factions  \\\n",
       "577521  martinsbruno021  GuilhermeBoulos  against gov to against gov   \n",
       "\n",
       "       interac_type                                      tweet_content  \n",
       "577521        reply  @GuilhermeBoulos O Risco é grande já que a tro...  "
      ]
     },
     "execution_count": 95,
     "metadata": {},
     "output_type": "execute_result"
    }
   ],
   "source": [
    "tweets_df[tweets_df['target']=='GuilhermeBoulos'].sample()"
   ]
  },
  {
   "cell_type": "code",
   "execution_count": 98,
   "id": "23da82e3-f448-42f3-b1a6-e2b36c81d6a8",
   "metadata": {},
   "outputs": [
    {
     "data": {
      "text/html": [
       "<div>\n",
       "<style scoped>\n",
       "    .dataframe tbody tr th:only-of-type {\n",
       "        vertical-align: middle;\n",
       "    }\n",
       "\n",
       "    .dataframe tbody tr th {\n",
       "        vertical-align: top;\n",
       "    }\n",
       "\n",
       "    .dataframe thead th {\n",
       "        text-align: right;\n",
       "    }\n",
       "</style>\n",
       "<table border=\"1\" class=\"dataframe\">\n",
       "  <thead>\n",
       "    <tr style=\"text-align: right;\">\n",
       "      <th></th>\n",
       "      <th>source</th>\n",
       "      <th>target</th>\n",
       "      <th>factions</th>\n",
       "      <th>interac_type</th>\n",
       "      <th>tweet_content</th>\n",
       "    </tr>\n",
       "  </thead>\n",
       "  <tbody>\n",
       "    <tr>\n",
       "      <th>1065047</th>\n",
       "      <td>ABracet</td>\n",
       "      <td>o_antagonista</td>\n",
       "      <td>against gov to against gov</td>\n",
       "      <td>reply</td>\n",
       "      <td>@o_antagonista Orando aqui: #Forabolsonaro. Amém.</td>\n",
       "    </tr>\n",
       "  </tbody>\n",
       "</table>\n",
       "</div>"
      ],
      "text/plain": [
       "          source         target                    factions interac_type  \\\n",
       "1065047  ABracet  o_antagonista  against gov to against gov        reply   \n",
       "\n",
       "                                             tweet_content  \n",
       "1065047  @o_antagonista Orando aqui: #Forabolsonaro. Amém.  "
      ]
     },
     "execution_count": 98,
     "metadata": {},
     "output_type": "execute_result"
    }
   ],
   "source": [
    "tweets_df[tweets_df['target']=='o_antagonista'].sample()"
   ]
  },
  {
   "cell_type": "code",
   "execution_count": 100,
   "id": "1fc43db6-00b1-4911-a9b9-6ce3653b4a5a",
   "metadata": {},
   "outputs": [
    {
     "data": {
      "text/html": [
       "<div>\n",
       "<style scoped>\n",
       "    .dataframe tbody tr th:only-of-type {\n",
       "        vertical-align: middle;\n",
       "    }\n",
       "\n",
       "    .dataframe tbody tr th {\n",
       "        vertical-align: top;\n",
       "    }\n",
       "\n",
       "    .dataframe thead th {\n",
       "        text-align: right;\n",
       "    }\n",
       "</style>\n",
       "<table border=\"1\" class=\"dataframe\">\n",
       "  <thead>\n",
       "    <tr style=\"text-align: right;\">\n",
       "      <th></th>\n",
       "      <th>source</th>\n",
       "      <th>target</th>\n",
       "      <th>factions</th>\n",
       "      <th>interac_type</th>\n",
       "      <th>tweet_content</th>\n",
       "    </tr>\n",
       "  </thead>\n",
       "  <tbody>\n",
       "    <tr>\n",
       "      <th>790538</th>\n",
       "      <td>renatalommez</td>\n",
       "      <td>ContaratoSenado</td>\n",
       "      <td>against gov to against gov</td>\n",
       "      <td>mention</td>\n",
       "      <td>Alô @slpng_giants_pt o canal de propagação de ...</td>\n",
       "    </tr>\n",
       "  </tbody>\n",
       "</table>\n",
       "</div>"
      ],
      "text/plain": [
       "              source           target                    factions  \\\n",
       "790538  renatalommez  ContaratoSenado  against gov to against gov   \n",
       "\n",
       "       interac_type                                      tweet_content  \n",
       "790538      mention  Alô @slpng_giants_pt o canal de propagação de ...  "
      ]
     },
     "execution_count": 100,
     "metadata": {},
     "output_type": "execute_result"
    }
   ],
   "source": [
    "tweets_df[tweets_df['target']=='ContaratoSenado'].sample()"
   ]
  },
  {
   "cell_type": "code",
   "execution_count": 105,
   "id": "b1b9e950-c7d5-443e-8a13-5c5c260cf285",
   "metadata": {},
   "outputs": [
    {
     "data": {
      "text/html": [
       "<div>\n",
       "<style scoped>\n",
       "    .dataframe tbody tr th:only-of-type {\n",
       "        vertical-align: middle;\n",
       "    }\n",
       "\n",
       "    .dataframe tbody tr th {\n",
       "        vertical-align: top;\n",
       "    }\n",
       "\n",
       "    .dataframe thead th {\n",
       "        text-align: right;\n",
       "    }\n",
       "</style>\n",
       "<table border=\"1\" class=\"dataframe\">\n",
       "  <thead>\n",
       "    <tr style=\"text-align: right;\">\n",
       "      <th></th>\n",
       "      <th>source</th>\n",
       "      <th>target</th>\n",
       "      <th>factions</th>\n",
       "      <th>interac_type</th>\n",
       "      <th>tweet_content</th>\n",
       "    </tr>\n",
       "  </thead>\n",
       "  <tbody>\n",
       "    <tr>\n",
       "      <th>565305</th>\n",
       "      <td>Amanda22706722</td>\n",
       "      <td>cirogomes</td>\n",
       "      <td>against gov to against gov</td>\n",
       "      <td>reply</td>\n",
       "      <td>@cirogomes E o Arthur Lira não faz nada #ForaB...</td>\n",
       "    </tr>\n",
       "  </tbody>\n",
       "</table>\n",
       "</div>"
      ],
      "text/plain": [
       "                source     target                    factions interac_type  \\\n",
       "565305  Amanda22706722  cirogomes  against gov to against gov        reply   \n",
       "\n",
       "                                            tweet_content  \n",
       "565305  @cirogomes E o Arthur Lira não faz nada #ForaB...  "
      ]
     },
     "execution_count": 105,
     "metadata": {},
     "output_type": "execute_result"
    }
   ],
   "source": [
    "tweets_df[tweets_df['target']=='cirogomes'].sample()"
   ]
  },
  {
   "cell_type": "code",
   "execution_count": 106,
   "id": "61e79c19-a28e-4896-9478-bd7da8047973",
   "metadata": {},
   "outputs": [
    {
     "data": {
      "text/html": [
       "<div>\n",
       "<style scoped>\n",
       "    .dataframe tbody tr th:only-of-type {\n",
       "        vertical-align: middle;\n",
       "    }\n",
       "\n",
       "    .dataframe tbody tr th {\n",
       "        vertical-align: top;\n",
       "    }\n",
       "\n",
       "    .dataframe thead th {\n",
       "        text-align: right;\n",
       "    }\n",
       "</style>\n",
       "<table border=\"1\" class=\"dataframe\">\n",
       "  <thead>\n",
       "    <tr style=\"text-align: right;\">\n",
       "      <th></th>\n",
       "      <th>source</th>\n",
       "      <th>target</th>\n",
       "      <th>factions</th>\n",
       "      <th>interac_type</th>\n",
       "      <th>tweet_content</th>\n",
       "    </tr>\n",
       "  </thead>\n",
       "  <tbody>\n",
       "    <tr>\n",
       "      <th>535990</th>\n",
       "      <td>tuittadry</td>\n",
       "      <td>juliette</td>\n",
       "      <td>against gov to against gov</td>\n",
       "      <td>reply</td>\n",
       "      <td>@juliette É ISSO!! #ForaBolsonaro https://t.co...</td>\n",
       "    </tr>\n",
       "  </tbody>\n",
       "</table>\n",
       "</div>"
      ],
      "text/plain": [
       "           source    target                    factions interac_type  \\\n",
       "535990  tuittadry  juliette  against gov to against gov        reply   \n",
       "\n",
       "                                            tweet_content  \n",
       "535990  @juliette É ISSO!! #ForaBolsonaro https://t.co...  "
      ]
     },
     "execution_count": 106,
     "metadata": {},
     "output_type": "execute_result"
    }
   ],
   "source": [
    "tweets_df[tweets_df['target']=='juliette'].sample()"
   ]
  },
  {
   "cell_type": "code",
   "execution_count": 107,
   "id": "222c7d29-b1b1-4ced-a13b-7a57c97cff3e",
   "metadata": {},
   "outputs": [
    {
     "data": {
      "text/html": [
       "<div>\n",
       "<style scoped>\n",
       "    .dataframe tbody tr th:only-of-type {\n",
       "        vertical-align: middle;\n",
       "    }\n",
       "\n",
       "    .dataframe tbody tr th {\n",
       "        vertical-align: top;\n",
       "    }\n",
       "\n",
       "    .dataframe thead th {\n",
       "        text-align: right;\n",
       "    }\n",
       "</style>\n",
       "<table border=\"1\" class=\"dataframe\">\n",
       "  <thead>\n",
       "    <tr style=\"text-align: right;\">\n",
       "      <th></th>\n",
       "      <th>source</th>\n",
       "      <th>target</th>\n",
       "      <th>factions</th>\n",
       "      <th>interac_type</th>\n",
       "      <th>tweet_content</th>\n",
       "    </tr>\n",
       "  </thead>\n",
       "  <tbody>\n",
       "    <tr>\n",
       "      <th>562194</th>\n",
       "      <td>sol_maryh</td>\n",
       "      <td>brunogagliasso</td>\n",
       "      <td>against gov to against gov</td>\n",
       "      <td>reply</td>\n",
       "      <td>@brunogagliasso Você e @gioewbank são maravilh...</td>\n",
       "    </tr>\n",
       "  </tbody>\n",
       "</table>\n",
       "</div>"
      ],
      "text/plain": [
       "           source          target                    factions interac_type  \\\n",
       "562194  sol_maryh  brunogagliasso  against gov to against gov        reply   \n",
       "\n",
       "                                            tweet_content  \n",
       "562194  @brunogagliasso Você e @gioewbank são maravilh...  "
      ]
     },
     "execution_count": 107,
     "metadata": {},
     "output_type": "execute_result"
    }
   ],
   "source": [
    "tweets_df[tweets_df['target']=='brunogagliasso'].sample()"
   ]
  },
  {
   "cell_type": "code",
   "execution_count": 122,
   "id": "5a58ac37-679e-4a31-b4f6-8ed405d45631",
   "metadata": {},
   "outputs": [
    {
     "data": {
      "text/html": [
       "<div>\n",
       "<style scoped>\n",
       "    .dataframe tbody tr th:only-of-type {\n",
       "        vertical-align: middle;\n",
       "    }\n",
       "\n",
       "    .dataframe tbody tr th {\n",
       "        vertical-align: top;\n",
       "    }\n",
       "\n",
       "    .dataframe thead th {\n",
       "        text-align: right;\n",
       "    }\n",
       "</style>\n",
       "<table border=\"1\" class=\"dataframe\">\n",
       "  <thead>\n",
       "    <tr style=\"text-align: right;\">\n",
       "      <th></th>\n",
       "      <th>source</th>\n",
       "      <th>target</th>\n",
       "      <th>factions</th>\n",
       "      <th>interac_type</th>\n",
       "      <th>tweet_content</th>\n",
       "    </tr>\n",
       "  </thead>\n",
       "  <tbody>\n",
       "    <tr>\n",
       "      <th>433272</th>\n",
       "      <td>cirosaopaulino</td>\n",
       "      <td>MBLivre</td>\n",
       "      <td>against gov to against gov</td>\n",
       "      <td>reply</td>\n",
       "      <td>@MBLivre @YouTube Blz, faliu o MBL, que apoiou...</td>\n",
       "    </tr>\n",
       "  </tbody>\n",
       "</table>\n",
       "</div>"
      ],
      "text/plain": [
       "                source   target                    factions interac_type  \\\n",
       "433272  cirosaopaulino  MBLivre  against gov to against gov        reply   \n",
       "\n",
       "                                            tweet_content  \n",
       "433272  @MBLivre @YouTube Blz, faliu o MBL, que apoiou...  "
      ]
     },
     "execution_count": 122,
     "metadata": {},
     "output_type": "execute_result"
    }
   ],
   "source": [
    "tweets_df[tweets_df['target']=='MBLivre'].sample()"
   ]
  },
  {
   "cell_type": "code",
   "execution_count": 127,
   "id": "553ea056-c85e-48dc-9c63-f447b1bc9284",
   "metadata": {},
   "outputs": [
    {
     "data": {
      "text/html": [
       "<div>\n",
       "<style scoped>\n",
       "    .dataframe tbody tr th:only-of-type {\n",
       "        vertical-align: middle;\n",
       "    }\n",
       "\n",
       "    .dataframe tbody tr th {\n",
       "        vertical-align: top;\n",
       "    }\n",
       "\n",
       "    .dataframe thead th {\n",
       "        text-align: right;\n",
       "    }\n",
       "</style>\n",
       "<table border=\"1\" class=\"dataframe\">\n",
       "  <thead>\n",
       "    <tr style=\"text-align: right;\">\n",
       "      <th></th>\n",
       "      <th>source</th>\n",
       "      <th>target</th>\n",
       "      <th>factions</th>\n",
       "      <th>interac_type</th>\n",
       "      <th>tweet_content</th>\n",
       "    </tr>\n",
       "  </thead>\n",
       "  <tbody>\n",
       "    <tr>\n",
       "      <th>900041</th>\n",
       "      <td>laffurr2</td>\n",
       "      <td>jdoriajr</td>\n",
       "      <td>against gov to against gov</td>\n",
       "      <td>reply</td>\n",
       "      <td>@jdoriajr Quando a violência parte do governo ...</td>\n",
       "    </tr>\n",
       "  </tbody>\n",
       "</table>\n",
       "</div>"
      ],
      "text/plain": [
       "          source    target                    factions interac_type  \\\n",
       "900041  laffurr2  jdoriajr  against gov to against gov        reply   \n",
       "\n",
       "                                            tweet_content  \n",
       "900041  @jdoriajr Quando a violência parte do governo ...  "
      ]
     },
     "execution_count": 127,
     "metadata": {},
     "output_type": "execute_result"
    }
   ],
   "source": [
    "tweets_df[tweets_df['target']=='jdoriajr'].sample()"
   ]
  },
  {
   "cell_type": "code",
   "execution_count": 128,
   "id": "e3156503-ca14-4f6f-9318-fa78eac8da78",
   "metadata": {},
   "outputs": [
    {
     "data": {
      "text/html": [
       "<div>\n",
       "<style scoped>\n",
       "    .dataframe tbody tr th:only-of-type {\n",
       "        vertical-align: middle;\n",
       "    }\n",
       "\n",
       "    .dataframe tbody tr th {\n",
       "        vertical-align: top;\n",
       "    }\n",
       "\n",
       "    .dataframe thead th {\n",
       "        text-align: right;\n",
       "    }\n",
       "</style>\n",
       "<table border=\"1\" class=\"dataframe\">\n",
       "  <thead>\n",
       "    <tr style=\"text-align: right;\">\n",
       "      <th></th>\n",
       "      <th>source</th>\n",
       "      <th>target</th>\n",
       "      <th>factions</th>\n",
       "      <th>interac_type</th>\n",
       "      <th>tweet_content</th>\n",
       "    </tr>\n",
       "  </thead>\n",
       "  <tbody>\n",
       "    <tr>\n",
       "      <th>222638</th>\n",
       "      <td>JLSP40</td>\n",
       "      <td>veramagalhaes</td>\n",
       "      <td>neutral to neutral</td>\n",
       "      <td>reply</td>\n",
       "      <td>@veramagalhaes @veramagalhaes pq quando os âni...</td>\n",
       "    </tr>\n",
       "  </tbody>\n",
       "</table>\n",
       "</div>"
      ],
      "text/plain": [
       "        source         target            factions interac_type  \\\n",
       "222638  JLSP40  veramagalhaes  neutral to neutral        reply   \n",
       "\n",
       "                                            tweet_content  \n",
       "222638  @veramagalhaes @veramagalhaes pq quando os âni...  "
      ]
     },
     "execution_count": 128,
     "metadata": {},
     "output_type": "execute_result"
    }
   ],
   "source": [
    "tweets_df[tweets_df['target']=='veramagalhaes'].sample()"
   ]
  },
  {
   "cell_type": "code",
   "execution_count": 129,
   "id": "cd4cc4fa-8fab-45ff-aa7e-bc3a0a76ba52",
   "metadata": {},
   "outputs": [
    {
     "data": {
      "text/html": [
       "<div>\n",
       "<style scoped>\n",
       "    .dataframe tbody tr th:only-of-type {\n",
       "        vertical-align: middle;\n",
       "    }\n",
       "\n",
       "    .dataframe tbody tr th {\n",
       "        vertical-align: top;\n",
       "    }\n",
       "\n",
       "    .dataframe thead th {\n",
       "        text-align: right;\n",
       "    }\n",
       "</style>\n",
       "<table border=\"1\" class=\"dataframe\">\n",
       "  <thead>\n",
       "    <tr style=\"text-align: right;\">\n",
       "      <th></th>\n",
       "      <th>source</th>\n",
       "      <th>target</th>\n",
       "      <th>factions</th>\n",
       "      <th>interac_type</th>\n",
       "      <th>tweet_content</th>\n",
       "    </tr>\n",
       "  </thead>\n",
       "  <tbody>\n",
       "    <tr>\n",
       "      <th>1071091</th>\n",
       "      <td>CalefiLeandro</td>\n",
       "      <td>RubensNunesMBL</td>\n",
       "      <td>against gov to against gov</td>\n",
       "      <td>quoted_rt</td>\n",
       "      <td>12! de Setembro! \\n#12SetEuVou https://t.co/FI...</td>\n",
       "    </tr>\n",
       "  </tbody>\n",
       "</table>\n",
       "</div>"
      ],
      "text/plain": [
       "                source          target                    factions  \\\n",
       "1071091  CalefiLeandro  RubensNunesMBL  against gov to against gov   \n",
       "\n",
       "        interac_type                                      tweet_content  \n",
       "1071091    quoted_rt  12! de Setembro! \\n#12SetEuVou https://t.co/FI...  "
      ]
     },
     "execution_count": 129,
     "metadata": {},
     "output_type": "execute_result"
    }
   ],
   "source": [
    "tweets_df[tweets_df['target']=='RubensNunesMBL'].sample()"
   ]
  },
  {
   "cell_type": "code",
   "execution_count": 133,
   "id": "482e2a78-be81-48ba-8422-a66a1171c409",
   "metadata": {},
   "outputs": [
    {
     "data": {
      "text/html": [
       "<div>\n",
       "<style scoped>\n",
       "    .dataframe tbody tr th:only-of-type {\n",
       "        vertical-align: middle;\n",
       "    }\n",
       "\n",
       "    .dataframe tbody tr th {\n",
       "        vertical-align: top;\n",
       "    }\n",
       "\n",
       "    .dataframe thead th {\n",
       "        text-align: right;\n",
       "    }\n",
       "</style>\n",
       "<table border=\"1\" class=\"dataframe\">\n",
       "  <thead>\n",
       "    <tr style=\"text-align: right;\">\n",
       "      <th></th>\n",
       "      <th>source</th>\n",
       "      <th>target</th>\n",
       "      <th>factions</th>\n",
       "      <th>interac_type</th>\n",
       "      <th>tweet_content</th>\n",
       "    </tr>\n",
       "  </thead>\n",
       "  <tbody>\n",
       "    <tr>\n",
       "      <th>1121477</th>\n",
       "      <td>colheitadeira</td>\n",
       "      <td>KimKataguiri</td>\n",
       "      <td>against gov to against gov</td>\n",
       "      <td>reply</td>\n",
       "      <td>@KimKataguiri 12 de setembro é #ForaBolsonaro</td>\n",
       "    </tr>\n",
       "  </tbody>\n",
       "</table>\n",
       "</div>"
      ],
      "text/plain": [
       "                source        target                    factions interac_type  \\\n",
       "1121477  colheitadeira  KimKataguiri  against gov to against gov        reply   \n",
       "\n",
       "                                         tweet_content  \n",
       "1121477  @KimKataguiri 12 de setembro é #ForaBolsonaro  "
      ]
     },
     "execution_count": 133,
     "metadata": {},
     "output_type": "execute_result"
    }
   ],
   "source": [
    "tweets_df[tweets_df['target']=='KimKataguiri'].sample()"
   ]
  },
  {
   "cell_type": "code",
   "execution_count": 137,
   "id": "8865f776-1260-48aa-a1de-8451e7010c45",
   "metadata": {},
   "outputs": [
    {
     "data": {
      "text/html": [
       "<div>\n",
       "<style scoped>\n",
       "    .dataframe tbody tr th:only-of-type {\n",
       "        vertical-align: middle;\n",
       "    }\n",
       "\n",
       "    .dataframe tbody tr th {\n",
       "        vertical-align: top;\n",
       "    }\n",
       "\n",
       "    .dataframe thead th {\n",
       "        text-align: right;\n",
       "    }\n",
       "</style>\n",
       "<table border=\"1\" class=\"dataframe\">\n",
       "  <thead>\n",
       "    <tr style=\"text-align: right;\">\n",
       "      <th></th>\n",
       "      <th>source</th>\n",
       "      <th>target</th>\n",
       "      <th>factions</th>\n",
       "      <th>interac_type</th>\n",
       "      <th>tweet_content</th>\n",
       "    </tr>\n",
       "  </thead>\n",
       "  <tbody>\n",
       "    <tr>\n",
       "      <th>1154862</th>\n",
       "      <td>DenizeBocchi6</td>\n",
       "      <td>mmarescast</td>\n",
       "      <td>against gov to against gov</td>\n",
       "      <td>reply</td>\n",
       "      <td>@mmarescast Pirou de vez. #2OutForaBolsonaro #...</td>\n",
       "    </tr>\n",
       "    <tr>\n",
       "      <th>742105</th>\n",
       "      <td>layane_sarmento</td>\n",
       "      <td>jefnogueira</td>\n",
       "      <td>against gov to against gov</td>\n",
       "      <td>quoted_rt</td>\n",
       "      <td>Comida no prato\\nVacina no braço\\nFora Bolsona...</td>\n",
       "    </tr>\n",
       "    <tr>\n",
       "      <th>477804</th>\n",
       "      <td>noemi_nk</td>\n",
       "      <td>o_antagonista</td>\n",
       "      <td>against gov to against gov</td>\n",
       "      <td>reply</td>\n",
       "      <td>@o_antagonista Vacina pra mim cloroquina e inv...</td>\n",
       "    </tr>\n",
       "    <tr>\n",
       "      <th>740432</th>\n",
       "      <td>leilasoraya</td>\n",
       "      <td>ptbrasil</td>\n",
       "      <td>against gov to against gov</td>\n",
       "      <td>quoted_rt</td>\n",
       "      <td>Congonhas é #3JForaBolsonaro #3JPovoNasRuas ht...</td>\n",
       "    </tr>\n",
       "    <tr>\n",
       "      <th>722021</th>\n",
       "      <td>ThiagoRotta</td>\n",
       "      <td>bslvra</td>\n",
       "      <td>against gov to against gov</td>\n",
       "      <td>quoted_rt</td>\n",
       "      <td>Pego no flagra, ou deveria dizer pego com as c...</td>\n",
       "    </tr>\n",
       "    <tr>\n",
       "      <th>1113353</th>\n",
       "      <td>Gilengajar</td>\n",
       "      <td>GilDoVigor</td>\n",
       "      <td>against gov to against gov</td>\n",
       "      <td>reply</td>\n",
       "      <td>@GilDoVigor Orgulho #ForaBolsonaro</td>\n",
       "    </tr>\n",
       "    <tr>\n",
       "      <th>332945</th>\n",
       "      <td>bem_nice</td>\n",
       "      <td>joaoluizpedrosa</td>\n",
       "      <td>against gov to against gov</td>\n",
       "      <td>reply</td>\n",
       "      <td>@joaoluizpedrosa Bom te ver militando! #29MFor...</td>\n",
       "    </tr>\n",
       "    <tr>\n",
       "      <th>600200</th>\n",
       "      <td>CarmemA68663100</td>\n",
       "      <td>Daslei</td>\n",
       "      <td>against gov to against gov</td>\n",
       "      <td>quoted_rt</td>\n",
       "      <td>Bolsonaro vai cair!\\n#impeachmentDoBolsonaro \\...</td>\n",
       "    </tr>\n",
       "    <tr>\n",
       "      <th>625776</th>\n",
       "      <td>vbertolino</td>\n",
       "      <td>GuilhermeBoulos</td>\n",
       "      <td>against gov to against gov</td>\n",
       "      <td>reply</td>\n",
       "      <td>@GuilhermeBoulos Cadeia nele.\\n#BolsonaroCorru...</td>\n",
       "    </tr>\n",
       "    <tr>\n",
       "      <th>1233050</th>\n",
       "      <td>epicurodepedra</td>\n",
       "      <td>erikakokay</td>\n",
       "      <td>against gov to against gov</td>\n",
       "      <td>quoted_rt</td>\n",
       "      <td>Brasília no #ForaBolsonaro https://t.co/AutEPh...</td>\n",
       "    </tr>\n",
       "    <tr>\n",
       "      <th>627218</th>\n",
       "      <td>ivansilav</td>\n",
       "      <td>augustodeAB</td>\n",
       "      <td>against gov to against gov</td>\n",
       "      <td>quoted_rt</td>\n",
       "      <td>Sim para #3JForaBolsonaro https://t.co/CNK5yq7wMQ</td>\n",
       "    </tr>\n",
       "    <tr>\n",
       "      <th>1106345</th>\n",
       "      <td>carlosmarius_</td>\n",
       "      <td>Eduardomg_95</td>\n",
       "      <td>against gov to against gov</td>\n",
       "      <td>quoted_rt</td>\n",
       "      <td>#7SForaBolsonaro\\n40 milhões dos brasileiros c...</td>\n",
       "    </tr>\n",
       "    <tr>\n",
       "      <th>1016743</th>\n",
       "      <td>2022Vale</td>\n",
       "      <td>GUSSOUZA_MBL</td>\n",
       "      <td>against gov to against gov</td>\n",
       "      <td>quoted_rt</td>\n",
       "      <td>Assegurar a democracia é #VotoImpressoNAO http...</td>\n",
       "    </tr>\n",
       "    <tr>\n",
       "      <th>1089949</th>\n",
       "      <td>matosra</td>\n",
       "      <td>brdefreire</td>\n",
       "      <td>against gov to against gov</td>\n",
       "      <td>reply</td>\n",
       "      <td>@brdefreire @desmentindobozo Desmonetizações e...</td>\n",
       "    </tr>\n",
       "    <tr>\n",
       "      <th>580563</th>\n",
       "      <td>derf_odeveza</td>\n",
       "      <td>epitaciovenanci</td>\n",
       "      <td>against gov to against gov</td>\n",
       "      <td>quoted_rt</td>\n",
       "      <td>Sem dúvida é #BolsonaroCorrupto https://t.co/I...</td>\n",
       "    </tr>\n",
       "    <tr>\n",
       "      <th>198401</th>\n",
       "      <td>Plenamentedani1</td>\n",
       "      <td>brasil247</td>\n",
       "      <td>against gov to against gov</td>\n",
       "      <td>quoted_rt</td>\n",
       "      <td>DESMONTE dos direitos... Governo bolsonaro con...</td>\n",
       "    </tr>\n",
       "    <tr>\n",
       "      <th>533252</th>\n",
       "      <td>jozimarjr</td>\n",
       "      <td>ManuelaDavila</td>\n",
       "      <td>against gov to against gov</td>\n",
       "      <td>quoted_rt</td>\n",
       "      <td>Que triste ver um país que era sinônimo de amo...</td>\n",
       "    </tr>\n",
       "    <tr>\n",
       "      <th>1192920</th>\n",
       "      <td>Abelhud23808072</td>\n",
       "      <td>esquerdeando</td>\n",
       "      <td>against gov to against gov</td>\n",
       "      <td>quoted_rt</td>\n",
       "      <td>Pior q qquer filme de terror.\\nPior q aqueles ...</td>\n",
       "    </tr>\n",
       "    <tr>\n",
       "      <th>316324</th>\n",
       "      <td>FelipeNiemeyer1</td>\n",
       "      <td>gduvivier</td>\n",
       "      <td>against gov to against gov</td>\n",
       "      <td>mention</td>\n",
       "      <td>Tá lindo no Rio de Janeiro. Geral com máscara ...</td>\n",
       "    </tr>\n",
       "    <tr>\n",
       "      <th>531592</th>\n",
       "      <td>RaquelM11762963</td>\n",
       "      <td>jandira_feghali</td>\n",
       "      <td>against gov to against gov</td>\n",
       "      <td>quoted_rt</td>\n",
       "      <td>#ForaBolsonaro \\nMORRAM QUANTOS TIVEREM QUE MO...</td>\n",
       "    </tr>\n",
       "  </tbody>\n",
       "</table>\n",
       "</div>"
      ],
      "text/plain": [
       "                  source           target                    factions  \\\n",
       "1154862    DenizeBocchi6       mmarescast  against gov to against gov   \n",
       "742105   layane_sarmento      jefnogueira  against gov to against gov   \n",
       "477804          noemi_nk    o_antagonista  against gov to against gov   \n",
       "740432       leilasoraya         ptbrasil  against gov to against gov   \n",
       "722021       ThiagoRotta           bslvra  against gov to against gov   \n",
       "1113353       Gilengajar       GilDoVigor  against gov to against gov   \n",
       "332945          bem_nice  joaoluizpedrosa  against gov to against gov   \n",
       "600200   CarmemA68663100           Daslei  against gov to against gov   \n",
       "625776        vbertolino  GuilhermeBoulos  against gov to against gov   \n",
       "1233050   epicurodepedra       erikakokay  against gov to against gov   \n",
       "627218         ivansilav      augustodeAB  against gov to against gov   \n",
       "1106345    carlosmarius_     Eduardomg_95  against gov to against gov   \n",
       "1016743         2022Vale     GUSSOUZA_MBL  against gov to against gov   \n",
       "1089949          matosra       brdefreire  against gov to against gov   \n",
       "580563      derf_odeveza  epitaciovenanci  against gov to against gov   \n",
       "198401   Plenamentedani1        brasil247  against gov to against gov   \n",
       "533252         jozimarjr    ManuelaDavila  against gov to against gov   \n",
       "1192920  Abelhud23808072     esquerdeando  against gov to against gov   \n",
       "316324   FelipeNiemeyer1        gduvivier  against gov to against gov   \n",
       "531592   RaquelM11762963  jandira_feghali  against gov to against gov   \n",
       "\n",
       "        interac_type                                      tweet_content  \n",
       "1154862        reply  @mmarescast Pirou de vez. #2OutForaBolsonaro #...  \n",
       "742105     quoted_rt  Comida no prato\\nVacina no braço\\nFora Bolsona...  \n",
       "477804         reply  @o_antagonista Vacina pra mim cloroquina e inv...  \n",
       "740432     quoted_rt  Congonhas é #3JForaBolsonaro #3JPovoNasRuas ht...  \n",
       "722021     quoted_rt  Pego no flagra, ou deveria dizer pego com as c...  \n",
       "1113353        reply                 @GilDoVigor Orgulho #ForaBolsonaro  \n",
       "332945         reply  @joaoluizpedrosa Bom te ver militando! #29MFor...  \n",
       "600200     quoted_rt  Bolsonaro vai cair!\\n#impeachmentDoBolsonaro \\...  \n",
       "625776         reply  @GuilhermeBoulos Cadeia nele.\\n#BolsonaroCorru...  \n",
       "1233050    quoted_rt  Brasília no #ForaBolsonaro https://t.co/AutEPh...  \n",
       "627218     quoted_rt  Sim para #3JForaBolsonaro https://t.co/CNK5yq7wMQ  \n",
       "1106345    quoted_rt  #7SForaBolsonaro\\n40 milhões dos brasileiros c...  \n",
       "1016743    quoted_rt  Assegurar a democracia é #VotoImpressoNAO http...  \n",
       "1089949        reply  @brdefreire @desmentindobozo Desmonetizações e...  \n",
       "580563     quoted_rt  Sem dúvida é #BolsonaroCorrupto https://t.co/I...  \n",
       "198401     quoted_rt  DESMONTE dos direitos... Governo bolsonaro con...  \n",
       "533252     quoted_rt  Que triste ver um país que era sinônimo de amo...  \n",
       "1192920    quoted_rt  Pior q qquer filme de terror.\\nPior q aqueles ...  \n",
       "316324       mention  Tá lindo no Rio de Janeiro. Geral com máscara ...  \n",
       "531592     quoted_rt  #ForaBolsonaro \\nMORRAM QUANTOS TIVEREM QUE MO...  "
      ]
     },
     "execution_count": 137,
     "metadata": {},
     "output_type": "execute_result"
    }
   ],
   "source": [
    "tweets_df[tweets_df['factions']=='against gov to against gov'].sample(20)"
   ]
  },
  {
   "cell_type": "code",
   "execution_count": null,
   "id": "85b7ad8b-d5ca-4d5a-959c-dffd55616108",
   "metadata": {},
   "outputs": [],
   "source": []
  },
  {
   "cell_type": "code",
   "execution_count": 140,
   "id": "fc6f1989-53f7-49d9-ba93-d56f1d4a3295",
   "metadata": {},
   "outputs": [
    {
     "data": {
      "text/plain": [
       "OmarAzizSenador    21213\n",
       "SenadoFederal      19172\n",
       "MarcosRogerio       8611\n",
       "renancalheiros      8171\n",
       "SigaGazetaBR        7692\n",
       "                   ...  \n",
       "joseleonidas           1\n",
       "pinkbloc_              1\n",
       "seujosias1             1\n",
       "true_news_now          1\n",
       "marianasendoela        1\n",
       "Name: target, Length: 2236, dtype: int64"
      ]
     },
     "execution_count": 140,
     "metadata": {},
     "output_type": "execute_result"
    }
   ],
   "source": [
    "tweets_df[tweets_df['factions']=='pro gov to neutral']['target'].value_counts()"
   ]
  },
  {
   "cell_type": "code",
   "execution_count": 141,
   "id": "adb8b172-0030-40b2-acf2-7776235a42ef",
   "metadata": {},
   "outputs": [
    {
     "data": {
      "text/plain": [
       "AAMachadoRP        12301\n",
       "randolfeap         11253\n",
       "UOLNoticias         9657\n",
       "OmarAzizSenador     8223\n",
       "MidiaNINJA          8044\n",
       "                   ...  \n",
       "ootimistajornal        1\n",
       "LilianaRochaF          1\n",
       "cruzeiro_mauro         1\n",
       "printandonews          1\n",
       "CarlosHortmann         1\n",
       "Name: target, Length: 5116, dtype: int64"
      ]
     },
     "execution_count": 141,
     "metadata": {},
     "output_type": "execute_result"
    }
   ],
   "source": [
    "tweets_df[tweets_df['factions']=='against gov to neutral']['target'].value_counts()"
   ]
  },
  {
   "cell_type": "code",
   "execution_count": 144,
   "id": "4597f6c4-f623-4fce-b642-ecf732b0ca27",
   "metadata": {},
   "outputs": [
    {
     "data": {
      "text/plain": [
       "senadorhumberto    6176\n",
       "revistaoeste       5839\n",
       "o_antagonista      4790\n",
       "jandira_feghali    1996\n",
       "joaoamoedonovo     1385\n",
       "                   ... \n",
       "JoaoAPedroso          1\n",
       "thiago10galo          1\n",
       "cade_lili             1\n",
       "MarxJuca              1\n",
       "fabiolabaani          1\n",
       "Name: target, Length: 5095, dtype: int64"
      ]
     },
     "execution_count": 144,
     "metadata": {},
     "output_type": "execute_result"
    }
   ],
   "source": [
    "tweets_df[tweets_df['factions']=='pro gov to against gov']['target'].value_counts()"
   ]
  },
  {
   "cell_type": "code",
   "execution_count": null,
   "id": "d98e16a3-baf5-402b-94b2-daf18e0af6d1",
   "metadata": {},
   "outputs": [],
   "source": []
  }
 ],
 "metadata": {
  "kernelspec": {
   "display_name": "Python 3 (ipykernel)",
   "language": "python",
   "name": "python3"
  },
  "language_info": {
   "codemirror_mode": {
    "name": "ipython",
    "version": 3
   },
   "file_extension": ".py",
   "mimetype": "text/x-python",
   "name": "python",
   "nbconvert_exporter": "python",
   "pygments_lexer": "ipython3",
   "version": "3.9.11"
  }
 },
 "nbformat": 4,
 "nbformat_minor": 5
}

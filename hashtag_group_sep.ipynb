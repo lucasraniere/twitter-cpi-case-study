{
 "cells": [
  {
   "cell_type": "code",
   "execution_count": 2,
   "id": "5a3c8aee-b4fd-446a-8ebf-bfb05062f86f",
   "metadata": {},
   "outputs": [],
   "source": [
    "import pandas as pd\n",
    "from IPython.display import clear_output, display\n",
    "import os, datetime\n",
    "import numpy as np\n",
    "import networkx as nx"
   ]
  },
  {
   "cell_type": "markdown",
   "id": "4eee5937-0432-475d-9295-2c113ec064d4",
   "metadata": {},
   "source": [
    "## Fetching tweets with selected hashtags"
   ]
  },
  {
   "cell_type": "code",
   "execution_count": 4,
   "id": "c705f4af-022b-483d-8048-2032f9746d6e",
   "metadata": {},
   "outputs": [
    {
     "name": "stdout",
     "output_type": "stream",
     "text": [
      "Amount of extracted weeks:  26\n"
     ]
    }
   ],
   "source": [
    "DATA_PATH = 'data/tweets/'\n",
    "\n",
    "week_list = [week_dir for week_dir in os.listdir(DATA_PATH) if os.path.isdir(DATA_PATH+week_dir) and not week_dir.endswith('.ipynb_checkpoints')]\n",
    "print('Amount of extracted weeks: ', len(week_list))"
   ]
  },
  {
   "cell_type": "code",
   "execution_count": 5,
   "id": "85b261a7-7439-4047-ae70-c35f983b65c2",
   "metadata": {},
   "outputs": [
    {
     "name": "stdout",
     "output_type": "stream",
     "text": [
      "['week_01', 'week_02', 'week_03', 'week_04', 'week_05', 'week_06', 'week_07', 'week_08', 'week_09', 'week_10', 'week_11', 'week_12', 'week_pr_01', 'week_pr_02', 'week_13', 'week_14', 'week_15', 'week_16', 'week_17', 'week_pr_03', 'week_18', 'week_19', 'week_20', 'week_21', 'week_pr_04', 'week_22']\n"
     ]
    }
   ],
   "source": [
    "week_list.sort()\n",
    "week_list.remove('week_pr_01')\n",
    "week_list.insert(week_list.index('week_12')+1, 'week_pr_01')\n",
    "week_list.remove('week_pr_02')\n",
    "week_list.insert(week_list.index('week_pr_01')+1, 'week_pr_02')\n",
    "week_list.remove('week_pr_03')\n",
    "week_list.insert(week_list.index('week_17')+1, 'week_pr_03')\n",
    "week_list.remove('week_pr_04')\n",
    "week_list.insert(week_list.index('week_21')+1, 'week_pr_04')\n",
    "\n",
    "print(week_list)"
   ]
  },
  {
   "cell_type": "code",
   "execution_count": 4,
   "id": "8e47ff6a-dfff-4554-85d4-c65c74d0d205",
   "metadata": {},
   "outputs": [],
   "source": [
    "# hashtag groups\n",
    "neutral_hashtags = ['cpidacovid', 'cpidapandemia', 'covid19', 'cpidacovid19','brasil']\n",
    "agt_cpi_hashtags = ['renanvagabundo', 'cpidocirco', 'renansabiadetudo', 'euautorizopresidente', 'cpidotse', 'bolsonaropresidenteate2026']\n",
    "pro_cpi_hashtags = ['cpidogenocidio', 'forabolsonaro', 'forabolsonarogenocida', 'bolsonarogenocida', '29mforabolsonaro', '3jforabolsonaro']\n",
    "selected_hashtags = neutral_hashtags+agt_cpi_hashtags+pro_cpi_hashtags"
   ]
  },
  {
   "cell_type": "code",
   "execution_count": 5,
   "id": "6ec58eb1-8c51-49be-b6e0-e9a24f7bd703",
   "metadata": {},
   "outputs": [
    {
     "data": {
      "text/plain": [
       "['cpidacovid',\n",
       " 'cpidapandemia',\n",
       " 'covid19',\n",
       " 'cpidacovid19',\n",
       " 'brasil',\n",
       " 'renanvagabundo',\n",
       " 'cpidocirco',\n",
       " 'renansabiadetudo',\n",
       " 'euautorizopresidente',\n",
       " 'cpidotse',\n",
       " 'bolsonaropresidenteate2026',\n",
       " 'cpidogenocidio',\n",
       " 'forabolsonaro',\n",
       " 'forabolsonarogenocida',\n",
       " 'bolsonarogenocida',\n",
       " '29mforabolsonaro',\n",
       " '3jforabolsonaro']"
      ]
     },
     "execution_count": 5,
     "metadata": {},
     "output_type": "execute_result"
    }
   ],
   "source": [
    "selected_hashtags"
   ]
  },
  {
   "cell_type": "code",
   "execution_count": 6,
   "id": "043dc591-ceee-4d60-b5bf-4bb742b944a7",
   "metadata": {},
   "outputs": [],
   "source": [
    "split_tts = []\n",
    "columns = ['author', 'user_description', 'tweet', 'hashtags']"
   ]
  },
  {
   "cell_type": "code",
   "execution_count": 7,
   "id": "9d91f70e-f51b-4975-ba08-e10e827faca6",
   "metadata": {},
   "outputs": [
    {
     "name": "stdout",
     "output_type": "stream",
     "text": [
      "Starting week_22:\n",
      "\n",
      "    Finished week_22:\n",
      "    Total number of tweets: 83870\n",
      "    \n",
      "\n",
      "    \n"
     ]
    }
   ],
   "source": [
    "for week in week_list:\n",
    "    print(f'Starting {week}:')\n",
    "    week_df = pd.read_parquet(f'{DATA_PATH+week}/merged_{week}.parquet')\n",
    "    for idx, tweet in week_df.iterrows():\n",
    "        tt_fields = []\n",
    "        user = eval(tweet['user'])\n",
    "        hashtags = eval(tweet['hashtags'])\n",
    "        if hashtags and not set(selected_hashtags).isdisjoint(hashtags):\n",
    "            split_tts.append([user['username'], user['description'], tweet['content'], hashtags])            \n",
    "    print(f'''\n",
    "    Finished {week}:\n",
    "    Total number of tweets: {len(split_tts)}\n",
    "    \\n\n",
    "    ''')\n",
    "    clear_output(wait=True)\n",
    "    "
   ]
  },
  {
   "cell_type": "code",
   "execution_count": 8,
   "id": "297b475c-8148-42ef-a676-2d458ea2e425",
   "metadata": {},
   "outputs": [
    {
     "data": {
      "text/plain": [
       "(83101, 4)"
      ]
     },
     "execution_count": 8,
     "metadata": {},
     "output_type": "execute_result"
    }
   ],
   "source": [
    "split_tt_df = pd.DataFrame(columns=columns, data=split_tts)\n",
    "split_tt_df.drop_duplicates(subset=['author', 'user_description', 'tweet'], keep='last', inplace=True, ignore_index=True)\n",
    "split_tt_df.shape"
   ]
  },
  {
   "cell_type": "code",
   "execution_count": 9,
   "id": "b5fd038e-a389-4fa2-991b-6de7920522cb",
   "metadata": {},
   "outputs": [
    {
     "data": {
      "text/html": [
       "<div>\n",
       "<style scoped>\n",
       "    .dataframe tbody tr th:only-of-type {\n",
       "        vertical-align: middle;\n",
       "    }\n",
       "\n",
       "    .dataframe tbody tr th {\n",
       "        vertical-align: top;\n",
       "    }\n",
       "\n",
       "    .dataframe thead th {\n",
       "        text-align: right;\n",
       "    }\n",
       "</style>\n",
       "<table border=\"1\" class=\"dataframe\">\n",
       "  <thead>\n",
       "    <tr style=\"text-align: right;\">\n",
       "      <th></th>\n",
       "      <th>author</th>\n",
       "      <th>user_description</th>\n",
       "      <th>tweet</th>\n",
       "      <th>hashtags</th>\n",
       "    </tr>\n",
       "  </thead>\n",
       "  <tbody>\n",
       "    <tr>\n",
       "      <th>0</th>\n",
       "      <td>FelipeFogal</td>\n",
       "      <td>Se mudar a cor da grama, eleitor do bolsonazi ...</td>\n",
       "      <td>@Collor caiu por causa de uma Elba... @dilmabr...</td>\n",
       "      <td>[imbecil, genocida, assassino, miliciano, bols...</td>\n",
       "    </tr>\n",
       "    <tr>\n",
       "      <th>1</th>\n",
       "      <td>silasfiorotti</td>\n",
       "      <td>Doutor em Antropologia (USP) | Pesquisador | P...</td>\n",
       "      <td>O papel da igreja é denunciar e combater todos...</td>\n",
       "      <td>[evangélicos, bolsonarogenocida, foragenocida,...</td>\n",
       "    </tr>\n",
       "    <tr>\n",
       "      <th>2</th>\n",
       "      <td>silasfiorotti</td>\n",
       "      <td>Doutor em Antropologia (USP) | Pesquisador | P...</td>\n",
       "      <td>O papel da igreja é denunciar e combater todos...</td>\n",
       "      <td>[evangélicos, bolsonarogenocida, foragenocida,...</td>\n",
       "    </tr>\n",
       "    <tr>\n",
       "      <th>3</th>\n",
       "      <td>silasfiorotti</td>\n",
       "      <td>Doutor em Antropologia (USP) | Pesquisador | P...</td>\n",
       "      <td>\"A 6 dias do fim, abril se torna o mês mais le...</td>\n",
       "      <td>[bolsonarogenocida, impeachmentja, foragenocida]</td>\n",
       "    </tr>\n",
       "    <tr>\n",
       "      <th>4</th>\n",
       "      <td>DiasSalles1</td>\n",
       "      <td>Humildade</td>\n",
       "      <td>@ZeRicardoAM Que chegue logo 2022.\\n#MPdoApaga...</td>\n",
       "      <td>[MPdoApagao, cpidacovid, SalveaEnergia]</td>\n",
       "    </tr>\n",
       "  </tbody>\n",
       "</table>\n",
       "</div>"
      ],
      "text/plain": [
       "          author                                   user_description  \\\n",
       "0    FelipeFogal  Se mudar a cor da grama, eleitor do bolsonazi ...   \n",
       "1  silasfiorotti  Doutor em Antropologia (USP) | Pesquisador | P...   \n",
       "2  silasfiorotti  Doutor em Antropologia (USP) | Pesquisador | P...   \n",
       "3  silasfiorotti  Doutor em Antropologia (USP) | Pesquisador | P...   \n",
       "4    DiasSalles1                                          Humildade   \n",
       "\n",
       "                                               tweet  \\\n",
       "0  @Collor caiu por causa de uma Elba... @dilmabr...   \n",
       "1  O papel da igreja é denunciar e combater todos...   \n",
       "2  O papel da igreja é denunciar e combater todos...   \n",
       "3  \"A 6 dias do fim, abril se torna o mês mais le...   \n",
       "4  @ZeRicardoAM Que chegue logo 2022.\\n#MPdoApaga...   \n",
       "\n",
       "                                            hashtags  \n",
       "0  [imbecil, genocida, assassino, miliciano, bols...  \n",
       "1  [evangélicos, bolsonarogenocida, foragenocida,...  \n",
       "2  [evangélicos, bolsonarogenocida, foragenocida,...  \n",
       "3   [bolsonarogenocida, impeachmentja, foragenocida]  \n",
       "4            [MPdoApagao, cpidacovid, SalveaEnergia]  "
      ]
     },
     "execution_count": 9,
     "metadata": {},
     "output_type": "execute_result"
    }
   ],
   "source": [
    "split_tt_df.head()"
   ]
  },
  {
   "cell_type": "code",
   "execution_count": 10,
   "id": "028c10ec-3252-4a5e-bfb8-44b545c8fca4",
   "metadata": {},
   "outputs": [],
   "source": [
    "split_tt_df.to_parquet(DATA_PATH+'selected_tt_split.parquet', index=False)\n",
    "del(split_tt_df)"
   ]
  },
  {
   "cell_type": "markdown",
   "id": "8ecde71c-b4e7-4726-8163-3f13369c3281",
   "metadata": {},
   "source": [
    "## Social Network Graph"
   ]
  },
  {
   "cell_type": "code",
   "execution_count": 5,
   "id": "11b11a74-1b68-478f-b139-e12827a1be8a",
   "metadata": {},
   "outputs": [
    {
     "data": {
      "text/plain": [
       "33586"
      ]
     },
     "execution_count": 5,
     "metadata": {},
     "output_type": "execute_result"
    }
   ],
   "source": [
    "tt_df = pd.read_parquet(DATA_PATH+'selected_tt_split.parquet')\n",
    "usr_list = list(tt_df['author'].value_counts().index)\n",
    "len(usr_list)"
   ]
  },
  {
   "cell_type": "code",
   "execution_count": 6,
   "id": "221147f1-2cd7-4caf-b6d3-71cf3c2e1875",
   "metadata": {},
   "outputs": [],
   "source": [
    "# loading the complete network graph\n",
    "tt_network = nx.read_gexf('data/networks/complete_network.gexf')"
   ]
  },
  {
   "cell_type": "code",
   "execution_count": 7,
   "id": "d98be079-b76b-4a39-a63d-d0fcb9389205",
   "metadata": {},
   "outputs": [],
   "source": [
    "nodes = []"
   ]
  },
  {
   "cell_type": "code",
   "execution_count": 8,
   "id": "45e51a83-b824-4cd8-a6b9-85829792fd78",
   "metadata": {},
   "outputs": [],
   "source": [
    "edges = []"
   ]
  },
  {
   "cell_type": "code",
   "execution_count": 9,
   "id": "3111f8c6-ed83-41b7-9f13-a7e862e30f59",
   "metadata": {},
   "outputs": [
    {
     "name": "stdout",
     "output_type": "stream",
     "text": [
      "325154 nodes processed, 0 to go...\n"
     ]
    }
   ],
   "source": [
    "count = 0\n",
    "nodes_len = len(list(tt_network.nodes()))\n",
    "for usr, data in list(tt_network.nodes(data=True)):\n",
    "    clear_output(wait=False)\n",
    "    if usr not in nodes and usr in usr_list:\n",
    "        nodes.append((usr, data['tt_id'], data['description']))\n",
    "    count += 1\n",
    "    print(f'{count} nodes processed, {nodes_len-count} to go...')"
   ]
  },
  {
   "cell_type": "code",
   "execution_count": 10,
   "id": "ea1d5538-c2cd-469a-a7a4-c5bee30f0c39",
   "metadata": {},
   "outputs": [
    {
     "data": {
      "text/plain": [
       "19965"
      ]
     },
     "execution_count": 10,
     "metadata": {},
     "output_type": "execute_result"
    }
   ],
   "source": [
    "len(nodes)"
   ]
  },
  {
   "cell_type": "code",
   "execution_count": 11,
   "id": "ff452b14-e608-4fa7-9e70-24b687943869",
   "metadata": {},
   "outputs": [],
   "source": [
    "G = nx.MultiDiGraph()"
   ]
  },
  {
   "cell_type": "code",
   "execution_count": 12,
   "id": "ac2c326f-c45d-4768-ac45-e78bc379556b",
   "metadata": {},
   "outputs": [
    {
     "data": {
      "text/plain": [
       "19965"
      ]
     },
     "execution_count": 12,
     "metadata": {},
     "output_type": "execute_result"
    }
   ],
   "source": [
    "for usr, tt_id, desc in nodes:\n",
    "    G.add_node(usr, twitter_id=tt_id, description=desc)\n",
    "len(G.nodes())"
   ]
  },
  {
   "cell_type": "code",
   "execution_count": 14,
   "id": "9fbb5ec3-db99-4cad-a0de-178a86e04930",
   "metadata": {},
   "outputs": [],
   "source": [
    "nx.write_gexf(G, \"data/networks/split_tt_nodes.gexf\")"
   ]
  },
  {
   "cell_type": "code",
   "execution_count": 15,
   "id": "c014d0e7-e57f-45a6-94a6-f583877187b2",
   "metadata": {},
   "outputs": [
    {
     "name": "stdout",
     "output_type": "stream",
     "text": [
      "5869 edges finished, 1699138 to go...\n"
     ]
    },
    {
     "ename": "KeyboardInterrupt",
     "evalue": "",
     "output_type": "error",
     "traceback": [
      "\u001b[1;31m---------------------------------------------------------------------------\u001b[0m",
      "\u001b[1;31mKeyboardInterrupt\u001b[0m                         Traceback (most recent call last)",
      "\u001b[1;32m~\\AppData\\Local\\Temp/ipykernel_14844/3353962934.py\u001b[0m in \u001b[0;36m<module>\u001b[1;34m\u001b[0m\n\u001b[0;32m      3\u001b[0m \u001b[0medges_len\u001b[0m \u001b[1;33m=\u001b[0m \u001b[0mlen\u001b[0m\u001b[1;33m(\u001b[0m\u001b[0mlist\u001b[0m\u001b[1;33m(\u001b[0m\u001b[0mtt_network\u001b[0m\u001b[1;33m.\u001b[0m\u001b[0medges\u001b[0m\u001b[1;33m(\u001b[0m\u001b[1;33m)\u001b[0m\u001b[1;33m)\u001b[0m\u001b[1;33m)\u001b[0m\u001b[1;33m\u001b[0m\u001b[1;33m\u001b[0m\u001b[0m\n\u001b[0;32m      4\u001b[0m \u001b[1;32mfor\u001b[0m \u001b[0msrc\u001b[0m\u001b[1;33m,\u001b[0m \u001b[0mtgt\u001b[0m\u001b[1;33m,\u001b[0m \u001b[0mdata\u001b[0m \u001b[1;32min\u001b[0m \u001b[0mlist\u001b[0m\u001b[1;33m(\u001b[0m\u001b[0mtt_network\u001b[0m\u001b[1;33m.\u001b[0m\u001b[0medges\u001b[0m\u001b[1;33m(\u001b[0m\u001b[0mdata\u001b[0m\u001b[1;33m=\u001b[0m\u001b[1;32mTrue\u001b[0m\u001b[1;33m)\u001b[0m\u001b[1;33m)\u001b[0m\u001b[1;33m:\u001b[0m\u001b[1;33m\u001b[0m\u001b[1;33m\u001b[0m\u001b[0m\n\u001b[1;32m----> 5\u001b[1;33m     \u001b[0mclear_output\u001b[0m\u001b[1;33m(\u001b[0m\u001b[0mwait\u001b[0m\u001b[1;33m=\u001b[0m\u001b[1;32mFalse\u001b[0m\u001b[1;33m)\u001b[0m\u001b[1;33m\u001b[0m\u001b[1;33m\u001b[0m\u001b[0m\n\u001b[0m\u001b[0;32m      6\u001b[0m     \u001b[1;32mif\u001b[0m \u001b[0msrc\u001b[0m \u001b[1;32min\u001b[0m \u001b[0mnodes_temp\u001b[0m \u001b[1;32mand\u001b[0m \u001b[0mtgt\u001b[0m \u001b[1;32min\u001b[0m \u001b[0mnodes_temp\u001b[0m\u001b[1;33m:\u001b[0m\u001b[1;33m\u001b[0m\u001b[1;33m\u001b[0m\u001b[0m\n\u001b[0;32m      7\u001b[0m         \u001b[0medges\u001b[0m\u001b[1;33m.\u001b[0m\u001b[0mappend\u001b[0m\u001b[1;33m(\u001b[0m\u001b[1;33m(\u001b[0m\u001b[0msrc\u001b[0m\u001b[1;33m,\u001b[0m \u001b[0mtgt\u001b[0m\u001b[1;33m,\u001b[0m \u001b[0mdata\u001b[0m\u001b[1;33m[\u001b[0m\u001b[1;34m'interac_type'\u001b[0m\u001b[1;33m]\u001b[0m\u001b[1;33m)\u001b[0m\u001b[1;33m)\u001b[0m\u001b[1;33m\u001b[0m\u001b[1;33m\u001b[0m\u001b[0m\n",
      "\u001b[1;32m~\\anaconda3\\envs\\twitter-cpi\\lib\\site-packages\\IPython\\core\\display.py\u001b[0m in \u001b[0;36mclear_output\u001b[1;34m(wait)\u001b[0m\n\u001b[0;32m   1469\u001b[0m     \u001b[1;32mfrom\u001b[0m \u001b[0mIPython\u001b[0m\u001b[1;33m.\u001b[0m\u001b[0mcore\u001b[0m\u001b[1;33m.\u001b[0m\u001b[0minteractiveshell\u001b[0m \u001b[1;32mimport\u001b[0m \u001b[0mInteractiveShell\u001b[0m\u001b[1;33m\u001b[0m\u001b[1;33m\u001b[0m\u001b[0m\n\u001b[0;32m   1470\u001b[0m     \u001b[1;32mif\u001b[0m \u001b[0mInteractiveShell\u001b[0m\u001b[1;33m.\u001b[0m\u001b[0minitialized\u001b[0m\u001b[1;33m(\u001b[0m\u001b[1;33m)\u001b[0m\u001b[1;33m:\u001b[0m\u001b[1;33m\u001b[0m\u001b[1;33m\u001b[0m\u001b[0m\n\u001b[1;32m-> 1471\u001b[1;33m         \u001b[0mInteractiveShell\u001b[0m\u001b[1;33m.\u001b[0m\u001b[0minstance\u001b[0m\u001b[1;33m(\u001b[0m\u001b[1;33m)\u001b[0m\u001b[1;33m.\u001b[0m\u001b[0mdisplay_pub\u001b[0m\u001b[1;33m.\u001b[0m\u001b[0mclear_output\u001b[0m\u001b[1;33m(\u001b[0m\u001b[0mwait\u001b[0m\u001b[1;33m)\u001b[0m\u001b[1;33m\u001b[0m\u001b[1;33m\u001b[0m\u001b[0m\n\u001b[0m\u001b[0;32m   1472\u001b[0m     \u001b[1;32melse\u001b[0m\u001b[1;33m:\u001b[0m\u001b[1;33m\u001b[0m\u001b[1;33m\u001b[0m\u001b[0m\n\u001b[0;32m   1473\u001b[0m         \u001b[0mprint\u001b[0m\u001b[1;33m(\u001b[0m\u001b[1;34m'\\033[2K\\r'\u001b[0m\u001b[1;33m,\u001b[0m \u001b[0mend\u001b[0m\u001b[1;33m=\u001b[0m\u001b[1;34m''\u001b[0m\u001b[1;33m)\u001b[0m\u001b[1;33m\u001b[0m\u001b[1;33m\u001b[0m\u001b[0m\n",
      "\u001b[1;32m~\\anaconda3\\envs\\twitter-cpi\\lib\\site-packages\\ipykernel\\zmqshell.py\u001b[0m in \u001b[0;36mclear_output\u001b[1;34m(self, wait)\u001b[0m\n\u001b[0;32m    152\u001b[0m         \"\"\"\n\u001b[0;32m    153\u001b[0m         \u001b[0mcontent\u001b[0m \u001b[1;33m=\u001b[0m \u001b[0mdict\u001b[0m\u001b[1;33m(\u001b[0m\u001b[0mwait\u001b[0m\u001b[1;33m=\u001b[0m\u001b[0mwait\u001b[0m\u001b[1;33m)\u001b[0m\u001b[1;33m\u001b[0m\u001b[1;33m\u001b[0m\u001b[0m\n\u001b[1;32m--> 154\u001b[1;33m         \u001b[0mself\u001b[0m\u001b[1;33m.\u001b[0m\u001b[0m_flush_streams\u001b[0m\u001b[1;33m(\u001b[0m\u001b[1;33m)\u001b[0m\u001b[1;33m\u001b[0m\u001b[1;33m\u001b[0m\u001b[0m\n\u001b[0m\u001b[0;32m    155\u001b[0m         self.session.send(\n\u001b[0;32m    156\u001b[0m             \u001b[0mself\u001b[0m\u001b[1;33m.\u001b[0m\u001b[0mpub_socket\u001b[0m\u001b[1;33m,\u001b[0m \u001b[1;34m'clear_output'\u001b[0m\u001b[1;33m,\u001b[0m \u001b[0mcontent\u001b[0m\u001b[1;33m,\u001b[0m\u001b[1;33m\u001b[0m\u001b[1;33m\u001b[0m\u001b[0m\n",
      "\u001b[1;32m~\\anaconda3\\envs\\twitter-cpi\\lib\\site-packages\\ipykernel\\zmqshell.py\u001b[0m in \u001b[0;36m_flush_streams\u001b[1;34m(self)\u001b[0m\n\u001b[0;32m     70\u001b[0m     \u001b[1;32mdef\u001b[0m \u001b[0m_flush_streams\u001b[0m\u001b[1;33m(\u001b[0m\u001b[0mself\u001b[0m\u001b[1;33m)\u001b[0m\u001b[1;33m:\u001b[0m\u001b[1;33m\u001b[0m\u001b[1;33m\u001b[0m\u001b[0m\n\u001b[0;32m     71\u001b[0m         \u001b[1;34m\"\"\"flush IO Streams prior to display\"\"\"\u001b[0m\u001b[1;33m\u001b[0m\u001b[1;33m\u001b[0m\u001b[0m\n\u001b[1;32m---> 72\u001b[1;33m         \u001b[0msys\u001b[0m\u001b[1;33m.\u001b[0m\u001b[0mstdout\u001b[0m\u001b[1;33m.\u001b[0m\u001b[0mflush\u001b[0m\u001b[1;33m(\u001b[0m\u001b[1;33m)\u001b[0m\u001b[1;33m\u001b[0m\u001b[1;33m\u001b[0m\u001b[0m\n\u001b[0m\u001b[0;32m     73\u001b[0m         \u001b[0msys\u001b[0m\u001b[1;33m.\u001b[0m\u001b[0mstderr\u001b[0m\u001b[1;33m.\u001b[0m\u001b[0mflush\u001b[0m\u001b[1;33m(\u001b[0m\u001b[1;33m)\u001b[0m\u001b[1;33m\u001b[0m\u001b[1;33m\u001b[0m\u001b[0m\n\u001b[0;32m     74\u001b[0m \u001b[1;33m\u001b[0m\u001b[0m\n",
      "\u001b[1;32m~\\anaconda3\\envs\\twitter-cpi\\lib\\site-packages\\ipykernel\\iostream.py\u001b[0m in \u001b[0;36mflush\u001b[1;34m(self)\u001b[0m\n\u001b[0;32m    454\u001b[0m                 \u001b[0mself\u001b[0m\u001b[1;33m.\u001b[0m\u001b[0mpub_thread\u001b[0m\u001b[1;33m.\u001b[0m\u001b[0mschedule\u001b[0m\u001b[1;33m(\u001b[0m\u001b[0mevt\u001b[0m\u001b[1;33m.\u001b[0m\u001b[0mset\u001b[0m\u001b[1;33m)\u001b[0m\u001b[1;33m\u001b[0m\u001b[1;33m\u001b[0m\u001b[0m\n\u001b[0;32m    455\u001b[0m                 \u001b[1;31m# and give a timeout to avoid\u001b[0m\u001b[1;33m\u001b[0m\u001b[1;33m\u001b[0m\u001b[0m\n\u001b[1;32m--> 456\u001b[1;33m                 \u001b[1;32mif\u001b[0m \u001b[1;32mnot\u001b[0m \u001b[0mevt\u001b[0m\u001b[1;33m.\u001b[0m\u001b[0mwait\u001b[0m\u001b[1;33m(\u001b[0m\u001b[0mself\u001b[0m\u001b[1;33m.\u001b[0m\u001b[0mflush_timeout\u001b[0m\u001b[1;33m)\u001b[0m\u001b[1;33m:\u001b[0m\u001b[1;33m\u001b[0m\u001b[1;33m\u001b[0m\u001b[0m\n\u001b[0m\u001b[0;32m    457\u001b[0m                     \u001b[1;31m# write directly to __stderr__ instead of warning because\u001b[0m\u001b[1;33m\u001b[0m\u001b[1;33m\u001b[0m\u001b[0m\n\u001b[0;32m    458\u001b[0m                     \u001b[1;31m# if this is happening sys.stderr may be the problem.\u001b[0m\u001b[1;33m\u001b[0m\u001b[1;33m\u001b[0m\u001b[0m\n",
      "\u001b[1;32m~\\anaconda3\\envs\\twitter-cpi\\lib\\threading.py\u001b[0m in \u001b[0;36mwait\u001b[1;34m(self, timeout)\u001b[0m\n\u001b[0;32m    572\u001b[0m             \u001b[0msignaled\u001b[0m \u001b[1;33m=\u001b[0m \u001b[0mself\u001b[0m\u001b[1;33m.\u001b[0m\u001b[0m_flag\u001b[0m\u001b[1;33m\u001b[0m\u001b[1;33m\u001b[0m\u001b[0m\n\u001b[0;32m    573\u001b[0m             \u001b[1;32mif\u001b[0m \u001b[1;32mnot\u001b[0m \u001b[0msignaled\u001b[0m\u001b[1;33m:\u001b[0m\u001b[1;33m\u001b[0m\u001b[1;33m\u001b[0m\u001b[0m\n\u001b[1;32m--> 574\u001b[1;33m                 \u001b[0msignaled\u001b[0m \u001b[1;33m=\u001b[0m \u001b[0mself\u001b[0m\u001b[1;33m.\u001b[0m\u001b[0m_cond\u001b[0m\u001b[1;33m.\u001b[0m\u001b[0mwait\u001b[0m\u001b[1;33m(\u001b[0m\u001b[0mtimeout\u001b[0m\u001b[1;33m)\u001b[0m\u001b[1;33m\u001b[0m\u001b[1;33m\u001b[0m\u001b[0m\n\u001b[0m\u001b[0;32m    575\u001b[0m             \u001b[1;32mreturn\u001b[0m \u001b[0msignaled\u001b[0m\u001b[1;33m\u001b[0m\u001b[1;33m\u001b[0m\u001b[0m\n\u001b[0;32m    576\u001b[0m \u001b[1;33m\u001b[0m\u001b[0m\n",
      "\u001b[1;32m~\\anaconda3\\envs\\twitter-cpi\\lib\\threading.py\u001b[0m in \u001b[0;36mwait\u001b[1;34m(self, timeout)\u001b[0m\n\u001b[0;32m    314\u001b[0m             \u001b[1;32melse\u001b[0m\u001b[1;33m:\u001b[0m\u001b[1;33m\u001b[0m\u001b[1;33m\u001b[0m\u001b[0m\n\u001b[0;32m    315\u001b[0m                 \u001b[1;32mif\u001b[0m \u001b[0mtimeout\u001b[0m \u001b[1;33m>\u001b[0m \u001b[1;36m0\u001b[0m\u001b[1;33m:\u001b[0m\u001b[1;33m\u001b[0m\u001b[1;33m\u001b[0m\u001b[0m\n\u001b[1;32m--> 316\u001b[1;33m                     \u001b[0mgotit\u001b[0m \u001b[1;33m=\u001b[0m \u001b[0mwaiter\u001b[0m\u001b[1;33m.\u001b[0m\u001b[0macquire\u001b[0m\u001b[1;33m(\u001b[0m\u001b[1;32mTrue\u001b[0m\u001b[1;33m,\u001b[0m \u001b[0mtimeout\u001b[0m\u001b[1;33m)\u001b[0m\u001b[1;33m\u001b[0m\u001b[1;33m\u001b[0m\u001b[0m\n\u001b[0m\u001b[0;32m    317\u001b[0m                 \u001b[1;32melse\u001b[0m\u001b[1;33m:\u001b[0m\u001b[1;33m\u001b[0m\u001b[1;33m\u001b[0m\u001b[0m\n\u001b[0;32m    318\u001b[0m                     \u001b[0mgotit\u001b[0m \u001b[1;33m=\u001b[0m \u001b[0mwaiter\u001b[0m\u001b[1;33m.\u001b[0m\u001b[0macquire\u001b[0m\u001b[1;33m(\u001b[0m\u001b[1;32mFalse\u001b[0m\u001b[1;33m)\u001b[0m\u001b[1;33m\u001b[0m\u001b[1;33m\u001b[0m\u001b[0m\n",
      "\u001b[1;31mKeyboardInterrupt\u001b[0m: "
     ]
    }
   ],
   "source": [
    "nodes_temp = list(G.nodes())\n",
    "count = 0\n",
    "edges_len = len(list(tt_network.edges()))\n",
    "for src, tgt, data in list(tt_network.edges(data=True)):\n",
    "    clear_output(wait=False)\n",
    "    if src in nodes_temp and tgt in nodes_temp:\n",
    "        edges.append((src, tgt, data['interac_type']))\n",
    "    count += 1\n",
    "    print(f'{count} edges finished, {edges_len-count} to go...')\n",
    "del(nodes_temp)"
   ]
  },
  {
   "cell_type": "code",
   "execution_count": null,
   "id": "01f67780-8a0b-4271-ba65-27761b0c5bb0",
   "metadata": {},
   "outputs": [],
   "source": [
    "len(edges)"
   ]
  },
  {
   "cell_type": "code",
   "execution_count": null,
   "id": "4bcb8755-1e97-4ba5-93a4-c30aff034404",
   "metadata": {},
   "outputs": [],
   "source": [
    "pd.DataFrame(data=edges, columns=['source', 'target', 'type']).value_counts()"
   ]
  },
  {
   "cell_type": "code",
   "execution_count": null,
   "id": "7e68038e-0647-44c0-9793-7df085332064",
   "metadata": {},
   "outputs": [],
   "source": [
    "for src, tgt, int_type in edges:\n",
    "    G.add_edge(src, tgt, interaction_type=int_type)"
   ]
  },
  {
   "cell_type": "code",
   "execution_count": null,
   "id": "d7d3a946-1540-4947-8bce-8169750f035e",
   "metadata": {},
   "outputs": [],
   "source": [
    "print(f'''\n",
    "Number of nodes: {len(list(G.nodes()))}\n",
    "Number of edges: {len(list(G.edges()))}\n",
    "''')"
   ]
  }
 ],
 "metadata": {
  "kernelspec": {
   "display_name": "Python 3 (ipykernel)",
   "language": "python",
   "name": "python3"
  },
  "language_info": {
   "codemirror_mode": {
    "name": "ipython",
    "version": 3
   },
   "file_extension": ".py",
   "mimetype": "text/x-python",
   "name": "python",
   "nbconvert_exporter": "python",
   "pygments_lexer": "ipython3",
   "version": "3.9.7"
  }
 },
 "nbformat": 4,
 "nbformat_minor": 5
}

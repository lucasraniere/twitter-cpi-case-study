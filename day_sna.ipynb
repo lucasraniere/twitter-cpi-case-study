{
 "cells": [
  {
   "cell_type": "markdown",
   "id": "ad1f29fb-93d2-437f-8991-692174d7278c",
   "metadata": {},
   "source": [
    "# __Daily Social Network Analysis__"
   ]
  },
  {
   "cell_type": "code",
   "execution_count": 1,
   "id": "495c9ecb-2acc-400e-b43c-46fba1a3259f",
   "metadata": {},
   "outputs": [],
   "source": [
    "import datetime\n",
    "import pandas as pd\n",
    "import networkx as nx\n",
    "import matplotlib.pyplot as plt\n",
    "%matplotlib widget"
   ]
  },
  {
   "cell_type": "code",
   "execution_count": 2,
   "id": "ada5b369-861f-4ef6-97ea-95bd5b7ef40f",
   "metadata": {},
   "outputs": [
    {
     "data": {
      "text/plain": [
       "(131549, 27)"
      ]
     },
     "execution_count": 2,
     "metadata": {},
     "output_type": "execute_result"
    }
   ],
   "source": [
    "h_df = pd.read_parquet('data/tweets/week_05/day_7_2021-05-29_hashtags_ext.parquet')\n",
    "h_df.shape"
   ]
  },
  {
   "cell_type": "code",
   "execution_count": 3,
   "id": "b520c8ee-2317-4d0f-81b3-bb43d4c3c82d",
   "metadata": {},
   "outputs": [
    {
     "name": "stdout",
     "output_type": "stream",
     "text": [
      "21983 nodes...\n"
     ]
    }
   ],
   "source": [
    "G = nx.MultiDiGraph()\n",
    "nodes = []\n",
    "# adding nodes\n",
    "interaction_df = h_df.query(\"inReplyToUser != 'None' or quotedTweet != 'None'\")[['user', 'inReplyToUser', 'quotedTweet']]\n",
    "\n",
    "#for user in h_df['user']:\n",
    "for user in interaction_df['user']:\n",
    "    user = eval(user)\n",
    "    node = (user['username'], user['description'])\n",
    "    if node not in nodes:\n",
    "        nodes.append(node)\n",
    "        \n",
    "print(f'{len(nodes)} nodes...')"
   ]
  },
  {
   "cell_type": "code",
   "execution_count": 4,
   "id": "03879757-79f5-417f-851e-011ecb284af7",
   "metadata": {},
   "outputs": [
    {
     "data": {
      "text/plain": [
       "[('eliserohrig', {'description': ''}),\n",
       " ('AssisMartinsBM', {'description': 'Bolsonaro 2022 - Presidente do Brasil'}),\n",
       " ('Sergio29562298',\n",
       "  {'description': 'Sempre uma nova descoberta. A cada dia um novo aprendizado.'}),\n",
       " ('ErikakHilton',\n",
       "  {'description': 'Mulher negra, trans, militante.\\nPresidenta da Comissão de Direitos Humanos da Câmara de SP.\\n\\nA Vereadora + votada do Brasil em 2020. #VidasNegrasImportam #PSOL'}),\n",
       " ('B51Syrena',\n",
       "  {'description': 'Sou Bolsonaro da cabeça aos pés. Não respondo DM 🇧🇼🇧🇼🇧🇼🇧🇼🇧🇼🇧🇼🇧🇼🇧🇼🇧🇼'})]"
      ]
     },
     "execution_count": 4,
     "metadata": {},
     "output_type": "execute_result"
    }
   ],
   "source": [
    "for node in nodes:\n",
    "    G.add_node(node[0], description=node[1])\n",
    "    \n",
    "list(G.nodes(data=True))[:5]"
   ]
  },
  {
   "cell_type": "code",
   "execution_count": 5,
   "id": "9ae1dfa5-09c4-4c93-8804-ece332dc12a5",
   "metadata": {},
   "outputs": [
    {
     "data": {
      "text/plain": [
       "(63736, 3)"
      ]
     },
     "execution_count": 5,
     "metadata": {},
     "output_type": "execute_result"
    }
   ],
   "source": [
    "interaction_df = h_df.query(\"inReplyToUser != 'None' or quotedTweet != 'None'\")[['user', 'inReplyToUser', 'quotedTweet']]\n",
    "interaction_df['user'] = interaction_df['user'].map(lambda x: eval(x))\n",
    "interaction_df['inReplyToUser'] = interaction_df['inReplyToUser'].map(lambda x: eval(x))\n",
    "interaction_df['quotedTweet'] = interaction_df['quotedTweet'].map(lambda x: eval(x))\n",
    "\n",
    "interaction_df.shape"
   ]
  },
  {
   "cell_type": "code",
   "execution_count": 6,
   "id": "91ae77d0-93ad-446e-84a4-84d8fd73086a",
   "metadata": {},
   "outputs": [
    {
     "data": {
      "text/plain": [
       "63942"
      ]
     },
     "execution_count": 6,
     "metadata": {},
     "output_type": "execute_result"
    }
   ],
   "source": [
    "edges = []\n",
    "\n",
    "for i in range(interaction_df.shape[0]):\n",
    "    intr = interaction_df.iloc[i]\n",
    "    if intr['inReplyToUser']:\n",
    "        edges.append((intr['user']['username'], intr['inReplyToUser']['username'], 'reply'))\n",
    "    if intr['quotedTweet']:\n",
    "        edges.append((intr['user']['username'], intr['quotedTweet']['user']['username'], 'retweet'))\n",
    "\n",
    "len(edges)"
   ]
  },
  {
   "cell_type": "code",
   "execution_count": 7,
   "id": "7c3e4729-ed7b-4ada-8cdf-b301bf0d2aae",
   "metadata": {},
   "outputs": [
    {
     "data": {
      "text/plain": [
       "(luizcarlosprsp, MariaCleideque1, reply)    100\n",
       "(brasildefato, brasildefato, reply)          58\n",
       "(Susan_Blum, Susan_Blum, retweet)            55\n",
       "(ANTIBOLSONARO16, OABurgos, reply)           35\n",
       "(vasilva1971, MaryamSCI, reply)              32\n",
       "                                           ... \n",
       "(vvecchi, nadanovonofront, reply)             1\n",
       "(kezya_95, BuzzFeedBrasil, reply)             1\n",
       "(Malutrin2018, rvianna, reply)                1\n",
       "(Lisete97371827, solac1991, reply)            1\n",
       "(el_cardozito, nisisatanas, reply)            1\n",
       "Length: 57243, dtype: int64"
      ]
     },
     "execution_count": 7,
     "metadata": {},
     "output_type": "execute_result"
    }
   ],
   "source": [
    "edges_count = pd.Series(edges).value_counts()\n",
    "edges_count"
   ]
  },
  {
   "cell_type": "code",
   "execution_count": 8,
   "id": "645fa7a9-61bc-48f8-a7d1-cb0bc9c902c4",
   "metadata": {},
   "outputs": [
    {
     "data": {
      "text/plain": [
       "[('luizcarlosprsp', 'MariaCleideque1', 'reply', 100),\n",
       " ('brasildefato', 'brasildefato', 'reply', 58),\n",
       " ('Susan_Blum', 'Susan_Blum', 'retweet', 55),\n",
       " ('ANTIBOLSONARO16', 'OABurgos', 'reply', 35),\n",
       " ('vasilva1971', 'MaryamSCI', 'reply', 32)]"
      ]
     },
     "execution_count": 8,
     "metadata": {},
     "output_type": "execute_result"
    }
   ],
   "source": [
    "weighted_edges = []\n",
    "\n",
    "for i in range(edges_count.shape[0]):\n",
    "    weighted_edges.append(edges_count.index[i]+(edges_count.values[i],))\n",
    "    \n",
    "weighted_edges[:5]"
   ]
  },
  {
   "cell_type": "code",
   "execution_count": 9,
   "id": "03d3a213-933f-44a4-be3d-d6906f8c7e8c",
   "metadata": {},
   "outputs": [
    {
     "data": {
      "text/plain": [
       "[('eliserohrig', 'ccandradeRJ', {'weight': 2, 'int_type': 'reply'}),\n",
       " ('eliserohrig', 'UOLNoticias', {'weight': 1, 'int_type': 'retweet'}),\n",
       " ('eliserohrig', 'wasdanna', {'weight': 1, 'int_type': 'reply'}),\n",
       " ('AssisMartinsBM', 'AndreRayol1', {'weight': 1, 'int_type': 'reply'}),\n",
       " ('AssisMartinsBM', 'biiacst_', {'weight': 1, 'int_type': 'reply'}),\n",
       " ('AssisMartinsBM', 'g1', {'weight': 1, 'int_type': 'reply'}),\n",
       " ('AssisMartinsBM', 'mfriasoficial', {'weight': 1, 'int_type': 'reply'}),\n",
       " ('AssisMartinsBM', 'EspiritoQue', {'weight': 1, 'int_type': 'reply'}),\n",
       " ('Sergio29562298', 'GuilhermeBoulos', {'weight': 1, 'int_type': 'reply'}),\n",
       " ('ErikakHilton', 'ErikakHilton', {'weight': 1, 'int_type': 'reply'})]"
      ]
     },
     "execution_count": 9,
     "metadata": {},
     "output_type": "execute_result"
    }
   ],
   "source": [
    "# adding edges\n",
    "for edge in weighted_edges:\n",
    "    G.add_edge(edge[0], edge[1], weight=edge[3], int_type=edge[2])\n",
    "    \n",
    "list(G.edges(data=True))[:10]"
   ]
  },
  {
   "cell_type": "code",
   "execution_count": 10,
   "id": "4bb8c1d4-1315-4946-a854-d996287a28fb",
   "metadata": {},
   "outputs": [
    {
     "data": {
      "text/plain": [
       "[('eliserohrig', 'ccandradeRJ', {'weight': 2, 'int_type': 'reply'}),\n",
       " ('eliserohrig', 'wasdanna', {'weight': 1, 'int_type': 'reply'}),\n",
       " ('ccandradeRJ', 'eliserohrig', {'weight': 2, 'int_type': 'reply'}),\n",
       " ('ccandradeRJ', 'isamelissams', {'weight': 1, 'int_type': 'reply'}),\n",
       " ('ccandradeRJ', 'liberdade_ldr', {'weight': 1, 'int_type': 'reply'}),\n",
       " ('ccandradeRJ', 'CarlosS48442375', {'weight': 1, 'int_type': 'reply'}),\n",
       " ('ccandradeRJ', 'MaClara14373139', {'weight': 1, 'int_type': 'reply'}),\n",
       " ('ccandradeRJ', 'denise47613384', {'weight': 1, 'int_type': 'reply'}),\n",
       " ('ccandradeRJ', 'MarcosQuezado1', {'weight': 1, 'int_type': 'reply'}),\n",
       " ('ccandradeRJ', 'Rconstantino', {'weight': 1, 'int_type': 'reply'})]"
      ]
     },
     "execution_count": 10,
     "metadata": {},
     "output_type": "execute_result"
    }
   ],
   "source": [
    "G_reply = nx.MultiDiGraph((source, target, attr) for source, target, attr in G.edges(data=True) if attr['int_type'] == 'reply')\n",
    "G_rt = nx.MultiDiGraph((source, target, attr) for source, target, attr in G.edges(data=True) if attr['int_type'] == 'retweet')\n",
    "\n",
    "list(G_reply.edges(data=True))[:10]"
   ]
  },
  {
   "cell_type": "code",
   "execution_count": 12,
   "id": "3936a000-885a-469e-a9dd-00252bc9a502",
   "metadata": {},
   "outputs": [
    {
     "data": {
      "text/plain": [
       "19547"
      ]
     },
     "execution_count": 12,
     "metadata": {},
     "output_type": "execute_result"
    }
   ],
   "source": [
    "len(G_reply)"
   ]
  },
  {
   "cell_type": "code",
   "execution_count": 13,
   "id": "c8e5cee3-5b68-4590-a3f5-25442dea7cbd",
   "metadata": {},
   "outputs": [
    {
     "data": {
      "text/plain": [
       "[('eliserohrig', 'UOLNoticias', {'weight': 1, 'int_type': 'retweet'}),\n",
       " ('ErikakHilton', 'kerlinecardoso', {'weight': 1, 'int_type': 'retweet'}),\n",
       " ('B51Syrena', 'fcspjr81', {'weight': 1, 'int_type': 'retweet'}),\n",
       " ('B51Syrena', 'profcabarros', {'weight': 1, 'int_type': 'retweet'}),\n",
       " ('B51Syrena', 'OAntagoniza11', {'weight': 1, 'int_type': 'retweet'}),\n",
       " ('yamaokaro', 'rosedbarros', {'weight': 1, 'int_type': 'retweet'}),\n",
       " ('yamaokaro', 'AleGZahra38', {'weight': 1, 'int_type': 'retweet'}),\n",
       " ('yamaokaro', 'marcusPITTERnew', {'weight': 1, 'int_type': 'retweet'}),\n",
       " ('yamaokaro', 'verdeamarelou', {'weight': 1, 'int_type': 'retweet'}),\n",
       " ('a_lima74', 'renatosimoespt', {'weight': 1, 'int_type': 'retweet'})]"
      ]
     },
     "execution_count": 13,
     "metadata": {},
     "output_type": "execute_result"
    }
   ],
   "source": [
    "list(G_rt.edges(data=True))[:10]"
   ]
  },
  {
   "cell_type": "code",
   "execution_count": 14,
   "id": "e58d78d1-16b8-44a1-81cc-dad26e17aeb0",
   "metadata": {},
   "outputs": [
    {
     "data": {
      "text/plain": [
       "14248"
      ]
     },
     "execution_count": 14,
     "metadata": {},
     "output_type": "execute_result"
    }
   ],
   "source": [
    "len(G_rt)"
   ]
  },
  {
   "cell_type": "markdown",
   "id": "8c71581e-64c4-44b7-b8bb-5f1d8a979901",
   "metadata": {},
   "source": [
    "## __Social Network Metrics__"
   ]
  },
  {
   "cell_type": "markdown",
   "id": "fdc55f59-dd4f-40ea-aa64-acb78dbb981d",
   "metadata": {},
   "source": [
    "### Nodes Indegree"
   ]
  },
  {
   "cell_type": "code",
   "execution_count": 15,
   "id": "12acc55a-5309-4e97-99bb-05a651e87237",
   "metadata": {},
   "outputs": [
    {
     "data": {
      "text/plain": [
       "[('kimpaim', 675),\n",
       " ('juliette', 479),\n",
       " ('taoquei1', 413),\n",
       " ('MidiaNINJA', 393),\n",
       " ('jandira_feghali', 367),\n",
       " ('samiabomfim', 364),\n",
       " ('folha', 348),\n",
       " ('GuilhermeBoulos', 319),\n",
       " ('MarceloFreixo', 310),\n",
       " ('mjmacul_lima', 308)]"
      ]
     },
     "execution_count": 15,
     "metadata": {},
     "output_type": "execute_result"
    }
   ],
   "source": [
    "# reply network nodes indegree\n",
    "sorted(G_reply.in_degree, key=lambda x: x[1], reverse=True)[:10]"
   ]
  },
  {
   "cell_type": "code",
   "execution_count": 16,
   "id": "ec70e5ca-1249-43c8-91f9-153e70bae745",
   "metadata": {},
   "outputs": [
    {
     "data": {
      "text/plain": [
       "[('MidiaNINJA', 1290),\n",
       " ('samiabomfim', 361),\n",
       " ('GuilhermeBoulos', 331),\n",
       " ('ErikakHilton', 243),\n",
       " ('uneoficial', 214),\n",
       " ('J_LIVRES', 203),\n",
       " ('GilDoVigor', 201),\n",
       " ('RenanPeixoto_', 199),\n",
       " ('GeorgMarques', 196),\n",
       " ('jairmearrependi', 180)]"
      ]
     },
     "execution_count": 16,
     "metadata": {},
     "output_type": "execute_result"
    }
   ],
   "source": [
    "# retweet network nodes indegree\n",
    "sorted(G_rt.in_degree, key=lambda x: x[1], reverse=True)[:10]"
   ]
  },
  {
   "cell_type": "markdown",
   "id": "73dcd807-69f0-4ea1-995a-8558a8850be0",
   "metadata": {},
   "source": [
    "### Network Density"
   ]
  },
  {
   "cell_type": "code",
   "execution_count": 17,
   "id": "a3296cec-e4f8-46ff-8bf4-317710fc8885",
   "metadata": {},
   "outputs": [
    {
     "data": {
      "text/plain": [
       "'0.000092'"
      ]
     },
     "execution_count": 17,
     "metadata": {},
     "output_type": "execute_result"
    }
   ],
   "source": [
    "format(nx.density(G_reply), 'f')"
   ]
  },
  {
   "cell_type": "code",
   "execution_count": 18,
   "id": "067a2912-9b45-47fe-af17-68f4928f3bba",
   "metadata": {},
   "outputs": [
    {
     "data": {
      "text/plain": [
       "0.0001096155590071328"
      ]
     },
     "execution_count": 18,
     "metadata": {},
     "output_type": "execute_result"
    }
   ],
   "source": [
    "nx.density(G_rt)"
   ]
  },
  {
   "cell_type": "markdown",
   "id": "ba908842-4a07-4233-bc39-35ed8a55e7e6",
   "metadata": {},
   "source": [
    "### __Community Detection__"
   ]
  },
  {
   "cell_type": "code",
   "execution_count": 25,
   "id": "9d4fb347-f754-4f27-b077-d3dce2ee3a50",
   "metadata": {},
   "outputs": [],
   "source": [
    "#rt_commun = list(greedy_modularity_communities(G_rt))\n",
    "#len(rt_commun)"
   ]
  },
  {
   "cell_type": "code",
   "execution_count": 24,
   "id": "139de0c7-308c-4c75-90cc-bdbca1859e6e",
   "metadata": {},
   "outputs": [
    {
     "data": {
      "application/vnd.jupyter.widget-view+json": {
       "model_id": "0b6b33d5ec2948eda0ea241ef0b85c27",
       "version_major": 2,
       "version_minor": 0
      },
      "text/plain": [
       "Canvas(toolbar=Toolbar(toolitems=[('Home', 'Reset original view', 'home', 'home'), ('Back', 'Back to previous …"
      ]
     },
     "metadata": {},
     "output_type": "display_data"
    }
   ],
   "source": [
    "plt.figure(figsize=(15,10))\n",
    "\n",
    "node_size = [0.01*G_rt.in_degree[v] for v in G_rt]\n",
    "pos = nx.spring_layout(G_rt, k=0.15, iterations=20)\n",
    "nx.draw_networkx(\n",
    "    G_rt,\n",
    "    pos,\n",
    "    with_labels=False,\n",
    "    alpha=0.8,\n",
    "    node_size=node_size\n",
    ")\n",
    "plt.axis('off')\n",
    "plt.tight_layout()\n",
    "plt.show()"
   ]
  }
 ],
 "metadata": {
  "kernelspec": {
   "display_name": "twitter-cpi",
   "language": "python",
   "name": "twitter-cpi"
  },
  "language_info": {
   "codemirror_mode": {
    "name": "ipython",
    "version": 3
   },
   "file_extension": ".py",
   "mimetype": "text/x-python",
   "name": "python",
   "nbconvert_exporter": "python",
   "pygments_lexer": "ipython3",
   "version": "3.9.7"
  }
 },
 "nbformat": 4,
 "nbformat_minor": 5
}

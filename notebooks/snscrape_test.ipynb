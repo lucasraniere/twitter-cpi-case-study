{
 "cells": [
  {
   "cell_type": "code",
   "execution_count": 1,
   "id": "58ad0e04-4094-43cc-bcaf-cc02b3671360",
   "metadata": {},
   "outputs": [],
   "source": [
    "import snscrape.modules.twitter as sntwitter\n",
    "import pandas as pd\n",
    "import itertools"
   ]
  },
  {
   "cell_type": "code",
   "execution_count": 2,
   "id": "c95b7642-3183-4a78-b1a6-c65b53f34494",
   "metadata": {},
   "outputs": [],
   "source": [
    "tweets_list2 = []\n",
    "\n",
    "for i,tweet in enumerate(sntwitter.TwitterSearchScraper('covid AND cpi since:2021-04-27 until:2021-04-28').get_items()):\n",
    "    if i>500:\n",
    "        break\n",
    "    tweets_list2.append([tweet.date, tweet.id, tweet.content, tweet.user.username])\n",
    "\n",
    "tweets_df2 = pd.DataFrame(tweets_list2, columns=['Datetime', 'Tweet Id', 'Text', 'Username'])"
   ]
  },
  {
   "cell_type": "code",
   "execution_count": 3,
   "id": "05694852-f299-4b2d-b5eb-5760b90b708f",
   "metadata": {},
   "outputs": [
    {
     "data": {
      "text/html": [
       "<div>\n",
       "<style scoped>\n",
       "    .dataframe tbody tr th:only-of-type {\n",
       "        vertical-align: middle;\n",
       "    }\n",
       "\n",
       "    .dataframe tbody tr th {\n",
       "        vertical-align: top;\n",
       "    }\n",
       "\n",
       "    .dataframe thead th {\n",
       "        text-align: right;\n",
       "    }\n",
       "</style>\n",
       "<table border=\"1\" class=\"dataframe\">\n",
       "  <thead>\n",
       "    <tr style=\"text-align: right;\">\n",
       "      <th></th>\n",
       "      <th>Datetime</th>\n",
       "      <th>Tweet Id</th>\n",
       "      <th>Text</th>\n",
       "      <th>Username</th>\n",
       "    </tr>\n",
       "  </thead>\n",
       "  <tbody>\n",
       "    <tr>\n",
       "      <th>0</th>\n",
       "      <td>2021-04-27 23:59:35+00:00</td>\n",
       "      <td>1387194748016922624</td>\n",
       "      <td>Vejo as notícias sobre a CPI da Covid e só con...</td>\n",
       "      <td>boozimmermann</td>\n",
       "    </tr>\n",
       "    <tr>\n",
       "      <th>1</th>\n",
       "      <td>2021-04-27 23:59:05+00:00</td>\n",
       "      <td>1387194623739764742</td>\n",
       "      <td>Parece q no lugar de 1 CPI, criaram 1 https://...</td>\n",
       "      <td>almirsenasouza1</td>\n",
       "    </tr>\n",
       "    <tr>\n",
       "      <th>2</th>\n",
       "      <td>2021-04-27 23:58:49+00:00</td>\n",
       "      <td>1387194557188694018</td>\n",
       "      <td>Presidente da Anvisa pode ser ouvido em CPI da...</td>\n",
       "      <td>AldoMartim</td>\n",
       "    </tr>\n",
       "    <tr>\n",
       "      <th>3</th>\n",
       "      <td>2021-04-27 23:58:31+00:00</td>\n",
       "      <td>1387194478994264077</td>\n",
       "      <td>A CPI da Covid está infestada de acusados de c...</td>\n",
       "      <td>mariofortes</td>\n",
       "    </tr>\n",
       "    <tr>\n",
       "      <th>4</th>\n",
       "      <td>2021-04-27 23:58:22+00:00</td>\n",
       "      <td>1387194442193555456</td>\n",
       "      <td>Sei não viu. Parece que @renancalheiros já deu...</td>\n",
       "      <td>leofagundesadv</td>\n",
       "    </tr>\n",
       "    <tr>\n",
       "      <th>...</th>\n",
       "      <td>...</td>\n",
       "      <td>...</td>\n",
       "      <td>...</td>\n",
       "      <td>...</td>\n",
       "    </tr>\n",
       "    <tr>\n",
       "      <th>496</th>\n",
       "      <td>2021-04-27 22:40:19+00:00</td>\n",
       "      <td>1387174802046193666</td>\n",
       "      <td>Nas trevas espirituais, sempre rolaram baladas...</td>\n",
       "      <td>CesarNetoReal</td>\n",
       "    </tr>\n",
       "    <tr>\n",
       "      <th>497</th>\n",
       "      <td>2021-04-27 22:40:06+00:00</td>\n",
       "      <td>1387174745746116616</td>\n",
       "      <td>O petista #HumcertoBosta, membro da CPI da Cov...</td>\n",
       "      <td>NinaLuz23695256</td>\n",
       "    </tr>\n",
       "    <tr>\n",
       "      <th>498</th>\n",
       "      <td>2021-04-27 22:40:00+00:00</td>\n",
       "      <td>1387174719330336775</td>\n",
       "      <td>Boa noite amigos,  só falta a CPI do COVID 19 ...</td>\n",
       "      <td>Sdoliveira9</td>\n",
       "    </tr>\n",
       "    <tr>\n",
       "      <th>499</th>\n",
       "      <td>2021-04-27 22:39:53+00:00</td>\n",
       "      <td>1387174693208211458</td>\n",
       "      <td>@flaviocostaf Depois dessa o g&amp;amp;no vai desp...</td>\n",
       "      <td>HUMBERTONOGUE14</td>\n",
       "    </tr>\n",
       "    <tr>\n",
       "      <th>500</th>\n",
       "      <td>2021-04-27 22:39:37+00:00</td>\n",
       "      <td>1387174625021399040</td>\n",
       "      <td>Opinião do Josias de Souza: CPI da Covid tem p...</td>\n",
       "      <td>UOL</td>\n",
       "    </tr>\n",
       "  </tbody>\n",
       "</table>\n",
       "<p>501 rows × 4 columns</p>\n",
       "</div>"
      ],
      "text/plain": [
       "                     Datetime             Tweet Id  \\\n",
       "0   2021-04-27 23:59:35+00:00  1387194748016922624   \n",
       "1   2021-04-27 23:59:05+00:00  1387194623739764742   \n",
       "2   2021-04-27 23:58:49+00:00  1387194557188694018   \n",
       "3   2021-04-27 23:58:31+00:00  1387194478994264077   \n",
       "4   2021-04-27 23:58:22+00:00  1387194442193555456   \n",
       "..                        ...                  ...   \n",
       "496 2021-04-27 22:40:19+00:00  1387174802046193666   \n",
       "497 2021-04-27 22:40:06+00:00  1387174745746116616   \n",
       "498 2021-04-27 22:40:00+00:00  1387174719330336775   \n",
       "499 2021-04-27 22:39:53+00:00  1387174693208211458   \n",
       "500 2021-04-27 22:39:37+00:00  1387174625021399040   \n",
       "\n",
       "                                                  Text         Username  \n",
       "0    Vejo as notícias sobre a CPI da Covid e só con...    boozimmermann  \n",
       "1    Parece q no lugar de 1 CPI, criaram 1 https://...  almirsenasouza1  \n",
       "2    Presidente da Anvisa pode ser ouvido em CPI da...       AldoMartim  \n",
       "3    A CPI da Covid está infestada de acusados de c...      mariofortes  \n",
       "4    Sei não viu. Parece que @renancalheiros já deu...   leofagundesadv  \n",
       "..                                                 ...              ...  \n",
       "496  Nas trevas espirituais, sempre rolaram baladas...    CesarNetoReal  \n",
       "497  O petista #HumcertoBosta, membro da CPI da Cov...  NinaLuz23695256  \n",
       "498  Boa noite amigos,  só falta a CPI do COVID 19 ...      Sdoliveira9  \n",
       "499  @flaviocostaf Depois dessa o g&amp;no vai desp...  HUMBERTONOGUE14  \n",
       "500  Opinião do Josias de Souza: CPI da Covid tem p...              UOL  \n",
       "\n",
       "[501 rows x 4 columns]"
      ]
     },
     "execution_count": 3,
     "metadata": {},
     "output_type": "execute_result"
    }
   ],
   "source": [
    "tweets_df2"
   ]
  },
  {
   "cell_type": "code",
   "execution_count": 33,
   "id": "7b8a5816-1061-4fc8-a436-b387b7f1247e",
   "metadata": {},
   "outputs": [],
   "source": [
    "df = pd.DataFrame(itertools.islice(sntwitter.TwitterSearchScraper('\"cpi covid lang:pt since:2021-08-18 -filter:nativeretweets\"').get_items(), 100))"
   ]
  },
  {
   "cell_type": "code",
   "execution_count": 34,
   "id": "b7aaebfd-8b72-4090-bff7-30fdd15741c4",
   "metadata": {},
   "outputs": [
    {
     "data": {
      "text/plain": [
       "Index(['url', 'date', 'content', 'renderedContent', 'id', 'user', 'replyCount',\n",
       "       'retweetCount', 'likeCount', 'quoteCount', 'conversationId', 'lang',\n",
       "       'source', 'sourceUrl', 'sourceLabel', 'outlinks', 'tcooutlinks',\n",
       "       'media', 'retweetedTweet', 'quotedTweet', 'inReplyToTweetId',\n",
       "       'inReplyToUser', 'mentionedUsers', 'coordinates', 'place', 'hashtags',\n",
       "       'cashtags'],\n",
       "      dtype='object')"
      ]
     },
     "execution_count": 34,
     "metadata": {},
     "output_type": "execute_result"
    }
   ],
   "source": [
    "df.columns"
   ]
  },
  {
   "cell_type": "code",
   "execution_count": 36,
   "id": "84babdd3-0673-48a7-b54a-35a2e77731a2",
   "metadata": {},
   "outputs": [
    {
     "data": {
      "text/plain": [
       "0       None\n",
       "1       None\n",
       "2       None\n",
       "3       None\n",
       "4     [LULA]\n",
       "       ...  \n",
       "63      None\n",
       "64      None\n",
       "65      None\n",
       "66      None\n",
       "67      None\n",
       "Name: hashtags, Length: 68, dtype: object"
      ]
     },
     "execution_count": 36,
     "metadata": {},
     "output_type": "execute_result"
    }
   ],
   "source": [
    "df['hashtags']"
   ]
  },
  {
   "cell_type": "code",
   "execution_count": 6,
   "id": "eeaf215b-49d3-46b0-9acd-4fd657bcfa6b",
   "metadata": {},
   "outputs": [],
   "source": [
    "tweets_iter = sntwitter.TwitterSearchScraper('#CpiDaCovid').get_items()"
   ]
  },
  {
   "cell_type": "code",
   "execution_count": 7,
   "id": "3eccf012-7b65-4ced-acc6-f769a290152e",
   "metadata": {},
   "outputs": [
    {
     "data": {
      "text/plain": [
       "<generator object TwitterSearchScraper.get_items at 0x7f426e6cc890>"
      ]
     },
     "execution_count": 7,
     "metadata": {},
     "output_type": "execute_result"
    }
   ],
   "source": [
    "tweets_iter"
   ]
  }
 ],
 "metadata": {
  "kernelspec": {
   "display_name": "Python 3",
   "language": "python",
   "name": "python3"
  },
  "language_info": {
   "codemirror_mode": {
    "name": "ipython",
    "version": 3
   },
   "file_extension": ".py",
   "mimetype": "text/x-python",
   "name": "python",
   "nbconvert_exporter": "python",
   "pygments_lexer": "ipython3",
   "version": "3.8.11"
  }
 },
 "nbformat": 4,
 "nbformat_minor": 5
}

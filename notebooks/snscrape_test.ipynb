{
 "cells": [
  {
   "cell_type": "code",
   "execution_count": 8,
   "id": "58ad0e04-4094-43cc-bcaf-cc02b3671360",
   "metadata": {},
   "outputs": [],
   "source": [
    "import snscrape.modules.twitter as sntwitter\n",
    "import pandas as pd\n",
    "import itertools"
   ]
  },
  {
   "cell_type": "code",
   "execution_count": 9,
   "id": "c95b7642-3183-4a78-b1a6-c65b53f34494",
   "metadata": {},
   "outputs": [],
   "source": [
    "tweets_list2 = []\n",
    "\n",
    "for i,tweet in enumerate(sntwitter.TwitterSearchScraper('covid AND cpi since:2021-04-27 until:2021-04-28').get_items()):\n",
    "    if i>100:\n",
    "        break\n",
    "    #tweets_list2.append([tweet.date, tweet.id, tweet.content, tweet.user.username])\n",
    "    tweets_list2.append(tweet)\n",
    "\n",
    "#tweets_df2 = pd.DataFrame(tweets_list2, columns=['Datetime', 'Tweet Id', 'Text', 'Username'])"
   ]
  },
  {
   "cell_type": "code",
   "execution_count": 19,
   "id": "e1d29358-ab9e-4a77-8b22-838970fe7050",
   "metadata": {},
   "outputs": [
    {
     "data": {
      "text/plain": [
       "Tweet(url='https://twitter.com/Luflope/status/1387191250978164736', date=datetime.datetime(2021, 4, 27, 23, 45, 41, tzinfo=datetime.timezone.utc), content='@onyxlorenzoni CPI da Covid, essa e a luz no final do túnel para o impeachment. Oremos!', renderedContent='@onyxlorenzoni CPI da Covid, essa e a luz no final do túnel para o impeachment. Oremos!', id=1387191250978164736, user=User(username='Luflope', id=52577382, displayname='Carla Pedroso 🇧🇷 #forabolsonaro 🇧🇷', description='Estado atual: a favor de todos que são contra o JMB.', rawDescription='Estado atual: a favor de todos que são contra o JMB.', descriptionUrls=None, verified=False, created=datetime.datetime(2009, 7, 1, 0, 41, 12, tzinfo=datetime.timezone.utc), followersCount=331, friendsCount=975, statusesCount=12067, favouritesCount=31816, listedCount=0, mediaCount=204, location='Porto Alegre, Brasil', protected=False, linkUrl=None, linkTcourl=None, profileImageUrl='https://pbs.twimg.com/profile_images/1375606320502607882/dJtlh8Dl_normal.jpg', profileBannerUrl='https://pbs.twimg.com/profile_banners/52577382/1631057270'), replyCount=0, retweetCount=0, likeCount=0, quoteCount=0, conversationId=1387137008968118277, lang='pt', source='<a href=\"http://twitter.com/download/android\" rel=\"nofollow\">Twitter for Android</a>', sourceUrl='http://twitter.com/download/android', sourceLabel='Twitter for Android', outlinks=None, tcooutlinks=None, media=None, retweetedTweet=None, quotedTweet=None, inReplyToTweetId=1387137008968118277, inReplyToUser=User(username='onyxlorenzoni', id=43041690, displayname='Onyx Lorenzoni 🇧🇷', description=None, rawDescription=None, descriptionUrls=None, verified=None, created=None, followersCount=None, friendsCount=None, statusesCount=None, favouritesCount=None, listedCount=None, mediaCount=None, location=None, protected=None, linkUrl=None, linkTcourl=None, profileImageUrl=None, profileBannerUrl=None), mentionedUsers=[User(username='onyxlorenzoni', id=43041690, displayname='Onyx Lorenzoni 🇧🇷', description=None, rawDescription=None, descriptionUrls=None, verified=None, created=None, followersCount=None, friendsCount=None, statusesCount=None, favouritesCount=None, listedCount=None, mediaCount=None, location=None, protected=None, linkUrl=None, linkTcourl=None, profileImageUrl=None, profileBannerUrl=None)], coordinates=None, place=None, hashtags=None, cashtags=None)"
      ]
     },
     "execution_count": 19,
     "metadata": {},
     "output_type": "execute_result"
    }
   ],
   "source": [
    "tweets_list2[99]"
   ]
  },
  {
   "cell_type": "code",
   "execution_count": 47,
   "id": "36f5b0fb-78ee-4a4d-ab48-c10edda41e19",
   "metadata": {},
   "outputs": [],
   "source": [
    "tweets = enumerate(sntwitter.TwitterSearchScraper('magic the gathering lang:pt since:2021-04-27 until:2021-04-28 -filter:retweets').get_items())"
   ]
  },
  {
   "cell_type": "code",
   "execution_count": 48,
   "id": "6f37acb4-3737-41c6-ac40-389c45a38c5d",
   "metadata": {},
   "outputs": [
    {
     "name": "stdout",
     "output_type": "stream",
     "text": [
      "(1387193760434491393, 'https://twitter.com/apenasrebeca/status/1387193760434491393', datetime.datetime(2021, 4, 27, 23, 55, 39, tzinfo=datetime.timezone.utc), 'Tô aqui lembrando qdo ganhei partida de magic the gathering com um deck fuleiro q a pessoa montou com cartas repetidas dela pra mim. Aí a pessoa mudou td deck dela kkkk', 'Tô aqui lembrando qdo ganhei partida de magic the gathering com um deck fuleiro q a pessoa montou com cartas repetidas dela pra mim. Aí a pessoa mudou td deck dela kkkk', 1069631015763759104, 'apenasrebeca', 'Rebeca 🌻', 'uneducated potato', None, False, datetime.datetime(2018, 12, 3, 16, 34, 41, tzinfo=datetime.timezone.utc), 74, 228, 9353, 17265, 0, 703, 'São Paulo, Brasil', False, None, 'https://pbs.twimg.com/profile_images/1414350701933862915/bM_7TWLF_normal.jpg', 'https://pbs.twimg.com/profile_banners/1069631015763759104/1622586434', 0, 0, 0, 0, 1387193760434491393, None, None, None, None, None, None, None, None, None, None)\n"
     ]
    }
   ],
   "source": [
    "for i, tweet in tweets:\n",
    "    if i > 0:\n",
    "        break\n",
    "    print((tweet.id, tweet.url, tweet.date, tweet.content, tweet.renderedContent, tweet.user.id, tweet.user.username, tweet.user.displayname, tweet.user.description,\n",
    "          tweet.user.descriptionUrls, tweet.user.verified, tweet.user.created, tweet.user.followersCount, tweet.user.friendsCount, tweet.user.statusesCount, tweet.user.favouritesCount,\n",
    "          tweet.user.listedCount, tweet.user.mediaCount, tweet.user.location, tweet.user.protected, tweet.user.linkUrl, tweet.user.profileImageUrl, tweet.user.profileBannerUrl,\n",
    "          tweet.replyCount, tweet.retweetCount, tweet.likeCount, tweet.quoteCount, tweet.conversationId, tweet.media, tweet.retweetedTweet, tweet.quotedTweet,\n",
    "          tweet.inReplyToTweetId, tweet.inReplyToUser, tweet.mentionedUsers, tweet.coordinates, tweet.place, tweet.hashtags, tweet.cashtags))"
   ]
  },
  {
   "cell_type": "code",
   "execution_count": 49,
   "id": "bffdb8ba-fd2f-4e12-943d-60b7b21cbec4",
   "metadata": {},
   "outputs": [
    {
     "data": {
      "text/plain": [
       "38"
      ]
     },
     "execution_count": 49,
     "metadata": {},
     "output_type": "execute_result"
    }
   ],
   "source": [
    "columns = ['id', 'url', 'date', 'content', 'rendered_content', 'user_id', 'username', 'user_display_name', 'user_description',\n",
    "          'user_description_urls', 'user_verified', 'user_created', 'user_followers_count', 'user_friends_counts', 'user_status_count', 'user_favourites_count',\n",
    "          'user_listed_count', 'user_media_count', 'user_location', 'user_protected', 'user_url', 'user_profile_pic', 'user_profile_banner',\n",
    "          'reply_count', 'retweet_count', 'like_count', 'quote_count', 'conversation_id', 'media', 'retweeted_tweet', 'quoted_tweet',\n",
    "          'in_reply_to_tweet_id', 'in_reply_to_user', 'mentioned_users', 'coordinates', 'place', 'hashtags', 'cashtags']\n",
    "\n",
    "len(columns)"
   ]
  },
  {
   "cell_type": "code",
   "execution_count": 33,
   "id": "7b8a5816-1061-4fc8-a436-b387b7f1247e",
   "metadata": {},
   "outputs": [],
   "source": [
    "df = pd.DataFrame(itertools.islice(sntwitter.TwitterSearchScraper('\"cpi covid lang:pt since:2021-08-18 -filter:nativeretweets\"').get_items(), 100))"
   ]
  },
  {
   "cell_type": "code",
   "execution_count": 34,
   "id": "b7aaebfd-8b72-4090-bff7-30fdd15741c4",
   "metadata": {},
   "outputs": [
    {
     "data": {
      "text/plain": [
       "Index(['url', 'date', 'content', 'renderedContent', 'id', 'user', 'replyCount',\n",
       "       'retweetCount', 'likeCount', 'quoteCount', 'conversationId', 'lang',\n",
       "       'source', 'sourceUrl', 'sourceLabel', 'outlinks', 'tcooutlinks',\n",
       "       'media', 'retweetedTweet', 'quotedTweet', 'inReplyToTweetId',\n",
       "       'inReplyToUser', 'mentionedUsers', 'coordinates', 'place', 'hashtags',\n",
       "       'cashtags'],\n",
       "      dtype='object')"
      ]
     },
     "execution_count": 34,
     "metadata": {},
     "output_type": "execute_result"
    }
   ],
   "source": [
    "df.columns"
   ]
  },
  {
   "cell_type": "code",
   "execution_count": 36,
   "id": "84babdd3-0673-48a7-b54a-35a2e77731a2",
   "metadata": {},
   "outputs": [
    {
     "data": {
      "text/plain": [
       "0       None\n",
       "1       None\n",
       "2       None\n",
       "3       None\n",
       "4     [LULA]\n",
       "       ...  \n",
       "63      None\n",
       "64      None\n",
       "65      None\n",
       "66      None\n",
       "67      None\n",
       "Name: hashtags, Length: 68, dtype: object"
      ]
     },
     "execution_count": 36,
     "metadata": {},
     "output_type": "execute_result"
    }
   ],
   "source": [
    "df['hashtags']"
   ]
  },
  {
   "cell_type": "code",
   "execution_count": 6,
   "id": "eeaf215b-49d3-46b0-9acd-4fd657bcfa6b",
   "metadata": {},
   "outputs": [],
   "source": [
    "tweets_iter = sntwitter.TwitterSearchScraper('#CpiDaCovid').get_items()"
   ]
  },
  {
   "cell_type": "code",
   "execution_count": 7,
   "id": "3eccf012-7b65-4ced-acc6-f769a290152e",
   "metadata": {},
   "outputs": [
    {
     "data": {
      "text/plain": [
       "<generator object TwitterSearchScraper.get_items at 0x7f426e6cc890>"
      ]
     },
     "execution_count": 7,
     "metadata": {},
     "output_type": "execute_result"
    }
   ],
   "source": [
    "tweets_iter"
   ]
  }
 ],
 "metadata": {
  "kernelspec": {
   "display_name": "Python [conda env:.conda-twitter-cpi] *",
   "language": "python",
   "name": "conda-env-.conda-twitter-cpi-py"
  },
  "language_info": {
   "codemirror_mode": {
    "name": "ipython",
    "version": 3
   },
   "file_extension": ".py",
   "mimetype": "text/x-python",
   "name": "python",
   "nbconvert_exporter": "python",
   "pygments_lexer": "ipython3",
   "version": "3.9.7"
  }
 },
 "nbformat": 4,
 "nbformat_minor": 5
}

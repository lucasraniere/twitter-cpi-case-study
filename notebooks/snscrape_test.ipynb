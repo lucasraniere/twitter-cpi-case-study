{
 "cells": [
  {
   "cell_type": "code",
   "execution_count": 1,
   "id": "58ad0e04-4094-43cc-bcaf-cc02b3671360",
   "metadata": {},
   "outputs": [],
   "source": [
    "import snscrape.modules.twitter as sntwitter\n",
    "import pandas as pd\n",
    "import itertools"
   ]
  },
  {
   "cell_type": "code",
   "execution_count": 9,
   "id": "c95b7642-3183-4a78-b1a6-c65b53f34494",
   "metadata": {},
   "outputs": [],
   "source": [
    "tweets_list2 = []\n",
    "\n",
    "for i,tweet in enumerate(sntwitter.TwitterSearchScraper('covid AND cpi since:2021-04-27 until:2021-04-28').get_items()):\n",
    "    if i>100:\n",
    "        break\n",
    "    #tweets_list2.append([tweet.date, tweet.id, tweet.content, tweet.user.username])\n",
    "    tweets_list2.append(tweet)\n",
    "\n",
    "#tweets_df2 = pd.DataFrame(tweets_list2, columns=['Datetime', 'Tweet Id', 'Text', 'Username'])"
   ]
  },
  {
   "cell_type": "code",
   "execution_count": 19,
   "id": "e1d29358-ab9e-4a77-8b22-838970fe7050",
   "metadata": {},
   "outputs": [
    {
     "data": {
      "text/plain": [
       "Tweet(url='https://twitter.com/Luflope/status/1387191250978164736', date=datetime.datetime(2021, 4, 27, 23, 45, 41, tzinfo=datetime.timezone.utc), content='@onyxlorenzoni CPI da Covid, essa e a luz no final do túnel para o impeachment. Oremos!', renderedContent='@onyxlorenzoni CPI da Covid, essa e a luz no final do túnel para o impeachment. Oremos!', id=1387191250978164736, user=User(username='Luflope', id=52577382, displayname='Carla Pedroso 🇧🇷 #forabolsonaro 🇧🇷', description='Estado atual: a favor de todos que são contra o JMB.', rawDescription='Estado atual: a favor de todos que são contra o JMB.', descriptionUrls=None, verified=False, created=datetime.datetime(2009, 7, 1, 0, 41, 12, tzinfo=datetime.timezone.utc), followersCount=331, friendsCount=975, statusesCount=12067, favouritesCount=31816, listedCount=0, mediaCount=204, location='Porto Alegre, Brasil', protected=False, linkUrl=None, linkTcourl=None, profileImageUrl='https://pbs.twimg.com/profile_images/1375606320502607882/dJtlh8Dl_normal.jpg', profileBannerUrl='https://pbs.twimg.com/profile_banners/52577382/1631057270'), replyCount=0, retweetCount=0, likeCount=0, quoteCount=0, conversationId=1387137008968118277, lang='pt', source='<a href=\"http://twitter.com/download/android\" rel=\"nofollow\">Twitter for Android</a>', sourceUrl='http://twitter.com/download/android', sourceLabel='Twitter for Android', outlinks=None, tcooutlinks=None, media=None, retweetedTweet=None, quotedTweet=None, inReplyToTweetId=1387137008968118277, inReplyToUser=User(username='onyxlorenzoni', id=43041690, displayname='Onyx Lorenzoni 🇧🇷', description=None, rawDescription=None, descriptionUrls=None, verified=None, created=None, followersCount=None, friendsCount=None, statusesCount=None, favouritesCount=None, listedCount=None, mediaCount=None, location=None, protected=None, linkUrl=None, linkTcourl=None, profileImageUrl=None, profileBannerUrl=None), mentionedUsers=[User(username='onyxlorenzoni', id=43041690, displayname='Onyx Lorenzoni 🇧🇷', description=None, rawDescription=None, descriptionUrls=None, verified=None, created=None, followersCount=None, friendsCount=None, statusesCount=None, favouritesCount=None, listedCount=None, mediaCount=None, location=None, protected=None, linkUrl=None, linkTcourl=None, profileImageUrl=None, profileBannerUrl=None)], coordinates=None, place=None, hashtags=None, cashtags=None)"
      ]
     },
     "execution_count": 19,
     "metadata": {},
     "output_type": "execute_result"
    }
   ],
   "source": [
    "tweets_list2[99]"
   ]
  },
  {
   "cell_type": "code",
   "execution_count": 25,
   "id": "786550aa-458b-49ea-a458-aadd31c0ee57",
   "metadata": {},
   "outputs": [],
   "source": [
    "tweets_en = enumerate(sntwitter.TwitterSearchScraper('magic the gathering since:2021-04-27 until:2021-04-28').get_items())"
   ]
  },
  {
   "cell_type": "code",
   "execution_count": 26,
   "id": "bc6798f0-5c1f-4216-8803-738c7869317c",
   "metadata": {},
   "outputs": [],
   "source": [
    "tweets_df = pd.DataFrame(tweets_en)"
   ]
  },
  {
   "cell_type": "code",
   "execution_count": 29,
   "id": "ff7cdf12-52cb-41aa-8a04-1f822b72adfb",
   "metadata": {},
   "outputs": [
    {
     "data": {
      "text/html": [
       "<div>\n",
       "<style scoped>\n",
       "    .dataframe tbody tr th:only-of-type {\n",
       "        vertical-align: middle;\n",
       "    }\n",
       "\n",
       "    .dataframe tbody tr th {\n",
       "        vertical-align: top;\n",
       "    }\n",
       "\n",
       "    .dataframe thead th {\n",
       "        text-align: right;\n",
       "    }\n",
       "</style>\n",
       "<table border=\"1\" class=\"dataframe\">\n",
       "  <thead>\n",
       "    <tr style=\"text-align: right;\">\n",
       "      <th></th>\n",
       "      <th>0</th>\n",
       "      <th>1</th>\n",
       "    </tr>\n",
       "  </thead>\n",
       "  <tbody>\n",
       "    <tr>\n",
       "      <th>0</th>\n",
       "      <td>0</td>\n",
       "      <td>https://twitter.com/HydraheadHunter/status/138...</td>\n",
       "    </tr>\n",
       "    <tr>\n",
       "      <th>1</th>\n",
       "      <td>1</td>\n",
       "      <td>https://twitter.com/auscryptolife/status/13871...</td>\n",
       "    </tr>\n",
       "    <tr>\n",
       "      <th>2</th>\n",
       "      <td>2</td>\n",
       "      <td>https://twitter.com/apenasrebeca/status/138719...</td>\n",
       "    </tr>\n",
       "    <tr>\n",
       "      <th>3</th>\n",
       "      <td>3</td>\n",
       "      <td>https://twitter.com/cryptow1re/status/13871921...</td>\n",
       "    </tr>\n",
       "    <tr>\n",
       "      <th>4</th>\n",
       "      <td>4</td>\n",
       "      <td>https://twitter.com/theworknfire/status/138719...</td>\n",
       "    </tr>\n",
       "  </tbody>\n",
       "</table>\n",
       "</div>"
      ],
      "text/plain": [
       "   0                                                  1\n",
       "0  0  https://twitter.com/HydraheadHunter/status/138...\n",
       "1  1  https://twitter.com/auscryptolife/status/13871...\n",
       "2  2  https://twitter.com/apenasrebeca/status/138719...\n",
       "3  3  https://twitter.com/cryptow1re/status/13871921...\n",
       "4  4  https://twitter.com/theworknfire/status/138719..."
      ]
     },
     "execution_count": 29,
     "metadata": {},
     "output_type": "execute_result"
    }
   ],
   "source": [
    "tweets_df.head()"
   ]
  },
  {
   "cell_type": "code",
   "execution_count": 47,
   "id": "36f5b0fb-78ee-4a4d-ab48-c10edda41e19",
   "metadata": {},
   "outputs": [],
   "source": [
    "tweets = enumerate(sntwitter.TwitterSearchScraper('magic the gathering lang:pt since:2021-04-27 until:2021-04-28 -filter:retweets').get_items())"
   ]
  },
  {
   "cell_type": "code",
   "execution_count": 48,
   "id": "6f37acb4-3737-41c6-ac40-389c45a38c5d",
   "metadata": {},
   "outputs": [
    {
     "name": "stdout",
     "output_type": "stream",
     "text": [
      "(1387193760434491393, 'https://twitter.com/apenasrebeca/status/1387193760434491393', datetime.datetime(2021, 4, 27, 23, 55, 39, tzinfo=datetime.timezone.utc), 'Tô aqui lembrando qdo ganhei partida de magic the gathering com um deck fuleiro q a pessoa montou com cartas repetidas dela pra mim. Aí a pessoa mudou td deck dela kkkk', 'Tô aqui lembrando qdo ganhei partida de magic the gathering com um deck fuleiro q a pessoa montou com cartas repetidas dela pra mim. Aí a pessoa mudou td deck dela kkkk', 1069631015763759104, 'apenasrebeca', 'Rebeca 🌻', 'uneducated potato', None, False, datetime.datetime(2018, 12, 3, 16, 34, 41, tzinfo=datetime.timezone.utc), 74, 228, 9353, 17265, 0, 703, 'São Paulo, Brasil', False, None, 'https://pbs.twimg.com/profile_images/1414350701933862915/bM_7TWLF_normal.jpg', 'https://pbs.twimg.com/profile_banners/1069631015763759104/1622586434', 0, 0, 0, 0, 1387193760434491393, None, None, None, None, None, None, None, None, None, None)\n"
     ]
    }
   ],
   "source": [
    "for i, tweet in tweets:\n",
    "    if i > 0:\n",
    "        break\n",
    "    print((tweet.id, tweet.url, tweet.date, tweet.content, tweet.renderedContent, tweet.user.id, tweet.user.username, tweet.user.displayname, tweet.user.description,\n",
    "          tweet.user.descriptionUrls, tweet.user.verified, tweet.user.created, tweet.user.followersCount, tweet.user.friendsCount, tweet.user.statusesCount, tweet.user.favouritesCount,\n",
    "          tweet.user.listedCount, tweet.user.mediaCount, tweet.user.location, tweet.user.protected, tweet.user.linkUrl, tweet.user.profileImageUrl, tweet.user.profileBannerUrl,\n",
    "          tweet.replyCount, tweet.retweetCount, tweet.likeCount, tweet.quoteCount, tweet.conversationId, tweet.media, tweet.retweetedTweet, tweet.quotedTweet,\n",
    "          tweet.inReplyToTweetId, tweet.inReplyToUser, tweet.mentionedUsers, tweet.coordinates, tweet.place, tweet.hashtags, tweet.cashtags))"
   ]
  },
  {
   "cell_type": "code",
   "execution_count": 49,
   "id": "bffdb8ba-fd2f-4e12-943d-60b7b21cbec4",
   "metadata": {},
   "outputs": [
    {
     "data": {
      "text/plain": [
       "38"
      ]
     },
     "execution_count": 49,
     "metadata": {},
     "output_type": "execute_result"
    }
   ],
   "source": [
    "columns = ['id', 'url', 'date', 'content', 'rendered_content', 'user_id', 'username', 'user_display_name', 'user_description',\n",
    "          'user_description_urls', 'user_verified', 'user_created', 'user_followers_count', 'user_friends_counts', 'user_status_count', 'user_favourites_count',\n",
    "          'user_listed_count', 'user_media_count', 'user_location', 'user_protected', 'user_url', 'user_profile_pic', 'user_profile_banner',\n",
    "          'reply_count', 'retweet_count', 'like_count', 'quote_count', 'conversation_id', 'media', 'retweeted_tweet', 'quoted_tweet',\n",
    "          'in_reply_to_tweet_id', 'in_reply_to_user', 'mentioned_users', 'coordinates', 'place', 'hashtags', 'cashtags']\n",
    "\n",
    "len(columns)"
   ]
  },
  {
   "cell_type": "code",
   "execution_count": 42,
   "id": "7b8a5816-1061-4fc8-a436-b387b7f1247e",
   "metadata": {},
   "outputs": [],
   "source": [
    "df = pd.DataFrame(itertools.islice(sntwitter.TwitterSearchScraper('magic the gathering lang:pt since:2021-04-27 until:2021-04-28 -filter:retweets').get_items(), None))"
   ]
  },
  {
   "cell_type": "code",
   "execution_count": 88,
   "id": "b833affb-6e86-4cb3-ad32-7d21e99d8539",
   "metadata": {},
   "outputs": [
    {
     "data": {
      "text/plain": [
       "'2021-04-27 23:55:39'"
      ]
     },
     "execution_count": 88,
     "metadata": {},
     "output_type": "execute_result"
    }
   ],
   "source": [
    "df['date'][0].strftime(\"%Y-%m-%d %H:%M:%S\")"
   ]
  },
  {
   "cell_type": "code",
   "execution_count": 102,
   "id": "8fb6088a-317d-4f5a-886b-2849fa4c5bc3",
   "metadata": {},
   "outputs": [],
   "source": [
    "df_str = df.astype(str)\n",
    "df_str.to_parquet('test.parquet')"
   ]
  },
  {
   "cell_type": "code",
   "execution_count": 43,
   "id": "b7aaebfd-8b72-4090-bff7-30fdd15741c4",
   "metadata": {},
   "outputs": [
    {
     "data": {
      "text/plain": [
       "Index(['url', 'date', 'content', 'renderedContent', 'id', 'user', 'replyCount',\n",
       "       'retweetCount', 'likeCount', 'quoteCount', 'conversationId', 'lang',\n",
       "       'source', 'sourceUrl', 'sourceLabel', 'outlinks', 'tcooutlinks',\n",
       "       'media', 'retweetedTweet', 'quotedTweet', 'inReplyToTweetId',\n",
       "       'inReplyToUser', 'mentionedUsers', 'coordinates', 'place', 'hashtags',\n",
       "       'cashtags'],\n",
       "      dtype='object')"
      ]
     },
     "execution_count": 43,
     "metadata": {},
     "output_type": "execute_result"
    }
   ],
   "source": [
    "df.columns"
   ]
  },
  {
   "cell_type": "code",
   "execution_count": 62,
   "id": "9ecf188c-6509-4ba6-9dc3-4cf5b741d71d",
   "metadata": {},
   "outputs": [
    {
     "data": {
      "text/plain": [
       "{'username': 'joaoqnts',\n",
       " 'id': 2939062066,\n",
       " 'displayname': 'joao qnts',\n",
       " 'description': None,\n",
       " 'rawDescription': None,\n",
       " 'descriptionUrls': None,\n",
       " 'verified': None,\n",
       " 'created': None,\n",
       " 'followersCount': None,\n",
       " 'friendsCount': None,\n",
       " 'statusesCount': None,\n",
       " 'favouritesCount': None,\n",
       " 'listedCount': None,\n",
       " 'mediaCount': None,\n",
       " 'location': None,\n",
       " 'protected': None,\n",
       " 'linkUrl': None,\n",
       " 'linkTcourl': None,\n",
       " 'profileImageUrl': None,\n",
       " 'profileBannerUrl': None}"
      ]
     },
     "execution_count": 62,
     "metadata": {},
     "output_type": "execute_result"
    }
   ],
   "source": [
    "df['inReplyToUser'][5]"
   ]
  },
  {
   "cell_type": "code",
   "execution_count": 64,
   "id": "04ce05b8-a76c-4903-bc1e-9feca886c8c2",
   "metadata": {},
   "outputs": [
    {
     "data": {
      "text/plain": [
       "[{'username': 'joaoqnts',\n",
       "  'id': 2939062066,\n",
       "  'displayname': 'joao qnts',\n",
       "  'description': None,\n",
       "  'rawDescription': None,\n",
       "  'descriptionUrls': None,\n",
       "  'verified': None,\n",
       "  'created': None,\n",
       "  'followersCount': None,\n",
       "  'friendsCount': None,\n",
       "  'statusesCount': None,\n",
       "  'favouritesCount': None,\n",
       "  'listedCount': None,\n",
       "  'mediaCount': None,\n",
       "  'location': None,\n",
       "  'protected': None,\n",
       "  'linkUrl': None,\n",
       "  'linkTcourl': None,\n",
       "  'profileImageUrl': None,\n",
       "  'profileBannerUrl': None},\n",
       " {'username': 'hey_mika',\n",
       "  'id': 14270103,\n",
       "  'displayname': 'mikannn',\n",
       "  'description': None,\n",
       "  'rawDescription': None,\n",
       "  'descriptionUrls': None,\n",
       "  'verified': None,\n",
       "  'created': None,\n",
       "  'followersCount': None,\n",
       "  'friendsCount': None,\n",
       "  'statusesCount': None,\n",
       "  'favouritesCount': None,\n",
       "  'listedCount': None,\n",
       "  'mediaCount': None,\n",
       "  'location': None,\n",
       "  'protected': None,\n",
       "  'linkUrl': None,\n",
       "  'linkTcourl': None,\n",
       "  'profileImageUrl': None,\n",
       "  'profileBannerUrl': None}]"
      ]
     },
     "execution_count": 64,
     "metadata": {},
     "output_type": "execute_result"
    }
   ],
   "source": [
    "df['mentionedUsers'][5]"
   ]
  },
  {
   "cell_type": "code",
   "execution_count": 17,
   "id": "705620e5-c187-4b07-b8d0-7f8ebcdf296a",
   "metadata": {},
   "outputs": [],
   "source": [
    "df.to_csv('teste.csv', index=False)"
   ]
  },
  {
   "cell_type": "code",
   "execution_count": 71,
   "id": "eeaf215b-49d3-46b0-9acd-4fd657bcfa6b",
   "metadata": {},
   "outputs": [],
   "source": [
    "df2 = pd.read_csv('teste.csv')"
   ]
  },
  {
   "cell_type": "code",
   "execution_count": 76,
   "id": "3eccf012-7b65-4ced-acc6-f769a290152e",
   "metadata": {},
   "outputs": [
    {
     "data": {
      "text/plain": [
       "[{'username': 'Uruburoxo1',\n",
       "  'id': 1401729657477685250,\n",
       "  'displayname': 'Uruburoxo Zamir🚩🚩🚩🇧🇷🚩🚩🚩',\n",
       "  'description': None,\n",
       "  'rawDescription': None,\n",
       "  'descriptionUrls': None,\n",
       "  'verified': None,\n",
       "  'created': None,\n",
       "  'followersCount': None,\n",
       "  'friendsCount': None,\n",
       "  'statusesCount': None,\n",
       "  'favouritesCount': None,\n",
       "  'listedCount': None,\n",
       "  'mediaCount': None,\n",
       "  'location': None,\n",
       "  'protected': None,\n",
       "  'linkUrl': None,\n",
       "  'linkTcourl': None,\n",
       "  'profileImageUrl': None,\n",
       "  'profileBannerUrl': None}]"
      ]
     },
     "execution_count": 76,
     "metadata": {},
     "output_type": "execute_result"
    }
   ],
   "source": [
    "eval(df2['mentionedUsers'][0])"
   ]
  },
  {
   "cell_type": "code",
   "execution_count": 85,
   "id": "2361f649-d7a5-4e0c-b074-dc197a9d52ff",
   "metadata": {},
   "outputs": [],
   "source": [
    "df2['mentionedUsers'] = df2['mentionedUsers'].map(lambda x: eval(x))"
   ]
  },
  {
   "cell_type": "code",
   "execution_count": 86,
   "id": "366dc10f-61e5-4735-b5c2-71e957f79290",
   "metadata": {},
   "outputs": [
    {
     "data": {
      "text/plain": [
       "[{'username': 'Uruburoxo1',\n",
       "  'id': 1401729657477685250,\n",
       "  'displayname': 'Uruburoxo Zamir🚩🚩🚩🇧🇷🚩🚩🚩',\n",
       "  'description': None,\n",
       "  'rawDescription': None,\n",
       "  'descriptionUrls': None,\n",
       "  'verified': None,\n",
       "  'created': None,\n",
       "  'followersCount': None,\n",
       "  'friendsCount': None,\n",
       "  'statusesCount': None,\n",
       "  'favouritesCount': None,\n",
       "  'listedCount': None,\n",
       "  'mediaCount': None,\n",
       "  'location': None,\n",
       "  'protected': None,\n",
       "  'linkUrl': None,\n",
       "  'linkTcourl': None,\n",
       "  'profileImageUrl': None,\n",
       "  'profileBannerUrl': None}]"
      ]
     },
     "execution_count": 86,
     "metadata": {},
     "output_type": "execute_result"
    }
   ],
   "source": [
    "df2['mentionedUsers'][0]"
   ]
  },
  {
   "cell_type": "code",
   "execution_count": 111,
   "id": "a65eaf9e-567a-4e7d-afd7-ed9e303e270b",
   "metadata": {},
   "outputs": [],
   "source": [
    "parquet_df = pd.read_parquet('../data/tweets/week_1/day_1_2021-04-25_hashtags_ext.parquet')"
   ]
  },
  {
   "cell_type": "code",
   "execution_count": 118,
   "id": "4255e6f3-1b13-47e5-9a21-59be29dae389",
   "metadata": {},
   "outputs": [
    {
     "data": {
      "text/plain": [
       "{'username': 'DepGuigaPeixoto',\n",
       " 'id': 1180221367884681216,\n",
       " 'displayname': 'Guiga Peixoto',\n",
       " 'description': None,\n",
       " 'rawDescription': None,\n",
       " 'descriptionUrls': None,\n",
       " 'verified': None,\n",
       " 'created': None,\n",
       " 'followersCount': None,\n",
       " 'friendsCount': None,\n",
       " 'statusesCount': None,\n",
       " 'favouritesCount': None,\n",
       " 'listedCount': None,\n",
       " 'mediaCount': None,\n",
       " 'location': None,\n",
       " 'protected': None,\n",
       " 'linkUrl': None,\n",
       " 'linkTcourl': None,\n",
       " 'profileImageUrl': None,\n",
       " 'profileBannerUrl': None}"
      ]
     },
     "execution_count": 118,
     "metadata": {},
     "output_type": "execute_result"
    }
   ],
   "source": [
    "import datetime\n",
    "eval(parquet_df['inReplyToUser'][0])"
   ]
  },
  {
   "cell_type": "code",
   "execution_count": 110,
   "id": "d7c5b771-5382-4f1e-b7fe-aec8180379c3",
   "metadata": {},
   "outputs": [
    {
     "data": {
      "text/plain": [
       "{'username': 'apenasrebeca',\n",
       " 'id': 1069631015763759104,\n",
       " 'displayname': 'Rebeca 🌻',\n",
       " 'description': 'uneducated potato',\n",
       " 'rawDescription': 'uneducated potato',\n",
       " 'descriptionUrls': None,\n",
       " 'verified': False,\n",
       " 'created': datetime.datetime(2018, 12, 3, 16, 34, 41, tzinfo=datetime.timezone.utc),\n",
       " 'followersCount': 73,\n",
       " 'friendsCount': 228,\n",
       " 'statusesCount': 9407,\n",
       " 'favouritesCount': 17468,\n",
       " 'listedCount': 0,\n",
       " 'mediaCount': 703,\n",
       " 'location': 'São Paulo, Brasil',\n",
       " 'protected': False,\n",
       " 'linkUrl': None,\n",
       " 'linkTcourl': None,\n",
       " 'profileImageUrl': 'https://pbs.twimg.com/profile_images/1414350701933862915/bM_7TWLF_normal.jpg',\n",
       " 'profileBannerUrl': 'https://pbs.twimg.com/profile_banners/1069631015763759104/1622586434'}"
      ]
     },
     "execution_count": 110,
     "metadata": {},
     "output_type": "execute_result"
    }
   ],
   "source": [
    "eval(parquet_df['user'][0])"
   ]
  },
  {
   "cell_type": "code",
   "execution_count": null,
   "id": "4704df88-b4eb-4893-9003-4b7e33239219",
   "metadata": {},
   "outputs": [],
   "source": []
  }
 ],
 "metadata": {
  "kernelspec": {
   "display_name": "Python [conda env:.conda-twitter-cpi] *",
   "language": "python",
   "name": "conda-env-.conda-twitter-cpi-py"
  },
  "language_info": {
   "codemirror_mode": {
    "name": "ipython",
    "version": 3
   },
   "file_extension": ".py",
   "mimetype": "text/x-python",
   "name": "python",
   "nbconvert_exporter": "python",
   "pygments_lexer": "ipython3",
   "version": "3.9.7"
  }
 },
 "nbformat": 4,
 "nbformat_minor": 5
}

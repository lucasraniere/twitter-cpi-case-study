{
 "cells": [
  {
   "cell_type": "code",
   "execution_count": 1,
   "id": "785aa349-d2b9-45f3-ae19-232ee2d1885a",
   "metadata": {},
   "outputs": [],
   "source": [
    "import pandas as pd"
   ]
  },
  {
   "cell_type": "code",
   "execution_count": 2,
   "id": "9e3ecbeb-306f-474c-82bb-2a923a15de31",
   "metadata": {},
   "outputs": [
    {
     "data": {
      "text/plain": [
       "(13517, 31)"
      ]
     },
     "execution_count": 2,
     "metadata": {},
     "output_type": "execute_result"
    }
   ],
   "source": [
    "tweets = pd.read_json('retrieved_tweets/2021-06-28_query.json')\n",
    "tweets.shape"
   ]
  },
  {
   "cell_type": "code",
   "execution_count": 3,
   "id": "b522fe5a-b1fb-490a-9f1c-b273886be978",
   "metadata": {},
   "outputs": [
    {
     "data": {
      "text/html": [
       "<div>\n",
       "<style scoped>\n",
       "    .dataframe tbody tr th:only-of-type {\n",
       "        vertical-align: middle;\n",
       "    }\n",
       "\n",
       "    .dataframe tbody tr th {\n",
       "        vertical-align: top;\n",
       "    }\n",
       "\n",
       "    .dataframe thead th {\n",
       "        text-align: right;\n",
       "    }\n",
       "</style>\n",
       "<table border=\"1\" class=\"dataframe\">\n",
       "  <thead>\n",
       "    <tr style=\"text-align: right;\">\n",
       "      <th></th>\n",
       "      <th>created_at</th>\n",
       "      <th>id</th>\n",
       "      <th>id_str</th>\n",
       "      <th>full_text</th>\n",
       "      <th>truncated</th>\n",
       "      <th>display_text_range</th>\n",
       "      <th>entities</th>\n",
       "      <th>metadata</th>\n",
       "      <th>source</th>\n",
       "      <th>in_reply_to_status_id</th>\n",
       "      <th>...</th>\n",
       "      <th>retweet_count</th>\n",
       "      <th>favorite_count</th>\n",
       "      <th>favorited</th>\n",
       "      <th>retweeted</th>\n",
       "      <th>lang</th>\n",
       "      <th>possibly_sensitive</th>\n",
       "      <th>extended_entities</th>\n",
       "      <th>quoted_status_id</th>\n",
       "      <th>quoted_status_id_str</th>\n",
       "      <th>quoted_status</th>\n",
       "    </tr>\n",
       "  </thead>\n",
       "  <tbody>\n",
       "    <tr>\n",
       "      <th>0</th>\n",
       "      <td>2021-06-28 23:59:59+00:00</td>\n",
       "      <td>1409662898784268293</td>\n",
       "      <td>1409662898784268288</td>\n",
       "      <td>RT @EnockFormiga: Senador Omar Aziz, president...</td>\n",
       "      <td>False</td>\n",
       "      <td>[0, 139]</td>\n",
       "      <td>{'hashtags': [], 'symbols': [], 'user_mentions...</td>\n",
       "      <td>{'iso_language_code': 'pt', 'result_type': 're...</td>\n",
       "      <td>&lt;a href=\"http://twitter.com/download/android\" ...</td>\n",
       "      <td>NaN</td>\n",
       "      <td>...</td>\n",
       "      <td>1289</td>\n",
       "      <td>0</td>\n",
       "      <td>False</td>\n",
       "      <td>False</td>\n",
       "      <td>pt</td>\n",
       "      <td>NaN</td>\n",
       "      <td>NaN</td>\n",
       "      <td>NaN</td>\n",
       "      <td>NaN</td>\n",
       "      <td>NaN</td>\n",
       "    </tr>\n",
       "    <tr>\n",
       "      <th>1</th>\n",
       "      <td>2021-06-28 23:59:58+00:00</td>\n",
       "      <td>1409662892572508161</td>\n",
       "      <td>1409662892572508160</td>\n",
       "      <td>RT @bandnewsfmrio: Witzel terá que explicar na...</td>\n",
       "      <td>False</td>\n",
       "      <td>[0, 140]</td>\n",
       "      <td>{'hashtags': [], 'symbols': [], 'user_mentions...</td>\n",
       "      <td>{'iso_language_code': 'pt', 'result_type': 're...</td>\n",
       "      <td>&lt;a href=\"https://mobile.twitter.com\" rel=\"nofo...</td>\n",
       "      <td>NaN</td>\n",
       "      <td>...</td>\n",
       "      <td>4</td>\n",
       "      <td>0</td>\n",
       "      <td>False</td>\n",
       "      <td>False</td>\n",
       "      <td>pt</td>\n",
       "      <td>NaN</td>\n",
       "      <td>NaN</td>\n",
       "      <td>NaN</td>\n",
       "      <td>NaN</td>\n",
       "      <td>NaN</td>\n",
       "    </tr>\n",
       "    <tr>\n",
       "      <th>2</th>\n",
       "      <td>2021-06-28 23:59:53+00:00</td>\n",
       "      <td>1409662869927391242</td>\n",
       "      <td>1409662869927391232</td>\n",
       "      <td>RT @opiniaoredetv: Marcos Rogério sobre a CPI ...</td>\n",
       "      <td>False</td>\n",
       "      <td>[0, 140]</td>\n",
       "      <td>{'hashtags': [], 'symbols': [], 'user_mentions...</td>\n",
       "      <td>{'iso_language_code': 'pt', 'result_type': 're...</td>\n",
       "      <td>&lt;a href=\"http://twitter.com/download/iphone\" r...</td>\n",
       "      <td>NaN</td>\n",
       "      <td>...</td>\n",
       "      <td>423</td>\n",
       "      <td>0</td>\n",
       "      <td>False</td>\n",
       "      <td>False</td>\n",
       "      <td>pt</td>\n",
       "      <td>NaN</td>\n",
       "      <td>NaN</td>\n",
       "      <td>NaN</td>\n",
       "      <td>NaN</td>\n",
       "      <td>NaN</td>\n",
       "    </tr>\n",
       "    <tr>\n",
       "      <th>3</th>\n",
       "      <td>2021-06-28 23:59:52+00:00</td>\n",
       "      <td>1409662867343691784</td>\n",
       "      <td>1409662867343691776</td>\n",
       "      <td>RT @o_antagonista: Élcio Franco, hoje assessor...</td>\n",
       "      <td>False</td>\n",
       "      <td>[0, 140]</td>\n",
       "      <td>{'hashtags': [], 'symbols': [], 'user_mentions...</td>\n",
       "      <td>{'iso_language_code': 'pt', 'result_type': 're...</td>\n",
       "      <td>&lt;a href=\"https://mobile.twitter.com\" rel=\"nofo...</td>\n",
       "      <td>NaN</td>\n",
       "      <td>...</td>\n",
       "      <td>42</td>\n",
       "      <td>0</td>\n",
       "      <td>False</td>\n",
       "      <td>False</td>\n",
       "      <td>pt</td>\n",
       "      <td>NaN</td>\n",
       "      <td>NaN</td>\n",
       "      <td>NaN</td>\n",
       "      <td>NaN</td>\n",
       "      <td>NaN</td>\n",
       "    </tr>\n",
       "    <tr>\n",
       "      <th>4</th>\n",
       "      <td>2021-06-28 23:59:48+00:00</td>\n",
       "      <td>1409662850461667328</td>\n",
       "      <td>1409662850461667328</td>\n",
       "      <td>RT @nadanovonofront: Um update importante: a C...</td>\n",
       "      <td>False</td>\n",
       "      <td>[0, 139]</td>\n",
       "      <td>{'hashtags': [], 'symbols': [], 'user_mentions...</td>\n",
       "      <td>{'iso_language_code': 'pt', 'result_type': 're...</td>\n",
       "      <td>&lt;a href=\"http://twitter.com/download/android\" ...</td>\n",
       "      <td>NaN</td>\n",
       "      <td>...</td>\n",
       "      <td>143</td>\n",
       "      <td>0</td>\n",
       "      <td>False</td>\n",
       "      <td>False</td>\n",
       "      <td>pt</td>\n",
       "      <td>NaN</td>\n",
       "      <td>NaN</td>\n",
       "      <td>NaN</td>\n",
       "      <td>NaN</td>\n",
       "      <td>NaN</td>\n",
       "    </tr>\n",
       "  </tbody>\n",
       "</table>\n",
       "<p>5 rows × 31 columns</p>\n",
       "</div>"
      ],
      "text/plain": [
       "                 created_at                   id               id_str  \\\n",
       "0 2021-06-28 23:59:59+00:00  1409662898784268293  1409662898784268288   \n",
       "1 2021-06-28 23:59:58+00:00  1409662892572508161  1409662892572508160   \n",
       "2 2021-06-28 23:59:53+00:00  1409662869927391242  1409662869927391232   \n",
       "3 2021-06-28 23:59:52+00:00  1409662867343691784  1409662867343691776   \n",
       "4 2021-06-28 23:59:48+00:00  1409662850461667328  1409662850461667328   \n",
       "\n",
       "                                           full_text  truncated  \\\n",
       "0  RT @EnockFormiga: Senador Omar Aziz, president...      False   \n",
       "1  RT @bandnewsfmrio: Witzel terá que explicar na...      False   \n",
       "2  RT @opiniaoredetv: Marcos Rogério sobre a CPI ...      False   \n",
       "3  RT @o_antagonista: Élcio Franco, hoje assessor...      False   \n",
       "4  RT @nadanovonofront: Um update importante: a C...      False   \n",
       "\n",
       "  display_text_range                                           entities  \\\n",
       "0           [0, 139]  {'hashtags': [], 'symbols': [], 'user_mentions...   \n",
       "1           [0, 140]  {'hashtags': [], 'symbols': [], 'user_mentions...   \n",
       "2           [0, 140]  {'hashtags': [], 'symbols': [], 'user_mentions...   \n",
       "3           [0, 140]  {'hashtags': [], 'symbols': [], 'user_mentions...   \n",
       "4           [0, 139]  {'hashtags': [], 'symbols': [], 'user_mentions...   \n",
       "\n",
       "                                            metadata  \\\n",
       "0  {'iso_language_code': 'pt', 'result_type': 're...   \n",
       "1  {'iso_language_code': 'pt', 'result_type': 're...   \n",
       "2  {'iso_language_code': 'pt', 'result_type': 're...   \n",
       "3  {'iso_language_code': 'pt', 'result_type': 're...   \n",
       "4  {'iso_language_code': 'pt', 'result_type': 're...   \n",
       "\n",
       "                                              source  in_reply_to_status_id  \\\n",
       "0  <a href=\"http://twitter.com/download/android\" ...                    NaN   \n",
       "1  <a href=\"https://mobile.twitter.com\" rel=\"nofo...                    NaN   \n",
       "2  <a href=\"http://twitter.com/download/iphone\" r...                    NaN   \n",
       "3  <a href=\"https://mobile.twitter.com\" rel=\"nofo...                    NaN   \n",
       "4  <a href=\"http://twitter.com/download/android\" ...                    NaN   \n",
       "\n",
       "   ...  retweet_count  favorite_count  favorited retweeted lang  \\\n",
       "0  ...           1289               0      False     False   pt   \n",
       "1  ...              4               0      False     False   pt   \n",
       "2  ...            423               0      False     False   pt   \n",
       "3  ...             42               0      False     False   pt   \n",
       "4  ...            143               0      False     False   pt   \n",
       "\n",
       "   possibly_sensitive  extended_entities quoted_status_id  \\\n",
       "0                 NaN                NaN              NaN   \n",
       "1                 NaN                NaN              NaN   \n",
       "2                 NaN                NaN              NaN   \n",
       "3                 NaN                NaN              NaN   \n",
       "4                 NaN                NaN              NaN   \n",
       "\n",
       "   quoted_status_id_str quoted_status  \n",
       "0                   NaN           NaN  \n",
       "1                   NaN           NaN  \n",
       "2                   NaN           NaN  \n",
       "3                   NaN           NaN  \n",
       "4                   NaN           NaN  \n",
       "\n",
       "[5 rows x 31 columns]"
      ]
     },
     "execution_count": 3,
     "metadata": {},
     "output_type": "execute_result"
    }
   ],
   "source": [
    "tweets.head()"
   ]
  },
  {
   "cell_type": "code",
   "execution_count": 4,
   "id": "285c155b-c56d-419f-aff9-c6028e80133d",
   "metadata": {},
   "outputs": [
    {
     "data": {
      "text/plain": [
       "Index(['created_at', 'id', 'id_str', 'full_text', 'truncated',\n",
       "       'display_text_range', 'entities', 'metadata', 'source',\n",
       "       'in_reply_to_status_id', 'in_reply_to_status_id_str',\n",
       "       'in_reply_to_user_id', 'in_reply_to_user_id_str',\n",
       "       'in_reply_to_screen_name', 'user', 'geo', 'coordinates', 'place',\n",
       "       'contributors', 'retweeted_status', 'is_quote_status', 'retweet_count',\n",
       "       'favorite_count', 'favorited', 'retweeted', 'lang',\n",
       "       'possibly_sensitive', 'extended_entities', 'quoted_status_id',\n",
       "       'quoted_status_id_str', 'quoted_status'],\n",
       "      dtype='object')"
      ]
     },
     "execution_count": 4,
     "metadata": {},
     "output_type": "execute_result"
    }
   ],
   "source": [
    "tweets.columns"
   ]
  },
  {
   "cell_type": "code",
   "execution_count": 5,
   "id": "f99f667e-746e-4824-ad20-b1fe8630b6e0",
   "metadata": {},
   "outputs": [
    {
     "data": {
      "text/html": [
       "<div>\n",
       "<style scoped>\n",
       "    .dataframe tbody tr th:only-of-type {\n",
       "        vertical-align: middle;\n",
       "    }\n",
       "\n",
       "    .dataframe tbody tr th {\n",
       "        vertical-align: top;\n",
       "    }\n",
       "\n",
       "    .dataframe thead th {\n",
       "        text-align: right;\n",
       "    }\n",
       "</style>\n",
       "<table border=\"1\" class=\"dataframe\">\n",
       "  <thead>\n",
       "    <tr style=\"text-align: right;\">\n",
       "      <th></th>\n",
       "      <th>created_at</th>\n",
       "      <th>id_str</th>\n",
       "      <th>full_text</th>\n",
       "    </tr>\n",
       "  </thead>\n",
       "  <tbody>\n",
       "    <tr>\n",
       "      <th>0</th>\n",
       "      <td>2021-06-28 23:59:59+00:00</td>\n",
       "      <td>1409662898784268288</td>\n",
       "      <td>RT @EnockFormiga: Senador Omar Aziz, president...</td>\n",
       "    </tr>\n",
       "    <tr>\n",
       "      <th>1</th>\n",
       "      <td>2021-06-28 23:59:58+00:00</td>\n",
       "      <td>1409662892572508160</td>\n",
       "      <td>RT @bandnewsfmrio: Witzel terá que explicar na...</td>\n",
       "    </tr>\n",
       "    <tr>\n",
       "      <th>2</th>\n",
       "      <td>2021-06-28 23:59:53+00:00</td>\n",
       "      <td>1409662869927391232</td>\n",
       "      <td>RT @opiniaoredetv: Marcos Rogério sobre a CPI ...</td>\n",
       "    </tr>\n",
       "    <tr>\n",
       "      <th>3</th>\n",
       "      <td>2021-06-28 23:59:52+00:00</td>\n",
       "      <td>1409662867343691776</td>\n",
       "      <td>RT @o_antagonista: Élcio Franco, hoje assessor...</td>\n",
       "    </tr>\n",
       "    <tr>\n",
       "      <th>4</th>\n",
       "      <td>2021-06-28 23:59:48+00:00</td>\n",
       "      <td>1409662850461667328</td>\n",
       "      <td>RT @nadanovonofront: Um update importante: a C...</td>\n",
       "    </tr>\n",
       "  </tbody>\n",
       "</table>\n",
       "</div>"
      ],
      "text/plain": [
       "                 created_at               id_str  \\\n",
       "0 2021-06-28 23:59:59+00:00  1409662898784268288   \n",
       "1 2021-06-28 23:59:58+00:00  1409662892572508160   \n",
       "2 2021-06-28 23:59:53+00:00  1409662869927391232   \n",
       "3 2021-06-28 23:59:52+00:00  1409662867343691776   \n",
       "4 2021-06-28 23:59:48+00:00  1409662850461667328   \n",
       "\n",
       "                                           full_text  \n",
       "0  RT @EnockFormiga: Senador Omar Aziz, president...  \n",
       "1  RT @bandnewsfmrio: Witzel terá que explicar na...  \n",
       "2  RT @opiniaoredetv: Marcos Rogério sobre a CPI ...  \n",
       "3  RT @o_antagonista: Élcio Franco, hoje assessor...  \n",
       "4  RT @nadanovonofront: Um update importante: a C...  "
      ]
     },
     "execution_count": 5,
     "metadata": {},
     "output_type": "execute_result"
    }
   ],
   "source": [
    "reduced_tweets = tweets[['created_at', 'id_str', 'full_text']]\n",
    "reduced_tweets.head()"
   ]
  },
  {
   "cell_type": "code",
   "execution_count": 6,
   "id": "e4ee9a4d-cebf-4b20-b7fb-30970663a3ae",
   "metadata": {},
   "outputs": [
    {
     "name": "stderr",
     "output_type": "stream",
     "text": [
      "<ipython-input-6-208a409407c3>:1: SettingWithCopyWarning: \n",
      "A value is trying to be set on a copy of a slice from a DataFrame.\n",
      "Try using .loc[row_indexer,col_indexer] = value instead\n",
      "\n",
      "See the caveats in the documentation: https://pandas.pydata.org/pandas-docs/stable/user_guide/indexing.html#returning-a-view-versus-a-copy\n",
      "  reduced_tweets['username'] = tweets['user'].map(lambda x: x['screen_name'])\n",
      "<ipython-input-6-208a409407c3>:2: SettingWithCopyWarning: \n",
      "A value is trying to be set on a copy of a slice from a DataFrame.\n",
      "Try using .loc[row_indexer,col_indexer] = value instead\n",
      "\n",
      "See the caveats in the documentation: https://pandas.pydata.org/pandas-docs/stable/user_guide/indexing.html#returning-a-view-versus-a-copy\n",
      "  reduced_tweets['user_joined'] = tweets['user'].map(lambda x: x['created_at'][-4:])\n",
      "<ipython-input-6-208a409407c3>:3: SettingWithCopyWarning: \n",
      "A value is trying to be set on a copy of a slice from a DataFrame.\n",
      "Try using .loc[row_indexer,col_indexer] = value instead\n",
      "\n",
      "See the caveats in the documentation: https://pandas.pydata.org/pandas-docs/stable/user_guide/indexing.html#returning-a-view-versus-a-copy\n",
      "  reduced_tweets['user_id'] = tweets['user'].map(lambda x: x['id_str'])\n"
     ]
    }
   ],
   "source": [
    "reduced_tweets['username'] = tweets['user'].map(lambda x: x['screen_name'])\n",
    "reduced_tweets['user_joined'] = tweets['user'].map(lambda x: x['created_at'][-4:])\n",
    "reduced_tweets['user_id'] = tweets['user'].map(lambda x: x['id_str'])"
   ]
  },
  {
   "cell_type": "code",
   "execution_count": 7,
   "id": "b1ad8f32-0c5a-42d6-9677-ce8ab56dcfcb",
   "metadata": {},
   "outputs": [
    {
     "name": "stderr",
     "output_type": "stream",
     "text": [
      "<ipython-input-7-1aa80fb163cb>:1: SettingWithCopyWarning: \n",
      "A value is trying to be set on a copy of a slice from a DataFrame.\n",
      "Try using .loc[row_indexer,col_indexer] = value instead\n",
      "\n",
      "See the caveats in the documentation: https://pandas.pydata.org/pandas-docs/stable/user_guide/indexing.html#returning-a-view-versus-a-copy\n",
      "  reduced_tweets['retweeted_status'] = tweets['retweeted_status']\n"
     ]
    }
   ],
   "source": [
    "reduced_tweets['retweeted_status'] = tweets['retweeted_status']"
   ]
  },
  {
   "cell_type": "code",
   "execution_count": 8,
   "id": "9d242f35-1f0a-4a7b-8467-61820bf8d8d3",
   "metadata": {},
   "outputs": [
    {
     "data": {
      "text/html": [
       "<div>\n",
       "<style scoped>\n",
       "    .dataframe tbody tr th:only-of-type {\n",
       "        vertical-align: middle;\n",
       "    }\n",
       "\n",
       "    .dataframe tbody tr th {\n",
       "        vertical-align: top;\n",
       "    }\n",
       "\n",
       "    .dataframe thead th {\n",
       "        text-align: right;\n",
       "    }\n",
       "</style>\n",
       "<table border=\"1\" class=\"dataframe\">\n",
       "  <thead>\n",
       "    <tr style=\"text-align: right;\">\n",
       "      <th></th>\n",
       "      <th>created_at</th>\n",
       "      <th>id_str</th>\n",
       "      <th>full_text</th>\n",
       "      <th>username</th>\n",
       "      <th>user_joined</th>\n",
       "      <th>user_id</th>\n",
       "      <th>retweeted_status</th>\n",
       "    </tr>\n",
       "  </thead>\n",
       "  <tbody>\n",
       "    <tr>\n",
       "      <th>0</th>\n",
       "      <td>2021-06-28 23:59:59+00:00</td>\n",
       "      <td>1409662898784268288</td>\n",
       "      <td>RT @EnockFormiga: Senador Omar Aziz, president...</td>\n",
       "      <td>Lucydelima5</td>\n",
       "      <td>2018</td>\n",
       "      <td>1058013520221089792</td>\n",
       "      <td>{'created_at': 'Mon Jun 28 16:58:31 +0000 2021...</td>\n",
       "    </tr>\n",
       "    <tr>\n",
       "      <th>1</th>\n",
       "      <td>2021-06-28 23:59:58+00:00</td>\n",
       "      <td>1409662892572508160</td>\n",
       "      <td>RT @bandnewsfmrio: Witzel terá que explicar na...</td>\n",
       "      <td>biasaporetti</td>\n",
       "      <td>2010</td>\n",
       "      <td>163103234</td>\n",
       "      <td>{'created_at': 'Mon Jun 28 22:32:30 +0000 2021...</td>\n",
       "    </tr>\n",
       "    <tr>\n",
       "      <th>2</th>\n",
       "      <td>2021-06-28 23:59:53+00:00</td>\n",
       "      <td>1409662869927391232</td>\n",
       "      <td>RT @opiniaoredetv: Marcos Rogério sobre a CPI ...</td>\n",
       "      <td>andreiapaderes1</td>\n",
       "      <td>2018</td>\n",
       "      <td>981211555932114944</td>\n",
       "      <td>{'created_at': 'Mon Jun 28 15:16:00 +0000 2021...</td>\n",
       "    </tr>\n",
       "    <tr>\n",
       "      <th>3</th>\n",
       "      <td>2021-06-28 23:59:52+00:00</td>\n",
       "      <td>1409662867343691776</td>\n",
       "      <td>RT @o_antagonista: Élcio Franco, hoje assessor...</td>\n",
       "      <td>Andersondua</td>\n",
       "      <td>2020</td>\n",
       "      <td>1294804859498176514</td>\n",
       "      <td>{'created_at': 'Mon Jun 28 23:07:16 +0000 2021...</td>\n",
       "    </tr>\n",
       "    <tr>\n",
       "      <th>4</th>\n",
       "      <td>2021-06-28 23:59:48+00:00</td>\n",
       "      <td>1409662850461667328</td>\n",
       "      <td>RT @nadanovonofront: Um update importante: a C...</td>\n",
       "      <td>justbitchiiin</td>\n",
       "      <td>2016</td>\n",
       "      <td>806268226246217728</td>\n",
       "      <td>{'created_at': 'Mon Jun 28 23:43:47 +0000 2021...</td>\n",
       "    </tr>\n",
       "    <tr>\n",
       "      <th>5</th>\n",
       "      <td>2021-06-28 23:59:44+00:00</td>\n",
       "      <td>1409662834208772096</td>\n",
       "      <td>RT @PauloMFGARCIA: @nelsonpaffi Barroso fez um...</td>\n",
       "      <td>CidaGoias</td>\n",
       "      <td>2021</td>\n",
       "      <td>1381232527147462656</td>\n",
       "      <td>{'created_at': 'Mon Jun 28 17:47:37 +0000 2021...</td>\n",
       "    </tr>\n",
       "    <tr>\n",
       "      <th>6</th>\n",
       "      <td>2021-06-28 23:59:40+00:00</td>\n",
       "      <td>1409662818039726080</td>\n",
       "      <td>RT @randolfeap: A CPI da Covid, inicialmente i...</td>\n",
       "      <td>DeliaLuiz</td>\n",
       "      <td>2018</td>\n",
       "      <td>993609929662652417</td>\n",
       "      <td>{'created_at': 'Mon Jun 28 12:23:24 +0000 2021...</td>\n",
       "    </tr>\n",
       "    <tr>\n",
       "      <th>7</th>\n",
       "      <td>2021-06-28 23:59:39+00:00</td>\n",
       "      <td>1409662811593007104</td>\n",
       "      <td>BOMBA!\\n\\nSEM \"ACAREAÇÃO\" E  \"AGÊNCIA DE CHECA...</td>\n",
       "      <td>JorgeAre5054</td>\n",
       "      <td>2021</td>\n",
       "      <td>1406369891783958531</td>\n",
       "      <td>NaN</td>\n",
       "    </tr>\n",
       "    <tr>\n",
       "      <th>8</th>\n",
       "      <td>2021-06-28 23:59:38+00:00</td>\n",
       "      <td>1409662808078180352</td>\n",
       "      <td>RT @monikalive: #CPIdaCovid: saiba #quem apoio...</td>\n",
       "      <td>EuEngajada</td>\n",
       "      <td>2020</td>\n",
       "      <td>1271954996905598976</td>\n",
       "      <td>{'created_at': 'Mon Jun 28 23:38:59 +0000 2021...</td>\n",
       "    </tr>\n",
       "    <tr>\n",
       "      <th>9</th>\n",
       "      <td>2021-06-28 23:59:27+00:00</td>\n",
       "      <td>1409662761844436992</td>\n",
       "      <td>RT @RicardoBarrosPP: Sobre a emenda da MP que ...</td>\n",
       "      <td>mariovilela</td>\n",
       "      <td>2009</td>\n",
       "      <td>63844916</td>\n",
       "      <td>{'created_at': 'Sun Jun 27 21:47:44 +0000 2021...</td>\n",
       "    </tr>\n",
       "  </tbody>\n",
       "</table>\n",
       "</div>"
      ],
      "text/plain": [
       "                 created_at               id_str  \\\n",
       "0 2021-06-28 23:59:59+00:00  1409662898784268288   \n",
       "1 2021-06-28 23:59:58+00:00  1409662892572508160   \n",
       "2 2021-06-28 23:59:53+00:00  1409662869927391232   \n",
       "3 2021-06-28 23:59:52+00:00  1409662867343691776   \n",
       "4 2021-06-28 23:59:48+00:00  1409662850461667328   \n",
       "5 2021-06-28 23:59:44+00:00  1409662834208772096   \n",
       "6 2021-06-28 23:59:40+00:00  1409662818039726080   \n",
       "7 2021-06-28 23:59:39+00:00  1409662811593007104   \n",
       "8 2021-06-28 23:59:38+00:00  1409662808078180352   \n",
       "9 2021-06-28 23:59:27+00:00  1409662761844436992   \n",
       "\n",
       "                                           full_text         username  \\\n",
       "0  RT @EnockFormiga: Senador Omar Aziz, president...      Lucydelima5   \n",
       "1  RT @bandnewsfmrio: Witzel terá que explicar na...     biasaporetti   \n",
       "2  RT @opiniaoredetv: Marcos Rogério sobre a CPI ...  andreiapaderes1   \n",
       "3  RT @o_antagonista: Élcio Franco, hoje assessor...      Andersondua   \n",
       "4  RT @nadanovonofront: Um update importante: a C...    justbitchiiin   \n",
       "5  RT @PauloMFGARCIA: @nelsonpaffi Barroso fez um...        CidaGoias   \n",
       "6  RT @randolfeap: A CPI da Covid, inicialmente i...        DeliaLuiz   \n",
       "7  BOMBA!\\n\\nSEM \"ACAREAÇÃO\" E  \"AGÊNCIA DE CHECA...     JorgeAre5054   \n",
       "8  RT @monikalive: #CPIdaCovid: saiba #quem apoio...       EuEngajada   \n",
       "9  RT @RicardoBarrosPP: Sobre a emenda da MP que ...      mariovilela   \n",
       "\n",
       "  user_joined              user_id  \\\n",
       "0        2018  1058013520221089792   \n",
       "1        2010            163103234   \n",
       "2        2018   981211555932114944   \n",
       "3        2020  1294804859498176514   \n",
       "4        2016   806268226246217728   \n",
       "5        2021  1381232527147462656   \n",
       "6        2018   993609929662652417   \n",
       "7        2021  1406369891783958531   \n",
       "8        2020  1271954996905598976   \n",
       "9        2009             63844916   \n",
       "\n",
       "                                    retweeted_status  \n",
       "0  {'created_at': 'Mon Jun 28 16:58:31 +0000 2021...  \n",
       "1  {'created_at': 'Mon Jun 28 22:32:30 +0000 2021...  \n",
       "2  {'created_at': 'Mon Jun 28 15:16:00 +0000 2021...  \n",
       "3  {'created_at': 'Mon Jun 28 23:07:16 +0000 2021...  \n",
       "4  {'created_at': 'Mon Jun 28 23:43:47 +0000 2021...  \n",
       "5  {'created_at': 'Mon Jun 28 17:47:37 +0000 2021...  \n",
       "6  {'created_at': 'Mon Jun 28 12:23:24 +0000 2021...  \n",
       "7                                                NaN  \n",
       "8  {'created_at': 'Mon Jun 28 23:38:59 +0000 2021...  \n",
       "9  {'created_at': 'Sun Jun 27 21:47:44 +0000 2021...  "
      ]
     },
     "execution_count": 8,
     "metadata": {},
     "output_type": "execute_result"
    }
   ],
   "source": [
    "reduced_tweets.head(10)"
   ]
  },
  {
   "cell_type": "code",
   "execution_count": 9,
   "id": "89ecc251-b03b-4210-bf41-d1256d44914f",
   "metadata": {},
   "outputs": [
    {
     "name": "stderr",
     "output_type": "stream",
     "text": [
      "<ipython-input-9-dd3888483306>:1: SettingWithCopyWarning: \n",
      "A value is trying to be set on a copy of a slice from a DataFrame.\n",
      "Try using .loc[row_indexer,col_indexer] = value instead\n",
      "\n",
      "See the caveats in the documentation: https://pandas.pydata.org/pandas-docs/stable/user_guide/indexing.html#returning-a-view-versus-a-copy\n",
      "  reduced_tweets['retweeted_user_id'] = reduced_tweets['retweeted_status'].map(lambda x: x['user']['id_str'] if x == x else False)\n",
      "<ipython-input-9-dd3888483306>:2: SettingWithCopyWarning: \n",
      "A value is trying to be set on a copy of a slice from a DataFrame.\n",
      "Try using .loc[row_indexer,col_indexer] = value instead\n",
      "\n",
      "See the caveats in the documentation: https://pandas.pydata.org/pandas-docs/stable/user_guide/indexing.html#returning-a-view-versus-a-copy\n",
      "  reduced_tweets['retweeted_user_username'] = reduced_tweets['retweeted_status'].map(lambda x: x['user']['screen_name'] if x == x else False)\n",
      "<ipython-input-9-dd3888483306>:3: SettingWithCopyWarning: \n",
      "A value is trying to be set on a copy of a slice from a DataFrame.\n",
      "Try using .loc[row_indexer,col_indexer] = value instead\n",
      "\n",
      "See the caveats in the documentation: https://pandas.pydata.org/pandas-docs/stable/user_guide/indexing.html#returning-a-view-versus-a-copy\n",
      "  reduced_tweets['retweeted_user_joined'] = reduced_tweets['retweeted_status'].map(lambda x: x['user']['created_at'] if x == x else False)\n"
     ]
    }
   ],
   "source": [
    "reduced_tweets['retweeted_user_id'] = reduced_tweets['retweeted_status'].map(lambda x: x['user']['id_str'] if x == x else False)\n",
    "reduced_tweets['retweeted_user_username'] = reduced_tweets['retweeted_status'].map(lambda x: x['user']['screen_name'] if x == x else False)\n",
    "reduced_tweets['retweeted_user_joined'] = reduced_tweets['retweeted_status'].map(lambda x: x['user']['created_at'] if x == x else False)"
   ]
  },
  {
   "cell_type": "code",
   "execution_count": 10,
   "id": "90c1f8ca-fc3a-479c-89a5-37a963a642a8",
   "metadata": {},
   "outputs": [
    {
     "name": "stderr",
     "output_type": "stream",
     "text": [
      "C:\\anaconda3\\lib\\site-packages\\pandas\\core\\frame.py:4308: SettingWithCopyWarning: \n",
      "A value is trying to be set on a copy of a slice from a DataFrame\n",
      "\n",
      "See the caveats in the documentation: https://pandas.pydata.org/pandas-docs/stable/user_guide/indexing.html#returning-a-view-versus-a-copy\n",
      "  return super().drop(\n"
     ]
    },
    {
     "data": {
      "text/html": [
       "<div>\n",
       "<style scoped>\n",
       "    .dataframe tbody tr th:only-of-type {\n",
       "        vertical-align: middle;\n",
       "    }\n",
       "\n",
       "    .dataframe tbody tr th {\n",
       "        vertical-align: top;\n",
       "    }\n",
       "\n",
       "    .dataframe thead th {\n",
       "        text-align: right;\n",
       "    }\n",
       "</style>\n",
       "<table border=\"1\" class=\"dataframe\">\n",
       "  <thead>\n",
       "    <tr style=\"text-align: right;\">\n",
       "      <th></th>\n",
       "      <th>created_at</th>\n",
       "      <th>id_str</th>\n",
       "      <th>full_text</th>\n",
       "      <th>username</th>\n",
       "      <th>user_joined</th>\n",
       "      <th>user_id</th>\n",
       "      <th>retweeted_user_id</th>\n",
       "      <th>retweeted_user_username</th>\n",
       "      <th>retweeted_user_joined</th>\n",
       "    </tr>\n",
       "  </thead>\n",
       "  <tbody>\n",
       "    <tr>\n",
       "      <th>0</th>\n",
       "      <td>2021-06-28 23:59:59+00:00</td>\n",
       "      <td>1409662898784268288</td>\n",
       "      <td>RT @EnockFormiga: Senador Omar Aziz, president...</td>\n",
       "      <td>Lucydelima5</td>\n",
       "      <td>2018</td>\n",
       "      <td>1058013520221089792</td>\n",
       "      <td>791951026265821184</td>\n",
       "      <td>EnockFormiga</td>\n",
       "      <td>Fri Oct 28 10:33:33 +0000 2016</td>\n",
       "    </tr>\n",
       "    <tr>\n",
       "      <th>1</th>\n",
       "      <td>2021-06-28 23:59:58+00:00</td>\n",
       "      <td>1409662892572508160</td>\n",
       "      <td>RT @bandnewsfmrio: Witzel terá que explicar na...</td>\n",
       "      <td>biasaporetti</td>\n",
       "      <td>2010</td>\n",
       "      <td>163103234</td>\n",
       "      <td>83634722</td>\n",
       "      <td>bandnewsfmrio</td>\n",
       "      <td>Mon Oct 19 16:26:53 +0000 2009</td>\n",
       "    </tr>\n",
       "    <tr>\n",
       "      <th>2</th>\n",
       "      <td>2021-06-28 23:59:53+00:00</td>\n",
       "      <td>1409662869927391232</td>\n",
       "      <td>RT @opiniaoredetv: Marcos Rogério sobre a CPI ...</td>\n",
       "      <td>andreiapaderes1</td>\n",
       "      <td>2018</td>\n",
       "      <td>981211555932114944</td>\n",
       "      <td>1312414394425511936</td>\n",
       "      <td>opiniaoredetv</td>\n",
       "      <td>Sat Oct 03 15:30:10 +0000 2020</td>\n",
       "    </tr>\n",
       "    <tr>\n",
       "      <th>3</th>\n",
       "      <td>2021-06-28 23:59:52+00:00</td>\n",
       "      <td>1409662867343691776</td>\n",
       "      <td>RT @o_antagonista: Élcio Franco, hoje assessor...</td>\n",
       "      <td>Andersondua</td>\n",
       "      <td>2020</td>\n",
       "      <td>1294804859498176514</td>\n",
       "      <td>2880932962</td>\n",
       "      <td>o_antagonista</td>\n",
       "      <td>Mon Nov 17 12:22:32 +0000 2014</td>\n",
       "    </tr>\n",
       "    <tr>\n",
       "      <th>4</th>\n",
       "      <td>2021-06-28 23:59:48+00:00</td>\n",
       "      <td>1409662850461667328</td>\n",
       "      <td>RT @nadanovonofront: Um update importante: a C...</td>\n",
       "      <td>justbitchiiin</td>\n",
       "      <td>2016</td>\n",
       "      <td>806268226246217728</td>\n",
       "      <td>3317555339</td>\n",
       "      <td>nadanovonofront</td>\n",
       "      <td>Wed Jun 10 16:24:13 +0000 2015</td>\n",
       "    </tr>\n",
       "    <tr>\n",
       "      <th>5</th>\n",
       "      <td>2021-06-28 23:59:44+00:00</td>\n",
       "      <td>1409662834208772096</td>\n",
       "      <td>RT @PauloMFGARCIA: @nelsonpaffi Barroso fez um...</td>\n",
       "      <td>CidaGoias</td>\n",
       "      <td>2021</td>\n",
       "      <td>1381232527147462656</td>\n",
       "      <td>1241748641204895752</td>\n",
       "      <td>PauloMFGARCIA</td>\n",
       "      <td>Sun Mar 22 15:29:00 +0000 2020</td>\n",
       "    </tr>\n",
       "    <tr>\n",
       "      <th>6</th>\n",
       "      <td>2021-06-28 23:59:40+00:00</td>\n",
       "      <td>1409662818039726080</td>\n",
       "      <td>RT @randolfeap: A CPI da Covid, inicialmente i...</td>\n",
       "      <td>DeliaLuiz</td>\n",
       "      <td>2018</td>\n",
       "      <td>993609929662652417</td>\n",
       "      <td>85327394</td>\n",
       "      <td>randolfeap</td>\n",
       "      <td>Mon Oct 26 14:29:38 +0000 2009</td>\n",
       "    </tr>\n",
       "    <tr>\n",
       "      <th>7</th>\n",
       "      <td>2021-06-28 23:59:39+00:00</td>\n",
       "      <td>1409662811593007104</td>\n",
       "      <td>BOMBA!\\n\\nSEM \"ACAREAÇÃO\" E  \"AGÊNCIA DE CHECA...</td>\n",
       "      <td>JorgeAre5054</td>\n",
       "      <td>2021</td>\n",
       "      <td>1406369891783958531</td>\n",
       "      <td>False</td>\n",
       "      <td>False</td>\n",
       "      <td>False</td>\n",
       "    </tr>\n",
       "    <tr>\n",
       "      <th>8</th>\n",
       "      <td>2021-06-28 23:59:38+00:00</td>\n",
       "      <td>1409662808078180352</td>\n",
       "      <td>RT @monikalive: #CPIdaCovid: saiba #quem apoio...</td>\n",
       "      <td>EuEngajada</td>\n",
       "      <td>2020</td>\n",
       "      <td>1271954996905598976</td>\n",
       "      <td>60909587</td>\n",
       "      <td>monikalive</td>\n",
       "      <td>Tue Jul 28 13:56:41 +0000 2009</td>\n",
       "    </tr>\n",
       "    <tr>\n",
       "      <th>9</th>\n",
       "      <td>2021-06-28 23:59:27+00:00</td>\n",
       "      <td>1409662761844436992</td>\n",
       "      <td>RT @RicardoBarrosPP: Sobre a emenda da MP que ...</td>\n",
       "      <td>mariovilela</td>\n",
       "      <td>2009</td>\n",
       "      <td>63844916</td>\n",
       "      <td>50101324</td>\n",
       "      <td>RicardoBarrosPP</td>\n",
       "      <td>Tue Jun 23 21:02:13 +0000 2009</td>\n",
       "    </tr>\n",
       "  </tbody>\n",
       "</table>\n",
       "</div>"
      ],
      "text/plain": [
       "                 created_at               id_str  \\\n",
       "0 2021-06-28 23:59:59+00:00  1409662898784268288   \n",
       "1 2021-06-28 23:59:58+00:00  1409662892572508160   \n",
       "2 2021-06-28 23:59:53+00:00  1409662869927391232   \n",
       "3 2021-06-28 23:59:52+00:00  1409662867343691776   \n",
       "4 2021-06-28 23:59:48+00:00  1409662850461667328   \n",
       "5 2021-06-28 23:59:44+00:00  1409662834208772096   \n",
       "6 2021-06-28 23:59:40+00:00  1409662818039726080   \n",
       "7 2021-06-28 23:59:39+00:00  1409662811593007104   \n",
       "8 2021-06-28 23:59:38+00:00  1409662808078180352   \n",
       "9 2021-06-28 23:59:27+00:00  1409662761844436992   \n",
       "\n",
       "                                           full_text         username  \\\n",
       "0  RT @EnockFormiga: Senador Omar Aziz, president...      Lucydelima5   \n",
       "1  RT @bandnewsfmrio: Witzel terá que explicar na...     biasaporetti   \n",
       "2  RT @opiniaoredetv: Marcos Rogério sobre a CPI ...  andreiapaderes1   \n",
       "3  RT @o_antagonista: Élcio Franco, hoje assessor...      Andersondua   \n",
       "4  RT @nadanovonofront: Um update importante: a C...    justbitchiiin   \n",
       "5  RT @PauloMFGARCIA: @nelsonpaffi Barroso fez um...        CidaGoias   \n",
       "6  RT @randolfeap: A CPI da Covid, inicialmente i...        DeliaLuiz   \n",
       "7  BOMBA!\\n\\nSEM \"ACAREAÇÃO\" E  \"AGÊNCIA DE CHECA...     JorgeAre5054   \n",
       "8  RT @monikalive: #CPIdaCovid: saiba #quem apoio...       EuEngajada   \n",
       "9  RT @RicardoBarrosPP: Sobre a emenda da MP que ...      mariovilela   \n",
       "\n",
       "  user_joined              user_id    retweeted_user_id  \\\n",
       "0        2018  1058013520221089792   791951026265821184   \n",
       "1        2010            163103234             83634722   \n",
       "2        2018   981211555932114944  1312414394425511936   \n",
       "3        2020  1294804859498176514           2880932962   \n",
       "4        2016   806268226246217728           3317555339   \n",
       "5        2021  1381232527147462656  1241748641204895752   \n",
       "6        2018   993609929662652417             85327394   \n",
       "7        2021  1406369891783958531                False   \n",
       "8        2020  1271954996905598976             60909587   \n",
       "9        2009             63844916             50101324   \n",
       "\n",
       "  retweeted_user_username           retweeted_user_joined  \n",
       "0            EnockFormiga  Fri Oct 28 10:33:33 +0000 2016  \n",
       "1           bandnewsfmrio  Mon Oct 19 16:26:53 +0000 2009  \n",
       "2           opiniaoredetv  Sat Oct 03 15:30:10 +0000 2020  \n",
       "3           o_antagonista  Mon Nov 17 12:22:32 +0000 2014  \n",
       "4         nadanovonofront  Wed Jun 10 16:24:13 +0000 2015  \n",
       "5           PauloMFGARCIA  Sun Mar 22 15:29:00 +0000 2020  \n",
       "6              randolfeap  Mon Oct 26 14:29:38 +0000 2009  \n",
       "7                   False                           False  \n",
       "8              monikalive  Tue Jul 28 13:56:41 +0000 2009  \n",
       "9         RicardoBarrosPP  Tue Jun 23 21:02:13 +0000 2009  "
      ]
     },
     "execution_count": 10,
     "metadata": {},
     "output_type": "execute_result"
    }
   ],
   "source": [
    "reduced_tweets.drop('retweeted_status', axis=1, inplace=True)\n",
    "reduced_tweets.head(10)"
   ]
  },
  {
   "cell_type": "code",
   "execution_count": 11,
   "id": "d9a8c1d8-e593-4b66-bf53-4583c349d937",
   "metadata": {},
   "outputs": [
    {
     "data": {
      "text/plain": [
       "(11587, 9)"
      ]
     },
     "execution_count": 11,
     "metadata": {},
     "output_type": "execute_result"
    }
   ],
   "source": [
    "retweets = reduced_tweets.query('retweeted_user_id != False')\n",
    "retweets.shape"
   ]
  },
  {
   "cell_type": "code",
   "execution_count": 43,
   "id": "7daf4341-50e1-47a1-8182-6a276c4e427f",
   "metadata": {},
   "outputs": [],
   "source": [
    "rt_nodes = retweets[['retweeted_user_username', 'retweeted_user_id']]\n",
    "nodes = retweets[['username', 'user_id']]\n",
    "edges = retweets[['user_id', 'retweeted_user_id']]"
   ]
  },
  {
   "cell_type": "code",
   "execution_count": 44,
   "id": "65fc10b4-1bf7-41ab-a65e-06a5046efa9a",
   "metadata": {},
   "outputs": [
    {
     "data": {
      "text/plain": [
       "(8045, 2)"
      ]
     },
     "execution_count": 44,
     "metadata": {},
     "output_type": "execute_result"
    }
   ],
   "source": [
    "nodes.columns = ['Label', 'Id']\n",
    "rt_nodes.columns = ['Label', 'Id']\n",
    "nodes= pd.concat([nodes, rt_nodes], axis=0)\n",
    "nodes.drop_duplicates(inplace=True)\n",
    "nodes.shape"
   ]
  },
  {
   "cell_type": "code",
   "execution_count": 45,
   "id": "57950ecf-a71f-4b13-99a5-e246fcebe2df",
   "metadata": {},
   "outputs": [
    {
     "data": {
      "text/html": [
       "<div>\n",
       "<style scoped>\n",
       "    .dataframe tbody tr th:only-of-type {\n",
       "        vertical-align: middle;\n",
       "    }\n",
       "\n",
       "    .dataframe tbody tr th {\n",
       "        vertical-align: top;\n",
       "    }\n",
       "\n",
       "    .dataframe thead th {\n",
       "        text-align: right;\n",
       "    }\n",
       "</style>\n",
       "<table border=\"1\" class=\"dataframe\">\n",
       "  <thead>\n",
       "    <tr style=\"text-align: right;\">\n",
       "      <th></th>\n",
       "      <th>Label</th>\n",
       "      <th>Id</th>\n",
       "    </tr>\n",
       "  </thead>\n",
       "  <tbody>\n",
       "    <tr>\n",
       "      <th>0</th>\n",
       "      <td>Lucydelima5</td>\n",
       "      <td>1058013520221089792</td>\n",
       "    </tr>\n",
       "    <tr>\n",
       "      <th>1</th>\n",
       "      <td>biasaporetti</td>\n",
       "      <td>163103234</td>\n",
       "    </tr>\n",
       "    <tr>\n",
       "      <th>2</th>\n",
       "      <td>andreiapaderes1</td>\n",
       "      <td>981211555932114944</td>\n",
       "    </tr>\n",
       "    <tr>\n",
       "      <th>3</th>\n",
       "      <td>Andersondua</td>\n",
       "      <td>1294804859498176514</td>\n",
       "    </tr>\n",
       "    <tr>\n",
       "      <th>4</th>\n",
       "      <td>justbitchiiin</td>\n",
       "      <td>806268226246217728</td>\n",
       "    </tr>\n",
       "  </tbody>\n",
       "</table>\n",
       "</div>"
      ],
      "text/plain": [
       "             Label                   Id\n",
       "0      Lucydelima5  1058013520221089792\n",
       "1     biasaporetti            163103234\n",
       "2  andreiapaderes1   981211555932114944\n",
       "3      Andersondua  1294804859498176514\n",
       "4    justbitchiiin   806268226246217728"
      ]
     },
     "execution_count": 45,
     "metadata": {},
     "output_type": "execute_result"
    }
   ],
   "source": [
    "nodes.head()"
   ]
  },
  {
   "cell_type": "code",
   "execution_count": 47,
   "id": "609343bf-e9ec-444c-af58-0153fd698d96",
   "metadata": {},
   "outputs": [
    {
     "name": "stderr",
     "output_type": "stream",
     "text": [
      "<ipython-input-47-f67d311e14cc>:2: SettingWithCopyWarning: \n",
      "A value is trying to be set on a copy of a slice from a DataFrame.\n",
      "Try using .loc[row_indexer,col_indexer] = value instead\n",
      "\n",
      "See the caveats in the documentation: https://pandas.pydata.org/pandas-docs/stable/user_guide/indexing.html#returning-a-view-versus-a-copy\n",
      "  edges['Type'] = 'Directed'\n"
     ]
    },
    {
     "data": {
      "text/html": [
       "<div>\n",
       "<style scoped>\n",
       "    .dataframe tbody tr th:only-of-type {\n",
       "        vertical-align: middle;\n",
       "    }\n",
       "\n",
       "    .dataframe tbody tr th {\n",
       "        vertical-align: top;\n",
       "    }\n",
       "\n",
       "    .dataframe thead th {\n",
       "        text-align: right;\n",
       "    }\n",
       "</style>\n",
       "<table border=\"1\" class=\"dataframe\">\n",
       "  <thead>\n",
       "    <tr style=\"text-align: right;\">\n",
       "      <th></th>\n",
       "      <th>Source</th>\n",
       "      <th>Target</th>\n",
       "      <th>Type</th>\n",
       "    </tr>\n",
       "  </thead>\n",
       "  <tbody>\n",
       "    <tr>\n",
       "      <th>0</th>\n",
       "      <td>1058013520221089792</td>\n",
       "      <td>791951026265821184</td>\n",
       "      <td>Directed</td>\n",
       "    </tr>\n",
       "    <tr>\n",
       "      <th>1</th>\n",
       "      <td>163103234</td>\n",
       "      <td>83634722</td>\n",
       "      <td>Directed</td>\n",
       "    </tr>\n",
       "    <tr>\n",
       "      <th>2</th>\n",
       "      <td>981211555932114944</td>\n",
       "      <td>1312414394425511936</td>\n",
       "      <td>Directed</td>\n",
       "    </tr>\n",
       "    <tr>\n",
       "      <th>3</th>\n",
       "      <td>1294804859498176514</td>\n",
       "      <td>2880932962</td>\n",
       "      <td>Directed</td>\n",
       "    </tr>\n",
       "    <tr>\n",
       "      <th>4</th>\n",
       "      <td>806268226246217728</td>\n",
       "      <td>3317555339</td>\n",
       "      <td>Directed</td>\n",
       "    </tr>\n",
       "  </tbody>\n",
       "</table>\n",
       "</div>"
      ],
      "text/plain": [
       "                Source               Target      Type\n",
       "0  1058013520221089792   791951026265821184  Directed\n",
       "1            163103234             83634722  Directed\n",
       "2   981211555932114944  1312414394425511936  Directed\n",
       "3  1294804859498176514           2880932962  Directed\n",
       "4   806268226246217728           3317555339  Directed"
      ]
     },
     "execution_count": 47,
     "metadata": {},
     "output_type": "execute_result"
    }
   ],
   "source": [
    "edges.columns = ['Source', 'Target']\n",
    "edges['Type'] = 'Directed'\n",
    "edges.head()"
   ]
  },
  {
   "cell_type": "code",
   "execution_count": 48,
   "id": "6822f810-2eb3-4551-a273-6b57c65f2e4b",
   "metadata": {},
   "outputs": [
    {
     "data": {
      "text/plain": [
       "(8045, 11587)"
      ]
     },
     "execution_count": 48,
     "metadata": {},
     "output_type": "execute_result"
    }
   ],
   "source": [
    "nodes.shape[0], edges.shape[0]"
   ]
  },
  {
   "cell_type": "code",
   "execution_count": 49,
   "id": "d8a08e4d-2bac-4041-9ecf-aa00112ca413",
   "metadata": {},
   "outputs": [],
   "source": [
    "nodes.to_csv('nodes.csv', index=False)\n",
    "edges.to_csv('edges.csv', index=False)"
   ]
  },
  {
   "cell_type": "code",
   "execution_count": 18,
   "id": "8197245d-08b7-4e12-bca0-4fdf09e04dcf",
   "metadata": {},
   "outputs": [
    {
     "name": "stderr",
     "output_type": "stream",
     "text": [
      "<ipython-input-18-c69207a6a744>:2: SettingWithCopyWarning: \n",
      "A value is trying to be set on a copy of a slice from a DataFrame.\n",
      "Try using .loc[row_indexer,col_indexer] = value instead\n",
      "\n",
      "See the caveats in the documentation: https://pandas.pydata.org/pandas-docs/stable/user_guide/indexing.html#returning-a-view-versus-a-copy\n",
      "  reduced_tweets['proc_text'] = reduced_tweets['full_text'].map(lambda x: re.sub('[,\\.!?]', '', x).lower())\n"
     ]
    }
   ],
   "source": [
    "import re\n",
    "reduced_tweets['proc_text'] = reduced_tweets['full_text'].map(lambda x: re.sub('[,\\.!?]', '', x).lower())\n"
   ]
  },
  {
   "cell_type": "code",
   "execution_count": 19,
   "id": "0523f57f-9f5a-4d17-a520-10ecb3f24a1f",
   "metadata": {},
   "outputs": [
    {
     "data": {
      "text/plain": [
       "0        rt @enockformiga: senador omar aziz presidente...\n",
       "1        rt @bandnewsfmrio: witzel terá que explicar na...\n",
       "2        rt @opiniaoredetv: marcos rogério sobre a cpi ...\n",
       "3        rt @o_antagonista: élcio franco hoje assessor ...\n",
       "4        rt @nadanovonofront: um update importante: a c...\n",
       "                               ...                        \n",
       "13512             3º mês da cpi do covid  que loucura isso\n",
       "13513    rt @ricardobarrospp: tenho acompanhado as repe...\n",
       "13514    rt @folha: exclusiva i deputado fala em esquem...\n",
       "13515    rt @uolnoticias: \"acho que tem fortes indícios...\n",
       "13516    omar aziz fala sobre suposta gravação feita pe...\n",
       "Name: proc_text, Length: 13517, dtype: object"
      ]
     },
     "execution_count": 19,
     "metadata": {},
     "output_type": "execute_result"
    }
   ],
   "source": [
    "reduced_tweets['proc_text']"
   ]
  },
  {
   "cell_type": "code",
   "execution_count": 20,
   "id": "9d8a3c5e-8ea5-4395-9c51-464d8e0e89db",
   "metadata": {},
   "outputs": [
    {
     "name": "stderr",
     "output_type": "stream",
     "text": [
      "C:\\anaconda3\\lib\\site-packages\\gensim\\similarities\\__init__.py:15: UserWarning: The gensim.similarities.levenshtein submodule is disabled, because the optional Levenshtein package <https://pypi.org/project/python-Levenshtein/> is unavailable. Install Levenhstein (e.g. `pip install python-Levenshtein`) to suppress this warning.\n",
      "  warnings.warn(msg)\n"
     ]
    }
   ],
   "source": [
    "import gensim\n",
    "from gensim.utils import simple_preprocess\n",
    "import nltk\n",
    "from nltk.corpus import stopwords\n",
    "from nltk.stem import WordNetLemmatizer, SnowballStemmer\n",
    "from nltk.stem.porter import *"
   ]
  },
  {
   "cell_type": "code",
   "execution_count": 21,
   "id": "42565d6c-c0f3-4ca6-8465-3cb25e0ebaea",
   "metadata": {},
   "outputs": [],
   "source": [
    "stop_words = stopwords.words('portuguese')"
   ]
  },
  {
   "cell_type": "code",
   "execution_count": 22,
   "id": "2cbd560e-a746-4841-bb3a-7b095191ccff",
   "metadata": {},
   "outputs": [
    {
     "name": "stderr",
     "output_type": "stream",
     "text": [
      "<ipython-input-22-0568dda5e923>:1: SettingWithCopyWarning: \n",
      "A value is trying to be set on a copy of a slice from a DataFrame.\n",
      "Try using .loc[row_indexer,col_indexer] = value instead\n",
      "\n",
      "See the caveats in the documentation: https://pandas.pydata.org/pandas-docs/stable/user_guide/indexing.html#returning-a-view-versus-a-copy\n",
      "  reduced_tweets['proc_text'] = reduced_tweets['full_text'].map(lambda x: gensim.utils.simple_preprocess((x), deacc=True))\n"
     ]
    },
    {
     "data": {
      "text/plain": [
       "0        [rt, enockformiga, senador, omar, aziz, presid...\n",
       "1        [rt, bandnewsfmrio, witzel, tera, que, explica...\n",
       "2        [rt, opiniaoredetv, marcos, rogerio, sobre, cp...\n",
       "3        [rt, o_antagonista, elcio, franco, hoje, asses...\n",
       "4        [rt, nadanovonofront, um, update, importante, ...\n",
       "                               ...                        \n",
       "13512        [mes, da, cpi, do, covid, que, loucura, isso]\n",
       "13513    [rt, ricardobarrospp, tenho, acompanhado, as, ...\n",
       "13514    [rt, folha, exclusiva, deputado, fala, em, esq...\n",
       "13515    [rt, uolnoticias, acho, que, tem, fortes, indi...\n",
       "13516    [omar, aziz, fala, sobre, suposta, gravacao, f...\n",
       "Name: proc_text, Length: 13517, dtype: object"
      ]
     },
     "execution_count": 22,
     "metadata": {},
     "output_type": "execute_result"
    }
   ],
   "source": [
    "reduced_tweets['proc_text'] = reduced_tweets['full_text'].map(lambda x: gensim.utils.simple_preprocess((x), deacc=True))\n",
    "reduced_tweets['proc_text']"
   ]
  },
  {
   "cell_type": "code",
   "execution_count": 23,
   "id": "f363853f-2dec-4247-8213-eba7d29112e9",
   "metadata": {},
   "outputs": [],
   "source": [
    "def remove_stopwords(word_list):\n",
    "    return_list = []\n",
    "    for word in word_list:\n",
    "        if word not in stop_words:\n",
    "            return_list.append(word)\n",
    "    return return_list"
   ]
  },
  {
   "cell_type": "code",
   "execution_count": 24,
   "id": "22dba941-aeff-4065-b61d-471ab0e5d0fd",
   "metadata": {},
   "outputs": [
    {
     "name": "stderr",
     "output_type": "stream",
     "text": [
      "<ipython-input-24-40cbdd0aa6c6>:1: SettingWithCopyWarning: \n",
      "A value is trying to be set on a copy of a slice from a DataFrame.\n",
      "Try using .loc[row_indexer,col_indexer] = value instead\n",
      "\n",
      "See the caveats in the documentation: https://pandas.pydata.org/pandas-docs/stable/user_guide/indexing.html#returning-a-view-versus-a-copy\n",
      "  reduced_tweets['proc_text'] = reduced_tweets['proc_text'].map(lambda x: remove_stopwords(x))\n"
     ]
    },
    {
     "data": {
      "text/plain": [
       "0        [rt, enockformiga, senador, omar, aziz, presid...\n",
       "1        [rt, bandnewsfmrio, witzel, tera, explicar, ju...\n",
       "2        [rt, opiniaoredetv, marcos, rogerio, sobre, cp...\n",
       "3        [rt, o_antagonista, elcio, franco, hoje, asses...\n",
       "4        [rt, nadanovonofront, update, importante, cans...\n",
       "                               ...                        \n",
       "13512                           [mes, cpi, covid, loucura]\n",
       "13513    [rt, ricardobarrospp, acompanhado, repercussoe...\n",
       "13514    [rt, folha, exclusiva, deputado, fala, esquema...\n",
       "13515    [rt, uolnoticias, acho, fortes, indicios, prev...\n",
       "13516    [omar, aziz, fala, sobre, suposta, gravacao, f...\n",
       "Name: proc_text, Length: 13517, dtype: object"
      ]
     },
     "execution_count": 24,
     "metadata": {},
     "output_type": "execute_result"
    }
   ],
   "source": [
    "reduced_tweets['proc_text'] = reduced_tweets['proc_text'].map(lambda x: remove_stopwords(x))\n",
    "reduced_tweets['proc_text']"
   ]
  },
  {
   "cell_type": "code",
   "execution_count": 25,
   "id": "21fa30c7-9687-4020-b9a9-0f6bcf1d26b1",
   "metadata": {},
   "outputs": [],
   "source": [
    "def lemmatize_text(word_list):\n",
    "    lem_words = []\n",
    "    for word in word_list:\n",
    "        lem_words.append(WordNetLemmatizer().lemmatize(word))\n",
    "    return lem_words"
   ]
  },
  {
   "cell_type": "code",
   "execution_count": 26,
   "id": "d1866612-9b33-485e-bcce-e0a39a9d7093",
   "metadata": {},
   "outputs": [
    {
     "name": "stderr",
     "output_type": "stream",
     "text": [
      "<ipython-input-26-c6520cdc2eb4>:1: SettingWithCopyWarning: \n",
      "A value is trying to be set on a copy of a slice from a DataFrame.\n",
      "Try using .loc[row_indexer,col_indexer] = value instead\n",
      "\n",
      "See the caveats in the documentation: https://pandas.pydata.org/pandas-docs/stable/user_guide/indexing.html#returning-a-view-versus-a-copy\n",
      "  reduced_tweets['proc_text'] = reduced_tweets['proc_text'].map(lambda x: lemmatize_text(x))\n"
     ]
    },
    {
     "data": {
      "text/plain": [
       "0        [rt, enockformiga, senador, omar, aziz, presid...\n",
       "1        [rt, bandnewsfmrio, witzel, tera, explicar, ju...\n",
       "2        [rt, opiniaoredetv, marcos, rogerio, sobre, cp...\n",
       "3        [rt, o_antagonista, elcio, franco, hoje, asses...\n",
       "4        [rt, nadanovonofront, update, importante, cans...\n",
       "                               ...                        \n",
       "13512                            [me, cpi, covid, loucura]\n",
       "13513    [rt, ricardobarrospp, acompanhado, repercussoe...\n",
       "13514    [rt, folha, exclusiva, deputado, fala, esquema...\n",
       "13515    [rt, uolnoticias, acho, fortes, indicios, prev...\n",
       "13516    [omar, aziz, fala, sobre, suposta, gravacao, f...\n",
       "Name: proc_text, Length: 13517, dtype: object"
      ]
     },
     "execution_count": 26,
     "metadata": {},
     "output_type": "execute_result"
    }
   ],
   "source": [
    "reduced_tweets['proc_text'] = reduced_tweets['proc_text'].map(lambda x: lemmatize_text(x))\n",
    "reduced_tweets['proc_text']"
   ]
  },
  {
   "cell_type": "code",
   "execution_count": 27,
   "id": "71245e78-8e6a-4aa4-b5c8-1063e8094634",
   "metadata": {},
   "outputs": [
    {
     "data": {
      "text/plain": [
       "7955"
      ]
     },
     "execution_count": 27,
     "metadata": {},
     "output_type": "execute_result"
    }
   ],
   "source": [
    "bag_of_words = gensim.corpora.Dictionary(reduced_tweets['proc_text'])\n",
    "len(bag_of_words)"
   ]
  },
  {
   "cell_type": "code",
   "execution_count": 28,
   "id": "de249431-195e-42f2-bba0-2cb5e3966838",
   "metadata": {},
   "outputs": [],
   "source": [
    "bow_corpus = [bag_of_words.doc2bow(text) for text in reduced_tweets['proc_text']]"
   ]
  },
  {
   "cell_type": "code",
   "execution_count": 29,
   "id": "7023a363-f4a8-44c6-8e32-5da1a0feffec",
   "metadata": {},
   "outputs": [
    {
     "data": {
      "text/plain": [
       "[(0, 1),\n",
       " (1, 1),\n",
       " (2, 1),\n",
       " (3, 2),\n",
       " (4, 1),\n",
       " (5, 1),\n",
       " (6, 1),\n",
       " (7, 1),\n",
       " (8, 1),\n",
       " (9, 1),\n",
       " (10, 1),\n",
       " (11, 1),\n",
       " (12, 1)]"
      ]
     },
     "execution_count": 29,
     "metadata": {},
     "output_type": "execute_result"
    }
   ],
   "source": [
    "bow_corpus[4310]"
   ]
  },
  {
   "cell_type": "code",
   "execution_count": 30,
   "id": "95ee7a08-fa25-4e4e-88f2-0571e11c1829",
   "metadata": {},
   "outputs": [
    {
     "name": "stdout",
     "output_type": "stream",
     "text": [
      "[(0, 0.23754305005295498),\n",
      " (1, 0.03746848516597292),\n",
      " (2, 0.025353741811212083),\n",
      " (3, 0.5878057642322595),\n",
      " (4, 0.29342448831148765),\n",
      " (5, 0.29486602482060725),\n",
      " (6, 0.24191449771985138),\n",
      " (7, 0.2605155498115615),\n",
      " (8, 0.2971882396928475),\n",
      " (9, 0.29694144952968515),\n",
      " (10, 0.016758113502935674),\n",
      " (11, 0.26677786448856616),\n",
      " (12, 0.22052157912002993)]\n"
     ]
    }
   ],
   "source": [
    "from gensim import corpora, models\n",
    "from pprint import pprint\n",
    "\n",
    "tfidf = models.TfidfModel(bow_corpus)\n",
    "corpus_tfidf = tfidf[bow_corpus]\n",
    "\n",
    "for doc in corpus_tfidf:\n",
    "    pprint(doc)\n",
    "    break"
   ]
  },
  {
   "cell_type": "code",
   "execution_count": 31,
   "id": "96d6fe3d-1638-42b0-aae0-3bbaef623771",
   "metadata": {},
   "outputs": [],
   "source": [
    "lda_model = gensim.models.LdaMulticore(bow_corpus, num_topics=10, id2word=bag_of_words, passes=2, workers=2)"
   ]
  },
  {
   "cell_type": "code",
   "execution_count": 32,
   "id": "b8b7f99e-583b-491d-8e1f-8497e3fa932f",
   "metadata": {},
   "outputs": [
    {
     "name": "stdout",
     "output_type": "stream",
     "text": [
      "Topic: 0 \n",
      "Words: 0.072*\"co\" + 0.071*\"http\" + 0.068*\"cpi\" + 0.054*\"rt\" + 0.044*\"covid\" + 0.023*\"nasceu\" + 0.019*\"entenda\" + 0.019*\"relator\" + 0.017*\"virou\" + 0.017*\"assunto\"\n",
      "Topic: 1 \n",
      "Words: 0.061*\"cpi\" + 0.055*\"covid\" + 0.050*\"rt\" + 0.034*\"dinheiro\" + 0.030*\"co\" + 0.030*\"http\" + 0.023*\"presidente\" + 0.023*\"aziz\" + 0.023*\"omar\" + 0.020*\"brasil\"\n",
      "Topic: 2 \n",
      "Words: 0.066*\"rt\" + 0.057*\"cpi\" + 0.057*\"covid\" + 0.048*\"governo\" + 0.048*\"pandemia\" + 0.047*\"omissoes\" + 0.047*\"acoes\" + 0.047*\"apurar\" + 0.047*\"randolfeap\" + 0.047*\"alem\"\n",
      "Topic: 3 \n",
      "Words: 0.065*\"rt\" + 0.059*\"compra\" + 0.057*\"maior\" + 0.057*\"sobre\" + 0.037*\"imunizantes\" + 0.036*\"india\" + 0.036*\"vacinas\" + 0.036*\"tema\" + 0.036*\"emenda\" + 0.036*\"ricardobarrospp\"\n",
      "Topic: 4 \n",
      "Words: 0.052*\"cpi\" + 0.052*\"rt\" + 0.051*\"covid\" + 0.026*\"http\" + 0.026*\"co\" + 0.019*\"ser\" + 0.014*\"corrupcao\" + 0.014*\"denuncias\" + 0.014*\"simonetebetms\" + 0.011*\"fase\"\n",
      "Topic: 5 \n",
      "Words: 0.058*\"cpi\" + 0.054*\"co\" + 0.051*\"http\" + 0.051*\"covid\" + 0.049*\"rt\" + 0.022*\"ex\" + 0.018*\"mulher\" + 0.018*\"pazuello\" + 0.016*\"ricardo\" + 0.016*\"barros\"\n",
      "Topic: 6 \n",
      "Words: 0.075*\"cpi\" + 0.063*\"rt\" + 0.059*\"covid\" + 0.024*\"comissao\" + 0.021*\"opiniaoredetv\" + 0.020*\"atencao\" + 0.019*\"sobre\" + 0.018*\"primeiro\" + 0.018*\"rogerio\" + 0.017*\"cloroquina\"\n",
      "Topic: 7 \n",
      "Words: 0.077*\"cpi\" + 0.060*\"covid\" + 0.055*\"rt\" + 0.027*\"segundo\" + 0.025*\"ser\" + 0.025*\"randolfe\" + 0.021*\"vai\" + 0.019*\"dia\" + 0.019*\"lazaro\" + 0.016*\"requerimento\"\n",
      "Topic: 8 \n",
      "Words: 0.051*\"rt\" + 0.048*\"cpi\" + 0.032*\"covid\" + 0.030*\"http\" + 0.030*\"nao\" + 0.024*\"co\" + 0.020*\"covaxin\" + 0.018*\"vacina\" + 0.016*\"vai\" + 0.015*\"miranda\"\n",
      "Topic: 9 \n",
      "Words: 0.060*\"cpi\" + 0.059*\"covid\" + 0.058*\"rt\" + 0.026*\"senador\" + 0.024*\"randolfeap\" + 0.024*\"dia\" + 0.024*\"diante\" + 0.024*\"porque\" + 0.023*\"pediu\" + 0.023*\"fundamental\"\n"
     ]
    }
   ],
   "source": [
    "for idx, topic in lda_model.print_topics(-1):\n",
    "    print('Topic: {} \\nWords: {}'.format(idx, topic))"
   ]
  },
  {
   "cell_type": "code",
   "execution_count": 99,
   "id": "e6f1ad8e-6b8b-473a-9286-515b59441670",
   "metadata": {},
   "outputs": [
    {
     "data": {
      "text/plain": [
       "{'topic_1': ['co',\n",
       "  'http',\n",
       "  'cpi',\n",
       "  'rt',\n",
       "  'covid',\n",
       "  'nasceu',\n",
       "  'entenda',\n",
       "  'relator',\n",
       "  'virou',\n",
       "  'assunto'],\n",
       " 'topic_2': ['cpi',\n",
       "  'covid',\n",
       "  'rt',\n",
       "  'dinheiro',\n",
       "  'co',\n",
       "  'http',\n",
       "  'presidente',\n",
       "  'aziz',\n",
       "  'omar',\n",
       "  'brasil'],\n",
       " 'topic_3': ['rt',\n",
       "  'cpi',\n",
       "  'covid',\n",
       "  'governo',\n",
       "  'pandemia',\n",
       "  'omissoes',\n",
       "  'acoes',\n",
       "  'apurar',\n",
       "  'randolfeap',\n",
       "  'alem'],\n",
       " 'topic_4': ['rt',\n",
       "  'compra',\n",
       "  'maior',\n",
       "  'sobre',\n",
       "  'imunizantes',\n",
       "  'india',\n",
       "  'vacinas',\n",
       "  'tema',\n",
       "  'emenda',\n",
       "  'ricardobarrospp'],\n",
       " 'topic_5': ['cpi',\n",
       "  'rt',\n",
       "  'covid',\n",
       "  'http',\n",
       "  'co',\n",
       "  'ser',\n",
       "  'corrupcao',\n",
       "  'denuncias',\n",
       "  'simonetebetms',\n",
       "  'fase'],\n",
       " 'topic_6': ['cpi',\n",
       "  'co',\n",
       "  'http',\n",
       "  'covid',\n",
       "  'rt',\n",
       "  'ex',\n",
       "  'mulher',\n",
       "  'pazuello',\n",
       "  'ricardo',\n",
       "  'barros'],\n",
       " 'topic_7': ['cpi',\n",
       "  'rt',\n",
       "  'covid',\n",
       "  'comissao',\n",
       "  'opiniaoredetv',\n",
       "  'atencao',\n",
       "  'sobre',\n",
       "  'primeiro',\n",
       "  'rogerio',\n",
       "  'cloroquina'],\n",
       " 'topic_8': ['cpi',\n",
       "  'covid',\n",
       "  'rt',\n",
       "  'segundo',\n",
       "  'ser',\n",
       "  'randolfe',\n",
       "  'vai',\n",
       "  'dia',\n",
       "  'lazaro',\n",
       "  'requerimento'],\n",
       " 'topic_9': ['rt',\n",
       "  'cpi',\n",
       "  'covid',\n",
       "  'http',\n",
       "  'nao',\n",
       "  'co',\n",
       "  'covaxin',\n",
       "  'vacina',\n",
       "  'vai',\n",
       "  'miranda'],\n",
       " 'topic_10': ['cpi',\n",
       "  'covid',\n",
       "  'rt',\n",
       "  'senador',\n",
       "  'randolfeap',\n",
       "  'dia',\n",
       "  'diante',\n",
       "  'porque',\n",
       "  'pediu',\n",
       "  'fundamental']}"
      ]
     },
     "execution_count": 99,
     "metadata": {},
     "output_type": "execute_result"
    }
   ],
   "source": [
    "obj = {\n",
    "    'topic_1' : [\"co\",\"http\", \"cpi\", \"rt\", \"covid\", \"nasceu\", \"entenda\", \"relator\", \"virou\", \"assunto\"],\n",
    "    'topic_2' : [\"cpi\",\"covid\", \"rt\", \"dinheiro\", \"co\", \"http\", \"presidente\",  \"aziz\", \"omar\", \"brasil\"],\n",
    "    'topic_3' : [\"rt\",\"cpi\",\"covid\",\"governo\",\"pandemia\",\"omissoes\",\"acoes\",\"apurar\",\"randolfeap\",\"alem\"],\n",
    "    'topic_4' : [\"rt\",\"compra\",\"maior\",\"sobre\",\"imunizantes\",\"india\",\"vacinas\",\"tema\",\"emenda\",\"ricardobarrospp\"],\n",
    "    'topic_5' : [\"cpi\",\"rt\",\"covid\",\"http\",\"co\",\"ser\",\"corrupcao\",\"denuncias\",\"simonetebetms\",\"fase\"],\n",
    "    'topic_6' : [\"cpi\",\"co\", \"http\", \"covid\", \"rt\", \"ex\", \"mulher\", \"pazuello\", \"ricardo\", \"barros\"],\n",
    "    'topic_7' : [\"cpi\", \"rt\", \"covid\", \"comissao\", \"opiniaoredetv\", \"atencao\", \"sobre\", \"primeiro\", \"rogerio\", \"cloroquina\"],\n",
    "    'topic_8' : [\"cpi\",\"covid\",\"rt\",\"segundo\",\"ser\",\"randolfe\",\"vai\",\"dia\",\"lazaro\",\"requerimento\"],\n",
    "    'topic_9' : [\"rt\",\"cpi\",\"covid\",\"http\",\"nao\",\"co\",\"covaxin\",\"vacina\",\"vai\",\"miranda\"],\n",
    "    'topic_10' : [\"cpi\",\"covid\",\"rt\",\"senador\",\"randolfeap\",\"dia\",\"diante\", \"porque\",\"pediu\",\"fundamental\"]\n",
    "}\n",
    "\n",
    "obj"
   ]
  },
  {
   "cell_type": "code",
   "execution_count": 100,
   "id": "aa1875a7-0535-4273-8ec9-e485e6d4b1cd",
   "metadata": {},
   "outputs": [],
   "source": [
    "teopic_df = pd.DataFrame(obj)"
   ]
  },
  {
   "cell_type": "code",
   "execution_count": 102,
   "id": "fb735c2f-eb1e-4c2b-b92a-bd230196abb0",
   "metadata": {},
   "outputs": [
    {
     "data": {
      "text/html": [
       "<div>\n",
       "<style scoped>\n",
       "    .dataframe tbody tr th:only-of-type {\n",
       "        vertical-align: middle;\n",
       "    }\n",
       "\n",
       "    .dataframe tbody tr th {\n",
       "        vertical-align: top;\n",
       "    }\n",
       "\n",
       "    .dataframe thead th {\n",
       "        text-align: right;\n",
       "    }\n",
       "</style>\n",
       "<table border=\"1\" class=\"dataframe\">\n",
       "  <thead>\n",
       "    <tr style=\"text-align: right;\">\n",
       "      <th></th>\n",
       "      <th>0</th>\n",
       "      <th>1</th>\n",
       "      <th>2</th>\n",
       "      <th>3</th>\n",
       "      <th>4</th>\n",
       "      <th>5</th>\n",
       "      <th>6</th>\n",
       "      <th>7</th>\n",
       "      <th>8</th>\n",
       "      <th>9</th>\n",
       "    </tr>\n",
       "  </thead>\n",
       "  <tbody>\n",
       "    <tr>\n",
       "      <th>topic_1</th>\n",
       "      <td>co</td>\n",
       "      <td>http</td>\n",
       "      <td>cpi</td>\n",
       "      <td>rt</td>\n",
       "      <td>covid</td>\n",
       "      <td>nasceu</td>\n",
       "      <td>entenda</td>\n",
       "      <td>relator</td>\n",
       "      <td>virou</td>\n",
       "      <td>assunto</td>\n",
       "    </tr>\n",
       "    <tr>\n",
       "      <th>topic_2</th>\n",
       "      <td>cpi</td>\n",
       "      <td>covid</td>\n",
       "      <td>rt</td>\n",
       "      <td>dinheiro</td>\n",
       "      <td>co</td>\n",
       "      <td>http</td>\n",
       "      <td>presidente</td>\n",
       "      <td>aziz</td>\n",
       "      <td>omar</td>\n",
       "      <td>brasil</td>\n",
       "    </tr>\n",
       "    <tr>\n",
       "      <th>topic_3</th>\n",
       "      <td>rt</td>\n",
       "      <td>cpi</td>\n",
       "      <td>covid</td>\n",
       "      <td>governo</td>\n",
       "      <td>pandemia</td>\n",
       "      <td>omissoes</td>\n",
       "      <td>acoes</td>\n",
       "      <td>apurar</td>\n",
       "      <td>randolfeap</td>\n",
       "      <td>alem</td>\n",
       "    </tr>\n",
       "    <tr>\n",
       "      <th>topic_4</th>\n",
       "      <td>rt</td>\n",
       "      <td>compra</td>\n",
       "      <td>maior</td>\n",
       "      <td>sobre</td>\n",
       "      <td>imunizantes</td>\n",
       "      <td>india</td>\n",
       "      <td>vacinas</td>\n",
       "      <td>tema</td>\n",
       "      <td>emenda</td>\n",
       "      <td>ricardobarrospp</td>\n",
       "    </tr>\n",
       "    <tr>\n",
       "      <th>topic_5</th>\n",
       "      <td>cpi</td>\n",
       "      <td>rt</td>\n",
       "      <td>covid</td>\n",
       "      <td>http</td>\n",
       "      <td>co</td>\n",
       "      <td>ser</td>\n",
       "      <td>corrupcao</td>\n",
       "      <td>denuncias</td>\n",
       "      <td>simonetebetms</td>\n",
       "      <td>fase</td>\n",
       "    </tr>\n",
       "    <tr>\n",
       "      <th>topic_6</th>\n",
       "      <td>cpi</td>\n",
       "      <td>co</td>\n",
       "      <td>http</td>\n",
       "      <td>covid</td>\n",
       "      <td>rt</td>\n",
       "      <td>ex</td>\n",
       "      <td>mulher</td>\n",
       "      <td>pazuello</td>\n",
       "      <td>ricardo</td>\n",
       "      <td>barros</td>\n",
       "    </tr>\n",
       "    <tr>\n",
       "      <th>topic_7</th>\n",
       "      <td>cpi</td>\n",
       "      <td>rt</td>\n",
       "      <td>covid</td>\n",
       "      <td>comissao</td>\n",
       "      <td>opiniaoredetv</td>\n",
       "      <td>atencao</td>\n",
       "      <td>sobre</td>\n",
       "      <td>primeiro</td>\n",
       "      <td>rogerio</td>\n",
       "      <td>cloroquina</td>\n",
       "    </tr>\n",
       "    <tr>\n",
       "      <th>topic_8</th>\n",
       "      <td>cpi</td>\n",
       "      <td>covid</td>\n",
       "      <td>rt</td>\n",
       "      <td>segundo</td>\n",
       "      <td>ser</td>\n",
       "      <td>randolfe</td>\n",
       "      <td>vai</td>\n",
       "      <td>dia</td>\n",
       "      <td>lazaro</td>\n",
       "      <td>requerimento</td>\n",
       "    </tr>\n",
       "    <tr>\n",
       "      <th>topic_9</th>\n",
       "      <td>rt</td>\n",
       "      <td>cpi</td>\n",
       "      <td>covid</td>\n",
       "      <td>http</td>\n",
       "      <td>nao</td>\n",
       "      <td>co</td>\n",
       "      <td>covaxin</td>\n",
       "      <td>vacina</td>\n",
       "      <td>vai</td>\n",
       "      <td>miranda</td>\n",
       "    </tr>\n",
       "    <tr>\n",
       "      <th>topic_10</th>\n",
       "      <td>cpi</td>\n",
       "      <td>covid</td>\n",
       "      <td>rt</td>\n",
       "      <td>senador</td>\n",
       "      <td>randolfeap</td>\n",
       "      <td>dia</td>\n",
       "      <td>diante</td>\n",
       "      <td>porque</td>\n",
       "      <td>pediu</td>\n",
       "      <td>fundamental</td>\n",
       "    </tr>\n",
       "  </tbody>\n",
       "</table>\n",
       "</div>"
      ],
      "text/plain": [
       "            0       1      2         3              4         5           6  \\\n",
       "topic_1    co    http    cpi        rt          covid    nasceu     entenda   \n",
       "topic_2   cpi   covid     rt  dinheiro             co      http  presidente   \n",
       "topic_3    rt     cpi  covid   governo       pandemia  omissoes       acoes   \n",
       "topic_4    rt  compra  maior     sobre    imunizantes     india     vacinas   \n",
       "topic_5   cpi      rt  covid      http             co       ser   corrupcao   \n",
       "topic_6   cpi      co   http     covid             rt        ex      mulher   \n",
       "topic_7   cpi      rt  covid  comissao  opiniaoredetv   atencao       sobre   \n",
       "topic_8   cpi   covid     rt   segundo            ser  randolfe         vai   \n",
       "topic_9    rt     cpi  covid      http            nao        co     covaxin   \n",
       "topic_10  cpi   covid     rt   senador     randolfeap       dia      diante   \n",
       "\n",
       "                  7              8                9  \n",
       "topic_1     relator          virou          assunto  \n",
       "topic_2        aziz           omar           brasil  \n",
       "topic_3      apurar     randolfeap             alem  \n",
       "topic_4        tema         emenda  ricardobarrospp  \n",
       "topic_5   denuncias  simonetebetms             fase  \n",
       "topic_6    pazuello        ricardo           barros  \n",
       "topic_7    primeiro        rogerio       cloroquina  \n",
       "topic_8         dia         lazaro     requerimento  \n",
       "topic_9      vacina            vai          miranda  \n",
       "topic_10     porque          pediu      fundamental  "
      ]
     },
     "execution_count": 102,
     "metadata": {},
     "output_type": "execute_result"
    }
   ],
   "source": [
    "teopic_df.T"
   ]
  },
  {
   "cell_type": "code",
   "execution_count": 51,
   "id": "ab70e252-1058-4c03-a6b9-ebf88a8a5f66",
   "metadata": {},
   "outputs": [
    {
     "data": {
      "text/plain": [
       "(13517, 31)"
      ]
     },
     "execution_count": 51,
     "metadata": {},
     "output_type": "execute_result"
    }
   ],
   "source": [
    "tweets.shape"
   ]
  },
  {
   "cell_type": "code",
   "execution_count": 53,
   "id": "2dfdffc4-7d73-410e-8194-eeaed6c97d7f",
   "metadata": {},
   "outputs": [],
   "source": [
    "hashtags = pd.Series(tweets['entities'].map(lambda x: x['hashtags']))"
   ]
  },
  {
   "cell_type": "code",
   "execution_count": 56,
   "id": "d03d2806-a95b-4f71-8e8d-a362c4d6c4db",
   "metadata": {},
   "outputs": [
    {
     "data": {
      "text/plain": [
       "array([list([]), list([]), list([]), ..., list([]),\n",
       "       list([{'text': 'UOLNews', 'indices': [118, 126]}]),\n",
       "       list([{'text': 'UOLNews', 'indices': [262, 270]}])], dtype=object)"
      ]
     },
     "execution_count": 56,
     "metadata": {},
     "output_type": "execute_result"
    }
   ],
   "source": [
    "hashtags.values"
   ]
  },
  {
   "cell_type": "code",
   "execution_count": 65,
   "id": "0dea8a4f-a49e-4027-80a7-2ad00dd6bacc",
   "metadata": {},
   "outputs": [
    {
     "data": {
      "text/plain": [
       "array([list([]), list([]), list([]), ..., list([]),\n",
       "       list([{'text': 'UOLNews', 'indices': [118, 126]}]),\n",
       "       list([{'text': 'UOLNews', 'indices': [262, 270]}])], dtype=object)"
      ]
     },
     "execution_count": 65,
     "metadata": {},
     "output_type": "execute_result"
    }
   ],
   "source": [
    "hashtags.values"
   ]
  },
  {
   "cell_type": "code",
   "execution_count": 84,
   "id": "6d93a90b-e1d6-4e5c-9445-ef8a6c1e6f61",
   "metadata": {},
   "outputs": [],
   "source": [
    "hashtag_list = []\n",
    "for hash_list in hashtags.values:\n",
    "    if hash_list != []:\n",
    "        for hashtag in hash_list:\n",
    "            hashtag_list.append(hashtag['text'])"
   ]
  },
  {
   "cell_type": "code",
   "execution_count": 87,
   "id": "a8d3b80f-d166-4b82-8f47-d2429ad36b05",
   "metadata": {},
   "outputs": [
    {
     "data": {
      "text/plain": [
       "(2594,)"
      ]
     },
     "execution_count": 87,
     "metadata": {},
     "output_type": "execute_result"
    }
   ],
   "source": [
    "hashtag_list = pd.Series(hashtag_list)\n",
    "hashtag_list.shape"
   ]
  },
  {
   "cell_type": "code",
   "execution_count": 89,
   "id": "5ada7abd-2fb1-491b-bd73-6984f5db6d37",
   "metadata": {},
   "outputs": [
    {
     "data": {
      "text/plain": [
       "(266,)"
      ]
     },
     "execution_count": 89,
     "metadata": {},
     "output_type": "execute_result"
    }
   ],
   "source": [
    "hashtag_list.value_counts().shape"
   ]
  },
  {
   "cell_type": "code",
   "execution_count": 91,
   "id": "c0e8adfb-c352-4522-95b4-f7d8343e06fe",
   "metadata": {},
   "outputs": [
    {
     "data": {
      "text/plain": [
       "RenanSabiaDeTudo           669\n",
       "CPIdaPandemia              283\n",
       "CovaxinGate                277\n",
       "BolsonaroCorrupto          266\n",
       "PEC32éDeforma              114\n",
       "CPIdaCovid                  97\n",
       "UOLEntrevista               96\n",
       "CPI                         80\n",
       "Covaxin                     68\n",
       "G1                          67\n",
       "VotoImpressoAuditavelJa     30\n",
       "PachecoCovarde              28\n",
       "dtype: int64"
      ]
     },
     "execution_count": 91,
     "metadata": {},
     "output_type": "execute_result"
    }
   ],
   "source": [
    "hashtag_list.value_counts().head(12)"
   ]
  },
  {
   "cell_type": "code",
   "execution_count": null,
   "id": "634b28e3-7516-4c0c-8224-2a59ac2dd1cb",
   "metadata": {},
   "outputs": [],
   "source": []
  }
 ],
 "metadata": {
  "kernelspec": {
   "display_name": "Python 3",
   "language": "python",
   "name": "python3"
  },
  "language_info": {
   "codemirror_mode": {
    "name": "ipython",
    "version": 3
   },
   "file_extension": ".py",
   "mimetype": "text/x-python",
   "name": "python",
   "nbconvert_exporter": "python",
   "pygments_lexer": "ipython3",
   "version": "3.8.5"
  }
 },
 "nbformat": 4,
 "nbformat_minor": 5
}

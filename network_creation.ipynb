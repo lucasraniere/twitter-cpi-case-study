{
 "cells": [
  {
   "cell_type": "markdown",
   "id": "4f716f2a-4063-491e-8bad-3cbbfc6b24bd",
   "metadata": {},
   "source": [
    "# __Networks Creation__"
   ]
  },
  {
   "cell_type": "markdown",
   "id": "adfee339-c6dc-4e7f-a2c3-3c7abb0c3aac",
   "metadata": {},
   "source": [
    "Notebook to create the Reply, Quoted Retweet, and Mentions Networks:\n",
    "\n",
    "- Reply Network: User A replies to user B creates edge A->B\n",
    "- Quote Retweet Network: User A retweets with quote user B creates edge A->B\n",
    "- Mention Network: User A mention user B creates edge A->B\n",
    "\n",
    "Creates files to NetworkX and Gephi."
   ]
  },
  {
   "cell_type": "code",
   "execution_count": 1,
   "id": "bcc6e2c9-643b-488c-8f40-7e45570de9dc",
   "metadata": {},
   "outputs": [],
   "source": [
    "import pandas as pd\n",
    "import numpy as np\n",
    "import networkx as nx\n",
    "import os, datetime"
   ]
  },
  {
   "cell_type": "code",
   "execution_count": 2,
   "id": "cfb3faf2-1d03-4583-8e7e-7235a7085937",
   "metadata": {},
   "outputs": [],
   "source": [
    "DATA_PATH_TT = 'data/tweets/'\n",
    "DATA_PATH_NT = 'data/networks/'"
   ]
  },
  {
   "cell_type": "code",
   "execution_count": 3,
   "id": "654f11ff-7773-4961-9bd5-af94d3a661b9",
   "metadata": {},
   "outputs": [],
   "source": [
    "def create_networks(tweets_df):\n",
    "    nodes = []\n",
    "    edges = []\n",
    "    for u, rt, qrt, ir, mu in tweets_df[['user', 'retweetedTweet', 'quotedTweet', 'inReplyToUser', 'mentionedUsers']].values:\n",
    "        user = eval(u)\n",
    "        retweeted = eval(rt)\n",
    "        quoted = eval(qrt)\n",
    "        in_reply = eval(ir)\n",
    "        mentioned = eval(mu)\n",
    "        nodes.append((user['username'], user['displayname'], user['description'], user['id']))\n",
    "        if retweeted:\n",
    "            if user['username'] != retweeted['user']['username']:\n",
    "                edges.append((user['username'], retweeted['user']['username'], 'retweet'))\n",
    "                nodes.append((retweeted['user']['username'], retweeted['user']['displayname'], retweeted['user']['description'], retweeted['user']['id']))\n",
    "        if quoted:\n",
    "            if user['username'] != quoted['user']['username']:\n",
    "                edges.append((user['username'], quoted['user']['username'], 'quoted_rt'))\n",
    "                nodes.append((quoted['user']['username'], quoted['user']['displayname'], quoted['user']['description'], quoted['user']['id']))\n",
    "        if in_reply:\n",
    "            if user['username'] != in_reply['username']:\n",
    "                edges.append((user['username'], in_reply['username'], 'reply'))\n",
    "                nodes.append((in_reply['username'], in_reply['displayname'], in_reply['description'], in_reply['id']))\n",
    "        if mentioned:\n",
    "            for r_user in mentioned:\n",
    "                if user['username'] != r_user['username']:\n",
    "                    edges.append((user['username'], r_user['username'], 'mention'))\n",
    "                    nodes.append((r_user['username'], r_user['displayname'], r_user['description'], r_user['id']))\n",
    "                \n",
    "    nodes_df = pd.DataFrame(nodes, columns=['Id', 'DisplayName', 'Description', 'TtId'])\n",
    "    edges_df = pd.DataFrame(edges, columns=['Source', 'Target', 'Type'])\n",
    "    nodes_df.drop_duplicates(subset=['Id'], keep='last', ignore_index=True, inplace=True)\n",
    "    \n",
    "    return nodes_df, edges_df\n",
    "\n",
    "def df_2_networkx(nodes, edges):\n",
    "    w_edges = []\n",
    "    G = nx.DiGraph()\n",
    "    for usr, disp_n, desc, tt_id in nodes.values:\n",
    "        G.add_node(usr, displayname=disp_n, description=(desc if desc else ''), tt_id=tt_id)\n",
    "    edges_tuples = [tuple(x) for x in edges.to_numpy()]\n",
    "    edges_count = pd.Series(edges_tuples).value_counts()\n",
    "    for i in range(edges_count.shape[0]):\n",
    "        w_edges.append(edges_count.index[i]+(edges_count.values[i],))\n",
    "    for edge in w_edges:\n",
    "        G.add_edge(edge[0], edge[1], int_type=edge[2], weight=edge[3])\n",
    "        \n",
    "    return G\n",
    "        \n",
    "def network_2_file(tweets_df, data_path):\n",
    "    nodes, edges = create_networks(tweets_df)\n",
    "    edges_rt = edges.query('Type == \"retweet\"')\n",
    "    edges_qt = edges.query('Type == \"quoted_rt\"')\n",
    "    edges_rep = edges.query('Type == \"reply\"')\n",
    "    edges_mn = edges.query('Type == \"mention\"')\n",
    "    nodes.to_csv(f'{data_path}/gephi_nodes.csv', index=False)\n",
    "    edges_rt.to_csv(f'{data_path}/gephi_edges_rt.csv', index=False)\n",
    "    edges_qt.to_csv(f'{data_path}/gephi_edges_quote.csv', index=False)\n",
    "    edges_rep.to_csv(f'{data_path}/gephi_edges_rep.csv', index=False)\n",
    "    edges_mn.to_csv(f'{data_path}/gephi_edges_mention.csv', index=False)\n",
    "    #G = df_2_networkx(nodes, edges)\n",
    "    #nx.write_gexf(G, f'{data_path}/network.gexf')\n"
   ]
  },
  {
   "cell_type": "code",
   "execution_count": 4,
   "id": "d06cc439-9bae-4744-83f3-7d7cc690bf07",
   "metadata": {},
   "outputs": [
    {
     "name": "stdout",
     "output_type": "stream",
     "text": [
      "['week_01', 'week_02', 'week_03', 'week_04', 'week_05', 'week_06', 'week_07', 'week_08', 'week_09', 'week_10', 'week_11', 'week_12', 'week_pr_01', 'week_pr_02', 'week_13', 'week_14', 'week_15', 'week_16', 'week_17', 'week_pr_03', 'week_18', 'week_19', 'week_20', 'week_21', 'week_pr_04', 'week_22']\n"
     ]
    }
   ],
   "source": [
    "week_list = [week_dir for week_dir in os.listdir(DATA_PATH_TT) if os.path.isdir(DATA_PATH_TT+week_dir) and not week_dir.endswith('.ipynb_checkpoints')]\n",
    "\n",
    "week_list.sort()\n",
    "week_list.remove('week_pr_01')\n",
    "week_list.insert(week_list.index('week_12')+1, 'week_pr_01')\n",
    "week_list.remove('week_pr_02')\n",
    "week_list.insert(week_list.index('week_pr_01')+1, 'week_pr_02')\n",
    "week_list.remove('week_pr_03')\n",
    "week_list.insert(week_list.index('week_17')+1, 'week_pr_03')\n",
    "week_list.remove('week_pr_04')\n",
    "week_list.insert(week_list.index('week_21')+1, 'week_pr_04')\n",
    "\n",
    "print(week_list)"
   ]
  },
  {
   "cell_type": "code",
   "execution_count": 5,
   "id": "ce63153b-205a-455d-b8c6-a8757ee76cb5",
   "metadata": {},
   "outputs": [],
   "source": [
    "day_list = ['day_1', 'day_2', 'day_3', 'day_4', 'day_5', 'day_6', 'day_7']\n",
    "\n",
    "for week in week_list:\n",
    "    if not os.path.exists(DATA_PATH_NT+week):\n",
    "        os.mkdir(DATA_PATH_NT+week)\n",
    "    for day in day_list:\n",
    "        if not os.path.exists(DATA_PATH_NT+week+'/'+day):\n",
    "            os.mkdir(DATA_PATH_NT+week+'/'+day)\n",
    "        tweets_df = pd.read_parquet(DATA_PATH_TT+week+f'/merged_{day}.parquet')\n",
    "        network_2_file(tweets_df, DATA_PATH_NT+week+'/'+day)\n",
    "    #file_name = [file for file in os.listdir(DATA_PATH_TT+week) if file.endswith('.parquet') and file.startswith('merged_week')]\n",
    "    #tweets_df = pd.read_parquet(DATA_PATH_TT+week+'/'+file_name[0])\n",
    "    #network_2_file(tweets_df, DATA_PATH_NT+week)"
   ]
  },
  {
   "cell_type": "code",
   "execution_count": 6,
   "id": "12a86652-f33a-4772-879e-5bdf909a3d46",
   "metadata": {},
   "outputs": [],
   "source": [
    "nodes = pd.read_csv('data/networks/week_10/day_4/gephi_nodes.csv')\n",
    "edges_qrt = pd.read_csv('data/networks/week_10/day_4/gephi_edges_quote.csv')"
   ]
  },
  {
   "cell_type": "code",
   "execution_count": 7,
   "id": "31ac6c1f-50c4-4a15-8d2a-b8a6109ccc1f",
   "metadata": {},
   "outputs": [
    {
     "data": {
      "text/html": [
       "<div>\n",
       "<style scoped>\n",
       "    .dataframe tbody tr th:only-of-type {\n",
       "        vertical-align: middle;\n",
       "    }\n",
       "\n",
       "    .dataframe tbody tr th {\n",
       "        vertical-align: top;\n",
       "    }\n",
       "\n",
       "    .dataframe thead th {\n",
       "        text-align: right;\n",
       "    }\n",
       "</style>\n",
       "<table border=\"1\" class=\"dataframe\">\n",
       "  <thead>\n",
       "    <tr style=\"text-align: right;\">\n",
       "      <th></th>\n",
       "      <th>Source</th>\n",
       "      <th>Target</th>\n",
       "      <th>Type</th>\n",
       "    </tr>\n",
       "  </thead>\n",
       "  <tbody>\n",
       "    <tr>\n",
       "      <th>0</th>\n",
       "      <td>tatytoyama</td>\n",
       "      <td>randolfeap</td>\n",
       "      <td>quoted_rt</td>\n",
       "    </tr>\n",
       "    <tr>\n",
       "      <th>1</th>\n",
       "      <td>juliarib</td>\n",
       "      <td>folha</td>\n",
       "      <td>quoted_rt</td>\n",
       "    </tr>\n",
       "    <tr>\n",
       "      <th>2</th>\n",
       "      <td>mariajulia512</td>\n",
       "      <td>folha</td>\n",
       "      <td>quoted_rt</td>\n",
       "    </tr>\n",
       "    <tr>\n",
       "      <th>3</th>\n",
       "      <td>felipe_augustow</td>\n",
       "      <td>anthunesarth</td>\n",
       "      <td>quoted_rt</td>\n",
       "    </tr>\n",
       "    <tr>\n",
       "      <th>4</th>\n",
       "      <td>gui_3ds</td>\n",
       "      <td>malugaspar</td>\n",
       "      <td>quoted_rt</td>\n",
       "    </tr>\n",
       "  </tbody>\n",
       "</table>\n",
       "</div>"
      ],
      "text/plain": [
       "            Source        Target       Type\n",
       "0       tatytoyama    randolfeap  quoted_rt\n",
       "1         juliarib         folha  quoted_rt\n",
       "2    mariajulia512         folha  quoted_rt\n",
       "3  felipe_augustow  anthunesarth  quoted_rt\n",
       "4          gui_3ds    malugaspar  quoted_rt"
      ]
     },
     "execution_count": 7,
     "metadata": {},
     "output_type": "execute_result"
    }
   ],
   "source": [
    "edges_qrt.head()"
   ]
  },
  {
   "cell_type": "code",
   "execution_count": 8,
   "id": "cd7ae095-4020-451b-a3a7-750ee1262abb",
   "metadata": {},
   "outputs": [],
   "source": [
    "G = df_2_networkx(nodes, edges_qrt)\n",
    "G.remove_nodes_from(list(nx.isolates(G)))"
   ]
  },
  {
   "cell_type": "code",
   "execution_count": 9,
   "id": "c113f403-e26c-4939-9b67-8326487354c1",
   "metadata": {},
   "outputs": [
    {
     "data": {
      "text/plain": [
       "[('juliarib', 'folha', {'int_type': 'quoted_rt', 'weight': 1}),\n",
       " ('felipe_augustow', 'anthunesarth', {'int_type': 'quoted_rt', 'weight': 1}),\n",
       " ('gui_3ds', 'malugaspar', {'int_type': 'quoted_rt', 'weight': 1}),\n",
       " ('ei_quel', 'folha', {'int_type': 'quoted_rt', 'weight': 1}),\n",
       " ('rchrdlvs', 'folha', {'int_type': 'quoted_rt', 'weight': 1}),\n",
       " ('sissiaraujo_', 'folha', {'int_type': 'quoted_rt', 'weight': 1}),\n",
       " ('lucaxcr', 'albertocalmeida', {'int_type': 'quoted_rt', 'weight': 1}),\n",
       " ('RenatoPedreira', 'LeandroColon', {'int_type': 'quoted_rt', 'weight': 1}),\n",
       " ('Luikls', 'folha', {'int_type': 'quoted_rt', 'weight': 1}),\n",
       " ('alwayslouies', 'folha', {'int_type': 'quoted_rt', 'weight': 1})]"
      ]
     },
     "execution_count": 9,
     "metadata": {},
     "output_type": "execute_result"
    }
   ],
   "source": [
    "list(G.edges(data=True))[:10]"
   ]
  },
  {
   "cell_type": "code",
   "execution_count": 10,
   "id": "40a0a7ab-23c9-4ea8-925a-10f1112907df",
   "metadata": {},
   "outputs": [
    {
     "data": {
      "text/plain": [
       "[('folha', 141),\n",
       " ('bicmuller', 78),\n",
       " ('desmentindobozo', 70),\n",
       " ('Metropoles', 70),\n",
       " ('ErikakHilton', 57),\n",
       " ('MarceloFreixo', 54),\n",
       " ('cirogomes', 44),\n",
       " ('UOLNoticias', 38),\n",
       " ('randolfeap', 36),\n",
       " ('OmarAzizSenador', 36)]"
      ]
     },
     "execution_count": 10,
     "metadata": {},
     "output_type": "execute_result"
    }
   ],
   "source": [
    "sorted(G.in_degree, key=lambda x: x[1], reverse=True)[:10]"
   ]
  },
  {
   "cell_type": "code",
   "execution_count": 11,
   "id": "bc35412f-c071-46d8-b2db-30b883fc7864",
   "metadata": {},
   "outputs": [
    {
     "name": "stdout",
     "output_type": "stream",
     "text": [
      "\n",
      "Number of nodes: 2790\n",
      "Number of edges: 2639\n",
      "\n"
     ]
    }
   ],
   "source": [
    "print(f'''\n",
    "Number of nodes: {len(G.nodes)}\n",
    "Number of edges: {len(G.edges)}\n",
    "''')"
   ]
  },
  {
   "cell_type": "code",
   "execution_count": 12,
   "id": "a7ff15f5-0745-4a35-ae63-8bab389abaf4",
   "metadata": {},
   "outputs": [],
   "source": [
    "from networkx.algorithms.community.centrality import girvan_newman\n",
    "\n",
    "communities = girvan_newman(G)"
   ]
  },
  {
   "cell_type": "code",
   "execution_count": 13,
   "id": "1fe1a1cd-4fac-4666-8e90-e6b4ae5f3cdb",
   "metadata": {},
   "outputs": [
    {
     "name": "stdout",
     "output_type": "stream",
     "text": [
      "393\n"
     ]
    }
   ],
   "source": [
    "node_groups = []\n",
    "for com in next(communities):\n",
    "  node_groups.append(list(com))\n",
    "\n",
    "print(len(node_groups))"
   ]
  },
  {
   "cell_type": "code",
   "execution_count": 14,
   "id": "abfb9164-40de-4c16-87a3-b6cf19b2e9cb",
   "metadata": {},
   "outputs": [
    {
     "name": "stdout",
     "output_type": "stream",
     "text": [
      "(0, 1797)\n",
      "(20, 78)\n",
      "(65, 12)\n"
     ]
    }
   ],
   "source": [
    "for idx, cluster in enumerate(node_groups):\n",
    "    if len(cluster) >= 10:\n",
    "        print((idx, len(cluster)))"
   ]
  },
  {
   "cell_type": "code",
   "execution_count": 15,
   "id": "808adc78-b0ab-4212-9f5f-786b8c56f904",
   "metadata": {},
   "outputs": [
    {
     "data": {
      "text/plain": [
       "['GGsavoy',\n",
       " 'Politic_Nicki',\n",
       " 'geraldorufino',\n",
       " 'mario_rasec666',\n",
       " 'boisonaroo',\n",
       " 'Mary_Caty_Gomes',\n",
       " 'psciarotta',\n",
       " 'MoscaNaOrelha',\n",
       " 'GuBaMontenegro',\n",
       " 'IuliVieira',\n",
       " 'GuilhermeBoulos',\n",
       " 'KatiaFerreiram',\n",
       " 'ddougsouza',\n",
       " 'mota_thm',\n",
       " 'LilaSan72505220',\n",
       " 'Fabio_F_Lima',\n",
       " 'heeey_johnny',\n",
       " 'saulo3rios',\n",
       " 'alicebiruta',\n",
       " 'roodneyfb',\n",
       " 'Conservadora191',\n",
       " 'liviamunx',\n",
       " 'zelafneto',\n",
       " 'jornalqueri',\n",
       " 'orlandosilva',\n",
       " 'ZeroCool_BR21',\n",
       " 'Bruno97352911',\n",
       " 'AdrianaPrinceC1',\n",
       " 'krause_kellen',\n",
       " 'mauriciorenato7']"
      ]
     },
     "execution_count": 15,
     "metadata": {},
     "output_type": "execute_result"
    }
   ],
   "source": [
    "node_groups[0][:30]"
   ]
  },
  {
   "cell_type": "code",
   "execution_count": 16,
   "id": "4d00dc14-5ac5-44ee-9add-a2d6f34eb7a7",
   "metadata": {},
   "outputs": [
    {
     "data": {
      "text/plain": [
       "['LessaFer_BR',\n",
       " 'acdsp',\n",
       " 'Countdown2023',\n",
       " 'Sophia59671258',\n",
       " 'PericlesVerdi',\n",
       " 'RobertoLuan1988',\n",
       " 'RenatoS76217808',\n",
       " 'tercalivre',\n",
       " 'hetero_do',\n",
       " 'taoquei1',\n",
       " 'RoseSouzaII',\n",
       " 'vejaaverdadenua',\n",
       " 'JulioCezarMD',\n",
       " 'BolsonaroSP',\n",
       " 'kimpaim',\n",
       " 'MrciaMe11132434',\n",
       " 'Elton37737929',\n",
       " 'Marilen77315903',\n",
       " 'RafaelKerr84',\n",
       " 'rodollfo',\n",
       " 'Taissabege',\n",
       " 'vanice_a',\n",
       " 'marianah50',\n",
       " 'dimacgarcia',\n",
       " 'brunosep89',\n",
       " 'FATIMAA80856038',\n",
       " 'AgNDigital',\n",
       " 'Francis98663988',\n",
       " 'FeSeu',\n",
       " 'Andre_PMELLO']"
      ]
     },
     "execution_count": 16,
     "metadata": {},
     "output_type": "execute_result"
    }
   ],
   "source": [
    "node_groups[20][:30]"
   ]
  },
  {
   "cell_type": "code",
   "execution_count": 17,
   "id": "707861be-c9f1-4a28-986d-f4af2f700d64",
   "metadata": {},
   "outputs": [
    {
     "data": {
      "text/plain": [
       "['1gorN4ascimento',\n",
       " 'AnaPaul01881881',\n",
       " 'CrisCrisDFBRA4',\n",
       " 'prcristianomelo',\n",
       " 'Ketley',\n",
       " 'jairbolsonaro',\n",
       " 'aleinformation',\n",
       " 'Notlover8',\n",
       " 'col_bacol',\n",
       " 'nathmottadr',\n",
       " 'CarlosBolsonaro',\n",
       " 'cba_ze']"
      ]
     },
     "execution_count": 17,
     "metadata": {},
     "output_type": "execute_result"
    }
   ],
   "source": [
    "node_groups[65][:30]"
   ]
  },
  {
   "cell_type": "code",
   "execution_count": 18,
   "id": "a08ed51f-d646-4158-9a4c-f39721cc8b5f",
   "metadata": {},
   "outputs": [],
   "source": [
    "from networkx.algorithms.community.modularity_max import greedy_modularity_communities\n",
    "\n",
    "communi = greedy_modularity_communities(G, weight='weight')"
   ]
  },
  {
   "cell_type": "code",
   "execution_count": 19,
   "id": "b7b7b10c-b1cd-40ae-a9a4-273c0a082122",
   "metadata": {},
   "outputs": [
    {
     "data": {
      "text/plain": [
       "425"
      ]
     },
     "execution_count": 19,
     "metadata": {},
     "output_type": "execute_result"
    }
   ],
   "source": [
    "len(communi)"
   ]
  },
  {
   "cell_type": "code",
   "execution_count": 20,
   "id": "d06e41eb-c228-4af5-9e40-0a7c4c95a0fb",
   "metadata": {},
   "outputs": [
    {
     "name": "stdout",
     "output_type": "stream",
     "text": [
      "(0, 237)\n",
      "(1, 172)\n",
      "(2, 120)\n",
      "(3, 111)\n",
      "(4, 104)\n",
      "(5, 104)\n",
      "(6, 103)\n",
      "(7, 93)\n",
      "(8, 85)\n",
      "(9, 64)\n",
      "(10, 63)\n",
      "(11, 63)\n",
      "(12, 61)\n",
      "(13, 50)\n",
      "(14, 47)\n",
      "(15, 46)\n",
      "(16, 43)\n",
      "(17, 35)\n",
      "(18, 33)\n",
      "(19, 33)\n",
      "(20, 33)\n",
      "(21, 32)\n",
      "(22, 28)\n",
      "(23, 22)\n",
      "(24, 19)\n",
      "(25, 17)\n",
      "(26, 12)\n",
      "(27, 10)\n",
      "(28, 10)\n"
     ]
    }
   ],
   "source": [
    "for idx, cluster in enumerate(communi):\n",
    "    if len(cluster) >= 10:\n",
    "        print((idx, len(cluster)))"
   ]
  },
  {
   "cell_type": "code",
   "execution_count": 21,
   "id": "45b8aa35-d52c-4b66-839b-e99a549d242c",
   "metadata": {},
   "outputs": [],
   "source": [
    "from networkx.algorithms.community.label_propagation import asyn_lpa_communities\n",
    "\n",
    "label_prop_comm =  list(asyn_lpa_communities(G, weight='weight', seed=None))"
   ]
  },
  {
   "cell_type": "code",
   "execution_count": 22,
   "id": "1e60c3e4-3a66-4e8d-bffd-4ffc3b245b46",
   "metadata": {},
   "outputs": [
    {
     "data": {
      "text/plain": [
       "791"
      ]
     },
     "execution_count": 22,
     "metadata": {},
     "output_type": "execute_result"
    }
   ],
   "source": [
    "len(label_prop_comm)"
   ]
  },
  {
   "cell_type": "code",
   "execution_count": 23,
   "id": "76c6e011-d4f6-4b5f-9b3f-62f87212639c",
   "metadata": {},
   "outputs": [
    {
     "name": "stdout",
     "output_type": "stream",
     "text": [
      "(0, 127)\n",
      "(6, 30)\n",
      "(7, 11)\n",
      "(10, 13)\n",
      "(11, 48)\n",
      "(15, 29)\n",
      "(17, 13)\n",
      "(22, 41)\n",
      "(23, 19)\n",
      "(31, 30)\n",
      "(36, 52)\n",
      "(40, 28)\n",
      "(42, 123)\n",
      "(46, 14)\n",
      "(48, 21)\n",
      "(51, 36)\n",
      "(55, 17)\n",
      "(59, 10)\n",
      "(65, 12)\n",
      "(80, 12)\n",
      "(92, 42)\n",
      "(93, 15)\n",
      "(99, 24)\n",
      "(101, 70)\n",
      "(116, 10)\n",
      "(118, 13)\n",
      "(120, 13)\n",
      "(156, 16)\n",
      "(190, 10)\n",
      "(274, 11)\n",
      "(277, 17)\n",
      "(281, 10)\n",
      "(316, 10)\n",
      "(355, 30)\n",
      "(367, 22)\n",
      "(498, 10)\n",
      "(683, 16)\n"
     ]
    }
   ],
   "source": [
    "for idx, cluster in enumerate(label_prop_comm):\n",
    "    if len(cluster) >= 10:\n",
    "        print((idx, len(cluster)))"
   ]
  },
  {
   "cell_type": "code",
   "execution_count": null,
   "id": "5cff8d1b-6832-4cec-b4ff-bb2ec6e2705e",
   "metadata": {},
   "outputs": [],
   "source": []
  },
  {
   "cell_type": "code",
   "execution_count": 24,
   "id": "ea971034-f4d3-45ba-afce-1a8746bb12ac",
   "metadata": {},
   "outputs": [],
   "source": [
    "reply_actors = []\n",
    "quoted_rt_actors = []\n",
    "mention_actors = []\n",
    "\n",
    "for week in week_list:\n",
    "    file_name = [file for file in os.listdir(DATA_PATH_TT+week) if file.startswith('merged_week') and file.endswith('.parquet')]\n",
    "    tweets_df = pd.read_parquet(DATA_PATH_TT+week+f'/{file_name[0]}')\n",
    "    nodes, edges = create_networks(tweets_df)\n",
    "    G = df_2_networkx(nodes, edges)\n",
    "    G_reply = nx.DiGraph([(u,v,d) for u,v,d in G.edges(data=True) if d['int_type']=='reply'])\n",
    "    G_qrt = nx.DiGraph([(u,v,d) for u,v,d in G.edges(data=True) if d['int_type']=='quoted_rt'])\n",
    "    G_mn = nx.DiGraph([(u,v,d) for u,v,d in G.edges(data=True) if d['int_type']=='mention'])\n",
    "    \n",
    "    reply_actors.append(sorted(G_reply.in_degree, key=lambda x: x[1], reverse=True)[:10])\n",
    "    quoted_rt_actors.append(sorted(G_qrt.in_degree, key=lambda x: x[1], reverse=True)[:10])    \n",
    "    mention_actors.append(sorted(G_mn.in_degree, key=lambda x: x[1], reverse=True)[:10])    "
   ]
  },
  {
   "cell_type": "code",
   "execution_count": 25,
   "id": "65ecf267-bb30-4a86-ae1c-5a3ba6b268e4",
   "metadata": {},
   "outputs": [
    {
     "data": {
      "text/plain": [
       "jairbolsonaro      23\n",
       "randolfeap         18\n",
       "OmarAzizSenador    18\n",
       "taoquei1           17\n",
       "SenadoFederal      16\n",
       "senadorhumberto    13\n",
       "UOLNoticias        13\n",
       "CarlaZambelli38    11\n",
       "MarcosRogerio       9\n",
       "BolsonaroSP         9\n",
       "dtype: int64"
      ]
     },
     "execution_count": 25,
     "metadata": {},
     "output_type": "execute_result"
    }
   ],
   "source": [
    "actors = []\n",
    "\n",
    "for week in reply_actors:\n",
    "    for actor in week:\n",
    "        actors.append(actor[0])\n",
    "        \n",
    "actors = pd.Series(actors)\n",
    "\n",
    "actors.value_counts()[:10]"
   ]
  },
  {
   "cell_type": "code",
   "execution_count": 26,
   "id": "4858cb49-f041-4f40-aee5-df30ca91bda7",
   "metadata": {},
   "outputs": [
    {
     "data": {
      "text/plain": [
       "Metropoles         19\n",
       "taoquei1           16\n",
       "folha              15\n",
       "CarlaZambelli38    14\n",
       "randolfeap         11\n",
       "UOLNoticias        11\n",
       "Rconstantino       11\n",
       "jairbolsonaro      10\n",
       "MidiaNINJA         10\n",
       "kimpaim             8\n",
       "dtype: int64"
      ]
     },
     "execution_count": 26,
     "metadata": {},
     "output_type": "execute_result"
    }
   ],
   "source": [
    "actors = []\n",
    "\n",
    "for week in quoted_rt_actors:\n",
    "    for actor in week:\n",
    "        actors.append(actor[0])\n",
    "        \n",
    "actors = pd.Series(actors)\n",
    "\n",
    "actors.value_counts()[:10]"
   ]
  },
  {
   "cell_type": "code",
   "execution_count": 27,
   "id": "44a271c4-da0c-4ba2-841b-3775171cb29e",
   "metadata": {},
   "outputs": [
    {
     "data": {
      "text/plain": [
       "jairbolsonaro      26\n",
       "randolfeap         25\n",
       "OmarAzizSenador    24\n",
       "renancalheiros     22\n",
       "SenadoFederal      20\n",
       "MarcosRogerio      15\n",
       "LulaOficial         9\n",
       "Sen_Alessandro      9\n",
       "STF_oficial         9\n",
       "senadorhumberto     9\n",
       "dtype: int64"
      ]
     },
     "execution_count": 27,
     "metadata": {},
     "output_type": "execute_result"
    }
   ],
   "source": [
    "actors = []\n",
    "\n",
    "for week in mention_actors:\n",
    "    for actor in week:\n",
    "        actors.append(actor[0])\n",
    "        \n",
    "actors = pd.Series(actors)\n",
    "\n",
    "actors.value_counts()[:10]"
   ]
  },
  {
   "cell_type": "code",
   "execution_count": null,
   "id": "f85f8c4a-d8cf-407a-a3c2-a0a0cddc4928",
   "metadata": {},
   "outputs": [],
   "source": []
  }
 ],
 "metadata": {
  "kernelspec": {
   "display_name": "Python 3 (ipykernel)",
   "language": "python",
   "name": "python3"
  },
  "language_info": {
   "codemirror_mode": {
    "name": "ipython",
    "version": 3
   },
   "file_extension": ".py",
   "mimetype": "text/x-python",
   "name": "python",
   "nbconvert_exporter": "python",
   "pygments_lexer": "ipython3",
   "version": "3.9.7"
  }
 },
 "nbformat": 4,
 "nbformat_minor": 5
}

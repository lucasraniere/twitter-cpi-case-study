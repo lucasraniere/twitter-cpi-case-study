{
 "cells": [
  {
   "cell_type": "markdown",
   "id": "9641bcd1-2b05-40d8-a368-9230a3941ecb",
   "metadata": {},
   "source": [
    "# __Tweets Clustering Experiment__"
   ]
  },
  {
   "cell_type": "markdown",
   "id": "f4c2efac-1834-486e-9bdb-a3152243429d",
   "metadata": {},
   "source": [
    "## Data"
   ]
  },
  {
   "cell_type": "code",
   "execution_count": 1,
   "id": "a43a86a4-c054-4591-bdb3-e6010c927ff4",
   "metadata": {},
   "outputs": [],
   "source": [
    "import pandas as pd"
   ]
  },
  {
   "cell_type": "code",
   "execution_count": 3,
   "id": "915f361a-de8f-44e6-bf44-0fffd91c86dc",
   "metadata": {},
   "outputs": [
    {
     "data": {
      "text/plain": [
       "(83101, 4)"
      ]
     },
     "execution_count": 3,
     "metadata": {},
     "output_type": "execute_result"
    }
   ],
   "source": [
    "tweets_df = pd.read_parquet('data/tweets/selected_tt_split.parquet')\n",
    "tweets_df.shape"
   ]
  },
  {
   "cell_type": "code",
   "execution_count": 4,
   "id": "e09fea05-6569-483d-b107-01bc2db8b80a",
   "metadata": {},
   "outputs": [
    {
     "data": {
      "text/html": [
       "<div>\n",
       "<style scoped>\n",
       "    .dataframe tbody tr th:only-of-type {\n",
       "        vertical-align: middle;\n",
       "    }\n",
       "\n",
       "    .dataframe tbody tr th {\n",
       "        vertical-align: top;\n",
       "    }\n",
       "\n",
       "    .dataframe thead th {\n",
       "        text-align: right;\n",
       "    }\n",
       "</style>\n",
       "<table border=\"1\" class=\"dataframe\">\n",
       "  <thead>\n",
       "    <tr style=\"text-align: right;\">\n",
       "      <th></th>\n",
       "      <th>author</th>\n",
       "      <th>user_description</th>\n",
       "      <th>tweet</th>\n",
       "      <th>hashtags</th>\n",
       "    </tr>\n",
       "  </thead>\n",
       "  <tbody>\n",
       "    <tr>\n",
       "      <th>0</th>\n",
       "      <td>FelipeFogal</td>\n",
       "      <td>Se mudar a cor da grama, eleitor do bolsonazi ...</td>\n",
       "      <td>@Collor caiu por causa de uma Elba... @dilmabr...</td>\n",
       "      <td>[imbecil, genocida, assassino, miliciano, bols...</td>\n",
       "    </tr>\n",
       "    <tr>\n",
       "      <th>1</th>\n",
       "      <td>silasfiorotti</td>\n",
       "      <td>Doutor em Antropologia (USP) | Pesquisador | P...</td>\n",
       "      <td>O papel da igreja é denunciar e combater todos...</td>\n",
       "      <td>[evangélicos, bolsonarogenocida, foragenocida,...</td>\n",
       "    </tr>\n",
       "    <tr>\n",
       "      <th>2</th>\n",
       "      <td>silasfiorotti</td>\n",
       "      <td>Doutor em Antropologia (USP) | Pesquisador | P...</td>\n",
       "      <td>O papel da igreja é denunciar e combater todos...</td>\n",
       "      <td>[evangélicos, bolsonarogenocida, foragenocida,...</td>\n",
       "    </tr>\n",
       "    <tr>\n",
       "      <th>3</th>\n",
       "      <td>silasfiorotti</td>\n",
       "      <td>Doutor em Antropologia (USP) | Pesquisador | P...</td>\n",
       "      <td>\"A 6 dias do fim, abril se torna o mês mais le...</td>\n",
       "      <td>[bolsonarogenocida, impeachmentja, foragenocida]</td>\n",
       "    </tr>\n",
       "    <tr>\n",
       "      <th>4</th>\n",
       "      <td>DiasSalles1</td>\n",
       "      <td>Humildade</td>\n",
       "      <td>@ZeRicardoAM Que chegue logo 2022.\\n#MPdoApaga...</td>\n",
       "      <td>[MPdoApagao, cpidacovid, SalveaEnergia]</td>\n",
       "    </tr>\n",
       "  </tbody>\n",
       "</table>\n",
       "</div>"
      ],
      "text/plain": [
       "          author                                   user_description  \\\n",
       "0    FelipeFogal  Se mudar a cor da grama, eleitor do bolsonazi ...   \n",
       "1  silasfiorotti  Doutor em Antropologia (USP) | Pesquisador | P...   \n",
       "2  silasfiorotti  Doutor em Antropologia (USP) | Pesquisador | P...   \n",
       "3  silasfiorotti  Doutor em Antropologia (USP) | Pesquisador | P...   \n",
       "4    DiasSalles1                                          Humildade   \n",
       "\n",
       "                                               tweet  \\\n",
       "0  @Collor caiu por causa de uma Elba... @dilmabr...   \n",
       "1  O papel da igreja é denunciar e combater todos...   \n",
       "2  O papel da igreja é denunciar e combater todos...   \n",
       "3  \"A 6 dias do fim, abril se torna o mês mais le...   \n",
       "4  @ZeRicardoAM Que chegue logo 2022.\\n#MPdoApaga...   \n",
       "\n",
       "                                            hashtags  \n",
       "0  [imbecil, genocida, assassino, miliciano, bols...  \n",
       "1  [evangélicos, bolsonarogenocida, foragenocida,...  \n",
       "2  [evangélicos, bolsonarogenocida, foragenocida,...  \n",
       "3   [bolsonarogenocida, impeachmentja, foragenocida]  \n",
       "4            [MPdoApagao, cpidacovid, SalveaEnergia]  "
      ]
     },
     "execution_count": 4,
     "metadata": {},
     "output_type": "execute_result"
    }
   ],
   "source": [
    "tweets_df.head()"
   ]
  },
  {
   "cell_type": "markdown",
   "id": "b98821a3-40b5-4ac9-bdf5-a32050a8ecf1",
   "metadata": {},
   "source": [
    "### Data Preprocessing"
   ]
  },
  {
   "cell_type": "code",
   "execution_count": null,
   "id": "a616513d-20ce-4361-96e2-b270be0adbd1",
   "metadata": {},
   "outputs": [],
   "source": []
  }
 ],
 "metadata": {
  "kernelspec": {
   "display_name": "Python 3 (ipykernel)",
   "language": "python",
   "name": "python3"
  },
  "language_info": {
   "codemirror_mode": {
    "name": "ipython",
    "version": 3
   },
   "file_extension": ".py",
   "mimetype": "text/x-python",
   "name": "python",
   "nbconvert_exporter": "python",
   "pygments_lexer": "ipython3",
   "version": "3.9.7"
  }
 },
 "nbformat": 4,
 "nbformat_minor": 5
}

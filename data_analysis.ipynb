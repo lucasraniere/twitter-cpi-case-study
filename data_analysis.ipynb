{
 "cells": [
  {
   "cell_type": "markdown",
   "id": "c467f6bd-a30f-4509-9dcb-bfd42c3bebec",
   "metadata": {},
   "source": [
    "# __Extracted Tweets Data Analyis__"
   ]
  },
  {
   "cell_type": "code",
   "execution_count": 70,
   "id": "e3d79ccc-bcbc-4784-aab6-944e1439fe67",
   "metadata": {},
   "outputs": [],
   "source": [
    "import os, json\n",
    "import pandas as pd\n",
    "import seaborn as sns\n",
    "from matplotlib import pyplot"
   ]
  },
  {
   "cell_type": "code",
   "execution_count": 7,
   "id": "4b4c0ea9-2f40-4c8f-b33d-a6b7054ab5a4",
   "metadata": {},
   "outputs": [
    {
     "name": "stdout",
     "output_type": "stream",
     "text": [
      "Amount of extracted weeks:  17\n"
     ]
    }
   ],
   "source": [
    "DATA_PATH = 'data/tweets/'\n",
    "\n",
    "week_list = [week_dir for week_dir in os.listdir(DATA_PATH) if os.path.isdir(DATA_PATH+week_dir) and not week_dir.endswith('.ipynb_checkpoints')]\n",
    "print('Amount of extracted weeks: ', len(week_list))"
   ]
  },
  {
   "cell_type": "code",
   "execution_count": 41,
   "id": "8c6ec3d1-9157-493d-8763-72d37ab33f2f",
   "metadata": {},
   "outputs": [],
   "source": [
    "tweets_amount = 0\n",
    "hashtag_list = []\n",
    "amount_list = []\n",
    "day_list = []\n",
    "daily_amount_list = []\n",
    "for week in week_list:\n",
    "    for file in os.listdir(DATA_PATH+week):\n",
    "        if file.endswith('.json'):\n",
    "            with open(f'{DATA_PATH}{week}/{file}', encoding='utf-8') as week_info:\n",
    "                data = json.load(week_info)\n",
    "                amount_list.append(data['tweets_amount'])\n",
    "                tweets_amount += data['tweets_amount']\n",
    "                for day in data['days_info']:\n",
    "                    day_list.append(f'{week}_{day}')\n",
    "                    daily_amount_list.append(data['days_info'][day]['tweets_amount'])\n",
    "                    for hashtag in data['days_info'][day]['top_10_hashtags']:\n",
    "                        hashtag_list.append(hashtag.lower())\n",
    "                        "
   ]
  },
  {
   "cell_type": "markdown",
   "id": "cb756081-5a56-4de5-b604-80b43c7f1e7e",
   "metadata": {},
   "source": [
    "### __Tweets Amount__"
   ]
  },
  {
   "cell_type": "code",
   "execution_count": 36,
   "id": "ff05e8f2-d744-436f-9ac6-7de2dc9f96ea",
   "metadata": {},
   "outputs": [
    {
     "name": "stdout",
     "output_type": "stream",
     "text": [
      "Amount of retrieved tweets: 2496823\n"
     ]
    }
   ],
   "source": [
    "print(f'Amount of retrieved tweets: {tweets_amount}')"
   ]
  },
  {
   "cell_type": "markdown",
   "id": "fe5f87fe-27bd-4ee5-80d0-b4a7592621fb",
   "metadata": {},
   "source": [
    "### __TOP 10 Hashtags__"
   ]
  },
  {
   "cell_type": "code",
   "execution_count": 32,
   "id": "afb83f4c-2c0f-4b11-b45e-86da7428213a",
   "metadata": {},
   "outputs": [
    {
     "data": {
      "text/plain": [
       "#forabolsonaro                 150\n",
       "#cpidacovid                    146\n",
       "#forabolsonarogenocida          73\n",
       "#cpidapandemia                  60\n",
       "#bolsonarogenocida              42\n",
       "#cpidocirco                     33\n",
       "#cpidogenocidio                 26\n",
       "#bolsonaropresidenteate2026     23\n",
       "#renanvagabundo                 21\n",
       "#brasil                         20\n",
       "dtype: int64"
      ]
     },
     "execution_count": 32,
     "metadata": {},
     "output_type": "execute_result"
    }
   ],
   "source": [
    "hashtag_series = pd.Series(hashtag_list)\n",
    "hashtag_series.value_counts()[:10]"
   ]
  },
  {
   "cell_type": "markdown",
   "id": "8a132f7d-61d2-4348-b483-6a1abe1efe6d",
   "metadata": {},
   "source": [
    "### __Time Series__"
   ]
  },
  {
   "cell_type": "code",
   "execution_count": 55,
   "id": "0f3f5140-6240-49cb-9d01-7206aee56de1",
   "metadata": {},
   "outputs": [
    {
     "data": {
      "text/html": [
       "<div>\n",
       "<style scoped>\n",
       "    .dataframe tbody tr th:only-of-type {\n",
       "        vertical-align: middle;\n",
       "    }\n",
       "\n",
       "    .dataframe tbody tr th {\n",
       "        vertical-align: top;\n",
       "    }\n",
       "\n",
       "    .dataframe thead th {\n",
       "        text-align: right;\n",
       "    }\n",
       "</style>\n",
       "<table border=\"1\" class=\"dataframe\">\n",
       "  <thead>\n",
       "    <tr style=\"text-align: right;\">\n",
       "      <th></th>\n",
       "      <th>week</th>\n",
       "      <th>tt_amount</th>\n",
       "    </tr>\n",
       "  </thead>\n",
       "  <tbody>\n",
       "    <tr>\n",
       "      <th>0</th>\n",
       "      <td>week_01</td>\n",
       "      <td>112329</td>\n",
       "    </tr>\n",
       "    <tr>\n",
       "      <th>1</th>\n",
       "      <td>week_02</td>\n",
       "      <td>107043</td>\n",
       "    </tr>\n",
       "    <tr>\n",
       "      <th>2</th>\n",
       "      <td>week_03</td>\n",
       "      <td>190956</td>\n",
       "    </tr>\n",
       "    <tr>\n",
       "      <th>3</th>\n",
       "      <td>week_04</td>\n",
       "      <td>157463</td>\n",
       "    </tr>\n",
       "    <tr>\n",
       "      <th>4</th>\n",
       "      <td>week_05</td>\n",
       "      <td>197430</td>\n",
       "    </tr>\n",
       "  </tbody>\n",
       "</table>\n",
       "</div>"
      ],
      "text/plain": [
       "      week  tt_amount\n",
       "0  week_01     112329\n",
       "1  week_02     107043\n",
       "2  week_03     190956\n",
       "3  week_04     157463\n",
       "4  week_05     197430"
      ]
     },
     "execution_count": 55,
     "metadata": {},
     "output_type": "execute_result"
    }
   ],
   "source": [
    "data = {\n",
    "    'week': week_list,\n",
    "    'tt_amount': amount_list\n",
    "}\n",
    "week_ts = pd.DataFrame(data)\n",
    "week_ts.head()"
   ]
  },
  {
   "cell_type": "code",
   "execution_count": 62,
   "id": "83895617-9b4b-40bf-8141-f5265a246359",
   "metadata": {},
   "outputs": [
    {
     "data": {
      "text/html": [
       "<div>\n",
       "<style scoped>\n",
       "    .dataframe tbody tr th:only-of-type {\n",
       "        vertical-align: middle;\n",
       "    }\n",
       "\n",
       "    .dataframe tbody tr th {\n",
       "        vertical-align: top;\n",
       "    }\n",
       "\n",
       "    .dataframe thead th {\n",
       "        text-align: right;\n",
       "    }\n",
       "</style>\n",
       "<table border=\"1\" class=\"dataframe\">\n",
       "  <thead>\n",
       "    <tr style=\"text-align: right;\">\n",
       "      <th></th>\n",
       "      <th>week</th>\n",
       "      <th>tt_amount</th>\n",
       "    </tr>\n",
       "  </thead>\n",
       "  <tbody>\n",
       "    <tr>\n",
       "      <th>9</th>\n",
       "      <td>week_10</td>\n",
       "      <td>269962</td>\n",
       "    </tr>\n",
       "    <tr>\n",
       "      <th>8</th>\n",
       "      <td>week_09</td>\n",
       "      <td>232180</td>\n",
       "    </tr>\n",
       "    <tr>\n",
       "      <th>12</th>\n",
       "      <td>week_13</td>\n",
       "      <td>207480</td>\n",
       "    </tr>\n",
       "  </tbody>\n",
       "</table>\n",
       "</div>"
      ],
      "text/plain": [
       "       week  tt_amount\n",
       "9   week_10     269962\n",
       "8   week_09     232180\n",
       "12  week_13     207480"
      ]
     },
     "execution_count": 62,
     "metadata": {},
     "output_type": "execute_result"
    }
   ],
   "source": [
    "week_ts.sort_values(by=['tt_amount'], ascending=False)[:3]"
   ]
  },
  {
   "cell_type": "code",
   "execution_count": 56,
   "id": "4d4b6dd1-ec5a-42be-a2a0-f044080ef155",
   "metadata": {},
   "outputs": [
    {
     "data": {
      "text/html": [
       "<div>\n",
       "<style scoped>\n",
       "    .dataframe tbody tr th:only-of-type {\n",
       "        vertical-align: middle;\n",
       "    }\n",
       "\n",
       "    .dataframe tbody tr th {\n",
       "        vertical-align: top;\n",
       "    }\n",
       "\n",
       "    .dataframe thead th {\n",
       "        text-align: right;\n",
       "    }\n",
       "</style>\n",
       "<table border=\"1\" class=\"dataframe\">\n",
       "  <thead>\n",
       "    <tr style=\"text-align: right;\">\n",
       "      <th></th>\n",
       "      <th>day</th>\n",
       "      <th>tt_amount</th>\n",
       "    </tr>\n",
       "  </thead>\n",
       "  <tbody>\n",
       "    <tr>\n",
       "      <th>0</th>\n",
       "      <td>week_01_day_1</td>\n",
       "      <td>8958</td>\n",
       "    </tr>\n",
       "    <tr>\n",
       "      <th>1</th>\n",
       "      <td>week_01_day_2</td>\n",
       "      <td>7632</td>\n",
       "    </tr>\n",
       "    <tr>\n",
       "      <th>2</th>\n",
       "      <td>week_01_day_3</td>\n",
       "      <td>12697</td>\n",
       "    </tr>\n",
       "    <tr>\n",
       "      <th>3</th>\n",
       "      <td>week_01_day_4</td>\n",
       "      <td>7369</td>\n",
       "    </tr>\n",
       "    <tr>\n",
       "      <th>4</th>\n",
       "      <td>week_01_day_5</td>\n",
       "      <td>4399</td>\n",
       "    </tr>\n",
       "  </tbody>\n",
       "</table>\n",
       "</div>"
      ],
      "text/plain": [
       "             day  tt_amount\n",
       "0  week_01_day_1       8958\n",
       "1  week_01_day_2       7632\n",
       "2  week_01_day_3      12697\n",
       "3  week_01_day_4       7369\n",
       "4  week_01_day_5       4399"
      ]
     },
     "execution_count": 56,
     "metadata": {},
     "output_type": "execute_result"
    }
   ],
   "source": [
    "data = {\n",
    "    'day': day_list,\n",
    "    'tt_amount': daily_amount_list\n",
    "}\n",
    "day_ts = pd.DataFrame(data)\n",
    "day_ts.head()"
   ]
  },
  {
   "cell_type": "code",
   "execution_count": 61,
   "id": "f0201a66-5d3e-4261-80c9-935fbe1ac9c0",
   "metadata": {},
   "outputs": [
    {
     "data": {
      "text/html": [
       "<div>\n",
       "<style scoped>\n",
       "    .dataframe tbody tr th:only-of-type {\n",
       "        vertical-align: middle;\n",
       "    }\n",
       "\n",
       "    .dataframe tbody tr th {\n",
       "        vertical-align: top;\n",
       "    }\n",
       "\n",
       "    .dataframe thead th {\n",
       "        text-align: right;\n",
       "    }\n",
       "</style>\n",
       "<table border=\"1\" class=\"dataframe\">\n",
       "  <thead>\n",
       "    <tr style=\"text-align: right;\">\n",
       "      <th></th>\n",
       "      <th>day</th>\n",
       "      <th>tt_amount</th>\n",
       "    </tr>\n",
       "  </thead>\n",
       "  <tbody>\n",
       "    <tr>\n",
       "      <th>34</th>\n",
       "      <td>week_05_day_7</td>\n",
       "      <td>100000</td>\n",
       "    </tr>\n",
       "    <tr>\n",
       "      <th>113</th>\n",
       "      <td>week_r2_day_2</td>\n",
       "      <td>100000</td>\n",
       "    </tr>\n",
       "    <tr>\n",
       "      <th>64</th>\n",
       "      <td>week_10_day_2</td>\n",
       "      <td>90396</td>\n",
       "    </tr>\n",
       "  </tbody>\n",
       "</table>\n",
       "</div>"
      ],
      "text/plain": [
       "               day  tt_amount\n",
       "34   week_05_day_7     100000\n",
       "113  week_r2_day_2     100000\n",
       "64   week_10_day_2      90396"
      ]
     },
     "execution_count": 61,
     "metadata": {},
     "output_type": "execute_result"
    }
   ],
   "source": [
    "day_ts.sort_values(by=['tt_amount'], ascending=False)[:3]"
   ]
  },
  {
   "cell_type": "code",
   "execution_count": 71,
   "id": "e85704ed-f9aa-47c5-ade0-4abfbd5528f0",
   "metadata": {},
   "outputs": [
    {
     "data": {
      "image/png": "[encoded data removed]",
      "text/plain": [
       "<Figure size 432x288 with 1 Axes>"
      ]
     },
     "metadata": {},
     "output_type": "display_data"
    }
   ],
   "source": [
    "week_ts.plot()\n",
    "pyplot.show()"
   ]
  },
  {
   "cell_type": "code",
   "execution_count": 72,
   "id": "f7138e02-c69b-41e9-bf10-b1d4aead42f3",
   "metadata": {},
   "outputs": [
    {
     "data": {
      "image/png": "[encoded data removed]",
      "text/plain": [
       "<Figure size 432x288 with 1 Axes>"
      ]
     },
     "metadata": {},
     "output_type": "display_data"
    }
   ],
   "source": [
    "day_ts.plot()\n",
    "pyplot.show()"
   ]
  }
 ],
 "metadata": {
  "kernelspec": {
   "display_name": "Python 3 (ipykernel)",
   "language": "python",
   "name": "python3"
  },
  "language_info": {
   "codemirror_mode": {
    "name": "ipython",
    "version": 3
   },
   "file_extension": ".py",
   "mimetype": "text/x-python",
   "name": "python",
   "nbconvert_exporter": "python",
   "pygments_lexer": "ipython3",
   "version": "3.8.5"
  }
 },
 "nbformat": 4,
 "nbformat_minor": 5
}

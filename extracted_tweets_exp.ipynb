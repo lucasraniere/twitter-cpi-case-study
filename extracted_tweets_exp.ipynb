{
 "cells": [
  {
   "cell_type": "markdown",
   "id": "e17c89e9-74e2-452c-9698-a14ee439348e",
   "metadata": {},
   "source": [
    "# __Exploring Tweets extracted by Snscrape__"
   ]
  },
  {
   "cell_type": "code",
   "execution_count": 1,
   "id": "5c8a5073-c517-4f35-aa97-68309604f5be",
   "metadata": {},
   "outputs": [],
   "source": [
    "import pandas as pd\n",
    "import datetime"
   ]
  },
  {
   "cell_type": "code",
   "execution_count": 2,
   "id": "b0248bba-626f-4265-8f01-e390aedc134d",
   "metadata": {},
   "outputs": [
    {
     "data": {
      "text/plain": [
       "Index(['url', 'date', 'content', 'renderedContent', 'id', 'user', 'replyCount',\n",
       "       'retweetCount', 'likeCount', 'quoteCount', 'conversationId', 'lang',\n",
       "       'source', 'sourceUrl', 'sourceLabel', 'outlinks', 'tcooutlinks',\n",
       "       'media', 'retweetedTweet', 'quotedTweet', 'inReplyToTweetId',\n",
       "       'inReplyToUser', 'mentionedUsers', 'coordinates', 'place', 'hashtags',\n",
       "       'cashtags'],\n",
       "      dtype='object')"
      ]
     },
     "execution_count": 2,
     "metadata": {},
     "output_type": "execute_result"
    }
   ],
   "source": [
    "week_df = pd.read_parquet('data/tweets/week_10/day_3_2021-06-29_query_ext.parquet')\n",
    "\n",
    "week_df.columns"
   ]
  },
  {
   "cell_type": "code",
   "execution_count": 3,
   "id": "c51b4a1c-03ab-437f-b8e8-3ddd78d35a57",
   "metadata": {},
   "outputs": [
    {
     "data": {
      "text/html": [
       "<div>\n",
       "<style scoped>\n",
       "    .dataframe tbody tr th:only-of-type {\n",
       "        vertical-align: middle;\n",
       "    }\n",
       "\n",
       "    .dataframe tbody tr th {\n",
       "        vertical-align: top;\n",
       "    }\n",
       "\n",
       "    .dataframe thead th {\n",
       "        text-align: right;\n",
       "    }\n",
       "</style>\n",
       "<table border=\"1\" class=\"dataframe\">\n",
       "  <thead>\n",
       "    <tr style=\"text-align: right;\">\n",
       "      <th></th>\n",
       "      <th>url</th>\n",
       "      <th>date</th>\n",
       "      <th>content</th>\n",
       "      <th>renderedContent</th>\n",
       "      <th>id</th>\n",
       "      <th>user</th>\n",
       "      <th>replyCount</th>\n",
       "      <th>retweetCount</th>\n",
       "      <th>likeCount</th>\n",
       "      <th>quoteCount</th>\n",
       "      <th>...</th>\n",
       "      <th>media</th>\n",
       "      <th>retweetedTweet</th>\n",
       "      <th>quotedTweet</th>\n",
       "      <th>inReplyToTweetId</th>\n",
       "      <th>inReplyToUser</th>\n",
       "      <th>mentionedUsers</th>\n",
       "      <th>coordinates</th>\n",
       "      <th>place</th>\n",
       "      <th>hashtags</th>\n",
       "      <th>cashtags</th>\n",
       "    </tr>\n",
       "  </thead>\n",
       "  <tbody>\n",
       "    <tr>\n",
       "      <th>0</th>\n",
       "      <td>https://twitter.com/baladapoa86/status/1410025...</td>\n",
       "      <td>2021-06-29 23:59:54+00:00</td>\n",
       "      <td>@arthurmoledoval Mamãemamei ja assinou a lista...</td>\n",
       "      <td>@arthurmoledoval Mamãemamei ja assinou a lista...</td>\n",
       "      <td>1410025262872420361</td>\n",
       "      <td>{'username': 'baladapoa86', 'id': 3525178036, ...</td>\n",
       "      <td>0</td>\n",
       "      <td>0</td>\n",
       "      <td>0</td>\n",
       "      <td>0</td>\n",
       "      <td>...</td>\n",
       "      <td>None</td>\n",
       "      <td>None</td>\n",
       "      <td>None</td>\n",
       "      <td>1.4100246156703212e+18</td>\n",
       "      <td>{'username': 'arthurmoledoval', 'id': 41060681...</td>\n",
       "      <td>[{'username': 'arthurmoledoval', 'id': 4106068...</td>\n",
       "      <td>None</td>\n",
       "      <td>None</td>\n",
       "      <td>None</td>\n",
       "      <td>None</td>\n",
       "    </tr>\n",
       "    <tr>\n",
       "      <th>1</th>\n",
       "      <td>https://twitter.com/donizetearruda7/status/141...</td>\n",
       "      <td>2021-06-29 23:59:39+00:00</td>\n",
       "      <td>💣💣💣GOVERNO BOLSONARO PEDIU PROPINA DE U$1 POR ...</td>\n",
       "      <td>💣💣💣GOVERNO BOLSONARO PEDIU PROPINA DE U$1 POR ...</td>\n",
       "      <td>1410025202084421635</td>\n",
       "      <td>{'username': 'donizetearruda7', 'id': 23768949...</td>\n",
       "      <td>28</td>\n",
       "      <td>3</td>\n",
       "      <td>43</td>\n",
       "      <td>3</td>\n",
       "      <td>...</td>\n",
       "      <td>[{'previewUrl': 'https://pbs.twimg.com/media/E...</td>\n",
       "      <td>None</td>\n",
       "      <td>None</td>\n",
       "      <td>nan</td>\n",
       "      <td>None</td>\n",
       "      <td>None</td>\n",
       "      <td>None</td>\n",
       "      <td>None</td>\n",
       "      <td>None</td>\n",
       "      <td>None</td>\n",
       "    </tr>\n",
       "    <tr>\n",
       "      <th>2</th>\n",
       "      <td>https://twitter.com/camarotedacpi/status/14100...</td>\n",
       "      <td>2021-06-29 23:59:23+00:00</td>\n",
       "      <td>Vice-presidente da CPI da Covid, o senador @ra...</td>\n",
       "      <td>Vice-presidente da CPI da Covid, o senador @ra...</td>\n",
       "      <td>1410025133230768143</td>\n",
       "      <td>{'username': 'camarotedacpi', 'id': 1383891189...</td>\n",
       "      <td>1</td>\n",
       "      <td>12</td>\n",
       "      <td>258</td>\n",
       "      <td>0</td>\n",
       "      <td>...</td>\n",
       "      <td>None</td>\n",
       "      <td>None</td>\n",
       "      <td>{'url': 'https://twitter.com/randolfeap/status...</td>\n",
       "      <td>1.4100208499152118e+18</td>\n",
       "      <td>{'username': 'camarotedacpi', 'id': 1383891189...</td>\n",
       "      <td>[{'username': 'randolfeap', 'id': 85327394, 'd...</td>\n",
       "      <td>None</td>\n",
       "      <td>None</td>\n",
       "      <td>None</td>\n",
       "      <td>None</td>\n",
       "    </tr>\n",
       "    <tr>\n",
       "      <th>3</th>\n",
       "      <td>https://twitter.com/alexandrefoluna/status/141...</td>\n",
       "      <td>2021-06-29 23:58:36+00:00</td>\n",
       "      <td>@AndreJanonesAdv Mesmo que seja feita de cima ...</td>\n",
       "      <td>@AndreJanonesAdv Mesmo que seja feita de cima ...</td>\n",
       "      <td>1410024937339949059</td>\n",
       "      <td>{'username': 'alexandrefoluna', 'id': 12485366...</td>\n",
       "      <td>0</td>\n",
       "      <td>0</td>\n",
       "      <td>0</td>\n",
       "      <td>0</td>\n",
       "      <td>...</td>\n",
       "      <td>None</td>\n",
       "      <td>None</td>\n",
       "      <td>None</td>\n",
       "      <td>1.4095183407422095e+18</td>\n",
       "      <td>{'username': 'AndreJanonesAdv', 'id': 11980045...</td>\n",
       "      <td>[{'username': 'AndreJanonesAdv', 'id': 1198004...</td>\n",
       "      <td>None</td>\n",
       "      <td>None</td>\n",
       "      <td>['EstabilidadeSim']</td>\n",
       "      <td>None</td>\n",
       "    </tr>\n",
       "    <tr>\n",
       "      <th>4</th>\n",
       "      <td>https://twitter.com/danipvilela/status/1410024...</td>\n",
       "      <td>2021-06-29 23:58:33+00:00</td>\n",
       "      <td>@Douglas81976854 @22_caveira @taoquei1 Genocid...</td>\n",
       "      <td>@Douglas81976854 @22_caveira @taoquei1 Genocid...</td>\n",
       "      <td>1410024923519672321</td>\n",
       "      <td>{'username': 'danipvilela', 'id': 732200658800...</td>\n",
       "      <td>1</td>\n",
       "      <td>0</td>\n",
       "      <td>0</td>\n",
       "      <td>0</td>\n",
       "      <td>...</td>\n",
       "      <td>None</td>\n",
       "      <td>None</td>\n",
       "      <td>None</td>\n",
       "      <td>1.4099855201601004e+18</td>\n",
       "      <td>{'username': 'Douglas81976854', 'id': 10859017...</td>\n",
       "      <td>[{'username': 'Douglas81976854', 'id': 1085901...</td>\n",
       "      <td>None</td>\n",
       "      <td>None</td>\n",
       "      <td>None</td>\n",
       "      <td>None</td>\n",
       "    </tr>\n",
       "  </tbody>\n",
       "</table>\n",
       "<p>5 rows × 27 columns</p>\n",
       "</div>"
      ],
      "text/plain": [
       "                                                 url  \\\n",
       "0  https://twitter.com/baladapoa86/status/1410025...   \n",
       "1  https://twitter.com/donizetearruda7/status/141...   \n",
       "2  https://twitter.com/camarotedacpi/status/14100...   \n",
       "3  https://twitter.com/alexandrefoluna/status/141...   \n",
       "4  https://twitter.com/danipvilela/status/1410024...   \n",
       "\n",
       "                        date  \\\n",
       "0  2021-06-29 23:59:54+00:00   \n",
       "1  2021-06-29 23:59:39+00:00   \n",
       "2  2021-06-29 23:59:23+00:00   \n",
       "3  2021-06-29 23:58:36+00:00   \n",
       "4  2021-06-29 23:58:33+00:00   \n",
       "\n",
       "                                             content  \\\n",
       "0  @arthurmoledoval Mamãemamei ja assinou a lista...   \n",
       "1  💣💣💣GOVERNO BOLSONARO PEDIU PROPINA DE U$1 POR ...   \n",
       "2  Vice-presidente da CPI da Covid, o senador @ra...   \n",
       "3  @AndreJanonesAdv Mesmo que seja feita de cima ...   \n",
       "4  @Douglas81976854 @22_caveira @taoquei1 Genocid...   \n",
       "\n",
       "                                     renderedContent                   id  \\\n",
       "0  @arthurmoledoval Mamãemamei ja assinou a lista...  1410025262872420361   \n",
       "1  💣💣💣GOVERNO BOLSONARO PEDIU PROPINA DE U$1 POR ...  1410025202084421635   \n",
       "2  Vice-presidente da CPI da Covid, o senador @ra...  1410025133230768143   \n",
       "3  @AndreJanonesAdv Mesmo que seja feita de cima ...  1410024937339949059   \n",
       "4  @Douglas81976854 @22_caveira @taoquei1 Genocid...  1410024923519672321   \n",
       "\n",
       "                                                user replyCount retweetCount  \\\n",
       "0  {'username': 'baladapoa86', 'id': 3525178036, ...          0            0   \n",
       "1  {'username': 'donizetearruda7', 'id': 23768949...         28            3   \n",
       "2  {'username': 'camarotedacpi', 'id': 1383891189...          1           12   \n",
       "3  {'username': 'alexandrefoluna', 'id': 12485366...          0            0   \n",
       "4  {'username': 'danipvilela', 'id': 732200658800...          1            0   \n",
       "\n",
       "  likeCount quoteCount  ...  \\\n",
       "0         0          0  ...   \n",
       "1        43          3  ...   \n",
       "2       258          0  ...   \n",
       "3         0          0  ...   \n",
       "4         0          0  ...   \n",
       "\n",
       "                                               media retweetedTweet  \\\n",
       "0                                               None           None   \n",
       "1  [{'previewUrl': 'https://pbs.twimg.com/media/E...           None   \n",
       "2                                               None           None   \n",
       "3                                               None           None   \n",
       "4                                               None           None   \n",
       "\n",
       "                                         quotedTweet        inReplyToTweetId  \\\n",
       "0                                               None  1.4100246156703212e+18   \n",
       "1                                               None                     nan   \n",
       "2  {'url': 'https://twitter.com/randolfeap/status...  1.4100208499152118e+18   \n",
       "3                                               None  1.4095183407422095e+18   \n",
       "4                                               None  1.4099855201601004e+18   \n",
       "\n",
       "                                       inReplyToUser  \\\n",
       "0  {'username': 'arthurmoledoval', 'id': 41060681...   \n",
       "1                                               None   \n",
       "2  {'username': 'camarotedacpi', 'id': 1383891189...   \n",
       "3  {'username': 'AndreJanonesAdv', 'id': 11980045...   \n",
       "4  {'username': 'Douglas81976854', 'id': 10859017...   \n",
       "\n",
       "                                      mentionedUsers coordinates place  \\\n",
       "0  [{'username': 'arthurmoledoval', 'id': 4106068...        None  None   \n",
       "1                                               None        None  None   \n",
       "2  [{'username': 'randolfeap', 'id': 85327394, 'd...        None  None   \n",
       "3  [{'username': 'AndreJanonesAdv', 'id': 1198004...        None  None   \n",
       "4  [{'username': 'Douglas81976854', 'id': 1085901...        None  None   \n",
       "\n",
       "              hashtags cashtags  \n",
       "0                 None     None  \n",
       "1                 None     None  \n",
       "2                 None     None  \n",
       "3  ['EstabilidadeSim']     None  \n",
       "4                 None     None  \n",
       "\n",
       "[5 rows x 27 columns]"
      ]
     },
     "execution_count": 3,
     "metadata": {},
     "output_type": "execute_result"
    }
   ],
   "source": [
    "week_df.head()"
   ]
  },
  {
   "cell_type": "markdown",
   "id": "ffc9a42f-ec15-40f1-81b5-0b24a492ada6",
   "metadata": {},
   "source": [
    "## __Columns Content__"
   ]
  },
  {
   "cell_type": "code",
   "execution_count": 4,
   "id": "ea841bab-819a-4d82-8ca5-c51509f68300",
   "metadata": {},
   "outputs": [
    {
     "data": {
      "text/plain": [
       "'@arthurmoledoval Mamãemamei ja assinou a lista para abertura da cpi dos gastos para enfrentamento do covid, em sp?'"
      ]
     },
     "execution_count": 4,
     "metadata": {},
     "output_type": "execute_result"
    }
   ],
   "source": [
    "week_df['content'][0] # content of the tweet"
   ]
  },
  {
   "cell_type": "code",
   "execution_count": 5,
   "id": "3d1d68e2-a6a6-4daf-afed-72723eaa6112",
   "metadata": {},
   "outputs": [
    {
     "data": {
      "text/plain": [
       "'@arthurmoledoval Mamãemamei ja assinou a lista para abertura da cpi dos gastos para enfrentamento do covid, em sp?'"
      ]
     },
     "execution_count": 5,
     "metadata": {},
     "output_type": "execute_result"
    }
   ],
   "source": [
    "week_df['renderedContent'][0] # rendered tweet content"
   ]
  },
  {
   "cell_type": "code",
   "execution_count": 6,
   "id": "b263319b-eb2b-43d2-a4b7-0064f053f66b",
   "metadata": {},
   "outputs": [
    {
     "data": {
      "text/plain": [
       "'1410025262872420361'"
      ]
     },
     "execution_count": 6,
     "metadata": {},
     "output_type": "execute_result"
    }
   ],
   "source": [
    "week_df['id'][0] # tweet's id"
   ]
  },
  {
   "cell_type": "code",
   "execution_count": 7,
   "id": "41902543-36d2-4019-bf4b-a9c2902ba2c1",
   "metadata": {},
   "outputs": [
    {
     "data": {
      "text/plain": [
       "{'username': 'baladapoa86',\n",
       " 'id': 3525178036,\n",
       " 'displayname': 'Garyballd',\n",
       " 'description': '',\n",
       " 'rawDescription': '',\n",
       " 'descriptionUrls': None,\n",
       " 'verified': False,\n",
       " 'created': datetime.datetime(2015, 9, 2, 16, 47, 27, tzinfo=datetime.timezone.utc),\n",
       " 'followersCount': 281,\n",
       " 'friendsCount': 594,\n",
       " 'statusesCount': 8961,\n",
       " 'favouritesCount': 13831,\n",
       " 'listedCount': 0,\n",
       " 'mediaCount': 514,\n",
       " 'location': '',\n",
       " 'protected': False,\n",
       " 'linkUrl': None,\n",
       " 'linkTcourl': None,\n",
       " 'profileImageUrl': 'https://pbs.twimg.com/profile_images/1437086620138754053/q2U2y1xo_normal.jpg',\n",
       " 'profileBannerUrl': None}"
      ]
     },
     "execution_count": 7,
     "metadata": {},
     "output_type": "execute_result"
    }
   ],
   "source": [
    "eval(week_df['user'][0]) # user information as: username, user id, user display name, user description, etc.."
   ]
  },
  {
   "cell_type": "markdown",
   "id": "73b499c5-e199-4cd1-b18e-71f1387fadde",
   "metadata": {},
   "source": [
    "### Interaction Columns"
   ]
  },
  {
   "cell_type": "code",
   "execution_count": 8,
   "id": "dc3af839-7d79-42c1-8995-03dc4eaf45f5",
   "metadata": {},
   "outputs": [],
   "source": [
    "interac_col = ['retweetedTweet', 'quotedTweet', 'inReplyToUser', 'mentionedUsers']\n",
    "\n",
    "for col in interac_col:\n",
    "    week_df[col] = week_df[col].map(lambda x: eval(x)) "
   ]
  },
  {
   "cell_type": "code",
   "execution_count": 9,
   "id": "e8e58785-2c1d-47a5-9ba1-d808bce81266",
   "metadata": {},
   "outputs": [
    {
     "name": "stdout",
     "output_type": "stream",
     "text": [
      "\n",
      "URL: https://twitter.com/camarotedacpi/status/1410025133230768143\n",
      "\n",
      "Content: Vice-presidente da CPI da Covid, o senador @randolfeap apresentará requerimento para oitiva de Dominguetti.\n",
      "\n",
      "https://t.co/vsTddjy6iP\n",
      "\n",
      "User: camarotedacpi\n",
      "\n",
      "Retweeted Tweet: None\n",
      "\n",
      "Quoted Tweet: {'url': 'https://twitter.com/randolfeap/status/1410023793972682752', 'date': datetime.datetime(2021, 6, 29, 23, 54, 4, tzinfo=datetime.timezone.utc), 'content': 'CORRUPÇÃO! LADROAGEM!\\nEstou, junto c/ o Senador @Sen_Alessandro, apresentando requerimento de convocação do Sr. Luiz Paulo Dominguetti Pereira, representante da Davati Medical Supply. O mesmo detalha o pedido de propina por parte do Governo Bolsonaro. \\nhttps://t.co/SfKIFYXnml', 'renderedContent': 'CORRUPÇÃO! LADROAGEM!\\nEstou, junto c/ o Senador @Sen_Alessandro, apresentando requerimento de convocação do Sr. Luiz Paulo Dominguetti Pereira, representante da Davati Medical Supply. O mesmo detalha o pedido de propina por parte do Governo Bolsonaro. \\nwww1.folha.uol.com.br/poder/2021/06/…', 'id': 1410023793972682752, 'user': {'username': 'randolfeap', 'id': 85327394, 'displayname': 'Randolfe Rodrigues 💉👓', 'description': 'Líder da oposição no Senado, eleito pela Rede Sustentabilidade do Amapá. Tem mestrado em políticas públicas, foi deputado estadual 2x.', 'rawDescription': 'Líder da oposição no Senado, eleito pela Rede Sustentabilidade do Amapá. Tem mestrado em políticas públicas, foi deputado estadual 2x.', 'descriptionUrls': None, 'verified': True, 'created': datetime.datetime(2009, 10, 26, 14, 29, 38, tzinfo=datetime.timezone.utc), 'followersCount': 485696, 'friendsCount': 1411, 'statusesCount': 28892, 'favouritesCount': 4194, 'listedCount': 1251, 'mediaCount': 2138, 'location': 'Amapá, Brasil', 'protected': False, 'linkUrl': 'https://randolferodrigues.com.br/', 'linkTcourl': 'https://t.co/pi0mXBJndD', 'profileImageUrl': 'https://pbs.twimg.com/profile_images/1349792305037930501/5Xl4Bn5m_normal.jpg', 'profileBannerUrl': 'https://pbs.twimg.com/profile_banners/85327394/1631735715'}, 'replyCount': 668, 'retweetCount': 1768, 'likeCount': 11128, 'quoteCount': 275, 'conversationId': 1410023793972682752, 'lang': 'pt', 'source': '<a href=\"http://twitter.com/download/iphone\" rel=\"nofollow\">Twitter for iPhone</a>', 'sourceUrl': 'http://twitter.com/download/iphone', 'sourceLabel': 'Twitter for iPhone', 'outlinks': ['https://www1.folha.uol.com.br/poder/2021/06/exclusivo-governo-bolsonaro-pediu-propina-de-us-1-por-dose-diz-vendedor-de-vacina.shtml'], 'tcooutlinks': ['https://t.co/SfKIFYXnml'], 'media': None, 'retweetedTweet': None, 'quotedTweet': None, 'inReplyToTweetId': None, 'inReplyToUser': None, 'mentionedUsers': [{'username': 'Sen_Alessandro', 'id': 4250596815, 'displayname': 'Senador Alessandro Vieira', 'description': None, 'rawDescription': None, 'descriptionUrls': None, 'verified': None, 'created': None, 'followersCount': None, 'friendsCount': None, 'statusesCount': None, 'favouritesCount': None, 'listedCount': None, 'mediaCount': None, 'location': None, 'protected': None, 'linkUrl': None, 'linkTcourl': None, 'profileImageUrl': None, 'profileBannerUrl': None}], 'coordinates': None, 'place': None, 'hashtags': None, 'cashtags': None}\n",
      "\n",
      "In Reply to User: {'username': 'camarotedacpi', 'id': 1383891189418528768, 'displayname': 'Camarote Da CPI', 'description': 'Pega a pipoca e vem acompanhar a CPI da Pandemia com a gente.\\n#CPIdaCovid #CPIdaPandemia', 'rawDescription': 'Pega a pipoca e vem acompanhar a CPI da Pandemia com a gente.\\n#CPIdaCovid #CPIdaPandemia', 'descriptionUrls': None, 'verified': False, 'created': datetime.datetime(2021, 4, 18, 21, 12, 33, tzinfo=datetime.timezone.utc), 'followersCount': 93485, 'friendsCount': 670, 'statusesCount': 19318, 'favouritesCount': 5330, 'listedCount': 300, 'mediaCount': 592, 'location': 'Brasília, Brazil', 'protected': False, 'linkUrl': None, 'linkTcourl': None, 'profileImageUrl': 'https://pbs.twimg.com/profile_images/1385687291532873731/vjnijcWE_normal.jpg', 'profileBannerUrl': 'https://pbs.twimg.com/profile_banners/1383891189418528768/1619208570'}\n",
      "\n",
      "Mentioned Users: [{'username': 'randolfeap', 'id': 85327394, 'displayname': 'Randolfe Rodrigues 💉👓', 'description': None, 'rawDescription': None, 'descriptionUrls': None, 'verified': None, 'created': None, 'followersCount': None, 'friendsCount': None, 'statusesCount': None, 'favouritesCount': None, 'listedCount': None, 'mediaCount': None, 'location': None, 'protected': None, 'linkUrl': None, 'linkTcourl': None, 'profileImageUrl': None, 'profileBannerUrl': None}]\n",
      "\n"
     ]
    }
   ],
   "source": [
    "tweet = week_df[['url', 'content', 'user', 'retweetedTweet', 'quotedTweet', 'inReplyToUser', 'mentionedUsers']].iloc[2].values.tolist()\n",
    "\n",
    "print(f'''\n",
    "URL: {tweet[0]}\n",
    "\n",
    "Content: {tweet[1]}\n",
    "\n",
    "User: {eval(tweet[2])['username']}\n",
    "\n",
    "Retweeted Tweet: {tweet[3]}\n",
    "\n",
    "Quoted Tweet: {tweet[4]}\n",
    "\n",
    "In Reply to User: {tweet[5]}\n",
    "\n",
    "Mentioned Users: {tweet[6]}\n",
    "''')"
   ]
  },
  {
   "cell_type": "code",
   "execution_count": 10,
   "id": "b683fd72-9c09-45b3-b4d4-1fd0d40596f6",
   "metadata": {},
   "outputs": [
    {
     "name": "stdout",
     "output_type": "stream",
     "text": [
      "\n",
      "URL: https://twitter.com/alexandrefoluna/status/1410024937339949059\n",
      "\n",
      "Content: @AndreJanonesAdv Mesmo que seja feita de cima pra baixo não se pode acabar com a estabilidade e ter período de experiência. Não estás vendo o que está sendo revelado na CPI da Covid?\n",
      "\n",
      "#EstabilidadeSim\n",
      "\n",
      "User: alexandrefoluna\n",
      "\n",
      "Retweeted Tweet: None\n",
      "\n",
      "Quoted Tweet: None\n",
      "\n",
      "In Reply to User: {'username': 'AndreJanonesAdv', 'id': 1198004545, 'displayname': 'André Janones', 'description': None, 'rawDescription': None, 'descriptionUrls': None, 'verified': None, 'created': None, 'followersCount': None, 'friendsCount': None, 'statusesCount': None, 'favouritesCount': None, 'listedCount': None, 'mediaCount': None, 'location': None, 'protected': None, 'linkUrl': None, 'linkTcourl': None, 'profileImageUrl': None, 'profileBannerUrl': None}\n",
      "\n",
      "Mentioned Users: [{'username': 'AndreJanonesAdv', 'id': 1198004545, 'displayname': 'André Janones', 'description': None, 'rawDescription': None, 'descriptionUrls': None, 'verified': None, 'created': None, 'followersCount': None, 'friendsCount': None, 'statusesCount': None, 'favouritesCount': None, 'listedCount': None, 'mediaCount': None, 'location': None, 'protected': None, 'linkUrl': None, 'linkTcourl': None, 'profileImageUrl': None, 'profileBannerUrl': None}]\n",
      "\n"
     ]
    }
   ],
   "source": [
    "tweet = week_df[['url', 'content', 'user', 'retweetedTweet', 'quotedTweet', 'inReplyToUser', 'mentionedUsers']].iloc[3].values.tolist()\n",
    "\n",
    "print(f'''\n",
    "URL: {tweet[0]}\n",
    "\n",
    "Content: {tweet[1]}\n",
    "\n",
    "User: {eval(tweet[2])['username']}\n",
    "\n",
    "Retweeted Tweet: {tweet[3]}\n",
    "\n",
    "Quoted Tweet: {tweet[4]}\n",
    "\n",
    "In Reply to User: {tweet[5]}\n",
    "\n",
    "Mentioned Users: {tweet[6]}\n",
    "''')"
   ]
  },
  {
   "cell_type": "code",
   "execution_count": 11,
   "id": "62c9088b-3a7a-486f-b306-1cfb5a721c7a",
   "metadata": {},
   "outputs": [
    {
     "name": "stdout",
     "output_type": "stream",
     "text": [
      "\n",
      "URL: https://twitter.com/danipvilela/status/1410024923519672321\n",
      "\n",
      "Content: @Douglas81976854 @22_caveira @taoquei1 Genocida porque? Foi ele que desviou os bilhões destinado ao tratamento da Covid ou foi os governadores, um deles filho do Relator da CPI Renan Canalheiro? Foi ele que espalhou esse virus no mundo ou foi a China? EUA chegou aos 601,039 mil mortos, Biden é Genocida?\n",
      "\n",
      "User: danipvilela\n",
      "\n",
      "Retweeted Tweet: None\n",
      "\n",
      "Quoted Tweet: None\n",
      "\n",
      "In Reply to User: {'username': 'Douglas81976854', 'id': 1085901720234967040, 'displayname': 'Douglas Xandão🌹 Ciro2022 🌹', 'description': None, 'rawDescription': None, 'descriptionUrls': None, 'verified': None, 'created': None, 'followersCount': None, 'friendsCount': None, 'statusesCount': None, 'favouritesCount': None, 'listedCount': None, 'mediaCount': None, 'location': None, 'protected': None, 'linkUrl': None, 'linkTcourl': None, 'profileImageUrl': None, 'profileBannerUrl': None}\n",
      "\n",
      "Mentioned Users: [{'username': 'Douglas81976854', 'id': 1085901720234967040, 'displayname': 'Douglas Xandão🌹 Ciro2022 🌹', 'description': None, 'rawDescription': None, 'descriptionUrls': None, 'verified': None, 'created': None, 'followersCount': None, 'friendsCount': None, 'statusesCount': None, 'favouritesCount': None, 'listedCount': None, 'mediaCount': None, 'location': None, 'protected': None, 'linkUrl': None, 'linkTcourl': None, 'profileImageUrl': None, 'profileBannerUrl': None}, {'username': '22_caveira', 'id': 1204402203550781441, 'displayname': 'General Caveira 🇧🇷🇧🇷 🔴⚫🔴⚫', 'description': None, 'rawDescription': None, 'descriptionUrls': None, 'verified': None, 'created': None, 'followersCount': None, 'friendsCount': None, 'statusesCount': None, 'favouritesCount': None, 'listedCount': None, 'mediaCount': None, 'location': None, 'protected': None, 'linkUrl': None, 'linkTcourl': None, 'profileImageUrl': None, 'profileBannerUrl': None}, {'username': 'taoquei1', 'id': 1087259768, 'displayname': 'TeAtualizei 🇧🇷👊🏻❤️', 'description': None, 'rawDescription': None, 'descriptionUrls': None, 'verified': None, 'created': None, 'followersCount': None, 'friendsCount': None, 'statusesCount': None, 'favouritesCount': None, 'listedCount': None, 'mediaCount': None, 'location': None, 'protected': None, 'linkUrl': None, 'linkTcourl': None, 'profileImageUrl': None, 'profileBannerUrl': None}]\n",
      "\n"
     ]
    }
   ],
   "source": [
    "tweet = week_df[['url', 'content', 'user', 'retweetedTweet', 'quotedTweet', 'inReplyToUser', 'mentionedUsers']].iloc[4].values.tolist()\n",
    "\n",
    "print(f'''\n",
    "URL: {tweet[0]}\n",
    "\n",
    "Content: {tweet[1]}\n",
    "\n",
    "User: {eval(tweet[2])['username']}\n",
    "\n",
    "Retweeted Tweet: {tweet[3]}\n",
    "\n",
    "Quoted Tweet: {tweet[4]}\n",
    "\n",
    "In Reply to User: {tweet[5]}\n",
    "\n",
    "Mentioned Users: {tweet[6]}\n",
    "''')"
   ]
  },
  {
   "cell_type": "code",
   "execution_count": 12,
   "id": "1abbc18f-6e40-48ea-857f-fba984321942",
   "metadata": {},
   "outputs": [
    {
     "name": "stdout",
     "output_type": "stream",
     "text": [
      "\n",
      "URL: https://twitter.com/Helenova31/status/1410024920185253895\n",
      "\n",
      "Content: Venho acompanhando de perto a CPI da Covid no Senado e tenho visto a SANHA do presidente da CPI, seus pré-julgamentos e intenções obscuras de criar tempestades p/depois barganhar calmaria.\n",
      "\n",
      "Utilizando a esperança de um povo q clama por justiça para fins individuais. @DepFaustoJr\n",
      "\n",
      "User: Helenova31\n",
      "\n",
      "Retweeted Tweet: None\n",
      "\n",
      "Quoted Tweet: None\n",
      "\n",
      "In Reply to User: None\n",
      "\n",
      "Mentioned Users: [{'username': 'DepFaustoJr', 'id': 1116362076459601920, 'displayname': 'Dep. Fausto Jr', 'description': None, 'rawDescription': None, 'descriptionUrls': None, 'verified': None, 'created': None, 'followersCount': None, 'friendsCount': None, 'statusesCount': None, 'favouritesCount': None, 'listedCount': None, 'mediaCount': None, 'location': None, 'protected': None, 'linkUrl': None, 'linkTcourl': None, 'profileImageUrl': None, 'profileBannerUrl': None}]\n",
      "\n"
     ]
    }
   ],
   "source": [
    "tweet = week_df[['url', 'content', 'user', 'retweetedTweet', 'quotedTweet', 'inReplyToUser', 'mentionedUsers']].iloc[5].values.tolist()\n",
    "\n",
    "print(f'''\n",
    "URL: {tweet[0]}\n",
    "\n",
    "Content: {tweet[1]}\n",
    "\n",
    "User: {eval(tweet[2])['username']}\n",
    "\n",
    "Retweeted Tweet: {tweet[3]}\n",
    "\n",
    "Quoted Tweet: {tweet[4]}\n",
    "\n",
    "In Reply to User: {tweet[5]}\n",
    "\n",
    "Mentioned Users: {tweet[6]}\n",
    "''')"
   ]
  },
  {
   "cell_type": "code",
   "execution_count": 13,
   "id": "1687ce4a-8982-4597-ac12-711ee2ae3d9f",
   "metadata": {},
   "outputs": [
    {
     "name": "stdout",
     "output_type": "stream",
     "text": [
      "\n",
      "URL: https://twitter.com/jean_css/status/1410024902908952576\n",
      "\n",
      "Content: AS REVIRAVOLTAS NA CPI DA PANDEMIA https://t.co/eEfJQtOlfH via @YouTube\n",
      "\n",
      "User: jean_css\n",
      "\n",
      "Retweeted Tweet: None\n",
      "\n",
      "Quoted Tweet: None\n",
      "\n",
      "In Reply to User: None\n",
      "\n",
      "Mentioned Users: [{'username': 'YouTube', 'id': 10228272, 'displayname': 'YouTube', 'description': None, 'rawDescription': None, 'descriptionUrls': None, 'verified': None, 'created': None, 'followersCount': None, 'friendsCount': None, 'statusesCount': None, 'favouritesCount': None, 'listedCount': None, 'mediaCount': None, 'location': None, 'protected': None, 'linkUrl': None, 'linkTcourl': None, 'profileImageUrl': None, 'profileBannerUrl': None}]\n",
      "\n"
     ]
    }
   ],
   "source": [
    "tweet = week_df[['url', 'content', 'user', 'retweetedTweet', 'quotedTweet', 'inReplyToUser', 'mentionedUsers']].iloc[6].values.tolist()\n",
    "\n",
    "print(f'''\n",
    "URL: {tweet[0]}\n",
    "\n",
    "Content: {tweet[1]}\n",
    "\n",
    "User: {eval(tweet[2])['username']}\n",
    "\n",
    "Retweeted Tweet: {tweet[3]}\n",
    "\n",
    "Quoted Tweet: {tweet[4]}\n",
    "\n",
    "In Reply to User: {tweet[5]}\n",
    "\n",
    "Mentioned Users: {tweet[6]}\n",
    "''')"
   ]
  },
  {
   "cell_type": "code",
   "execution_count": 14,
   "id": "5b9d5654-faf1-4617-954e-33d80289b6fe",
   "metadata": {},
   "outputs": [
    {
     "name": "stdout",
     "output_type": "stream",
     "text": [
      "\n",
      "URL: https://twitter.com/rluizhoffmann/status/1410024657349193729\n",
      "\n",
      "Content: @MinLuizRamos Vacinação lenta tem ser complementada p/abordagem integral/racional Covid.Racionalização CPI: Investigar quem age contra as 4 operações fundamentais p/combater a pandemia. Anexo 321: RACIONALIZAR E COORDENAR O COMBATE À PANDEMIA. link https://t.co/z5qogdc0mV\n",
      "\n",
      "User: rluizhoffmann\n",
      "\n",
      "Retweeted Tweet: None\n",
      "\n",
      "Quoted Tweet: None\n",
      "\n",
      "In Reply to User: {'username': 'MinLuizRamos', 'id': 461059358, 'displayname': 'Ministro Luiz Ramos', 'description': None, 'rawDescription': None, 'descriptionUrls': None, 'verified': None, 'created': None, 'followersCount': None, 'friendsCount': None, 'statusesCount': None, 'favouritesCount': None, 'listedCount': None, 'mediaCount': None, 'location': None, 'protected': None, 'linkUrl': None, 'linkTcourl': None, 'profileImageUrl': None, 'profileBannerUrl': None}\n",
      "\n",
      "Mentioned Users: [{'username': 'MinLuizRamos', 'id': 461059358, 'displayname': 'Ministro Luiz Ramos', 'description': None, 'rawDescription': None, 'descriptionUrls': None, 'verified': None, 'created': None, 'followersCount': None, 'friendsCount': None, 'statusesCount': None, 'favouritesCount': None, 'listedCount': None, 'mediaCount': None, 'location': None, 'protected': None, 'linkUrl': None, 'linkTcourl': None, 'profileImageUrl': None, 'profileBannerUrl': None}]\n",
      "\n"
     ]
    }
   ],
   "source": [
    "tweet = week_df[['url', 'content', 'user', 'retweetedTweet', 'quotedTweet', 'inReplyToUser', 'mentionedUsers']].iloc[7].values.tolist()\n",
    "\n",
    "print(f'''\n",
    "URL: {tweet[0]}\n",
    "\n",
    "Content: {tweet[1]}\n",
    "\n",
    "User: {eval(tweet[2])['username']}\n",
    "\n",
    "Retweeted Tweet: {tweet[3]}\n",
    "\n",
    "Quoted Tweet: {tweet[4]}\n",
    "\n",
    "In Reply to User: {tweet[5]}\n",
    "\n",
    "Mentioned Users: {tweet[6]}\n",
    "''')"
   ]
  },
  {
   "cell_type": "code",
   "execution_count": 15,
   "id": "250190fe-80c1-4371-9b5e-04f76888bbec",
   "metadata": {},
   "outputs": [
    {
     "name": "stdout",
     "output_type": "stream",
     "text": [
      "\n",
      "URL: https://twitter.com/durvalcastro/status/1410024614252646405\n",
      "\n",
      "Content: Então a CPI pode investigar o Bolsonaro?\n",
      "PGR pede ao STF para aguardar fim da CPI antes de decidir sobre notícia-crime contra Bolsonaro | CPI da Covid | G1 https://t.co/bdlUwZ28g0\n",
      "\n",
      "User: durvalcastro\n",
      "\n",
      "Retweeted Tweet: None\n",
      "\n",
      "Quoted Tweet: None\n",
      "\n",
      "In Reply to User: None\n",
      "\n",
      "Mentioned Users: None\n",
      "\n"
     ]
    }
   ],
   "source": [
    "tweet = week_df[['url', 'content', 'user', 'retweetedTweet', 'quotedTweet', 'inReplyToUser', 'mentionedUsers']].iloc[8].values.tolist()\n",
    "\n",
    "print(f'''\n",
    "URL: {tweet[0]}\n",
    "\n",
    "Content: {tweet[1]}\n",
    "\n",
    "User: {eval(tweet[2])['username']}\n",
    "\n",
    "Retweeted Tweet: {tweet[3]}\n",
    "\n",
    "Quoted Tweet: {tweet[4]}\n",
    "\n",
    "In Reply to User: {tweet[5]}\n",
    "\n",
    "Mentioned Users: {tweet[6]}\n",
    "''')"
   ]
  },
  {
   "cell_type": "code",
   "execution_count": 16,
   "id": "10e9f57c-d150-452e-82fe-0cd2856412b0",
   "metadata": {},
   "outputs": [
    {
     "name": "stdout",
     "output_type": "stream",
     "text": [
      "\n",
      "URL: https://twitter.com/wallacelopes21/status/1410023130840588288\n",
      "\n",
      "Content: @clsvieira @chicobarney O @chicobarney comenta reality. Ontem acabou o do Lázaro, agora ele segue falando da CPI da Covid, mas tarde quem saiba ele fale do Power Couple.\n",
      "\n",
      "User: wallacelopes21\n",
      "\n",
      "Retweeted Tweet: None\n",
      "\n",
      "Quoted Tweet: None\n",
      "\n",
      "In Reply to User: {'username': 'clsvieira', 'id': 304256910, 'displayname': 'Rodrigo Vieira🚩', 'description': None, 'rawDescription': None, 'descriptionUrls': None, 'verified': None, 'created': None, 'followersCount': None, 'friendsCount': None, 'statusesCount': None, 'favouritesCount': None, 'listedCount': None, 'mediaCount': None, 'location': None, 'protected': None, 'linkUrl': None, 'linkTcourl': None, 'profileImageUrl': None, 'profileBannerUrl': None}\n",
      "\n",
      "Mentioned Users: [{'username': 'clsvieira', 'id': 304256910, 'displayname': 'Rodrigo Vieira🚩', 'description': None, 'rawDescription': None, 'descriptionUrls': None, 'verified': None, 'created': None, 'followersCount': None, 'friendsCount': None, 'statusesCount': None, 'favouritesCount': None, 'listedCount': None, 'mediaCount': None, 'location': None, 'protected': None, 'linkUrl': None, 'linkTcourl': None, 'profileImageUrl': None, 'profileBannerUrl': None}, {'username': 'chicobarney', 'id': 10683412, 'displayname': 'Chico Barney', 'description': None, 'rawDescription': None, 'descriptionUrls': None, 'verified': None, 'created': None, 'followersCount': None, 'friendsCount': None, 'statusesCount': None, 'favouritesCount': None, 'listedCount': None, 'mediaCount': None, 'location': None, 'protected': None, 'linkUrl': None, 'linkTcourl': None, 'profileImageUrl': None, 'profileBannerUrl': None}, {'username': 'chicobarney', 'id': 10683412, 'displayname': 'Chico Barney', 'description': None, 'rawDescription': None, 'descriptionUrls': None, 'verified': None, 'created': None, 'followersCount': None, 'friendsCount': None, 'statusesCount': None, 'favouritesCount': None, 'listedCount': None, 'mediaCount': None, 'location': None, 'protected': None, 'linkUrl': None, 'linkTcourl': None, 'profileImageUrl': None, 'profileBannerUrl': None}]\n",
      "\n"
     ]
    }
   ],
   "source": [
    "tweet = week_df[['url', 'content', 'user', 'retweetedTweet', 'quotedTweet', 'inReplyToUser', 'mentionedUsers']].iloc[26].values.tolist()\n",
    "\n",
    "print(f'''\n",
    "URL: {tweet[0]}\n",
    "\n",
    "Content: {tweet[1]}\n",
    "\n",
    "User: {eval(tweet[2])['username']}\n",
    "\n",
    "Retweeted Tweet: {tweet[3]}\n",
    "\n",
    "Quoted Tweet: {tweet[4]}\n",
    "\n",
    "In Reply to User: {tweet[5]}\n",
    "\n",
    "Mentioned Users: {tweet[6]}\n",
    "''')"
   ]
  }
 ],
 "metadata": {
  "kernelspec": {
   "display_name": "Python 3 (ipykernel)",
   "language": "python",
   "name": "python3"
  },
  "language_info": {
   "codemirror_mode": {
    "name": "ipython",
    "version": 3
   },
   "file_extension": ".py",
   "mimetype": "text/x-python",
   "name": "python",
   "nbconvert_exporter": "python",
   "pygments_lexer": "ipython3",
   "version": "3.10.5"
  }
 },
 "nbformat": 4,
 "nbformat_minor": 5
}

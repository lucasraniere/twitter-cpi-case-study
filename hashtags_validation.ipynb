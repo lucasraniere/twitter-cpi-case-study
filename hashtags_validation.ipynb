{
 "cells": [
  {
   "cell_type": "markdown",
   "id": "04178dc7-7830-47e4-ae7e-ec02351423bb",
   "metadata": {},
   "source": [
    "# __Hashtags Validation__"
   ]
  },
  {
   "cell_type": "code",
   "execution_count": 38,
   "id": "49495713-1ff7-4e64-9157-26a16e528069",
   "metadata": {},
   "outputs": [],
   "source": [
    "import pandas as pd\n",
    "from IPython.display import clear_output, display\n",
    "import os, datetime\n",
    "import numpy as np"
   ]
  },
  {
   "cell_type": "code",
   "execution_count": 2,
   "id": "1fc136e6-3957-4bab-9f06-0c5020b1ac61",
   "metadata": {},
   "outputs": [
    {
     "name": "stdout",
     "output_type": "stream",
     "text": [
      "Amount of extracted weeks:  26\n"
     ]
    }
   ],
   "source": [
    "DATA_PATH = 'data/tweets/'\n",
    "\n",
    "week_list = [week_dir for week_dir in os.listdir(DATA_PATH) if os.path.isdir(DATA_PATH+week_dir) and not week_dir.endswith('.ipynb_checkpoints')]\n",
    "print('Amount of extracted weeks: ', len(week_list))"
   ]
  },
  {
   "cell_type": "code",
   "execution_count": 3,
   "id": "9784dd12-2320-429e-8416-e47bf73669ec",
   "metadata": {},
   "outputs": [
    {
     "name": "stdout",
     "output_type": "stream",
     "text": [
      "['week_01', 'week_02', 'week_03', 'week_04', 'week_05', 'week_06', 'week_07', 'week_08', 'week_09', 'week_10', 'week_11', 'week_12', 'week_pr_01', 'week_pr_02', 'week_13', 'week_14', 'week_15', 'week_16', 'week_17', 'week_pr_03', 'week_18', 'week_19', 'week_20', 'week_21', 'week_pr_04', 'week_22']\n"
     ]
    }
   ],
   "source": [
    "week_list.sort()\n",
    "week_list.remove('week_pr_01')\n",
    "week_list.insert(week_list.index('week_12')+1, 'week_pr_01')\n",
    "week_list.remove('week_pr_02')\n",
    "week_list.insert(week_list.index('week_pr_01')+1, 'week_pr_02')\n",
    "week_list.remove('week_pr_03')\n",
    "week_list.insert(week_list.index('week_17')+1, 'week_pr_03')\n",
    "week_list.remove('week_pr_04')\n",
    "week_list.insert(week_list.index('week_21')+1, 'week_pr_04')\n",
    "\n",
    "print(week_list)"
   ]
  },
  {
   "cell_type": "code",
   "execution_count": 4,
   "id": "ba4d9b13-c260-4e19-b275-eb7bc08c93a9",
   "metadata": {},
   "outputs": [],
   "source": [
    "user_list = []\n",
    "hashtag_list = []"
   ]
  },
  {
   "cell_type": "code",
   "execution_count": 17,
   "id": "a05e8993-6a8a-4484-8741-b438fb7a17bd",
   "metadata": {},
   "outputs": [
    {
     "name": "stdout",
     "output_type": "stream",
     "text": [
      "Starting week_22:\n",
      "\n",
      "    Finished week_22:\n",
      "    Total number of users: 472852\n",
      "    Total number of hashtags: 5189068\n",
      "    \n",
      "\n",
      "    \n"
     ]
    }
   ],
   "source": [
    "for week in week_list:\n",
    "    clear_output(wait=True)\n",
    "    print(f'Starting {week}:')\n",
    "    week_df = pd.read_parquet(f'{DATA_PATH+week}/merged_{week}.parquet')\n",
    "    for idx, tweet in week_df.iterrows():\n",
    "        #usr_name = eval(tweet['user'])['username']\n",
    "        hashtags = eval(tweet['hashtags'])\n",
    "        #if usr_name not in user_list:\n",
    "        #    user_list.append(usr_name)\n",
    "        if hashtags:\n",
    "            for hashtag in hashtags:\n",
    "                hashtag_list.append(hashtag.lower())\n",
    "                #hasht_low = hashtag.lower()\n",
    "                #if hasht_low not in hashtag_list:\n",
    "                #    hashtag_list.append(hasht_low)\n",
    "    print(f'''\n",
    "    Finished {week}:\n",
    "    Total number of users: {len(user_list)}\n",
    "    Total number of hashtags: {len(hashtag_list)}\n",
    "    \\n\n",
    "    ''')"
   ]
  },
  {
   "cell_type": "code",
   "execution_count": 25,
   "id": "f850146e-212d-4aaf-84b1-91073bfe0478",
   "metadata": {},
   "outputs": [],
   "source": [
    "user_series = pd.Series(user_list)\n",
    "hashtag_series = pd.Series(hashtag_list)"
   ]
  },
  {
   "cell_type": "code",
   "execution_count": 26,
   "id": "6235011c-a75d-41ed-807d-e53c5438b334",
   "metadata": {},
   "outputs": [
    {
     "data": {
      "text/plain": [
       "472852"
      ]
     },
     "execution_count": 26,
     "metadata": {},
     "output_type": "execute_result"
    }
   ],
   "source": [
    "user_series.drop_duplicates(inplace=True)\n",
    "len(user_series)"
   ]
  },
  {
   "cell_type": "code",
   "execution_count": 27,
   "id": "799dfa59-3443-4e14-99d9-40942923ef59",
   "metadata": {},
   "outputs": [
    {
     "data": {
      "text/plain": [
       "0         Indignado72\n",
       "1     EscutaZeNinguem\n",
       "2       OSul_noticias\n",
       "3          Alvesalces\n",
       "4             guinody\n",
       "5      ANA_PAULA_FONS\n",
       "6         libolsonaro\n",
       "7         Sandroka131\n",
       "8           gomessamg\n",
       "9           teddyfps1\n",
       "10         thivagando\n",
       "11    AndreaPorto2021\n",
       "12          thetunnes\n",
       "13    ngelomarchioll1\n",
       "14     MarceloAOrtega\n",
       "15     eriicksonsilva\n",
       "16            Elmosol\n",
       "17     sbsergiobastos\n",
       "18         silviacbap\n",
       "19     LuizzPatriotaa\n",
       "dtype: object"
      ]
     },
     "execution_count": 27,
     "metadata": {},
     "output_type": "execute_result"
    }
   ],
   "source": [
    "user_series[:20]"
   ]
  },
  {
   "cell_type": "code",
   "execution_count": 28,
   "id": "ba7f7305-8486-4c82-b8bf-d34d459991a1",
   "metadata": {},
   "outputs": [
    {
     "data": {
      "text/plain": [
       "5189068"
      ]
     },
     "execution_count": 28,
     "metadata": {},
     "output_type": "execute_result"
    }
   ],
   "source": [
    "len(hashtag_series)"
   ]
  },
  {
   "cell_type": "code",
   "execution_count": 40,
   "id": "059b88a0-01c5-4033-b227-fee3d23e0e51",
   "metadata": {},
   "outputs": [
    {
     "data": {
      "text/plain": [
       "cpidacovid                     609488\n",
       "forabolsonaro                  595474\n",
       "forabolsonarogenocida          150814\n",
       "cpidapandemia                  143894\n",
       "renanvagabundo                 116162\n",
       "cpidocirco                     111937\n",
       "renansabiadetudo                88980\n",
       "29mforabolsonaro                79676\n",
       "euautorizopresidente            79206\n",
       "bolsonarogenocida               57439\n",
       "cpidotse                        56181\n",
       "bolsonaropresidenteate2026      55712\n",
       "lulaladrao                      55328\n",
       "3jforabolsonaro                 52604\n",
       "barrosonacadeia                 51438\n",
       "cpidogenocidio                  50534\n",
       "euapoiovotoauditavel            48931\n",
       "covid19                         43422\n",
       "cpidacovid19                    41100\n",
       "aglobonaopresta                 39479\n",
       "19jforabolsonaro                38188\n",
       "impeachmentbolsonarourgente     36020\n",
       "bolsonarovaicair                34391\n",
       "24jforabolsonaro                33803\n",
       "lulalivrebrasillivre            33762\n",
       "euapoiobolsonaro2022            31651\n",
       "brasil                          31304\n",
       "votoimpressoauditavelja         30653\n",
       "brasilpelovotoauditavel         29623\n",
       "dia07vaisergigante              28355\n",
       "dtype: int64"
      ]
     },
     "execution_count": 40,
     "metadata": {},
     "output_type": "execute_result"
    }
   ],
   "source": [
    "hashtag_series.value_counts()[:30]"
   ]
  },
  {
   "cell_type": "code",
   "execution_count": 62,
   "id": "e78aa5c5-d14a-4d09-a765-6a2b1fbe5c0a",
   "metadata": {},
   "outputs": [],
   "source": [
    "top_30 = list(hashtag_series.value_counts()[:30].index)"
   ]
  },
  {
   "cell_type": "code",
   "execution_count": 42,
   "id": "5840ed70-2c24-438b-94da-45dc5b934fcd",
   "metadata": {},
   "outputs": [],
   "source": [
    "user_hash = {}\n",
    "for user in user_list:\n",
    "    user_hash[user] = np.zeros(30, dtype=int)"
   ]
  },
  {
   "cell_type": "code",
   "execution_count": 55,
   "id": "d032ec79-3e8f-4dac-83f1-25d82245d437",
   "metadata": {},
   "outputs": [
    {
     "name": "stdout",
     "output_type": "stream",
     "text": [
      "Current week: week_22...\n",
      "Finished week: week_22\n"
     ]
    }
   ],
   "source": [
    "for week in week_list:\n",
    "    clear_output(wait=True)\n",
    "    print(f'Current week: {week}...')\n",
    "    week_df = pd.read_parquet(f'{DATA_PATH+week}/merged_{week}.parquet')\n",
    "    for idx, tweet in week_df.iterrows():\n",
    "        hashtags = eval(tweet['hashtags'])\n",
    "        if hashtags:\n",
    "            usr_name = eval(tweet['user'])['username']\n",
    "            for hashtag in hashtags:\n",
    "                if hashtag in top_30:\n",
    "                    idx = top_30.index(hashtag)\n",
    "                    user_hash[usr_name][idx] = 1\n",
    "    print(f'Finished week: {week}')\n",
    "    "
   ]
  },
  {
   "cell_type": "code",
   "execution_count": 63,
   "id": "8f1ddf0c-45ba-4f29-980f-35c8d5128b96",
   "metadata": {},
   "outputs": [
    {
     "data": {
      "text/plain": [
       "['user',\n",
       " 'cpidacovid',\n",
       " 'forabolsonaro',\n",
       " 'forabolsonarogenocida',\n",
       " 'cpidapandemia',\n",
       " 'renanvagabundo',\n",
       " 'cpidocirco',\n",
       " 'renansabiadetudo',\n",
       " '29mforabolsonaro',\n",
       " 'euautorizopresidente',\n",
       " 'bolsonarogenocida',\n",
       " 'cpidotse',\n",
       " 'bolsonaropresidenteate2026',\n",
       " 'lulaladrao',\n",
       " '3jforabolsonaro',\n",
       " 'barrosonacadeia',\n",
       " 'cpidogenocidio',\n",
       " 'euapoiovotoauditavel',\n",
       " 'covid19',\n",
       " 'cpidacovid19',\n",
       " 'aglobonaopresta',\n",
       " '19jforabolsonaro',\n",
       " 'impeachmentbolsonarourgente',\n",
       " 'bolsonarovaicair',\n",
       " '24jforabolsonaro',\n",
       " 'lulalivrebrasillivre',\n",
       " 'euapoiobolsonaro2022',\n",
       " 'brasil',\n",
       " 'votoimpressoauditavelja',\n",
       " 'brasilpelovotoauditavel',\n",
       " 'dia07vaisergigante']"
      ]
     },
     "execution_count": 63,
     "metadata": {},
     "output_type": "execute_result"
    }
   ],
   "source": [
    "columns = ['user']+top_30\n",
    "columns"
   ]
  },
  {
   "cell_type": "code",
   "execution_count": 68,
   "id": "905ab5be-2710-4165-b18f-d87b306fc5ac",
   "metadata": {},
   "outputs": [],
   "source": [
    "user_hash_matrix = []\n",
    "\n",
    "for key in list(user_hash.keys()):\n",
    "    user_h = [key]+list(user_hash[key])\n",
    "    user_hash_matrix.append(user_h)\n"
   ]
  },
  {
   "cell_type": "code",
   "execution_count": 69,
   "id": "42433413-bd1b-4475-8213-6092c881003d",
   "metadata": {},
   "outputs": [],
   "source": [
    "usr_hash_df = pd.DataFrame(columns=columns, data=user_hash_matrix)"
   ]
  },
  {
   "cell_type": "code",
   "execution_count": 70,
   "id": "d771965c-02a5-482a-9c61-79ea63e60f3c",
   "metadata": {},
   "outputs": [
    {
     "data": {
      "text/plain": [
       "(472852, 31)"
      ]
     },
     "execution_count": 70,
     "metadata": {},
     "output_type": "execute_result"
    }
   ],
   "source": [
    "usr_hash_df.shape"
   ]
  },
  {
   "cell_type": "code",
   "execution_count": 71,
   "id": "7623e6c8-eb72-4fef-85ab-0e0a18583cd5",
   "metadata": {},
   "outputs": [
    {
     "data": {
      "text/html": [
       "<div>\n",
       "<style scoped>\n",
       "    .dataframe tbody tr th:only-of-type {\n",
       "        vertical-align: middle;\n",
       "    }\n",
       "\n",
       "    .dataframe tbody tr th {\n",
       "        vertical-align: top;\n",
       "    }\n",
       "\n",
       "    .dataframe thead th {\n",
       "        text-align: right;\n",
       "    }\n",
       "</style>\n",
       "<table border=\"1\" class=\"dataframe\">\n",
       "  <thead>\n",
       "    <tr style=\"text-align: right;\">\n",
       "      <th></th>\n",
       "      <th>user</th>\n",
       "      <th>cpidacovid</th>\n",
       "      <th>forabolsonaro</th>\n",
       "      <th>forabolsonarogenocida</th>\n",
       "      <th>cpidapandemia</th>\n",
       "      <th>renanvagabundo</th>\n",
       "      <th>cpidocirco</th>\n",
       "      <th>renansabiadetudo</th>\n",
       "      <th>29mforabolsonaro</th>\n",
       "      <th>euautorizopresidente</th>\n",
       "      <th>...</th>\n",
       "      <th>19jforabolsonaro</th>\n",
       "      <th>impeachmentbolsonarourgente</th>\n",
       "      <th>bolsonarovaicair</th>\n",
       "      <th>24jforabolsonaro</th>\n",
       "      <th>lulalivrebrasillivre</th>\n",
       "      <th>euapoiobolsonaro2022</th>\n",
       "      <th>brasil</th>\n",
       "      <th>votoimpressoauditavelja</th>\n",
       "      <th>brasilpelovotoauditavel</th>\n",
       "      <th>dia07vaisergigante</th>\n",
       "    </tr>\n",
       "  </thead>\n",
       "  <tbody>\n",
       "    <tr>\n",
       "      <th>0</th>\n",
       "      <td>Indignado72</td>\n",
       "      <td>1</td>\n",
       "      <td>1</td>\n",
       "      <td>1</td>\n",
       "      <td>1</td>\n",
       "      <td>0</td>\n",
       "      <td>0</td>\n",
       "      <td>0</td>\n",
       "      <td>0</td>\n",
       "      <td>0</td>\n",
       "      <td>...</td>\n",
       "      <td>0</td>\n",
       "      <td>0</td>\n",
       "      <td>0</td>\n",
       "      <td>0</td>\n",
       "      <td>0</td>\n",
       "      <td>0</td>\n",
       "      <td>1</td>\n",
       "      <td>0</td>\n",
       "      <td>0</td>\n",
       "      <td>0</td>\n",
       "    </tr>\n",
       "    <tr>\n",
       "      <th>1</th>\n",
       "      <td>EscutaZeNinguem</td>\n",
       "      <td>0</td>\n",
       "      <td>1</td>\n",
       "      <td>0</td>\n",
       "      <td>0</td>\n",
       "      <td>0</td>\n",
       "      <td>0</td>\n",
       "      <td>0</td>\n",
       "      <td>0</td>\n",
       "      <td>0</td>\n",
       "      <td>...</td>\n",
       "      <td>0</td>\n",
       "      <td>0</td>\n",
       "      <td>0</td>\n",
       "      <td>0</td>\n",
       "      <td>0</td>\n",
       "      <td>0</td>\n",
       "      <td>0</td>\n",
       "      <td>0</td>\n",
       "      <td>0</td>\n",
       "      <td>0</td>\n",
       "    </tr>\n",
       "    <tr>\n",
       "      <th>2</th>\n",
       "      <td>OSul_noticias</td>\n",
       "      <td>0</td>\n",
       "      <td>0</td>\n",
       "      <td>0</td>\n",
       "      <td>0</td>\n",
       "      <td>0</td>\n",
       "      <td>0</td>\n",
       "      <td>0</td>\n",
       "      <td>0</td>\n",
       "      <td>0</td>\n",
       "      <td>...</td>\n",
       "      <td>0</td>\n",
       "      <td>0</td>\n",
       "      <td>0</td>\n",
       "      <td>0</td>\n",
       "      <td>0</td>\n",
       "      <td>0</td>\n",
       "      <td>1</td>\n",
       "      <td>0</td>\n",
       "      <td>0</td>\n",
       "      <td>0</td>\n",
       "    </tr>\n",
       "    <tr>\n",
       "      <th>3</th>\n",
       "      <td>Alvesalces</td>\n",
       "      <td>0</td>\n",
       "      <td>0</td>\n",
       "      <td>0</td>\n",
       "      <td>0</td>\n",
       "      <td>0</td>\n",
       "      <td>0</td>\n",
       "      <td>0</td>\n",
       "      <td>0</td>\n",
       "      <td>0</td>\n",
       "      <td>...</td>\n",
       "      <td>0</td>\n",
       "      <td>0</td>\n",
       "      <td>0</td>\n",
       "      <td>0</td>\n",
       "      <td>0</td>\n",
       "      <td>0</td>\n",
       "      <td>0</td>\n",
       "      <td>0</td>\n",
       "      <td>0</td>\n",
       "      <td>0</td>\n",
       "    </tr>\n",
       "    <tr>\n",
       "      <th>4</th>\n",
       "      <td>guinody</td>\n",
       "      <td>0</td>\n",
       "      <td>0</td>\n",
       "      <td>0</td>\n",
       "      <td>0</td>\n",
       "      <td>0</td>\n",
       "      <td>0</td>\n",
       "      <td>0</td>\n",
       "      <td>0</td>\n",
       "      <td>0</td>\n",
       "      <td>...</td>\n",
       "      <td>0</td>\n",
       "      <td>0</td>\n",
       "      <td>0</td>\n",
       "      <td>0</td>\n",
       "      <td>0</td>\n",
       "      <td>0</td>\n",
       "      <td>0</td>\n",
       "      <td>0</td>\n",
       "      <td>0</td>\n",
       "      <td>0</td>\n",
       "    </tr>\n",
       "  </tbody>\n",
       "</table>\n",
       "<p>5 rows × 31 columns</p>\n",
       "</div>"
      ],
      "text/plain": [
       "              user  cpidacovid  forabolsonaro  forabolsonarogenocida  \\\n",
       "0      Indignado72           1              1                      1   \n",
       "1  EscutaZeNinguem           0              1                      0   \n",
       "2    OSul_noticias           0              0                      0   \n",
       "3       Alvesalces           0              0                      0   \n",
       "4          guinody           0              0                      0   \n",
       "\n",
       "   cpidapandemia  renanvagabundo  cpidocirco  renansabiadetudo  \\\n",
       "0              1               0           0                 0   \n",
       "1              0               0           0                 0   \n",
       "2              0               0           0                 0   \n",
       "3              0               0           0                 0   \n",
       "4              0               0           0                 0   \n",
       "\n",
       "   29mforabolsonaro  euautorizopresidente  ...  19jforabolsonaro  \\\n",
       "0                 0                     0  ...                 0   \n",
       "1                 0                     0  ...                 0   \n",
       "2                 0                     0  ...                 0   \n",
       "3                 0                     0  ...                 0   \n",
       "4                 0                     0  ...                 0   \n",
       "\n",
       "   impeachmentbolsonarourgente  bolsonarovaicair  24jforabolsonaro  \\\n",
       "0                            0                 0                 0   \n",
       "1                            0                 0                 0   \n",
       "2                            0                 0                 0   \n",
       "3                            0                 0                 0   \n",
       "4                            0                 0                 0   \n",
       "\n",
       "   lulalivrebrasillivre  euapoiobolsonaro2022  brasil  \\\n",
       "0                     0                     0       1   \n",
       "1                     0                     0       0   \n",
       "2                     0                     0       1   \n",
       "3                     0                     0       0   \n",
       "4                     0                     0       0   \n",
       "\n",
       "   votoimpressoauditavelja  brasilpelovotoauditavel  dia07vaisergigante  \n",
       "0                        0                        0                   0  \n",
       "1                        0                        0                   0  \n",
       "2                        0                        0                   0  \n",
       "3                        0                        0                   0  \n",
       "4                        0                        0                   0  \n",
       "\n",
       "[5 rows x 31 columns]"
      ]
     },
     "execution_count": 71,
     "metadata": {},
     "output_type": "execute_result"
    }
   ],
   "source": [
    "usr_hash_df.head()"
   ]
  },
  {
   "cell_type": "code",
   "execution_count": 73,
   "id": "4f37b5ad-3dd9-4f39-acaa-ef3fda441b1c",
   "metadata": {},
   "outputs": [],
   "source": [
    "usr_hash_df.to_parquet('data/user_hashtag_matrix.parquet', index=False)"
   ]
  },
  {
   "cell_type": "code",
   "execution_count": 89,
   "id": "28c07e5c-d6b4-4c29-a929-3ccc6b99c19d",
   "metadata": {},
   "outputs": [],
   "source": [
    "# neutral hashtags sets\n",
    "cpidacovid = set(usr_hash_df[usr_hash_df['cpidacovid']==1]['user'])\n",
    "cpidapandemia = set(usr_hash_df[usr_hash_df['cpidapandemia']==1]['user'])\n",
    "covid19 = set(usr_hash_df[usr_hash_df['covid19']==1]['user'])\n",
    "cpidacovid19 = set(usr_hash_df[usr_hash_df['cpidacovid19']==1]['user'])\n",
    "brasil = set(usr_hash_df[usr_hash_df['brasil']==1]['user'])\n",
    "\n",
    "# pro government hashtags sets\n",
    "renanvagabundo = set(usr_hash_df[usr_hash_df['renanvagabundo']==1]['user'])\n",
    "cpidocirco = set(usr_hash_df[usr_hash_df['cpidocirco']==1]['user'])\n",
    "renansabiadetudo = set(usr_hash_df[usr_hash_df['renansabiadetudo']==1]['user'])\n",
    "euautorizopresidente = set(usr_hash_df[usr_hash_df['euautorizopresidente']==1]['user'])\n",
    "cpidotse = set(usr_hash_df[usr_hash_df['cpidotse']==1]['user'])\n",
    "bolsonaropresidenteate2026 = set(usr_hash_df[usr_hash_df['bolsonaropresidenteate2026']==1]['user'])\n",
    "\n",
    "# against government hashtags sets\n",
    "forabolsonaro = set(usr_hash_df[usr_hash_df['forabolsonaro']==1]['user'])\n",
    "forabolsonarogenocida = set(usr_hash_df[usr_hash_df['forabolsonarogenocida']==1]['user'])\n",
    "_29mforabolsonaro = set(usr_hash_df[usr_hash_df['29mforabolsonaro']==1]['user'])\n",
    "bolsonarogenocida = set(usr_hash_df[usr_hash_df['bolsonarogenocida']==1]['user'])\n",
    "_3jforabolsonaro = set(usr_hash_df[usr_hash_df['3jforabolsonaro']==1]['user'])\n",
    "cpidogenocidio = set(usr_hash_df[usr_hash_df['cpidogenocidio']==1]['user'])"
   ]
  },
  {
   "cell_type": "code",
   "execution_count": 94,
   "id": "8e8847c1-7e98-4256-80f0-34d8cf4aeb3c",
   "metadata": {},
   "outputs": [
    {
     "name": "stdout",
     "output_type": "stream",
     "text": [
      "\n",
      "Neutral Hashtags\n",
      "\n",
      "#cpidacovid: 4181\n",
      "#cpidapandemia: 995\n",
      "#covid19: 2107\n",
      "#cpidacovid19: 397\n",
      "#brasil: 3677\n",
      "\n",
      "Pro Government Hashtags\n",
      "\n",
      "#renanvagabundo: 414\n",
      "#cpidocirco: 764\n",
      "#renansabiadetudo: 148\n",
      "#euautorizopresidente: 141\n",
      "#cpidotse: 113\n",
      "#bolsonaropresidenteate2026: 27\n",
      "\n",
      "Against Government Hastags\n",
      "\n",
      "#forabolsonaro: 21780\n",
      "#forabolsonarogenocida: 2013\n",
      "#29mforabolsonaro: 267\n",
      "#bolsonarogenocida: 1578\n",
      "#3jforabolsonaro: 343\n",
      "#cpidogenocidio: 163\n",
      "\n"
     ]
    }
   ],
   "source": [
    "print(f'''\n",
    "Neutral Hashtags\n",
    "\n",
    "#cpidacovid: {len(cpidacovid)}\n",
    "#cpidapandemia: {len(cpidapandemia)}\n",
    "#covid19: {len(covid19)}\n",
    "#cpidacovid19: {len(cpidacovid19)}\n",
    "#brasil: {len(brasil)}\n",
    "\n",
    "Pro Government Hashtags\n",
    "\n",
    "#renanvagabundo: {len(renanvagabundo)}\n",
    "#cpidocirco: {len(cpidocirco)}\n",
    "#renansabiadetudo: {len(renansabiadetudo)}\n",
    "#euautorizopresidente: {len(euautorizopresidente)}\n",
    "#cpidotse: {len(cpidotse)}\n",
    "#bolsonaropresidenteate2026: {len(bolsonaropresidenteate2026)}\n",
    "\n",
    "Against Government Hastags\n",
    "\n",
    "#forabolsonaro: {len(forabolsonaro)}\n",
    "#forabolsonarogenocida: {len(forabolsonarogenocida)}\n",
    "#29mforabolsonaro: {len(_29mforabolsonaro)}\n",
    "#bolsonarogenocida: {len(bolsonarogenocida)}\n",
    "#3jforabolsonaro: {len(_3jforabolsonaro)}\n",
    "#cpidogenocidio: {len(cpidogenocidio)}\n",
    "''')"
   ]
  },
  {
   "cell_type": "code",
   "execution_count": 126,
   "id": "7b66cefa-c315-4782-a49e-e91d882fee58",
   "metadata": {},
   "outputs": [
    {
     "name": "stdout",
     "output_type": "stream",
     "text": [
      "\n",
      "Neutral\n",
      "#cpidacovid (4181) x #covid19 (2107) : 187\n",
      "#cpidacovid (4181) x #cpidapandemia (995): 454\n",
      "#cpidacovid (4181) x #brasil (3677): 197\n",
      "\n",
      "Against CPI\n",
      "#cpidocirco (764) x #renanvagabundo (414): 52\n",
      "#cpidocirco (764) x #renansabiadetudo (148): 15\n",
      "#cpidocirco (764) x #euautorizopresidente (141): 11\n",
      "#cpidocirco (764) x #bolsonaropresidenteate2026 (27): 7\n",
      "\n",
      "Pro CPI\n",
      "#forabolsonaro (21780) x #forabolsonarogenocida (2013): 1163\n",
      "#forabolsonaro (21780) x #bolsonarogenocida (1578): 789\n",
      "#forabolsonaro (21780) x #cpidogenocidio (163): 45\n",
      "#forabolsonarogenocida (2013) x #bolsonarogenocida (1578): 204\n",
      "\n"
     ]
    }
   ],
   "source": [
    "print(f'''\n",
    "Neutral\n",
    "#cpidacovid ({len(cpidacovid)}) x #covid19 ({len(covid19)}) : {len(cpidacovid.intersection(covid19))}\n",
    "#cpidacovid ({len(cpidacovid)}) x #cpidapandemia ({len(cpidapandemia)}): {len(cpidacovid.intersection(cpidapandemia))}\n",
    "#cpidacovid ({len(cpidacovid)}) x #brasil ({len(brasil)}): {len(cpidacovid.intersection(brasil))}\n",
    "\n",
    "Against CPI\n",
    "#cpidocirco ({len(cpidocirco)}) x #renanvagabundo ({len(renanvagabundo)}): {len(cpidocirco.intersection(renanvagabundo))}\n",
    "#cpidocirco ({len(cpidocirco)}) x #renansabiadetudo ({len(renansabiadetudo)}): {len(cpidocirco.intersection(renansabiadetudo))}\n",
    "#cpidocirco ({len(cpidocirco)}) x #euautorizopresidente ({len(euautorizopresidente)}): {len(cpidocirco.intersection(euautorizopresidente))}\n",
    "#cpidocirco ({len(cpidocirco)}) x #bolsonaropresidenteate2026 ({len(bolsonaropresidenteate2026)}): {len(cpidocirco.intersection(bolsonaropresidenteate2026))}\n",
    "\n",
    "Pro CPI\n",
    "#forabolsonaro ({len(forabolsonaro)}) x #forabolsonarogenocida ({len(forabolsonarogenocida)}): {len(forabolsonaro.intersection(forabolsonarogenocida))}\n",
    "#forabolsonaro ({len(forabolsonaro)}) x #bolsonarogenocida ({len(bolsonarogenocida)}): {len(forabolsonaro.intersection(bolsonarogenocida))}\n",
    "#forabolsonaro ({len(forabolsonaro)}) x #cpidogenocidio ({len(cpidogenocidio)}): {len(forabolsonaro.intersection(cpidogenocidio))}\n",
    "#forabolsonarogenocida ({len(forabolsonarogenocida)}) x #bolsonarogenocida ({len(bolsonarogenocida)}): {len(forabolsonarogenocida.intersection(bolsonarogenocida))}\n",
    "''')"
   ]
  },
  {
   "cell_type": "code",
   "execution_count": 133,
   "id": "64c8fa4e-acc8-4d45-a823-2698bcaa2423",
   "metadata": {},
   "outputs": [
    {
     "name": "stdout",
     "output_type": "stream",
     "text": [
      "\n",
      "Pro x Against\n",
      "#forabolsonaro (21780) x #cpidocirco (764): 11\n",
      "#forabolsonaro (21780) x #renanvagabundo (764): 3\n",
      "#forabolsonaro (21780) x #euautorizopresidente (141): 2\n",
      "#bolsonarogenocida (1578) x #cpidocirco (764): 5\n",
      "#bolsonarogenocida (1578) x #renanvagabundo(414): 2\n",
      "#cpidogenocidio (163) x #cpidocirco(764): 3\n",
      "\n"
     ]
    }
   ],
   "source": [
    "print(f'''\n",
    "Pro x Against\n",
    "#forabolsonaro ({len(forabolsonaro)}) x #cpidocirco ({len(cpidocirco)}): {len(forabolsonaro.intersection(cpidocirco))}\n",
    "#forabolsonaro ({len(forabolsonaro)}) x #renanvagabundo ({len(cpidocirco)}): {len(forabolsonaro.intersection(renanvagabundo))}\n",
    "#forabolsonaro ({len(forabolsonaro)}) x #euautorizopresidente ({len(euautorizopresidente)}): {len(forabolsonaro.intersection(euautorizopresidente))}\n",
    "#bolsonarogenocida ({len(bolsonarogenocida)}) x #cpidocirco ({len(cpidocirco)}): {len(bolsonarogenocida.intersection(cpidocirco))}\n",
    "#bolsonarogenocida ({len(bolsonarogenocida)}) x #renanvagabundo({len(renanvagabundo)}): {len(bolsonarogenocida.intersection(renanvagabundo))}\n",
    "#cpidogenocidio ({len(cpidogenocidio)}) x #cpidocirco({len(cpidocirco)}): {len(cpidogenocidio.intersection(cpidocirco))}\n",
    "''')"
   ]
  },
  {
   "cell_type": "code",
   "execution_count": 140,
   "id": "4b89da3e-c5a2-4ca3-98f4-f493e345b444",
   "metadata": {},
   "outputs": [
    {
     "name": "stdout",
     "output_type": "stream",
     "text": [
      "\n",
      "Neutral x Against and Pro\n",
      "#cpidacovid (4181) x #cpidogenocidio (163): 83\n",
      "#cpidacovid (4181) x #cpidocirco (764): 43\n",
      "#brasil (3677) x #forabolsonaro (21780): 436\n",
      "#brasil (3677) x #cpidocirco (764): 25\n",
      "#covid19 (2107) x #forabolsonaro (21780): 252\n",
      "#covid19 (2107) x #cpidocirco (764): 14\n",
      "\n"
     ]
    }
   ],
   "source": [
    "print(f'''\n",
    "Neutral x Against and Pro\n",
    "#cpidacovid ({len(cpidacovid)}) x #cpidogenocidio ({len(cpidogenocidio)}): {len(cpidacovid.intersection(cpidogenocidio))}\n",
    "#cpidacovid ({len(cpidacovid)}) x #cpidocirco ({len(cpidocirco)}): {len(cpidacovid.intersection(cpidocirco))}\n",
    "#brasil ({len(brasil)}) x #forabolsonaro ({len(forabolsonaro)}): {len(brasil.intersection(forabolsonaro))}\n",
    "#brasil ({len(brasil)}) x #cpidocirco ({len(cpidocirco)}): {len(brasil.intersection(cpidocirco))}\n",
    "#covid19 ({len(covid19)}) x #forabolsonaro ({len(forabolsonaro)}): {len(covid19.intersection(forabolsonaro))}\n",
    "#covid19 ({len(covid19)}) x #cpidocirco ({len(cpidocirco)}): {len(covid19.intersection(cpidocirco))}\n",
    "''')"
   ]
  },
  {
   "cell_type": "code",
   "execution_count": null,
   "id": "df38e460-5aa4-4ca3-8196-59b00e5c47ee",
   "metadata": {},
   "outputs": [],
   "source": []
  }
 ],
 "metadata": {
  "kernelspec": {
   "display_name": "Python 3 (ipykernel)",
   "language": "python",
   "name": "python3"
  },
  "language_info": {
   "codemirror_mode": {
    "name": "ipython",
    "version": 3
   },
   "file_extension": ".py",
   "mimetype": "text/x-python",
   "name": "python",
   "nbconvert_exporter": "python",
   "pygments_lexer": "ipython3",
   "version": "3.10.0"
  }
 },
 "nbformat": 4,
 "nbformat_minor": 5
}

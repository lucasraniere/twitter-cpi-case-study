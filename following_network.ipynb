{
 "cells": [
  {
   "cell_type": "markdown",
   "id": "5abf48d4-2001-430d-b619-57be2a69d629",
   "metadata": {},
   "source": [
    "# __Follwing Social Network Creation__"
   ]
  },
  {
   "cell_type": "code",
   "execution_count": 1,
   "id": "a3056d41-c29b-4fd3-a12b-25e398eb6dbf",
   "metadata": {},
   "outputs": [],
   "source": [
    "import pandas as pd\n",
    "import datetime, os, tweepy\n",
    "from credentials import *\n",
    "import time, tweepy\n",
    "from IPython.display import clear_output, display\n",
    "import networkx as nx"
   ]
  },
  {
   "cell_type": "markdown",
   "id": "f8795028-58cb-4b89-9cc8-24754590605f",
   "metadata": {},
   "source": [
    "### Getting the nodes (users) from all days"
   ]
  },
  {
   "cell_type": "code",
   "execution_count": 2,
   "id": "0ab119a4-d6b9-448f-8bbc-8072b8dde7de",
   "metadata": {},
   "outputs": [],
   "source": [
    "complete_network = nx.read_gexf('data/networks/complete_network.gexf')"
   ]
  },
  {
   "cell_type": "code",
   "execution_count": 3,
   "id": "4d402d43-90b4-4b8b-ba8e-2141a0170fd6",
   "metadata": {},
   "outputs": [
    {
     "data": {
      "text/plain": [
       "325154"
      ]
     },
     "execution_count": 3,
     "metadata": {},
     "output_type": "execute_result"
    }
   ],
   "source": [
    "len(list(complete_network.nodes()))"
   ]
  },
  {
   "cell_type": "code",
   "execution_count": 4,
   "id": "48f49ed9-e5ab-40c8-b574-7e0e4031b459",
   "metadata": {},
   "outputs": [],
   "source": [
    "complete_network = nx.read_gexf('data/networks/complete_network.gexf')\n",
    "user = []\n",
    "\n",
    "for u, d in list(complete_network.nodes(data=True)):\n",
    "    user.append((u, d['tt_id']))"
   ]
  },
  {
   "cell_type": "code",
   "execution_count": 5,
   "id": "cbdbcb80-672e-4d86-8d56-fb9c9f22fae3",
   "metadata": {},
   "outputs": [
    {
     "data": {
      "text/plain": [
       "[('seguezaqueu', 1247224168850034694),\n",
       " ('zaqueusdvPT', 1573595167),\n",
       " ('OSul_noticias', 3245657679),\n",
       " ('farah_julioo', 1164340987071750145),\n",
       " ('thetunnes', 1360024018246631425),\n",
       " ('joaodoria45', 3405608584),\n",
       " ('eriicksonsilva', 51587901),\n",
       " ('Elmosol', 82350206),\n",
       " ('silviacbap', 736942609663467520),\n",
       " ('DarlyMenconi', 1243642241186516992)]"
      ]
     },
     "execution_count": 5,
     "metadata": {},
     "output_type": "execute_result"
    }
   ],
   "source": [
    "user[:10]"
   ]
  },
  {
   "cell_type": "code",
   "execution_count": 6,
   "id": "921616ad-7830-427c-81a9-c18504ea1d62",
   "metadata": {},
   "outputs": [
    {
     "data": {
      "text/html": [
       "<div>\n",
       "<style scoped>\n",
       "    .dataframe tbody tr th:only-of-type {\n",
       "        vertical-align: middle;\n",
       "    }\n",
       "\n",
       "    .dataframe tbody tr th {\n",
       "        vertical-align: top;\n",
       "    }\n",
       "\n",
       "    .dataframe thead th {\n",
       "        text-align: right;\n",
       "    }\n",
       "</style>\n",
       "<table border=\"1\" class=\"dataframe\">\n",
       "  <thead>\n",
       "    <tr style=\"text-align: right;\">\n",
       "      <th></th>\n",
       "      <th>displayname</th>\n",
       "      <th>id</th>\n",
       "    </tr>\n",
       "  </thead>\n",
       "  <tbody>\n",
       "    <tr>\n",
       "      <th>0</th>\n",
       "      <td>seguezaqueu</td>\n",
       "      <td>1247224168850034694</td>\n",
       "    </tr>\n",
       "    <tr>\n",
       "      <th>1</th>\n",
       "      <td>zaqueusdvPT</td>\n",
       "      <td>1573595167</td>\n",
       "    </tr>\n",
       "    <tr>\n",
       "      <th>2</th>\n",
       "      <td>OSul_noticias</td>\n",
       "      <td>3245657679</td>\n",
       "    </tr>\n",
       "    <tr>\n",
       "      <th>3</th>\n",
       "      <td>farah_julioo</td>\n",
       "      <td>1164340987071750145</td>\n",
       "    </tr>\n",
       "    <tr>\n",
       "      <th>4</th>\n",
       "      <td>thetunnes</td>\n",
       "      <td>1360024018246631425</td>\n",
       "    </tr>\n",
       "  </tbody>\n",
       "</table>\n",
       "</div>"
      ],
      "text/plain": [
       "     displayname                   id\n",
       "0    seguezaqueu  1247224168850034694\n",
       "1    zaqueusdvPT           1573595167\n",
       "2  OSul_noticias           3245657679\n",
       "3   farah_julioo  1164340987071750145\n",
       "4      thetunnes  1360024018246631425"
      ]
     },
     "execution_count": 6,
     "metadata": {},
     "output_type": "execute_result"
    }
   ],
   "source": [
    "usrs_df = pd.DataFrame(user, columns=['displayname', 'id'])\n",
    "usrs_df.head()"
   ]
  },
  {
   "cell_type": "code",
   "execution_count": 7,
   "id": "ab8902e3-a803-4614-a80d-19195c3cfde0",
   "metadata": {},
   "outputs": [
    {
     "data": {
      "text/plain": [
       "1365751729254465546    7\n",
       "1219062699843301376    4\n",
       "1329969912413040647    4\n",
       "1427728286621253643    4\n",
       "715226642289963008     4\n",
       "                      ..\n",
       "98503559               1\n",
       "1191488295701766149    1\n",
       "199022678              1\n",
       "832060527442538498     1\n",
       "1341947278165204992    1\n",
       "Name: id, Length: 324333, dtype: int64"
      ]
     },
     "execution_count": 7,
     "metadata": {},
     "output_type": "execute_result"
    }
   ],
   "source": [
    "usrs_df['id'].value_counts()"
   ]
  },
  {
   "cell_type": "code",
   "execution_count": 8,
   "id": "fa2b5ce7-4a52-4ed3-907f-e9d859d735f3",
   "metadata": {},
   "outputs": [
    {
     "data": {
      "text/plain": [
       "(324333, 2)"
      ]
     },
     "execution_count": 8,
     "metadata": {},
     "output_type": "execute_result"
    }
   ],
   "source": [
    "usrs_df.drop_duplicates(subset='id', keep='last', inplace=True, ignore_index=True)\n",
    "usrs_df.shape"
   ]
  },
  {
   "cell_type": "code",
   "execution_count": 9,
   "id": "649ec636-52d1-4b8f-9880-666303cda822",
   "metadata": {},
   "outputs": [
    {
     "data": {
      "text/plain": [
       "1247224168850034694    1\n",
       "2361832971             1\n",
       "1291916216685268993    1\n",
       "1376322458458918913    1\n",
       "1145217039369457665    1\n",
       "                      ..\n",
       "1048978269012484097    1\n",
       "1257087895858556928    1\n",
       "1238251109518577664    1\n",
       "1389660295392600071    1\n",
       "1341947278165204992    1\n",
       "Name: id, Length: 324333, dtype: int64"
      ]
     },
     "execution_count": 9,
     "metadata": {},
     "output_type": "execute_result"
    }
   ],
   "source": [
    "usrs_df['id'].value_counts()"
   ]
  },
  {
   "cell_type": "code",
   "execution_count": 10,
   "id": "45507253-96c6-40c8-be79-d96c56fbf3fe",
   "metadata": {},
   "outputs": [],
   "source": [
    "usrs_df.to_parquet('data/networks/node_id.parquet')"
   ]
  },
  {
   "cell_type": "code",
   "execution_count": 11,
   "id": "cfbbf4d6-3d55-4d08-a936-a8e06e594557",
   "metadata": {},
   "outputs": [],
   "source": [
    "del complete_network, user"
   ]
  },
  {
   "cell_type": "code",
   "execution_count": 12,
   "id": "f65564de-74f8-4d01-b26b-d5b04b6caf7c",
   "metadata": {},
   "outputs": [],
   "source": [
    "#nx.read_gexf('data/networks/complete_network.gexf').nodes(data=True)"
   ]
  },
  {
   "cell_type": "code",
   "execution_count": 13,
   "id": "59c921e5-c2a9-45f3-9f60-eb42bfa40289",
   "metadata": {},
   "outputs": [],
   "source": [
    "#network = nx.read_gexf('data/networks/complete_network.gexf')"
   ]
  },
  {
   "cell_type": "code",
   "execution_count": 14,
   "id": "2dc83fe3-8a96-4967-a409-d4ecbeffbc19",
   "metadata": {},
   "outputs": [],
   "source": [
    "#for u,d in list(network.nodes(data=True)):\n",
    "#    if d['label']:\n",
    "#        print(u)"
   ]
  },
  {
   "cell_type": "code",
   "execution_count": 15,
   "id": "5417dc05-0d49-4a2a-abe6-4c3edbcf935a",
   "metadata": {},
   "outputs": [],
   "source": [
    "#len(users)"
   ]
  },
  {
   "cell_type": "code",
   "execution_count": 16,
   "id": "4690e1ab-bdb0-4785-b060-6d94abf6c808",
   "metadata": {},
   "outputs": [],
   "source": [
    "#users[:15]"
   ]
  },
  {
   "cell_type": "code",
   "execution_count": 17,
   "id": "f24ce5c3-34c4-4b32-a3e9-7f8b71aecd46",
   "metadata": {},
   "outputs": [],
   "source": [
    "#DATA_PATH_TT = 'data/tweets/'\n",
    "#DATA_PATH_NT = 'data/networks/'"
   ]
  },
  {
   "cell_type": "code",
   "execution_count": 18,
   "id": "cfffbc72-3424-4848-a36d-aeb96e9f5910",
   "metadata": {},
   "outputs": [],
   "source": [
    "#week_list = [week_dir for week_dir in os.listdir(DATA_PATH_NT) if os.path.isdir(DATA_PATH_TT+week_dir) and not week_dir.endswith('.ipynb_checkpoints')]\n",
    "\n",
    "#week_list.sort()\n",
    "#week_list.remove('week_pr_01')\n",
    "#week_list.insert(week_list.index('week_12')+1, 'week_pr_01')\n",
    "#week_list.remove('week_pr_02')\n",
    "#week_list.insert(week_list.index('week_pr_01')+1, 'week_pr_02')\n",
    "#week_list.remove('week_pr_03')\n",
    "#week_list.insert(week_list.index('week_17')+1, 'week_pr_03')\n",
    "#week_list.remove('week_pr_04')\n",
    "#week_list.insert(week_list.index('week_21')+1, 'week_pr_04')\n",
    "\n",
    "#print(week_list)"
   ]
  },
  {
   "cell_type": "code",
   "execution_count": 19,
   "id": "028446fd-5442-427c-b7f6-4043eb1ec7ed",
   "metadata": {},
   "outputs": [],
   "source": [
    "#day_list = ['day_1', 'day_2', 'day_3', 'day_4', 'day_5', 'day_6', 'day_7']\n",
    "#node_list = []\n",
    "\n",
    "#for week in week_list:\n",
    "#    print(f'Starting week {week}...\\n')\n",
    "#    for day in day_list:\n",
    "#        print(day+'...')\n",
    "#        nodes = pd.read_csv(DATA_PATH_NT+week+'/'+day+'/'+'gephi_nodes.csv')\n",
    "#        for usr, disp_n, desc, tt_id in nodes[['Id', 'DisplayName', 'Description', 'TtId']].values:\n",
    "#            if (usr, disp_n, desc, tt_id) not in node_list:\n",
    "#                node_list.append((usr, disp_n, desc, tt_id))\n",
    "\n",
    "#all_nodes = pd.DataFrame(node_list, columns=['Id', 'DisplayName', 'Description', 'TtId'])\n",
    "#all_nodes.drop_duplicates(subset=['Id'], keep='last', ignore_index=True, inplace=True)\n",
    "#all_nodes.to_csv(DATA_PATH_NT+'all_nodes.csv', index=False)"
   ]
  },
  {
   "cell_type": "code",
   "execution_count": 20,
   "id": "e8a74c6d-4da8-47bf-bc7e-5e295aedf319",
   "metadata": {},
   "outputs": [],
   "source": [
    "#all_nodes.drop_duplicates(subset='Id', keep='last', inplace=True, ignore_index=True)\n",
    "#all_nodes.shape"
   ]
  },
  {
   "cell_type": "code",
   "execution_count": 21,
   "id": "e183775b-a22f-4029-a70c-0a545294542b",
   "metadata": {},
   "outputs": [],
   "source": [
    "#all_nodes.to_csv(DATA_PATH_NT+'all_nodes.csv', index=False)"
   ]
  },
  {
   "cell_type": "markdown",
   "id": "4ad976ae-487d-4195-8273-f208ba79456a",
   "metadata": {},
   "source": [
    "### Following Social Network Edges"
   ]
  },
  {
   "cell_type": "code",
   "execution_count": 22,
   "id": "7260fc23-2c23-4398-a89d-0a1f460031af",
   "metadata": {},
   "outputs": [],
   "source": [
    "auth = tweepy.OAuthHandler(API_KEY, API_SECRET)\n",
    "auth.set_access_token(ACCESS_TOKEN, ACCESS_TOKEN_SECRET)\n",
    "api = tweepy.API(auth, wait_on_rate_limit=True, wait_on_rate_limit_notify=True)"
   ]
  },
  {
   "cell_type": "code",
   "execution_count": 25,
   "id": "6d1d9912-4838-49c3-a557-2b13125cf2ad",
   "metadata": {},
   "outputs": [
    {
     "name": "stdout",
     "output_type": "stream",
     "text": [
      "\n",
      "    User number 15234: martafmartins\n",
      "    309099 to go\n",
      "    4.697024354598515% finished\n",
      "    Number of following links: 2521\n",
      "    \n"
     ]
    },
    {
     "ename": "KeyboardInterrupt",
     "evalue": "",
     "output_type": "error",
     "traceback": [
      "\u001b[1;31m---------------------------------------------------------------------------\u001b[0m",
      "\u001b[1;31mKeyboardInterrupt\u001b[0m                         Traceback (most recent call last)",
      "    \u001b[1;31m[... skipping hidden 1 frame]\u001b[0m\n",
      "\u001b[1;32m~\\AppData\\Local\\Temp/ipykernel_9672/1040210373.py\u001b[0m in \u001b[0;36m<module>\u001b[1;34m\u001b[0m\n\u001b[0;32m     15\u001b[0m     \u001b[1;32mtry\u001b[0m\u001b[1;33m:\u001b[0m\u001b[1;33m\u001b[0m\u001b[1;33m\u001b[0m\u001b[0m\n\u001b[1;32m---> 16\u001b[1;33m         \u001b[1;32mif\u001b[0m \u001b[0mapi\u001b[0m\u001b[1;33m.\u001b[0m\u001b[0mget_user\u001b[0m\u001b[1;33m(\u001b[0m\u001b[0mscreen_name\u001b[0m\u001b[1;33m=\u001b[0m\u001b[0musr_n\u001b[0m\u001b[1;33m)\u001b[0m\u001b[1;33m.\u001b[0m\u001b[0mprotected\u001b[0m\u001b[1;33m:\u001b[0m\u001b[1;33m\u001b[0m\u001b[1;33m\u001b[0m\u001b[0m\n\u001b[0m\u001b[0;32m     17\u001b[0m             \u001b[0mprotec_usr\u001b[0m\u001b[1;33m.\u001b[0m\u001b[0mappend\u001b[0m\u001b[1;33m(\u001b[0m\u001b[0musr_n\u001b[0m\u001b[1;33m)\u001b[0m\u001b[1;33m\u001b[0m\u001b[1;33m\u001b[0m\u001b[0m\n",
      "\u001b[1;32m~\\anaconda3\\envs\\twitter-cpi\\lib\\site-packages\\tweepy\\binder.py\u001b[0m in \u001b[0;36m_call\u001b[1;34m(*args, **kwargs)\u001b[0m\n\u001b[0;32m    252\u001b[0m             \u001b[1;32melse\u001b[0m\u001b[1;33m:\u001b[0m\u001b[1;33m\u001b[0m\u001b[1;33m\u001b[0m\u001b[0m\n\u001b[1;32m--> 253\u001b[1;33m                 \u001b[1;32mreturn\u001b[0m \u001b[0mmethod\u001b[0m\u001b[1;33m.\u001b[0m\u001b[0mexecute\u001b[0m\u001b[1;33m(\u001b[0m\u001b[1;33m)\u001b[0m\u001b[1;33m\u001b[0m\u001b[1;33m\u001b[0m\u001b[0m\n\u001b[0m\u001b[0;32m    254\u001b[0m         \u001b[1;32mfinally\u001b[0m\u001b[1;33m:\u001b[0m\u001b[1;33m\u001b[0m\u001b[1;33m\u001b[0m\u001b[0m\n",
      "\u001b[1;32m~\\anaconda3\\envs\\twitter-cpi\\lib\\site-packages\\tweepy\\binder.py\u001b[0m in \u001b[0;36mexecute\u001b[1;34m(self)\u001b[0m\n\u001b[0;32m    183\u001b[0m                 \u001b[1;32mtry\u001b[0m\u001b[1;33m:\u001b[0m\u001b[1;33m\u001b[0m\u001b[1;33m\u001b[0m\u001b[0m\n\u001b[1;32m--> 184\u001b[1;33m                     resp = self.session.request(self.method,\n\u001b[0m\u001b[0;32m    185\u001b[0m                                                 \u001b[0mfull_url\u001b[0m\u001b[1;33m,\u001b[0m\u001b[1;33m\u001b[0m\u001b[1;33m\u001b[0m\u001b[0m\n",
      "\u001b[1;32m~\\anaconda3\\envs\\twitter-cpi\\lib\\site-packages\\requests\\sessions.py\u001b[0m in \u001b[0;36mrequest\u001b[1;34m(self, method, url, params, data, headers, cookies, files, auth, timeout, allow_redirects, proxies, hooks, stream, verify, cert, json)\u001b[0m\n\u001b[0;32m    541\u001b[0m         \u001b[0msend_kwargs\u001b[0m\u001b[1;33m.\u001b[0m\u001b[0mupdate\u001b[0m\u001b[1;33m(\u001b[0m\u001b[0msettings\u001b[0m\u001b[1;33m)\u001b[0m\u001b[1;33m\u001b[0m\u001b[1;33m\u001b[0m\u001b[0m\n\u001b[1;32m--> 542\u001b[1;33m         \u001b[0mresp\u001b[0m \u001b[1;33m=\u001b[0m \u001b[0mself\u001b[0m\u001b[1;33m.\u001b[0m\u001b[0msend\u001b[0m\u001b[1;33m(\u001b[0m\u001b[0mprep\u001b[0m\u001b[1;33m,\u001b[0m \u001b[1;33m**\u001b[0m\u001b[0msend_kwargs\u001b[0m\u001b[1;33m)\u001b[0m\u001b[1;33m\u001b[0m\u001b[1;33m\u001b[0m\u001b[0m\n\u001b[0m\u001b[0;32m    543\u001b[0m \u001b[1;33m\u001b[0m\u001b[0m\n",
      "\u001b[1;32m~\\anaconda3\\envs\\twitter-cpi\\lib\\site-packages\\requests\\sessions.py\u001b[0m in \u001b[0;36msend\u001b[1;34m(self, request, **kwargs)\u001b[0m\n\u001b[0;32m    654\u001b[0m         \u001b[1;31m# Send the request\u001b[0m\u001b[1;33m\u001b[0m\u001b[1;33m\u001b[0m\u001b[0m\n\u001b[1;32m--> 655\u001b[1;33m         \u001b[0mr\u001b[0m \u001b[1;33m=\u001b[0m \u001b[0madapter\u001b[0m\u001b[1;33m.\u001b[0m\u001b[0msend\u001b[0m\u001b[1;33m(\u001b[0m\u001b[0mrequest\u001b[0m\u001b[1;33m,\u001b[0m \u001b[1;33m**\u001b[0m\u001b[0mkwargs\u001b[0m\u001b[1;33m)\u001b[0m\u001b[1;33m\u001b[0m\u001b[1;33m\u001b[0m\u001b[0m\n\u001b[0m\u001b[0;32m    656\u001b[0m \u001b[1;33m\u001b[0m\u001b[0m\n",
      "\u001b[1;32m~\\anaconda3\\envs\\twitter-cpi\\lib\\site-packages\\requests\\adapters.py\u001b[0m in \u001b[0;36msend\u001b[1;34m(self, request, stream, timeout, verify, cert, proxies)\u001b[0m\n\u001b[0;32m    438\u001b[0m             \u001b[1;32mif\u001b[0m \u001b[1;32mnot\u001b[0m \u001b[0mchunked\u001b[0m\u001b[1;33m:\u001b[0m\u001b[1;33m\u001b[0m\u001b[1;33m\u001b[0m\u001b[0m\n\u001b[1;32m--> 439\u001b[1;33m                 resp = conn.urlopen(\n\u001b[0m\u001b[0;32m    440\u001b[0m                     \u001b[0mmethod\u001b[0m\u001b[1;33m=\u001b[0m\u001b[0mrequest\u001b[0m\u001b[1;33m.\u001b[0m\u001b[0mmethod\u001b[0m\u001b[1;33m,\u001b[0m\u001b[1;33m\u001b[0m\u001b[1;33m\u001b[0m\u001b[0m\n",
      "\u001b[1;32m~\\anaconda3\\envs\\twitter-cpi\\lib\\site-packages\\urllib3\\connectionpool.py\u001b[0m in \u001b[0;36murlopen\u001b[1;34m(self, method, url, body, headers, retries, redirect, assert_same_host, timeout, pool_timeout, release_conn, chunked, body_pos, **response_kw)\u001b[0m\n\u001b[0;32m    698\u001b[0m             \u001b[1;31m# Make the request on the httplib connection object.\u001b[0m\u001b[1;33m\u001b[0m\u001b[1;33m\u001b[0m\u001b[0m\n\u001b[1;32m--> 699\u001b[1;33m             httplib_response = self._make_request(\n\u001b[0m\u001b[0;32m    700\u001b[0m                 \u001b[0mconn\u001b[0m\u001b[1;33m,\u001b[0m\u001b[1;33m\u001b[0m\u001b[1;33m\u001b[0m\u001b[0m\n",
      "\u001b[1;32m~\\anaconda3\\envs\\twitter-cpi\\lib\\site-packages\\urllib3\\connectionpool.py\u001b[0m in \u001b[0;36m_make_request\u001b[1;34m(self, conn, method, url, timeout, chunked, **httplib_request_kw)\u001b[0m\n\u001b[0;32m    381\u001b[0m         \u001b[1;32mtry\u001b[0m\u001b[1;33m:\u001b[0m\u001b[1;33m\u001b[0m\u001b[1;33m\u001b[0m\u001b[0m\n\u001b[1;32m--> 382\u001b[1;33m             \u001b[0mself\u001b[0m\u001b[1;33m.\u001b[0m\u001b[0m_validate_conn\u001b[0m\u001b[1;33m(\u001b[0m\u001b[0mconn\u001b[0m\u001b[1;33m)\u001b[0m\u001b[1;33m\u001b[0m\u001b[1;33m\u001b[0m\u001b[0m\n\u001b[0m\u001b[0;32m    383\u001b[0m         \u001b[1;32mexcept\u001b[0m \u001b[1;33m(\u001b[0m\u001b[0mSocketTimeout\u001b[0m\u001b[1;33m,\u001b[0m \u001b[0mBaseSSLError\u001b[0m\u001b[1;33m)\u001b[0m \u001b[1;32mas\u001b[0m \u001b[0me\u001b[0m\u001b[1;33m:\u001b[0m\u001b[1;33m\u001b[0m\u001b[1;33m\u001b[0m\u001b[0m\n",
      "\u001b[1;32m~\\anaconda3\\envs\\twitter-cpi\\lib\\site-packages\\urllib3\\connectionpool.py\u001b[0m in \u001b[0;36m_validate_conn\u001b[1;34m(self, conn)\u001b[0m\n\u001b[0;32m   1009\u001b[0m         \u001b[1;32mif\u001b[0m \u001b[1;32mnot\u001b[0m \u001b[0mgetattr\u001b[0m\u001b[1;33m(\u001b[0m\u001b[0mconn\u001b[0m\u001b[1;33m,\u001b[0m \u001b[1;34m\"sock\"\u001b[0m\u001b[1;33m,\u001b[0m \u001b[1;32mNone\u001b[0m\u001b[1;33m)\u001b[0m\u001b[1;33m:\u001b[0m  \u001b[1;31m# AppEngine might not have  `.sock`\u001b[0m\u001b[1;33m\u001b[0m\u001b[1;33m\u001b[0m\u001b[0m\n\u001b[1;32m-> 1010\u001b[1;33m             \u001b[0mconn\u001b[0m\u001b[1;33m.\u001b[0m\u001b[0mconnect\u001b[0m\u001b[1;33m(\u001b[0m\u001b[1;33m)\u001b[0m\u001b[1;33m\u001b[0m\u001b[1;33m\u001b[0m\u001b[0m\n\u001b[0m\u001b[0;32m   1011\u001b[0m \u001b[1;33m\u001b[0m\u001b[0m\n",
      "\u001b[1;32m~\\anaconda3\\envs\\twitter-cpi\\lib\\site-packages\\urllib3\\connection.py\u001b[0m in \u001b[0;36mconnect\u001b[1;34m(self)\u001b[0m\n\u001b[0;32m    410\u001b[0m \u001b[1;33m\u001b[0m\u001b[0m\n\u001b[1;32m--> 411\u001b[1;33m         self.sock = ssl_wrap_socket(\n\u001b[0m\u001b[0;32m    412\u001b[0m             \u001b[0msock\u001b[0m\u001b[1;33m=\u001b[0m\u001b[0mconn\u001b[0m\u001b[1;33m,\u001b[0m\u001b[1;33m\u001b[0m\u001b[1;33m\u001b[0m\u001b[0m\n",
      "\u001b[1;32m~\\anaconda3\\envs\\twitter-cpi\\lib\\site-packages\\urllib3\\util\\ssl_.py\u001b[0m in \u001b[0;36mssl_wrap_socket\u001b[1;34m(sock, keyfile, certfile, cert_reqs, ca_certs, server_hostname, ssl_version, ciphers, ssl_context, ca_cert_dir, key_password, ca_cert_data, tls_in_tls)\u001b[0m\n\u001b[0;32m    448\u001b[0m     \u001b[1;32mif\u001b[0m \u001b[0msend_sni\u001b[0m\u001b[1;33m:\u001b[0m\u001b[1;33m\u001b[0m\u001b[1;33m\u001b[0m\u001b[0m\n\u001b[1;32m--> 449\u001b[1;33m         ssl_sock = _ssl_wrap_socket_impl(\n\u001b[0m\u001b[0;32m    450\u001b[0m             \u001b[0msock\u001b[0m\u001b[1;33m,\u001b[0m \u001b[0mcontext\u001b[0m\u001b[1;33m,\u001b[0m \u001b[0mtls_in_tls\u001b[0m\u001b[1;33m,\u001b[0m \u001b[0mserver_hostname\u001b[0m\u001b[1;33m=\u001b[0m\u001b[0mserver_hostname\u001b[0m\u001b[1;33m\u001b[0m\u001b[1;33m\u001b[0m\u001b[0m\n",
      "\u001b[1;32m~\\anaconda3\\envs\\twitter-cpi\\lib\\site-packages\\urllib3\\util\\ssl_.py\u001b[0m in \u001b[0;36m_ssl_wrap_socket_impl\u001b[1;34m(sock, ssl_context, tls_in_tls, server_hostname)\u001b[0m\n\u001b[0;32m    492\u001b[0m     \u001b[1;32mif\u001b[0m \u001b[0mserver_hostname\u001b[0m\u001b[1;33m:\u001b[0m\u001b[1;33m\u001b[0m\u001b[1;33m\u001b[0m\u001b[0m\n\u001b[1;32m--> 493\u001b[1;33m         \u001b[1;32mreturn\u001b[0m \u001b[0mssl_context\u001b[0m\u001b[1;33m.\u001b[0m\u001b[0mwrap_socket\u001b[0m\u001b[1;33m(\u001b[0m\u001b[0msock\u001b[0m\u001b[1;33m,\u001b[0m \u001b[0mserver_hostname\u001b[0m\u001b[1;33m=\u001b[0m\u001b[0mserver_hostname\u001b[0m\u001b[1;33m)\u001b[0m\u001b[1;33m\u001b[0m\u001b[1;33m\u001b[0m\u001b[0m\n\u001b[0m\u001b[0;32m    494\u001b[0m     \u001b[1;32melse\u001b[0m\u001b[1;33m:\u001b[0m\u001b[1;33m\u001b[0m\u001b[1;33m\u001b[0m\u001b[0m\n",
      "\u001b[1;32m~\\anaconda3\\envs\\twitter-cpi\\lib\\ssl.py\u001b[0m in \u001b[0;36mwrap_socket\u001b[1;34m(self, sock, server_side, do_handshake_on_connect, suppress_ragged_eofs, server_hostname, session)\u001b[0m\n\u001b[0;32m    499\u001b[0m         \u001b[1;31m# ctx._wrap_socket()\u001b[0m\u001b[1;33m\u001b[0m\u001b[1;33m\u001b[0m\u001b[0m\n\u001b[1;32m--> 500\u001b[1;33m         return self.sslsocket_class._create(\n\u001b[0m\u001b[0;32m    501\u001b[0m             \u001b[0msock\u001b[0m\u001b[1;33m=\u001b[0m\u001b[0msock\u001b[0m\u001b[1;33m,\u001b[0m\u001b[1;33m\u001b[0m\u001b[1;33m\u001b[0m\u001b[0m\n",
      "\u001b[1;32m~\\anaconda3\\envs\\twitter-cpi\\lib\\ssl.py\u001b[0m in \u001b[0;36m_create\u001b[1;34m(cls, sock, server_side, do_handshake_on_connect, suppress_ragged_eofs, server_hostname, context, session)\u001b[0m\n\u001b[0;32m   1039\u001b[0m                         \u001b[1;32mraise\u001b[0m \u001b[0mValueError\u001b[0m\u001b[1;33m(\u001b[0m\u001b[1;34m\"do_handshake_on_connect should not be specified for non-blocking sockets\"\u001b[0m\u001b[1;33m)\u001b[0m\u001b[1;33m\u001b[0m\u001b[1;33m\u001b[0m\u001b[0m\n\u001b[1;32m-> 1040\u001b[1;33m                     \u001b[0mself\u001b[0m\u001b[1;33m.\u001b[0m\u001b[0mdo_handshake\u001b[0m\u001b[1;33m(\u001b[0m\u001b[1;33m)\u001b[0m\u001b[1;33m\u001b[0m\u001b[1;33m\u001b[0m\u001b[0m\n\u001b[0m\u001b[0;32m   1041\u001b[0m             \u001b[1;32mexcept\u001b[0m \u001b[1;33m(\u001b[0m\u001b[0mOSError\u001b[0m\u001b[1;33m,\u001b[0m \u001b[0mValueError\u001b[0m\u001b[1;33m)\u001b[0m\u001b[1;33m:\u001b[0m\u001b[1;33m\u001b[0m\u001b[1;33m\u001b[0m\u001b[0m\n",
      "\u001b[1;32m~\\anaconda3\\envs\\twitter-cpi\\lib\\ssl.py\u001b[0m in \u001b[0;36mdo_handshake\u001b[1;34m(self, block)\u001b[0m\n\u001b[0;32m   1308\u001b[0m                 \u001b[0mself\u001b[0m\u001b[1;33m.\u001b[0m\u001b[0msettimeout\u001b[0m\u001b[1;33m(\u001b[0m\u001b[1;32mNone\u001b[0m\u001b[1;33m)\u001b[0m\u001b[1;33m\u001b[0m\u001b[1;33m\u001b[0m\u001b[0m\n\u001b[1;32m-> 1309\u001b[1;33m             \u001b[0mself\u001b[0m\u001b[1;33m.\u001b[0m\u001b[0m_sslobj\u001b[0m\u001b[1;33m.\u001b[0m\u001b[0mdo_handshake\u001b[0m\u001b[1;33m(\u001b[0m\u001b[1;33m)\u001b[0m\u001b[1;33m\u001b[0m\u001b[1;33m\u001b[0m\u001b[0m\n\u001b[0m\u001b[0;32m   1310\u001b[0m         \u001b[1;32mfinally\u001b[0m\u001b[1;33m:\u001b[0m\u001b[1;33m\u001b[0m\u001b[1;33m\u001b[0m\u001b[0m\n",
      "\u001b[1;31mKeyboardInterrupt\u001b[0m: ",
      "\nDuring handling of the above exception, another exception occurred:\n",
      "\u001b[1;31mKeyboardInterrupt\u001b[0m                         Traceback (most recent call last)",
      "\u001b[1;31mKeyboardInterrupt\u001b[0m: "
     ]
    }
   ],
   "source": [
    "follows_list = []\n",
    "susp_account = []\n",
    "protec_usr = []\n",
    "count = 0\n",
    "n_usr = usrs_df.shape[0]\n",
    "\n",
    "for usr_n, usr_id in usrs_df.values:\n",
    "    clear_output(wait=True)\n",
    "    print(f'''\n",
    "    User number {count}: {usr_n}\n",
    "    {n_usr - count} to go\n",
    "    {(count/n_usr)*100}% finished\n",
    "    Number of following links: {len(follows_list)}\n",
    "    ''')\n",
    "    try:\n",
    "        if api.get_user(screen_name=usr_n).protected:\n",
    "            protec_usr.append(usr_n)\n",
    "            time.sleep(5)\n",
    "        else:\n",
    "            usr_follow = api.friends_ids(usr_n)\n",
    "            for id_ in usr_follow:\n",
    "                if id_ in usrs_df['id']:\n",
    "                    follows_list.append((usr_id, id_))\n",
    "            #for usr2 in all_nodes['Id']:\n",
    "            #    if usr != usr2:\n",
    "            #        friendship = api.get_friendship(source_screen_name=usr, target_screen_name=usr2)\n",
    "            #        if friendship[0].following:\n",
    "            #            follows_list.append((usr, usr2))\n",
    "    #except tweepy.errors.TweepyException as e:\n",
    "            time.sleep(5)\n",
    "    except tweepy.TweepError as e:\n",
    "        susp_account.append(usr_n)\n",
    "        time.sleep(5)\n",
    "    count+=1"
   ]
  },
  {
   "cell_type": "raw",
   "id": "e049253a-809a-49ff-b539-b35f5835791c",
   "metadata": {},
   "source": [
    "user counter: 15233"
   ]
  },
  {
   "cell_type": "code",
   "execution_count": 26,
   "id": "960f218b-8aa1-4aaa-aa1c-838a5b740410",
   "metadata": {},
   "outputs": [
    {
     "data": {
      "text/plain": [
       "[(220450289, 30973),\n",
       " (34996429, 6503),\n",
       " (34996429, 4124),\n",
       " (717037526, 79543),\n",
       " (62587797, 572),\n",
       " (62587797, 33423),\n",
       " (17520030, 4816),\n",
       " (17520030, 3144),\n",
       " (1281766129, 20),\n",
       " (1281766129, 12)]"
      ]
     },
     "execution_count": 26,
     "metadata": {},
     "output_type": "execute_result"
    }
   ],
   "source": [
    "follows_list[:10]"
   ]
  },
  {
   "cell_type": "code",
   "execution_count": 28,
   "id": "f0a79a06-1654-4aee-aa2a-1bc123d73869",
   "metadata": {},
   "outputs": [],
   "source": [
    "follow_df = pd.DataFrame(follows_list, columns=['Source', 'Target'])"
   ]
  },
  {
   "cell_type": "code",
   "execution_count": 31,
   "id": "00480312-3c0d-4cc8-8aa2-b73a2d79a368",
   "metadata": {},
   "outputs": [],
   "source": [
    "follow_df.to_parquet('data/networks/following_network.parquet', index=False)"
   ]
  },
  {
   "cell_type": "code",
   "execution_count": null,
   "id": "e58e671f-de63-407d-9225-d678c51d84e7",
   "metadata": {},
   "outputs": [],
   "source": [
    "#friends = api.get_friends(screen_name='lucasRniere')"
   ]
  },
  {
   "cell_type": "code",
   "execution_count": null,
   "id": "bdcf03b9-c21f-40ec-99f4-14c17941ba19",
   "metadata": {},
   "outputs": [],
   "source": [
    "#for user in friends:\n",
    "#    print(user._json['screen_name'])"
   ]
  },
  {
   "cell_type": "code",
   "execution_count": null,
   "id": "6365c282-9561-41ae-b944-a968cd9ac5b5",
   "metadata": {},
   "outputs": [],
   "source": [
    "#api.get_friendship(source_screen_name='lucasRniere', target_screen_name='Fazendo_Nerdice')\n",
    "##api.exists_friendship(source_screen_name='lucasRniere', target_screen_name='Fazendo_Nerdice')"
   ]
  },
  {
   "cell_type": "code",
   "execution_count": null,
   "id": "59b13f24-6265-46d2-8b76-36e604bcdb3f",
   "metadata": {},
   "outputs": [],
   "source": [
    "#api.friends_ids('lucasRniere')"
   ]
  },
  {
   "cell_type": "code",
   "execution_count": null,
   "id": "403f7fb6-aa71-4ea9-86a4-a0d160b0ab44",
   "metadata": {},
   "outputs": [],
   "source": [
    "#for x in range(0,1000):\n",
    "#    q = x/1000\n",
    "#    p = q*100\n",
    "#    print(f'Number: {x} - {p:.2f}%')\n",
    "#    time.sleep(0.5)\n",
    "#    clear_output(wait=True)\n",
    "    "
   ]
  },
  {
   "cell_type": "code",
   "execution_count": null,
   "id": "c505956c-77c6-4ae5-b498-9af586c46f7b",
   "metadata": {},
   "outputs": [],
   "source": [
    "api.get_user('lucasrniere').protected"
   ]
  },
  {
   "cell_type": "code",
   "execution_count": null,
   "id": "f64872f9-eb2c-4206-9dd3-901c4b7b3c68",
   "metadata": {},
   "outputs": [],
   "source": []
  }
 ],
 "metadata": {
  "kernelspec": {
   "display_name": "Python 3 (ipykernel)",
   "language": "python",
   "name": "python3"
  },
  "language_info": {
   "codemirror_mode": {
    "name": "ipython",
    "version": 3
   },
   "file_extension": ".py",
   "mimetype": "text/x-python",
   "name": "python",
   "nbconvert_exporter": "python",
   "pygments_lexer": "ipython3",
   "version": "3.9.7"
  }
 },
 "nbformat": 4,
 "nbformat_minor": 5
}

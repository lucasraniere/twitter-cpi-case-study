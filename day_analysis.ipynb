{
 "cells": [
  {
   "cell_type": "markdown",
   "id": "720fe386-5d21-4ddb-bb95-74e4d624917a",
   "metadata": {},
   "source": [
    "# __Daily Social Network Analysis__"
   ]
  },
  {
   "cell_type": "code",
   "execution_count": 295,
   "id": "b10bfa2a-0b07-4fa0-b483-aa1a34f7a5cb",
   "metadata": {},
   "outputs": [],
   "source": [
    "import pandas as pd\n",
    "import numpy as np\n",
    "import networkx as nx\n",
    "import matplotlib.pyplot as plt\n",
    "import re"
   ]
  },
  {
   "cell_type": "code",
   "execution_count": 116,
   "id": "304bc9d5-8545-44ee-a6fb-335e25bb3ef1",
   "metadata": {},
   "outputs": [
    {
     "data": {
      "text/plain": [
       "(90396, 27)"
      ]
     },
     "execution_count": 116,
     "metadata": {},
     "output_type": "execute_result"
    }
   ],
   "source": [
    "day = pd.read_csv('data/tweets/week_10/day_2_2021-06-28.csv', index_col=0)\n",
    "day.replace({np.nan: False}, inplace=True)\n",
    "day.shape"
   ]
  },
  {
   "cell_type": "code",
   "execution_count": 117,
   "id": "d3a2a275-2087-4428-b00b-c275309a6819",
   "metadata": {},
   "outputs": [
    {
     "data": {
      "text/plain": [
       "Index(['url', 'date', 'content', 'renderedContent', 'id', 'user', 'replyCount',\n",
       "       'retweetCount', 'likeCount', 'quoteCount', 'conversationId', 'lang',\n",
       "       'source', 'sourceUrl', 'sourceLabel', 'outlinks', 'tcooutlinks',\n",
       "       'media', 'retweetedTweet', 'quotedTweet', 'inReplyToTweetId',\n",
       "       'inReplyToUser', 'mentionedUsers', 'coordinates', 'place', 'hashtags',\n",
       "       'cashtags'],\n",
       "      dtype='object')"
      ]
     },
     "execution_count": 117,
     "metadata": {},
     "output_type": "execute_result"
    }
   ],
   "source": [
    "day.columns"
   ]
  },
  {
   "cell_type": "code",
   "execution_count": 122,
   "id": "ed85c1c3-bf6d-4e62-a8b4-f94abbdbff22",
   "metadata": {},
   "outputs": [
    {
     "data": {
      "text/html": [
       "<div>\n",
       "<style scoped>\n",
       "    .dataframe tbody tr th:only-of-type {\n",
       "        vertical-align: middle;\n",
       "    }\n",
       "\n",
       "    .dataframe tbody tr th {\n",
       "        vertical-align: top;\n",
       "    }\n",
       "\n",
       "    .dataframe thead th {\n",
       "        text-align: right;\n",
       "    }\n",
       "</style>\n",
       "<table border=\"1\" class=\"dataframe\">\n",
       "  <thead>\n",
       "    <tr style=\"text-align: right;\">\n",
       "      <th></th>\n",
       "      <th>user</th>\n",
       "      <th>retweetedTweet</th>\n",
       "      <th>quotedTweet</th>\n",
       "      <th>inReplyToTweetId</th>\n",
       "      <th>inReplyToUser</th>\n",
       "      <th>mentionedUsers</th>\n",
       "    </tr>\n",
       "  </thead>\n",
       "  <tbody>\n",
       "    <tr>\n",
       "      <th>47511</th>\n",
       "      <td>{'username': 'koveirus', 'id': 287391903, 'dis...</td>\n",
       "      <td>False</td>\n",
       "      <td>False</td>\n",
       "      <td>1409507000329908224.0</td>\n",
       "      <td>{'username': 'PastorEliasMau1', 'id': 11799253...</td>\n",
       "      <td>[{'username': 'PastorEliasMau1', 'id': 1179925...</td>\n",
       "    </tr>\n",
       "  </tbody>\n",
       "</table>\n",
       "</div>"
      ],
      "text/plain": [
       "                                                    user retweetedTweet  \\\n",
       "47511  {'username': 'koveirus', 'id': 287391903, 'dis...          False   \n",
       "\n",
       "      quotedTweet       inReplyToTweetId  \\\n",
       "47511       False  1409507000329908224.0   \n",
       "\n",
       "                                           inReplyToUser  \\\n",
       "47511  {'username': 'PastorEliasMau1', 'id': 11799253...   \n",
       "\n",
       "                                          mentionedUsers  \n",
       "47511  [{'username': 'PastorEliasMau1', 'id': 1179925...  "
      ]
     },
     "execution_count": 122,
     "metadata": {},
     "output_type": "execute_result"
    }
   ],
   "source": [
    "day.sample()[['user', 'retweetedTweet', 'quotedTweet', 'inReplyToTweetId', 'inReplyToUser', 'mentionedUsers']]"
   ]
  },
  {
   "cell_type": "code",
   "execution_count": 123,
   "id": "cd7baefc-2771-4504-be3a-c00d665be763",
   "metadata": {},
   "outputs": [
    {
     "data": {
      "text/plain": [
       "'https://twitter.com/koveirus/status/1409514118781018112'"
      ]
     },
     "execution_count": 123,
     "metadata": {},
     "output_type": "execute_result"
    }
   ],
   "source": [
    "day.iloc[47511]['url']"
   ]
  },
  {
   "cell_type": "code",
   "execution_count": 125,
   "id": "ca50ae27-f867-4726-ac9f-ddfd78daa30a",
   "metadata": {},
   "outputs": [
    {
     "data": {
      "text/plain": [
       "(46294, 27)"
      ]
     },
     "execution_count": 125,
     "metadata": {},
     "output_type": "execute_result"
    }
   ],
   "source": [
    "reply_df = day.query('inReplyToUser != False')\n",
    "reply_df.shape"
   ]
  },
  {
   "cell_type": "code",
   "execution_count": 232,
   "id": "47103598-f939-4fcc-afd3-a88260186878",
   "metadata": {},
   "outputs": [
    {
     "data": {
      "text/html": [
       "<div>\n",
       "<style scoped>\n",
       "    .dataframe tbody tr th:only-of-type {\n",
       "        vertical-align: middle;\n",
       "    }\n",
       "\n",
       "    .dataframe tbody tr th {\n",
       "        vertical-align: top;\n",
       "    }\n",
       "\n",
       "    .dataframe thead th {\n",
       "        text-align: right;\n",
       "    }\n",
       "</style>\n",
       "<table border=\"1\" class=\"dataframe\">\n",
       "  <thead>\n",
       "    <tr style=\"text-align: right;\">\n",
       "      <th></th>\n",
       "      <th>content</th>\n",
       "      <th>user</th>\n",
       "      <th>inReplyToUser</th>\n",
       "    </tr>\n",
       "  </thead>\n",
       "  <tbody>\n",
       "    <tr>\n",
       "      <th>1</th>\n",
       "      <td>@CarlaZambelli38 A esquerdalhada está triste c...</td>\n",
       "      <td>{'username': 'ArthouEloi', 'id': 1366052843233...</td>\n",
       "      <td>{'username': 'CarlaZambelli38', 'id': 97512772...</td>\n",
       "    </tr>\n",
       "    <tr>\n",
       "      <th>2</th>\n",
       "      <td>@revistaoeste #BolsonaroAte2026 #GloboLixo #ag...</td>\n",
       "      <td>{'username': 'BolsoNABOneles', 'id': 118898189...</td>\n",
       "      <td>{'username': 'revistaoeste', 'id': 12229398963...</td>\n",
       "    </tr>\n",
       "    <tr>\n",
       "      <th>3</th>\n",
       "      <td>@CarlaZambelli38 @jairbolsonaro @mqueiroga2 @L...</td>\n",
       "      <td>{'username': 'MariliaRezend11', 'id': 12563324...</td>\n",
       "      <td>{'username': 'CarlaZambelli38', 'id': 97512772...</td>\n",
       "    </tr>\n",
       "    <tr>\n",
       "      <th>4</th>\n",
       "      <td>@GabriellaPsicom @taliriapetrone Vá se tratar,...</td>\n",
       "      <td>{'username': 'MiriamNetto', 'id': 105295393698...</td>\n",
       "      <td>{'username': 'GabriellaPsicom', 'id': 97141617...</td>\n",
       "    </tr>\n",
       "    <tr>\n",
       "      <th>5</th>\n",
       "      <td>@OmarAzizSenador Que vergonha eu sinto de você...</td>\n",
       "      <td>{'username': 'MB_Marcos_', 'id': 1289048882459...</td>\n",
       "      <td>{'username': 'OmarAzizSenador', 'id': 24459217...</td>\n",
       "    </tr>\n",
       "  </tbody>\n",
       "</table>\n",
       "</div>"
      ],
      "text/plain": [
       "                                             content  \\\n",
       "1  @CarlaZambelli38 A esquerdalhada está triste c...   \n",
       "2  @revistaoeste #BolsonaroAte2026 #GloboLixo #ag...   \n",
       "3  @CarlaZambelli38 @jairbolsonaro @mqueiroga2 @L...   \n",
       "4  @GabriellaPsicom @taliriapetrone Vá se tratar,...   \n",
       "5  @OmarAzizSenador Que vergonha eu sinto de você...   \n",
       "\n",
       "                                                user  \\\n",
       "1  {'username': 'ArthouEloi', 'id': 1366052843233...   \n",
       "2  {'username': 'BolsoNABOneles', 'id': 118898189...   \n",
       "3  {'username': 'MariliaRezend11', 'id': 12563324...   \n",
       "4  {'username': 'MiriamNetto', 'id': 105295393698...   \n",
       "5  {'username': 'MB_Marcos_', 'id': 1289048882459...   \n",
       "\n",
       "                                       inReplyToUser  \n",
       "1  {'username': 'CarlaZambelli38', 'id': 97512772...  \n",
       "2  {'username': 'revistaoeste', 'id': 12229398963...  \n",
       "3  {'username': 'CarlaZambelli38', 'id': 97512772...  \n",
       "4  {'username': 'GabriellaPsicom', 'id': 97141617...  \n",
       "5  {'username': 'OmarAzizSenador', 'id': 24459217...  "
      ]
     },
     "execution_count": 232,
     "metadata": {},
     "output_type": "execute_result"
    }
   ],
   "source": [
    "reply_df = reply_df[['content', 'user', 'inReplyToUser']]\n",
    "reply_df.head()"
   ]
  },
  {
   "cell_type": "code",
   "execution_count": 350,
   "id": "2d664a8d-c287-4573-8fed-3aca99d237a4",
   "metadata": {},
   "outputs": [],
   "source": [
    "user_regex_str = \"[{'username':]+\\s*[']+\\w*\"\n",
    "id_regex_str = \"[,]\\s*['id':]+\\s*\\d*\"\n",
    "user_regex = re.compile(user_regex_str)\n",
    "id_regex = re.compile(id_regex_str)\n",
    "regex_number = re.compile('\\d+')\n",
    "\n",
    "def return_username(dict_str):\n",
    "    return user_regex.search(dict_str).group().replace(\"{'username': '\", '')\n",
    "\n",
    "def return_id(dict_str):\n",
    "    return regex_number.search(id_regex.search(dict_str).group()).group()\n"
   ]
  },
  {
   "cell_type": "code",
   "execution_count": 356,
   "id": "ef80cbec-dc54-414b-9c26-3c2c846b3624",
   "metadata": {},
   "outputs": [
    {
     "name": "stderr",
     "output_type": "stream",
     "text": [
      "C:\\Users\\LUCASR~1\\AppData\\Local\\Temp/ipykernel_544/41477684.py:1: SettingWithCopyWarning: \n",
      "A value is trying to be set on a copy of a slice from a DataFrame.\n",
      "Try using .loc[row_indexer,col_indexer] = value instead\n",
      "\n",
      "See the caveats in the documentation: https://pandas.pydata.org/pandas-docs/stable/user_guide/indexing.html#returning-a-view-versus-a-copy\n",
      "  reply_df['username'] = reply_df['user'].map(lambda x: return_username(x))\n",
      "C:\\Users\\LUCASR~1\\AppData\\Local\\Temp/ipykernel_544/41477684.py:2: SettingWithCopyWarning: \n",
      "A value is trying to be set on a copy of a slice from a DataFrame.\n",
      "Try using .loc[row_indexer,col_indexer] = value instead\n",
      "\n",
      "See the caveats in the documentation: https://pandas.pydata.org/pandas-docs/stable/user_guide/indexing.html#returning-a-view-versus-a-copy\n",
      "  reply_df['reply_to'] = reply_df['inReplyToUser'].map(lambda x: return_username(x))\n",
      "C:\\Users\\LUCASR~1\\AppData\\Local\\Temp/ipykernel_544/41477684.py:3: SettingWithCopyWarning: \n",
      "A value is trying to be set on a copy of a slice from a DataFrame.\n",
      "Try using .loc[row_indexer,col_indexer] = value instead\n",
      "\n",
      "See the caveats in the documentation: https://pandas.pydata.org/pandas-docs/stable/user_guide/indexing.html#returning-a-view-versus-a-copy\n",
      "  reply_df['user_id'] = reply_df['user'].map(lambda x: int(return_id(x)))\n",
      "C:\\Users\\LUCASR~1\\AppData\\Local\\Temp/ipykernel_544/41477684.py:4: SettingWithCopyWarning: \n",
      "A value is trying to be set on a copy of a slice from a DataFrame.\n",
      "Try using .loc[row_indexer,col_indexer] = value instead\n",
      "\n",
      "See the caveats in the documentation: https://pandas.pydata.org/pandas-docs/stable/user_guide/indexing.html#returning-a-view-versus-a-copy\n",
      "  reply_df['reply_to_id'] = reply_df['inReplyToUser'].map(lambda x: int(return_id(x)))\n"
     ]
    },
    {
     "data": {
      "text/html": [
       "<div>\n",
       "<style scoped>\n",
       "    .dataframe tbody tr th:only-of-type {\n",
       "        vertical-align: middle;\n",
       "    }\n",
       "\n",
       "    .dataframe tbody tr th {\n",
       "        vertical-align: top;\n",
       "    }\n",
       "\n",
       "    .dataframe thead th {\n",
       "        text-align: right;\n",
       "    }\n",
       "</style>\n",
       "<table border=\"1\" class=\"dataframe\">\n",
       "  <thead>\n",
       "    <tr style=\"text-align: right;\">\n",
       "      <th></th>\n",
       "      <th>content</th>\n",
       "      <th>user</th>\n",
       "      <th>inReplyToUser</th>\n",
       "      <th>username</th>\n",
       "      <th>reply_to</th>\n",
       "      <th>user_id</th>\n",
       "      <th>reply_to_id</th>\n",
       "    </tr>\n",
       "  </thead>\n",
       "  <tbody>\n",
       "    <tr>\n",
       "      <th>1</th>\n",
       "      <td>@CarlaZambelli38 A esquerdalhada está triste c...</td>\n",
       "      <td>{'username': 'ArthouEloi', 'id': 1366052843233...</td>\n",
       "      <td>{'username': 'CarlaZambelli38', 'id': 97512772...</td>\n",
       "      <td>ArthouEloi</td>\n",
       "      <td>CarlaZambelli38</td>\n",
       "      <td>1366052843233435650</td>\n",
       "      <td>975127727501185025</td>\n",
       "    </tr>\n",
       "    <tr>\n",
       "      <th>2</th>\n",
       "      <td>@revistaoeste #BolsonaroAte2026 #GloboLixo #ag...</td>\n",
       "      <td>{'username': 'BolsoNABOneles', 'id': 118898189...</td>\n",
       "      <td>{'username': 'revistaoeste', 'id': 12229398963...</td>\n",
       "      <td>BolsoNABOneles</td>\n",
       "      <td>revistaoeste</td>\n",
       "      <td>1188981896056922112</td>\n",
       "      <td>1222939896349970432</td>\n",
       "    </tr>\n",
       "    <tr>\n",
       "      <th>3</th>\n",
       "      <td>@CarlaZambelli38 @jairbolsonaro @mqueiroga2 @L...</td>\n",
       "      <td>{'username': 'MariliaRezend11', 'id': 12563324...</td>\n",
       "      <td>{'username': 'CarlaZambelli38', 'id': 97512772...</td>\n",
       "      <td>MariliaRezend11</td>\n",
       "      <td>CarlaZambelli38</td>\n",
       "      <td>1256332466480087043</td>\n",
       "      <td>975127727501185025</td>\n",
       "    </tr>\n",
       "    <tr>\n",
       "      <th>4</th>\n",
       "      <td>@GabriellaPsicom @taliriapetrone Vá se tratar,...</td>\n",
       "      <td>{'username': 'MiriamNetto', 'id': 105295393698...</td>\n",
       "      <td>{'username': 'GabriellaPsicom', 'id': 97141617...</td>\n",
       "      <td>MiriamNetto</td>\n",
       "      <td>GabriellaPsicom</td>\n",
       "      <td>1052953936985038849</td>\n",
       "      <td>971416178135633921</td>\n",
       "    </tr>\n",
       "    <tr>\n",
       "      <th>5</th>\n",
       "      <td>@OmarAzizSenador Que vergonha eu sinto de você...</td>\n",
       "      <td>{'username': 'MB_Marcos_', 'id': 1289048882459...</td>\n",
       "      <td>{'username': 'OmarAzizSenador', 'id': 24459217...</td>\n",
       "      <td>MB_Marcos_</td>\n",
       "      <td>OmarAzizSenador</td>\n",
       "      <td>1289048882459140096</td>\n",
       "      <td>2445921702</td>\n",
       "    </tr>\n",
       "  </tbody>\n",
       "</table>\n",
       "</div>"
      ],
      "text/plain": [
       "                                             content  \\\n",
       "1  @CarlaZambelli38 A esquerdalhada está triste c...   \n",
       "2  @revistaoeste #BolsonaroAte2026 #GloboLixo #ag...   \n",
       "3  @CarlaZambelli38 @jairbolsonaro @mqueiroga2 @L...   \n",
       "4  @GabriellaPsicom @taliriapetrone Vá se tratar,...   \n",
       "5  @OmarAzizSenador Que vergonha eu sinto de você...   \n",
       "\n",
       "                                                user  \\\n",
       "1  {'username': 'ArthouEloi', 'id': 1366052843233...   \n",
       "2  {'username': 'BolsoNABOneles', 'id': 118898189...   \n",
       "3  {'username': 'MariliaRezend11', 'id': 12563324...   \n",
       "4  {'username': 'MiriamNetto', 'id': 105295393698...   \n",
       "5  {'username': 'MB_Marcos_', 'id': 1289048882459...   \n",
       "\n",
       "                                       inReplyToUser         username  \\\n",
       "1  {'username': 'CarlaZambelli38', 'id': 97512772...       ArthouEloi   \n",
       "2  {'username': 'revistaoeste', 'id': 12229398963...   BolsoNABOneles   \n",
       "3  {'username': 'CarlaZambelli38', 'id': 97512772...  MariliaRezend11   \n",
       "4  {'username': 'GabriellaPsicom', 'id': 97141617...      MiriamNetto   \n",
       "5  {'username': 'OmarAzizSenador', 'id': 24459217...       MB_Marcos_   \n",
       "\n",
       "          reply_to              user_id          reply_to_id  \n",
       "1  CarlaZambelli38  1366052843233435650   975127727501185025  \n",
       "2     revistaoeste  1188981896056922112  1222939896349970432  \n",
       "3  CarlaZambelli38  1256332466480087043   975127727501185025  \n",
       "4  GabriellaPsicom  1052953936985038849   971416178135633921  \n",
       "5  OmarAzizSenador  1289048882459140096           2445921702  "
      ]
     },
     "execution_count": 356,
     "metadata": {},
     "output_type": "execute_result"
    }
   ],
   "source": [
    "reply_df['username'] = reply_df['user'].map(lambda x: return_username(x))\n",
    "reply_df['reply_to'] = reply_df['inReplyToUser'].map(lambda x: return_username(x))\n",
    "reply_df['user_id'] = reply_df['user'].map(lambda x: int(return_id(x)))\n",
    "reply_df['reply_to_id'] = reply_df['inReplyToUser'].map(lambda x: int(return_id(x)))\n",
    "\n",
    "reply_df.head()"
   ]
  },
  {
   "cell_type": "code",
   "execution_count": 368,
   "id": "95e212b7-e062-4c57-bb2d-7867dd3fbdbe",
   "metadata": {},
   "outputs": [
    {
     "data": {
      "text/plain": [
       "(14672, 2)"
      ]
     },
     "execution_count": 368,
     "metadata": {},
     "output_type": "execute_result"
    }
   ],
   "source": [
    "nodes_id = pd.concat([reply_df['user_id'], reply_df['reply_to_id']], axis=0)\n",
    "nodes_name = pd.concat([reply_df['username'], reply_df['reply_to']], axis=0)\n",
    "nodes = pd.concat([nodes_id, nodes_name], axis=1)\n",
    "nodes.drop_duplicates(inplace=True)\n",
    "nodes.shape"
   ]
  },
  {
   "cell_type": "code",
   "execution_count": 389,
   "id": "53324e3b-8c70-41ea-ab1a-6a2f85689c0a",
   "metadata": {},
   "outputs": [
    {
     "data": {
      "text/plain": [
       "(46294, 2)"
      ]
     },
     "execution_count": 389,
     "metadata": {},
     "output_type": "execute_result"
    }
   ],
   "source": [
    "edges = reply_df[['user_id', 'reply_to_id']]\n",
    "edges.shape"
   ]
  },
  {
   "cell_type": "code",
   "execution_count": 399,
   "id": "93f806b2-c536-4683-9185-5f0c48eb52ad",
   "metadata": {},
   "outputs": [],
   "source": [
    "G = nx.DiGraph()\n",
    "\n",
    "for node in nodes.iterrows():\n",
    "    G.add_node(node[1][0], username=node[1][1])\n",
    "    \n",
    "for edge in edges.iterrows():\n",
    "    G.add_edge(edge[1]['user_id'], edge[1]['reply_to_id'])"
   ]
  },
  {
   "cell_type": "code",
   "execution_count": 405,
   "id": "b582b694-04a2-4819-bf73-602380be7f76",
   "metadata": {},
   "outputs": [],
   "source": [
    "# metrics\n",
    "degree_centrality = nx.degree_centrality(G)\n",
    "closeness_centrality = nx.closeness_centrality(G)\n",
    "betweennes_centrality = nx.betweenness_centrality(G)"
   ]
  },
  {
   "cell_type": "code",
   "execution_count": 406,
   "id": "25515c4c-0a95-4d9b-bc12-bd01f9520619",
   "metadata": {},
   "outputs": [],
   "source": [
    "indegree = nx.in_degree_centrality(G)"
   ]
  },
  {
   "cell_type": "code",
   "execution_count": 440,
   "id": "17c0834a-cc7e-446e-99c3-03db249a5e56",
   "metadata": {},
   "outputs": [],
   "source": [
    "clustering = nx.clustering(G)"
   ]
  },
  {
   "cell_type": "code",
   "execution_count": 443,
   "id": "c349e496-90f8-4702-86af-ce687aa191ab",
   "metadata": {},
   "outputs": [],
   "source": [
    "sorted_indegree = sorted(indegree.items(), key=lambda x: x[1], reverse=True)\n",
    "sorted_degree = sorted(degree_centrality.items(), key=lambda x: x[1], reverse=True)\n",
    "sorted_closeness = sorted(closeness_centrality.items(), key=lambda x: x[1], reverse=True)\n",
    "sorted_betweennes = sorted(betweennes_centrality.items(), key=lambda x: x[1], reverse=True)\n",
    "sorted_clustering = sorted(clustering.items(), key=lambda x: x[1], reverse=True)"
   ]
  },
  {
   "cell_type": "code",
   "execution_count": 445,
   "id": "8ca45709-0f5e-4f66-8461-74366a151158",
   "metadata": {},
   "outputs": [
    {
     "name": "stdout",
     "output_type": "stream",
     "text": [
      "Highest Indegree - id: 75264300 value: 0.22344197463521068\n",
      "Highest Degree - id: 75264300 value: 0.22351015955270695\n",
      "Highest Closeness - id: 75264300 value: 0.2309729183049628\n",
      "Highest Betweennes - id: 391606213 value: 0.008000322407180304\n",
      "Highest Clustering coefficient - id: 376414840 value: 1.0\n"
     ]
    }
   ],
   "source": [
    "print(f'Highest Indegree - id: {sorted_indegree[0][0]} value: {sorted_indegree[0][1]}'\n",
    "     f'\\nHighest Degree - id: {sorted_degree[0][0]} value: {sorted_degree[0][1]}'\n",
    "     f'\\nHighest Closeness - id: {sorted_closeness[0][0]} value: {sorted_closeness[0][1]}'\n",
    "     f'\\nHighest Betweennes - id: {sorted_betweennes[0][0]} value: {sorted_betweennes[0][1]}'\n",
    "     f'\\nHighest Clustering coefficient - id: {sorted_clustering[0][0]} value: {sorted_clustering[0][1]}')"
   ]
  },
  {
   "cell_type": "code",
   "execution_count": 446,
   "id": "5b352763-9d81-4802-b5da-bb93afa21fe7",
   "metadata": {},
   "outputs": [
    {
     "data": {
      "text/html": [
       "<div>\n",
       "<style scoped>\n",
       "    .dataframe tbody tr th:only-of-type {\n",
       "        vertical-align: middle;\n",
       "    }\n",
       "\n",
       "    .dataframe tbody tr th {\n",
       "        vertical-align: top;\n",
       "    }\n",
       "\n",
       "    .dataframe thead th {\n",
       "        text-align: right;\n",
       "    }\n",
       "</style>\n",
       "<table border=\"1\" class=\"dataframe\">\n",
       "  <thead>\n",
       "    <tr style=\"text-align: right;\">\n",
       "      <th></th>\n",
       "      <th>content</th>\n",
       "      <th>user</th>\n",
       "      <th>inReplyToUser</th>\n",
       "      <th>username</th>\n",
       "      <th>reply_to</th>\n",
       "      <th>user_id</th>\n",
       "      <th>reply_to_id</th>\n",
       "    </tr>\n",
       "  </thead>\n",
       "  <tbody>\n",
       "    <tr>\n",
       "      <th>437</th>\n",
       "      <td>@ClaraFernanndez #RenanSabiaDeTudo sim claro q...</td>\n",
       "      <td>{'username': 'rcbarbos', 'id': 376414840, 'dis...</td>\n",
       "      <td>{'username': 'ClaraFernanndez', 'id': 71626385...</td>\n",
       "      <td>rcbarbos</td>\n",
       "      <td>ClaraFernanndez</td>\n",
       "      <td>376414840</td>\n",
       "      <td>71626385</td>\n",
       "    </tr>\n",
       "    <tr>\n",
       "      <th>11871</th>\n",
       "      <td>@CrisCapablanca @GaleriaTurandot #RenanSabiaDe...</td>\n",
       "      <td>{'username': 'rcbarbos', 'id': 376414840, 'dis...</td>\n",
       "      <td>{'username': 'CrisCastilhano', 'id': 125051874...</td>\n",
       "      <td>rcbarbos</td>\n",
       "      <td>CrisCastilhano</td>\n",
       "      <td>376414840</td>\n",
       "      <td>1250518742435606528</td>\n",
       "    </tr>\n",
       "  </tbody>\n",
       "</table>\n",
       "</div>"
      ],
      "text/plain": [
       "                                                 content  \\\n",
       "437    @ClaraFernanndez #RenanSabiaDeTudo sim claro q...   \n",
       "11871  @CrisCapablanca @GaleriaTurandot #RenanSabiaDe...   \n",
       "\n",
       "                                                    user  \\\n",
       "437    {'username': 'rcbarbos', 'id': 376414840, 'dis...   \n",
       "11871  {'username': 'rcbarbos', 'id': 376414840, 'dis...   \n",
       "\n",
       "                                           inReplyToUser  username  \\\n",
       "437    {'username': 'ClaraFernanndez', 'id': 71626385...  rcbarbos   \n",
       "11871  {'username': 'CrisCastilhano', 'id': 125051874...  rcbarbos   \n",
       "\n",
       "              reply_to    user_id          reply_to_id  \n",
       "437    ClaraFernanndez  376414840             71626385  \n",
       "11871   CrisCastilhano  376414840  1250518742435606528  "
      ]
     },
     "execution_count": 446,
     "metadata": {},
     "output_type": "execute_result"
    }
   ],
   "source": [
    "reply_df.query('user_id == 376414840')"
   ]
  },
  {
   "cell_type": "code",
   "execution_count": 410,
   "id": "415cb696-e759-4762-ac7d-efe893e85bcb",
   "metadata": {},
   "outputs": [],
   "source": [
    "# visualization\n",
    "#nx.draw_spring(G)\n",
    "#plt.show()"
   ]
  },
  {
   "cell_type": "code",
   "execution_count": 457,
   "id": "8ebd4b94-5817-4395-8ac5-0e9c945ce7f9",
   "metadata": {},
   "outputs": [
    {
     "data": {
      "text/plain": [
       "0.0001741604666368042"
      ]
     },
     "execution_count": 457,
     "metadata": {},
     "output_type": "execute_result"
    }
   ],
   "source": [
    "nx.density(G)"
   ]
  }
 ],
 "metadata": {
  "kernelspec": {
   "display_name": "Python 3 (ipykernel)",
   "language": "python",
   "name": "python3"
  },
  "language_info": {
   "codemirror_mode": {
    "name": "ipython",
    "version": 3
   },
   "file_extension": ".py",
   "mimetype": "text/x-python",
   "name": "python",
   "nbconvert_exporter": "python",
   "pygments_lexer": "ipython3",
   "version": "3.10.4"
  }
 },
 "nbformat": 4,
 "nbformat_minor": 5
}

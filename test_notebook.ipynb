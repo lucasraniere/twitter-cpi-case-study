{
 "cells": [
  {
   "cell_type": "markdown",
   "id": "00c044e2-b89a-4e4c-9585-967790d912ab",
   "metadata": {},
   "source": [
    "# __Jupyter Notebook just for Testing__"
   ]
  },
  {
   "cell_type": "code",
   "execution_count": 22,
   "id": "bbdc46ad-8d2a-40ff-afe1-d019e3f31323",
   "metadata": {},
   "outputs": [],
   "source": [
    "import pandas as pd\n",
    "import datetime"
   ]
  },
  {
   "cell_type": "code",
   "execution_count": 23,
   "id": "21dd4a4f-8580-4466-8cdc-bc15c7b606c6",
   "metadata": {},
   "outputs": [],
   "source": [
    "df = pd.read_parquet('data/tweets/week_22/merged_week_22.parquet')"
   ]
  },
  {
   "cell_type": "code",
   "execution_count": 24,
   "id": "968b50d9-5af5-4f2b-b6ec-e37ea2c6ddb9",
   "metadata": {},
   "outputs": [
    {
     "data": {
      "text/html": [
       "<div>\n",
       "<style scoped>\n",
       "    .dataframe tbody tr th:only-of-type {\n",
       "        vertical-align: middle;\n",
       "    }\n",
       "\n",
       "    .dataframe tbody tr th {\n",
       "        vertical-align: top;\n",
       "    }\n",
       "\n",
       "    .dataframe thead th {\n",
       "        text-align: right;\n",
       "    }\n",
       "</style>\n",
       "<table border=\"1\" class=\"dataframe\">\n",
       "  <thead>\n",
       "    <tr style=\"text-align: right;\">\n",
       "      <th></th>\n",
       "      <th>url</th>\n",
       "      <th>date</th>\n",
       "      <th>content</th>\n",
       "      <th>renderedContent</th>\n",
       "      <th>id</th>\n",
       "      <th>user</th>\n",
       "      <th>replyCount</th>\n",
       "      <th>retweetCount</th>\n",
       "      <th>likeCount</th>\n",
       "      <th>quoteCount</th>\n",
       "      <th>...</th>\n",
       "      <th>media</th>\n",
       "      <th>retweetedTweet</th>\n",
       "      <th>quotedTweet</th>\n",
       "      <th>inReplyToTweetId</th>\n",
       "      <th>inReplyToUser</th>\n",
       "      <th>mentionedUsers</th>\n",
       "      <th>coordinates</th>\n",
       "      <th>place</th>\n",
       "      <th>hashtags</th>\n",
       "      <th>cashtags</th>\n",
       "    </tr>\n",
       "  </thead>\n",
       "  <tbody>\n",
       "    <tr>\n",
       "      <th>0</th>\n",
       "      <td>https://twitter.com/jonastreis/status/14495256...</td>\n",
       "      <td>2021-10-17 00:00:14+00:00</td>\n",
       "      <td>Quem não se importa que milhões de brasileiros...</td>\n",
       "      <td>Quem não se importa que milhões de brasileiros...</td>\n",
       "      <td>1449525624792666114</td>\n",
       "      <td>{'username': 'jonastreis', 'id': 1281598785081...</td>\n",
       "      <td>0</td>\n",
       "      <td>3</td>\n",
       "      <td>14</td>\n",
       "      <td>0</td>\n",
       "      <td>...</td>\n",
       "      <td>[{'previewUrl': 'https://pbs.twimg.com/media/F...</td>\n",
       "      <td>None</td>\n",
       "      <td>None</td>\n",
       "      <td>nan</td>\n",
       "      <td>None</td>\n",
       "      <td>None</td>\n",
       "      <td>None</td>\n",
       "      <td>None</td>\n",
       "      <td>['ForaBolsonaro']</td>\n",
       "      <td>None</td>\n",
       "    </tr>\n",
       "    <tr>\n",
       "      <th>1</th>\n",
       "      <td>https://twitter.com/LucasAraoJaque2/status/144...</td>\n",
       "      <td>2021-10-17 00:00:15+00:00</td>\n",
       "      <td>Nos tempos de Lula o Brasil era um Pais respei...</td>\n",
       "      <td>Nos tempos de Lula o Brasil era um Pais respei...</td>\n",
       "      <td>1449525627481206789</td>\n",
       "      <td>{'username': 'LucasAraoJaque2', 'id': 14169026...</td>\n",
       "      <td>1</td>\n",
       "      <td>0</td>\n",
       "      <td>4</td>\n",
       "      <td>0</td>\n",
       "      <td>...</td>\n",
       "      <td>None</td>\n",
       "      <td>None</td>\n",
       "      <td>None</td>\n",
       "      <td>nan</td>\n",
       "      <td>None</td>\n",
       "      <td>None</td>\n",
       "      <td>None</td>\n",
       "      <td>None</td>\n",
       "      <td>['BolsonaroaVergonhadoBrasil', 'ForaBolsonaro']</td>\n",
       "      <td>None</td>\n",
       "    </tr>\n",
       "    <tr>\n",
       "      <th>2</th>\n",
       "      <td>https://twitter.com/princesoh_/status/14495256...</td>\n",
       "      <td>2021-10-17 00:00:25+00:00</td>\n",
       "      <td>Eu tenho esperança que ano que vem não vou pre...</td>\n",
       "      <td>Eu tenho esperança que ano que vem não vou pre...</td>\n",
       "      <td>1449525669894008832</td>\n",
       "      <td>{'username': 'princesoh_', 'id': 3396615910, '...</td>\n",
       "      <td>1</td>\n",
       "      <td>0</td>\n",
       "      <td>1</td>\n",
       "      <td>0</td>\n",
       "      <td>...</td>\n",
       "      <td>None</td>\n",
       "      <td>None</td>\n",
       "      <td>None</td>\n",
       "      <td>nan</td>\n",
       "      <td>None</td>\n",
       "      <td>None</td>\n",
       "      <td>None</td>\n",
       "      <td>None</td>\n",
       "      <td>['ForaBolsonaro']</td>\n",
       "      <td>None</td>\n",
       "    </tr>\n",
       "    <tr>\n",
       "      <th>3</th>\n",
       "      <td>https://twitter.com/BozoRealista/status/144952...</td>\n",
       "      <td>2021-10-17 00:00:36+00:00</td>\n",
       "      <td>Hoje eu fui completamente inútil ao meu país. ...</td>\n",
       "      <td>Hoje eu fui completamente inútil ao meu país. ...</td>\n",
       "      <td>1449525716358508550</td>\n",
       "      <td>{'username': 'BozoRealista', 'id': 10820109890...</td>\n",
       "      <td>0</td>\n",
       "      <td>0</td>\n",
       "      <td>0</td>\n",
       "      <td>0</td>\n",
       "      <td>...</td>\n",
       "      <td>None</td>\n",
       "      <td>None</td>\n",
       "      <td>None</td>\n",
       "      <td>nan</td>\n",
       "      <td>None</td>\n",
       "      <td>None</td>\n",
       "      <td>None</td>\n",
       "      <td>None</td>\n",
       "      <td>['brasil', 'mito']</td>\n",
       "      <td>None</td>\n",
       "    </tr>\n",
       "    <tr>\n",
       "      <th>4</th>\n",
       "      <td>https://twitter.com/dudahidalgo13/status/14495...</td>\n",
       "      <td>2021-10-17 00:01:10+00:00</td>\n",
       "      <td>Como é possível apoiar um evento que exalta o ...</td>\n",
       "      <td>Como é possível apoiar um evento que exalta o ...</td>\n",
       "      <td>1449525861577801734</td>\n",
       "      <td>{'username': 'dudahidalgo13', 'id': 1164956374...</td>\n",
       "      <td>0</td>\n",
       "      <td>1</td>\n",
       "      <td>17</td>\n",
       "      <td>0</td>\n",
       "      <td>...</td>\n",
       "      <td>None</td>\n",
       "      <td>None</td>\n",
       "      <td>None</td>\n",
       "      <td>1.4495258603069317e+18</td>\n",
       "      <td>{'username': 'dudahidalgo13', 'id': 1164956374...</td>\n",
       "      <td>None</td>\n",
       "      <td>None</td>\n",
       "      <td>None</td>\n",
       "      <td>['Calamidade', 'ForaBolsonaro']</td>\n",
       "      <td>None</td>\n",
       "    </tr>\n",
       "  </tbody>\n",
       "</table>\n",
       "<p>5 rows × 27 columns</p>\n",
       "</div>"
      ],
      "text/plain": [
       "                                                 url  \\\n",
       "0  https://twitter.com/jonastreis/status/14495256...   \n",
       "1  https://twitter.com/LucasAraoJaque2/status/144...   \n",
       "2  https://twitter.com/princesoh_/status/14495256...   \n",
       "3  https://twitter.com/BozoRealista/status/144952...   \n",
       "4  https://twitter.com/dudahidalgo13/status/14495...   \n",
       "\n",
       "                       date  \\\n",
       "0 2021-10-17 00:00:14+00:00   \n",
       "1 2021-10-17 00:00:15+00:00   \n",
       "2 2021-10-17 00:00:25+00:00   \n",
       "3 2021-10-17 00:00:36+00:00   \n",
       "4 2021-10-17 00:01:10+00:00   \n",
       "\n",
       "                                             content  \\\n",
       "0  Quem não se importa que milhões de brasileiros...   \n",
       "1  Nos tempos de Lula o Brasil era um Pais respei...   \n",
       "2  Eu tenho esperança que ano que vem não vou pre...   \n",
       "3  Hoje eu fui completamente inútil ao meu país. ...   \n",
       "4  Como é possível apoiar um evento que exalta o ...   \n",
       "\n",
       "                                     renderedContent                   id  \\\n",
       "0  Quem não se importa que milhões de brasileiros...  1449525624792666114   \n",
       "1  Nos tempos de Lula o Brasil era um Pais respei...  1449525627481206789   \n",
       "2  Eu tenho esperança que ano que vem não vou pre...  1449525669894008832   \n",
       "3  Hoje eu fui completamente inútil ao meu país. ...  1449525716358508550   \n",
       "4  Como é possível apoiar um evento que exalta o ...  1449525861577801734   \n",
       "\n",
       "                                                user replyCount retweetCount  \\\n",
       "0  {'username': 'jonastreis', 'id': 1281598785081...          0            3   \n",
       "1  {'username': 'LucasAraoJaque2', 'id': 14169026...          1            0   \n",
       "2  {'username': 'princesoh_', 'id': 3396615910, '...          1            0   \n",
       "3  {'username': 'BozoRealista', 'id': 10820109890...          0            0   \n",
       "4  {'username': 'dudahidalgo13', 'id': 1164956374...          0            1   \n",
       "\n",
       "  likeCount quoteCount  ...  \\\n",
       "0        14          0  ...   \n",
       "1         4          0  ...   \n",
       "2         1          0  ...   \n",
       "3         0          0  ...   \n",
       "4        17          0  ...   \n",
       "\n",
       "                                               media retweetedTweet  \\\n",
       "0  [{'previewUrl': 'https://pbs.twimg.com/media/F...           None   \n",
       "1                                               None           None   \n",
       "2                                               None           None   \n",
       "3                                               None           None   \n",
       "4                                               None           None   \n",
       "\n",
       "  quotedTweet        inReplyToTweetId  \\\n",
       "0        None                     nan   \n",
       "1        None                     nan   \n",
       "2        None                     nan   \n",
       "3        None                     nan   \n",
       "4        None  1.4495258603069317e+18   \n",
       "\n",
       "                                       inReplyToUser mentionedUsers  \\\n",
       "0                                               None           None   \n",
       "1                                               None           None   \n",
       "2                                               None           None   \n",
       "3                                               None           None   \n",
       "4  {'username': 'dudahidalgo13', 'id': 1164956374...           None   \n",
       "\n",
       "  coordinates place                                         hashtags cashtags  \n",
       "0        None  None                                ['ForaBolsonaro']     None  \n",
       "1        None  None  ['BolsonaroaVergonhadoBrasil', 'ForaBolsonaro']     None  \n",
       "2        None  None                                ['ForaBolsonaro']     None  \n",
       "3        None  None                               ['brasil', 'mito']     None  \n",
       "4        None  None                  ['Calamidade', 'ForaBolsonaro']     None  \n",
       "\n",
       "[5 rows x 27 columns]"
      ]
     },
     "execution_count": 24,
     "metadata": {},
     "output_type": "execute_result"
    }
   ],
   "source": [
    "df.head()"
   ]
  },
  {
   "cell_type": "code",
   "execution_count": 27,
   "id": "18eb0716-1fc0-43e7-a537-06d19404b486",
   "metadata": {},
   "outputs": [],
   "source": [
    "usr = eval(df['user'][1])"
   ]
  },
  {
   "cell_type": "code",
   "execution_count": 28,
   "id": "7b7885f4-ae04-4bf6-940b-4e70c8fc0c0a",
   "metadata": {},
   "outputs": [
    {
     "data": {
      "text/plain": [
       "'Lucas Arao Jaques'"
      ]
     },
     "execution_count": 28,
     "metadata": {},
     "output_type": "execute_result"
    }
   ],
   "source": [
    "usr['displayname']"
   ]
  },
  {
   "cell_type": "code",
   "execution_count": 18,
   "id": "182cf3b0-5707-438b-a4c6-df37c5998154",
   "metadata": {},
   "outputs": [
    {
     "data": {
      "text/plain": [
       "'Mas quando a vida nos violentar\\nPediremos ao bom Deus que nos ajude\\nFalaremos para a vida:\\n\"Vida, pisa devagar, meu coração, cuidado, é frágil\"'"
      ]
     },
     "execution_count": 18,
     "metadata": {},
     "output_type": "execute_result"
    }
   ],
   "source": [
    "usr['description']"
   ]
  },
  {
   "cell_type": "code",
   "execution_count": 19,
   "id": "f9dad578-fe68-4832-8a68-5ae71ed074a9",
   "metadata": {},
   "outputs": [
    {
     "data": {
      "text/plain": [
       "1199703367154642950"
      ]
     },
     "execution_count": 19,
     "metadata": {},
     "output_type": "execute_result"
    }
   ],
   "source": [
    "usr['id']"
   ]
  },
  {
   "cell_type": "code",
   "execution_count": 21,
   "id": "b92d90f2-b7d4-4f81-b6a1-7df9d793baca",
   "metadata": {},
   "outputs": [
    {
     "data": {
      "text/plain": [
       "{'username': 'seguezaqueu',\n",
       " 'id': 1247224168850034694,\n",
       " 'displayname': 'Zaqueu Castelamary 🏴🏳(SDV ? )',\n",
       " 'description': None,\n",
       " 'rawDescription': None,\n",
       " 'descriptionUrls': None,\n",
       " 'verified': None,\n",
       " 'created': None,\n",
       " 'followersCount': None,\n",
       " 'friendsCount': None,\n",
       " 'statusesCount': None,\n",
       " 'favouritesCount': None,\n",
       " 'listedCount': None,\n",
       " 'mediaCount': None,\n",
       " 'location': None,\n",
       " 'protected': None,\n",
       " 'linkUrl': None,\n",
       " 'linkTcourl': None,\n",
       " 'profileImageUrl': None,\n",
       " 'profileBannerUrl': None}"
      ]
     },
     "execution_count": 21,
     "metadata": {},
     "output_type": "execute_result"
    }
   ],
   "source": [
    "usr"
   ]
  },
  {
   "cell_type": "code",
   "execution_count": 2,
   "id": "db928894-61ba-4f1a-8310-caf282a10f0f",
   "metadata": {},
   "outputs": [],
   "source": [
    "import emoji"
   ]
  },
  {
   "cell_type": "code",
   "execution_count": 5,
   "id": "bce83e57-980f-4ab2-a24d-f487b3d65fea",
   "metadata": {},
   "outputs": [
    {
     "name": "stdout",
     "output_type": "stream",
     "text": [
      "21y |  :bandeira_brasil: || Jogador de Valorant  símbolo de raiva | Web Developer :tecnólogo:\n"
     ]
    }
   ],
   "source": [
    "print(emoji.demojize(\"21y |  🇧🇷 || Jogador de Valorant  símbolo de raiva | Web Developer 👨\\u200d💻\", language='pt'))"
   ]
  },
  {
   "cell_type": "code",
   "execution_count": 1,
   "id": "b690e658-74b4-42cb-b4ce-16592188eb23",
   "metadata": {},
   "outputs": [],
   "source": [
    "from modules import utils"
   ]
  },
  {
   "cell_type": "code",
   "execution_count": 3,
   "id": "df232f26-e9d4-4f58-9e53-cc6ed7c9716d",
   "metadata": {},
   "outputs": [
    {
     "name": "stdout",
     "output_type": "stream",
     "text": [
      "Hello World\n"
     ]
    }
   ],
   "source": [
    "utils.hello_world()"
   ]
  },
  {
   "cell_type": "code",
   "execution_count": 1,
   "id": "4726ce7a-e193-4947-aa35-d985e97f6d5b",
   "metadata": {},
   "outputs": [],
   "source": [
    "import pandas as pd"
   ]
  },
  {
   "cell_type": "code",
   "execution_count": 15,
   "id": "22b06290-7434-43d8-8cdb-c1216f821ff8",
   "metadata": {},
   "outputs": [
    {
     "data": {
      "text/plain": [
       "a    2\n",
       "c    2\n",
       "b    1\n",
       "dtype: int64"
      ]
     },
     "execution_count": 15,
     "metadata": {},
     "output_type": "execute_result"
    }
   ],
   "source": [
    "pd.Series(['a', 'a', 'b', 'c', 'c']).value_counts()"
   ]
  },
  {
   "cell_type": "code",
   "execution_count": 18,
   "id": "d03edf51-025d-412c-b545-48fed7e9c75f",
   "metadata": {},
   "outputs": [
    {
     "data": {
      "text/plain": [
       "5"
      ]
     },
     "execution_count": 18,
     "metadata": {},
     "output_type": "execute_result"
    }
   ],
   "source": [
    "pd.Series(['a', 'a', 'b', 'c', 'c']).count()"
   ]
  },
  {
   "cell_type": "code",
   "execution_count": 20,
   "id": "77e13e79-2400-401c-9c04-a5f7caedee11",
   "metadata": {},
   "outputs": [
    {
     "name": "stdout",
     "output_type": "stream",
     "text": [
      "Index = a Value = 2 (40.0%)\n",
      "Index = c Value = 2 (40.0%)\n",
      "Index = b Value = 1 (20.0%)\n"
     ]
    }
   ],
   "source": [
    "s_counts = pd.Series(['a', 'a', 'b', 'c', 'c']).value_counts()\n",
    "s_perc = pd.Series(['a', 'a', 'b', 'c', 'c']).value_counts(normalize=True).values\n",
    "for idx, val, perc in zip(s_counts.index, s_counts.values, s_perc):\n",
    "    print(f'Index = {idx} Value = {val} ({perc*100}%)')"
   ]
  },
  {
   "cell_type": "code",
   "execution_count": null,
   "id": "85d53d4e-432a-4957-bb43-e31392c8f9c0",
   "metadata": {},
   "outputs": [],
   "source": []
  }
 ],
 "metadata": {
  "kernelspec": {
   "display_name": "Python 3 (ipykernel)",
   "language": "python",
   "name": "python3"
  },
  "language_info": {
   "codemirror_mode": {
    "name": "ipython",
    "version": 3
   },
   "file_extension": ".py",
   "mimetype": "text/x-python",
   "name": "python",
   "nbconvert_exporter": "python",
   "pygments_lexer": "ipython3",
   "version": "3.10.0"
  }
 },
 "nbformat": 4,
 "nbformat_minor": 5
}

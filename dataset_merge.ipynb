{
 "cells": [
  {
   "cell_type": "markdown",
   "id": "b141ab51-7f9d-480c-b764-55d15c73e0f7",
   "metadata": {},
   "source": [
    "# __Datasets Merge__"
   ]
  },
  {
   "cell_type": "markdown",
   "id": "9d5c2549-4adb-464e-ad1e-8c5e78b65384",
   "metadata": {},
   "source": [
    "Create a third dataset by mergin the Query and Hashtags datasets"
   ]
  },
  {
   "cell_type": "code",
   "execution_count": 1,
   "id": "7448ca46-4293-47e1-a866-9bf92108d57e",
   "metadata": {},
   "outputs": [],
   "source": [
    "import os\n",
    "import pandas as pd"
   ]
  },
  {
   "cell_type": "code",
   "execution_count": 2,
   "id": "8d7dc2bc-dcc9-4c5f-8580-ad5b6886f57e",
   "metadata": {},
   "outputs": [
    {
     "name": "stdout",
     "output_type": "stream",
     "text": [
      "Amount of extracted weeks:  26\n"
     ]
    }
   ],
   "source": [
    "DATA_PATH = 'data/tweets/'\n",
    "\n",
    "week_list = [week_dir for week_dir in os.listdir(DATA_PATH) if os.path.isdir(DATA_PATH+week_dir) and not week_dir.endswith('.ipynb_checkpoints')]\n",
    "print('Amount of extracted weeks: ', len(week_list))"
   ]
  },
  {
   "cell_type": "code",
   "execution_count": 3,
   "id": "43627264-860b-4e55-83ce-a13bd8f7da72",
   "metadata": {},
   "outputs": [
    {
     "name": "stdout",
     "output_type": "stream",
     "text": [
      "['week_01', 'week_02', 'week_03', 'week_04', 'week_05', 'week_06', 'week_07', 'week_08', 'week_09', 'week_10', 'week_11', 'week_12', 'week_pr_01', 'week_pr_02', 'week_13', 'week_14', 'week_15', 'week_16', 'week_17', 'week_pr_03', 'week_18', 'week_19', 'week_20', 'week_21', 'week_pr_04', 'week_22']\n"
     ]
    }
   ],
   "source": [
    "week_list.sort()\n",
    "week_list.remove('week_pr_01')\n",
    "week_list.insert(week_list.index('week_12')+1, 'week_pr_01')\n",
    "week_list.remove('week_pr_02')\n",
    "week_list.insert(week_list.index('week_pr_01')+1, 'week_pr_02')\n",
    "week_list.remove('week_pr_03')\n",
    "week_list.insert(week_list.index('week_17')+1, 'week_pr_03')\n",
    "week_list.remove('week_pr_04')\n",
    "week_list.insert(week_list.index('week_21')+1, 'week_pr_04')\n",
    "\n",
    "print(week_list)"
   ]
  },
  {
   "cell_type": "code",
   "execution_count": 4,
   "id": "b5ec66ca-a770-4cb2-89b3-5e2b0f981648",
   "metadata": {},
   "outputs": [
    {
     "name": "stdout",
     "output_type": "stream",
     "text": [
      "\n",
      "Merging: week_01\n",
      "day_1 - mergin files: ['day_1_2021-04-25_hashtags_ext.parquet', 'day_1_2021-04-25_query_ext.parquet']\n",
      "day_2 - mergin files: ['day_2_2021-04-26_hashtags_ext.parquet', 'day_2_2021-04-26_query_ext.parquet']\n",
      "day_3 - mergin files: ['day_3_2021-04-27_hashtags_ext.parquet', 'day_3_2021-04-27_query_ext.parquet']\n",
      "day_4 - mergin files: ['day_4_2021-04-28_hashtags_ext.parquet', 'day_4_2021-04-28_query_ext.parquet']\n",
      "day_5 - mergin files: ['day_5_2021-04-29_hashtags_ext.parquet', 'day_5_2021-04-29_query_ext.parquet']\n",
      "day_6 - mergin files: ['day_6_2021-04-30_hashtags_ext.parquet', 'day_6_2021-04-30_query_ext.parquet']\n",
      "day_7 - mergin files: ['day_7_2021-05-01_hashtags_ext.parquet', 'day_7_2021-05-01_query_ext.parquet']\n",
      "\n",
      "Merging: week_02\n",
      "day_1 - mergin files: ['day_1_2021-05-02_hashtags_ext.parquet', 'day_1_2021-05-02_query_ext.parquet']\n",
      "day_2 - mergin files: ['day_2_2021-05-03_hashtags_ext.parquet', 'day_2_2021-05-03_query_ext.parquet']\n",
      "day_3 - mergin files: ['day_3_2021-05-04_hashtags_ext.parquet', 'day_3_2021-05-04_query_ext.parquet']\n",
      "day_4 - mergin files: ['day_4_2021-05-05_hashtags_ext.parquet', 'day_4_2021-05-05_query_ext.parquet']\n",
      "day_5 - mergin files: ['day_5_2021-05-06_hashtags_ext.parquet', 'day_5_2021-05-06_query_ext.parquet']\n",
      "day_6 - mergin files: ['day_6_2021-05-07_hashtags_ext.parquet', 'day_6_2021-05-07_query_ext.parquet']\n",
      "day_7 - mergin files: ['day_7_2021-05-08_hashtags_ext.parquet', 'day_7_2021-05-08_query_ext.parquet']\n",
      "\n",
      "Merging: week_03\n",
      "day_1 - mergin files: ['day_1_2021-05-09_hashtags_ext.parquet', 'day_1_2021-05-09_query_ext.parquet']\n",
      "day_2 - mergin files: ['day_2_2021-05-10_hashtags_ext.parquet', 'day_2_2021-05-10_query_ext.parquet']\n",
      "day_3 - mergin files: ['day_3_2021-05-11_hashtags_ext.parquet', 'day_3_2021-05-11_query_ext.parquet']\n",
      "day_4 - mergin files: ['day_4_2021-05-12_hashtags_ext.parquet', 'day_4_2021-05-12_query_ext.parquet']\n",
      "day_5 - mergin files: ['day_5_2021-05-13_hashtags_ext.parquet', 'day_5_2021-05-13_query_ext.parquet']\n",
      "day_6 - mergin files: ['day_6_2021-05-14_hashtags_ext.parquet', 'day_6_2021-05-14_query_ext.parquet']\n",
      "day_7 - mergin files: ['day_7_2021-05-15_hashtags_ext.parquet', 'day_7_2021-05-15_query_ext.parquet']\n",
      "\n",
      "Merging: week_04\n",
      "day_1 - mergin files: ['day_1_2021-05-16_hashtags_ext.parquet', 'day_1_2021-05-16_query_ext.parquet']\n",
      "day_2 - mergin files: ['day_2_2021-05-17_hashtags_ext.parquet', 'day_2_2021-05-17_query_ext.parquet']\n",
      "day_3 - mergin files: ['day_3_2021-05-18_hashtags_ext.parquet', 'day_3_2021-05-18_query_ext.parquet']\n",
      "day_4 - mergin files: ['day_4_2021-05-19_hashtags_ext.parquet', 'day_4_2021-05-19_query_ext.parquet']\n",
      "day_5 - mergin files: ['day_5_2021-05-20_hashtags_ext.parquet', 'day_5_2021-05-20_query_ext.parquet']\n",
      "day_6 - mergin files: ['day_6_2021-05-21_hashtags_ext.parquet', 'day_6_2021-05-21_query_ext.parquet']\n",
      "day_7 - mergin files: ['day_7_2021-05-22_hashtags_ext.parquet', 'day_7_2021-05-22_query_ext.parquet']\n",
      "\n",
      "Merging: week_05\n",
      "day_1 - mergin files: ['day_1_2021-05-23_hashtags_ext.parquet', 'day_1_2021-05-23_query_ext.parquet']\n",
      "day_2 - mergin files: ['day_2_2021-05-24_hashtags_ext.parquet', 'day_2_2021-05-24_query_ext.parquet']\n",
      "day_3 - mergin files: ['day_3_2021-05-25_hashtags_ext.parquet', 'day_3_2021-05-25_query_ext.parquet']\n",
      "day_4 - mergin files: ['day_4_2021-05-26_hashtags_ext.parquet', 'day_4_2021-05-26_query_ext.parquet']\n",
      "day_5 - mergin files: ['day_5_2021-05-27_hashtags_ext.parquet', 'day_5_2021-05-27_query_ext.parquet']\n",
      "day_6 - mergin files: ['day_6_2021-05-28_hashtags_ext.parquet', 'day_6_2021-05-28_query_ext.parquet']\n",
      "day_7 - mergin files: ['day_7_2021-05-29_hashtags_ext.parquet', 'day_7_2021-05-29_query_ext.parquet']\n",
      "\n",
      "Merging: week_06\n",
      "day_1 - mergin files: ['day_1_2021-05-30_hashtags_ext.parquet', 'day_1_2021-05-30_query_ext.parquet']\n",
      "day_2 - mergin files: ['day_2_2021-05-31_hashtags_ext.parquet', 'day_2_2021-05-31_query_ext.parquet']\n",
      "day_3 - mergin files: ['day_3_2021-06-01_hashtags_ext.parquet', 'day_3_2021-06-01_query_ext.parquet']\n",
      "day_4 - mergin files: ['day_4_2021-06-02_hashtags_ext.parquet', 'day_4_2021-06-02_query_ext.parquet']\n",
      "day_5 - mergin files: ['day_5_2021-06-03_hashtags_ext.parquet', 'day_5_2021-06-03_query_ext.parquet']\n",
      "day_6 - mergin files: ['day_6_2021-06-04_hashtags_ext.parquet', 'day_6_2021-06-04_query_ext.parquet']\n",
      "day_7 - mergin files: ['day_7_2021-06-05_hashtags_ext.parquet', 'day_7_2021-06-05_query_ext.parquet']\n",
      "\n",
      "Merging: week_07\n",
      "day_1 - mergin files: ['day_1_2021-06-06_hashtags_ext.parquet', 'day_1_2021-06-06_query_ext.parquet']\n",
      "day_2 - mergin files: ['day_2_2021-06-07_hashtags_ext.parquet', 'day_2_2021-06-07_query_ext.parquet']\n",
      "day_3 - mergin files: ['day_3_2021-06-08_hashtags_ext.parquet', 'day_3_2021-06-08_query_ext.parquet']\n",
      "day_4 - mergin files: ['day_4_2021-06-09_hashtags_ext.parquet', 'day_4_2021-06-09_query_ext.parquet']\n",
      "day_5 - mergin files: ['day_5_2021-06-10_hashtags_ext.parquet', 'day_5_2021-06-10_query_ext.parquet']\n",
      "day_6 - mergin files: ['day_6_2021-06-11_hashtags_ext.parquet', 'day_6_2021-06-11_query_ext.parquet']\n",
      "day_7 - mergin files: ['day_7_2021-06-12_hashtags_ext.parquet', 'day_7_2021-06-12_query_ext.parquet']\n",
      "\n",
      "Merging: week_08\n",
      "day_1 - mergin files: ['day_1_2021-06-13_hashtags_ext.parquet', 'day_1_2021-06-13_query_ext.parquet']\n",
      "day_2 - mergin files: ['day_2_2021-06-14_hashtags_ext.parquet', 'day_2_2021-06-14_query_ext.parquet']\n",
      "day_3 - mergin files: ['day_3_2021-06-15_hashtags_ext.parquet', 'day_3_2021-06-15_query_ext.parquet']\n",
      "day_4 - mergin files: ['day_4_2021-06-16_hashtags_ext.parquet', 'day_4_2021-06-16_query_ext.parquet']\n",
      "day_5 - mergin files: ['day_5_2021-06-17_hashtags_ext.parquet', 'day_5_2021-06-17_query_ext.parquet']\n",
      "day_6 - mergin files: ['day_6_2021-06-18_hashtags_ext.parquet', 'day_6_2021-06-18_query_ext.parquet']\n",
      "day_7 - mergin files: ['day_7_2021-06-19_hashtags_ext.parquet', 'day_7_2021-06-19_query_ext.parquet']\n",
      "\n",
      "Merging: week_09\n",
      "day_1 - mergin files: ['day_1_2021-06-20_hashtags_ext.parquet', 'day_1_2021-06-20_query_ext.parquet']\n",
      "day_2 - mergin files: ['day_2_2021-06-21_hashtags_ext.parquet', 'day_2_2021-06-21_query_ext.parquet']\n",
      "day_3 - mergin files: ['day_3_2021-06-22_hashtags_ext.parquet', 'day_3_2021-06-22_query_ext.parquet']\n",
      "day_4 - mergin files: ['day_4_2021-06-23_hashtags_ext.parquet', 'day_4_2021-06-23_query_ext.parquet']\n",
      "day_5 - mergin files: ['day_5_2021-06-24_hashtags_ext.parquet', 'day_5_2021-06-24_query_ext.parquet']\n",
      "day_6 - mergin files: ['day_6_2021-06-25_hashtags_ext.parquet', 'day_6_2021-06-25_query_ext.parquet']\n",
      "day_7 - mergin files: ['day_7_2021-06-26_hashtags_ext.parquet', 'day_7_2021-06-26_query_ext.parquet']\n",
      "\n",
      "Merging: week_10\n",
      "day_1 - mergin files: ['day_1_2021-06-27_hashtags_ext.parquet', 'day_1_2021-06-27_query_ext.parquet']\n",
      "day_2 - mergin files: ['day_2_2021-06-28_hashtags_ext.parquet', 'day_2_2021-06-28_query_ext.parquet']\n",
      "day_3 - mergin files: ['day_3_2021-06-29_hashtags_ext.parquet', 'day_3_2021-06-29_query_ext.parquet']\n",
      "day_4 - mergin files: ['day_4_2021-06-30_hashtags_ext.parquet', 'day_4_2021-06-30_query_ext.parquet']\n",
      "day_5 - mergin files: ['day_5_2021-07-01_hashtags_ext.parquet', 'day_5_2021-07-01_query_ext.parquet']\n",
      "day_6 - mergin files: ['day_6_2021-07-02_hashtags_ext.parquet', 'day_6_2021-07-02_query_ext.parquet']\n",
      "day_7 - mergin files: ['day_7_2021-07-03_hashtags_ext.parquet', 'day_7_2021-07-03_query_ext.parquet']\n",
      "\n",
      "Merging: week_11\n",
      "day_1 - mergin files: ['day_1_2021-07-04_hashtags_ext.parquet', 'day_1_2021-07-04_query_ext.parquet']\n",
      "day_2 - mergin files: ['day_2_2021-07-05_hashtags_ext.parquet', 'day_2_2021-07-05_query_ext.parquet']\n",
      "day_3 - mergin files: ['day_3_2021-07-06_hashtags_ext.parquet', 'day_3_2021-07-06_query_ext.parquet']\n",
      "day_4 - mergin files: ['day_4_2021-07-07_hashtags_ext.parquet', 'day_4_2021-07-07_query_ext.parquet']\n",
      "day_5 - mergin files: ['day_5_2021-07-08_hashtags_ext.parquet', 'day_5_2021-07-08_query_ext.parquet']\n",
      "day_6 - mergin files: ['day_6_2021-07-09_hashtags_ext.parquet', 'day_6_2021-07-09_query_ext.parquet']\n",
      "day_7 - mergin files: ['day_7_2021-07-10_hashtags_ext.parquet', 'day_7_2021-07-10_query_ext.parquet']\n",
      "\n",
      "Merging: week_12\n",
      "day_1 - mergin files: ['day_1_2021-07-11_hashtags_ext.parquet', 'day_1_2021-07-11_query_ext.parquet']\n",
      "day_2 - mergin files: ['day_2_2021-07-12_hashtags_ext.parquet', 'day_2_2021-07-12_query_ext.parquet']\n",
      "day_3 - mergin files: ['day_3_2021-07-13_hashtags_ext.parquet', 'day_3_2021-07-13_query_ext.parquet']\n",
      "day_4 - mergin files: ['day_4_2021-07-14_hashtags_ext.parquet', 'day_4_2021-07-14_query_ext.parquet']\n",
      "day_5 - mergin files: ['day_5_2021-07-15_hashtags_ext.parquet', 'day_5_2021-07-15_query_ext.parquet']\n",
      "day_6 - mergin files: ['day_6_2021-07-16_hashtags_ext.parquet', 'day_6_2021-07-16_query_ext.parquet']\n",
      "day_7 - mergin files: ['day_7_2021-07-17_hashtags_ext.parquet', 'day_7_2021-07-17_query_ext.parquet']\n",
      "\n",
      "Merging: week_pr_01\n",
      "day_1 - mergin files: ['day_1_2021-07-18_hashtags_ext.parquet', 'day_1_2021-07-18_query_ext.parquet']\n",
      "day_2 - mergin files: ['day_2_2021-07-19_hashtags_ext.parquet', 'day_2_2021-07-19_query_ext.parquet']\n",
      "day_3 - mergin files: ['day_3_2021-07-20_hashtags_ext.parquet', 'day_3_2021-07-20_query_ext.parquet']\n",
      "day_4 - mergin files: ['day_4_2021-07-21_hashtags_ext.parquet', 'day_4_2021-07-21_query_ext.parquet']\n",
      "day_5 - mergin files: ['day_5_2021-07-22_hashtags_ext.parquet', 'day_5_2021-07-22_query_ext.parquet']\n",
      "day_6 - mergin files: ['day_6_2021-07-23_hashtags_ext.parquet', 'day_6_2021-07-23_query_ext.parquet']\n",
      "day_7 - mergin files: ['day_7_2021-07-24_hashtags_ext.parquet', 'day_7_2021-07-24_query_ext.parquet']\n",
      "\n",
      "Merging: week_pr_02\n",
      "day_1 - mergin files: ['day_1_2021-07-25_hashtags_ext.parquet', 'day_1_2021-07-25_query_ext.parquet']\n",
      "day_2 - mergin files: ['day_2_2021-07-26_hashtags_ext.parquet', 'day_2_2021-07-26_query_ext.parquet']\n",
      "day_3 - mergin files: ['day_3_2021-07-27_hashtags_ext.parquet', 'day_3_2021-07-27_query_ext.parquet']\n",
      "day_4 - mergin files: ['day_4_2021-07-28_hashtags_ext.parquet', 'day_4_2021-07-28_query_ext.parquet']\n",
      "day_5 - mergin files: ['day_5_2021-07-29_hashtags_ext.parquet', 'day_5_2021-07-29_query_ext.parquet']\n",
      "day_6 - mergin files: ['day_6_2021-07-30_hashtags_ext.parquet', 'day_6_2021-07-30_query_ext.parquet']\n",
      "day_7 - mergin files: ['day_7_2021-07-31_hashtags_ext.parquet', 'day_7_2021-07-31_query_ext.parquet']\n",
      "\n",
      "Merging: week_13\n",
      "day_1 - mergin files: ['day_1_2021-08-01_hashtags_ext.parquet', 'day_1_2021-08-01_query_ext.parquet']\n",
      "day_2 - mergin files: ['day_2_2021-08-02_hashtags_ext.parquet', 'day_2_2021-08-02_query_ext.parquet']\n",
      "day_3 - mergin files: ['day_3_2021-08-03_hashtags_ext.parquet', 'day_3_2021-08-03_query_ext.parquet']\n",
      "day_4 - mergin files: ['day_4_2021-08-04_hashtags_ext.parquet', 'day_4_2021-08-04_query_ext.parquet']\n",
      "day_5 - mergin files: ['day_5_2021-08-05_hashtags_ext.parquet', 'day_5_2021-08-05_query_ext.parquet']\n",
      "day_6 - mergin files: ['day_6_2021-08-06_hashtags_ext.parquet', 'day_6_2021-08-06_query_ext.parquet']\n",
      "day_7 - mergin files: ['day_7_2021-08-07_hashtags_ext.parquet', 'day_7_2021-08-07_query_ext.parquet']\n",
      "\n",
      "Merging: week_14\n",
      "day_1 - mergin files: ['day_1_2021-08-08_hashtags_ext.parquet', 'day_1_2021-08-08_query_ext.parquet']\n",
      "day_2 - mergin files: ['day_2_2021-08-09_hashtags_ext.parquet', 'day_2_2021-08-09_query_ext.parquet']\n",
      "day_3 - mergin files: ['day_3_2021-08-10_hashtags_ext.parquet', 'day_3_2021-08-10_query_ext.parquet']\n",
      "day_4 - mergin files: ['day_4_2021-08-11_hashtags_ext.parquet', 'day_4_2021-08-11_query_ext.parquet']\n",
      "day_5 - mergin files: ['day_5_2021-08-12_hashtags_ext.parquet', 'day_5_2021-08-12_query_ext.parquet']\n",
      "day_6 - mergin files: ['day_6_2021-08-13_hashtags_ext.parquet', 'day_6_2021-08-13_query_ext.parquet']\n",
      "day_7 - mergin files: ['day_7_2021-08-14_hashtags_ext.parquet', 'day_7_2021-08-14_query_ext.parquet']\n",
      "\n",
      "Merging: week_15\n",
      "day_1 - mergin files: ['day_1_2021-08-15_hashtags_ext.parquet', 'day_1_2021-08-15_query_ext.parquet']\n",
      "day_2 - mergin files: ['day_2_2021-08-16_hashtags_ext.parquet', 'day_2_2021-08-16_query_ext.parquet']\n",
      "day_3 - mergin files: ['day_3_2021-08-17_hashtags_ext.parquet', 'day_3_2021-08-17_query_ext.parquet']\n",
      "day_4 - mergin files: ['day_4_2021-08-18_hashtags_ext.parquet', 'day_4_2021-08-18_query_ext.parquet']\n",
      "day_5 - mergin files: ['day_5_2021-08-19_hashtags_ext.parquet', 'day_5_2021-08-19_query_ext.parquet']\n",
      "day_6 - mergin files: ['day_6_2021-08-20_hashtags_ext.parquet', 'day_6_2021-08-20_query_ext.parquet']\n",
      "day_7 - mergin files: ['day_7_2021-08-21_hashtags_ext.parquet', 'day_7_2021-08-21_query_ext.parquet']\n",
      "\n",
      "Merging: week_16\n",
      "day_1 - mergin files: ['day_1_2021-08-22_hashtags_ext.parquet', 'day_1_2021-08-22_query_ext.parquet']\n",
      "day_2 - mergin files: ['day_2_2021-08-23_hashtags_ext.parquet', 'day_2_2021-08-23_query_ext.parquet']\n",
      "day_3 - mergin files: ['day_3_2021-08-24_hashtags_ext.parquet', 'day_3_2021-08-24_query_ext.parquet']\n",
      "day_4 - mergin files: ['day_4_2021-08-25_hashtags_ext.parquet', 'day_4_2021-08-25_query_ext.parquet']\n",
      "day_5 - mergin files: ['day_5_2021-08-26_hashtags_ext.parquet', 'day_5_2021-08-26_query_ext.parquet']\n",
      "day_6 - mergin files: ['day_6_2021-08-27_hashtags_ext.parquet', 'day_6_2021-08-27_query_ext.parquet']\n",
      "day_7 - mergin files: ['day_7_2021-08-28_hashtags_ext.parquet', 'day_7_2021-08-28_query_ext.parquet']\n",
      "\n",
      "Merging: week_17\n",
      "day_1 - mergin files: ['day_1_2021-08-29_hashtags_ext.parquet', 'day_1_2021-08-29_query_ext.parquet']\n",
      "day_2 - mergin files: ['day_2_2021-08-30_hashtags_ext.parquet', 'day_2_2021-08-30_query_ext.parquet']\n",
      "day_3 - mergin files: ['day_3_2021-08-31_hashtags_ext.parquet', 'day_3_2021-08-31_query_ext.parquet']\n",
      "day_4 - mergin files: ['day_4_2021-09-01_hashtags_ext.parquet', 'day_4_2021-09-01_query_ext.parquet']\n",
      "day_5 - mergin files: ['day_5_2021-09-02_hashtags_ext.parquet', 'day_5_2021-09-02_query_ext.parquet']\n",
      "day_6 - mergin files: ['day_6_2021-09-03_hashtags_ext.parquet', 'day_6_2021-09-03_query_ext.parquet']\n",
      "day_7 - mergin files: ['day_7_2021-09-04_hashtags_ext.parquet', 'day_7_2021-09-04_query_ext.parquet']\n",
      "\n",
      "Merging: week_pr_03\n",
      "day_1 - mergin files: ['day_1_2021-09-05_hashtags_ext.parquet', 'day_1_2021-09-05_query_ext.parquet']\n",
      "day_2 - mergin files: ['day_2_2021-09-06_hashtags_ext.parquet', 'day_2_2021-09-06_query_ext.parquet']\n",
      "day_3 - mergin files: ['day_3_2021-09-07_hashtags_ext.parquet', 'day_3_2021-09-07_query_ext.parquet']\n",
      "day_4 - mergin files: ['day_4_2021-09-08_hashtags_ext.parquet', 'day_4_2021-09-08_query_ext.parquet']\n",
      "day_5 - mergin files: ['day_5_2021-09-09_hashtags_ext.parquet', 'day_5_2021-09-09_query_ext.parquet']\n",
      "day_6 - mergin files: ['day_6_2021-09-10_hashtags_ext.parquet', 'day_6_2021-09-10_query_ext.parquet']\n",
      "day_7 - mergin files: ['day_7_2021-09-11_hashtags_ext.parquet', 'day_7_2021-09-11_query_ext.parquet']\n",
      "\n",
      "Merging: week_18\n",
      "day_1 - mergin files: ['day_1_2021-09-12_hashtags_ext.parquet', 'day_1_2021-09-12_query_ext.parquet']\n",
      "day_2 - mergin files: ['day_2_2021-09-13_hashtags_ext.parquet', 'day_2_2021-09-13_query_ext.parquet']\n",
      "day_3 - mergin files: ['day_3_2021-09-14_hashtags_ext.parquet', 'day_3_2021-09-14_query_ext.parquet']\n",
      "day_4 - mergin files: ['day_4_2021-09-15_hashtags_ext.parquet', 'day_4_2021-09-15_query_ext.parquet']\n",
      "day_5 - mergin files: ['day_5_2021-09-16_hashtags_ext.parquet', 'day_5_2021-09-16_query_ext.parquet']\n",
      "day_6 - mergin files: ['day_6_2021-09-17_hashtags_ext.parquet', 'day_6_2021-09-17_query_ext.parquet']\n",
      "day_7 - mergin files: ['day_7_2021-09-18_hashtags_ext.parquet', 'day_7_2021-09-18_query_ext.parquet']\n",
      "\n",
      "Merging: week_19\n",
      "day_1 - mergin files: ['day_1_2021-09-19_hashtags_ext.parquet', 'day_1_2021-09-19_query_ext.parquet']\n",
      "day_2 - mergin files: ['day_2_2021-09-20_hashtags_ext.parquet', 'day_2_2021-09-20_query_ext.parquet']\n",
      "day_3 - mergin files: ['day_3_2021-09-21_hashtags_ext.parquet', 'day_3_2021-09-21_query_ext.parquet']\n",
      "day_4 - mergin files: ['day_4_2021-09-22_hashtags_ext.parquet', 'day_4_2021-09-22_query_ext.parquet']\n",
      "day_5 - mergin files: ['day_5_2021-09-23_hashtags_ext.parquet', 'day_5_2021-09-23_query_ext.parquet']\n",
      "day_6 - mergin files: ['day_6_2021-09-24_hashtags_ext.parquet', 'day_6_2021-09-24_query_ext.parquet']\n",
      "day_7 - mergin files: ['day_7_2021-09-25_hashtags_ext.parquet', 'day_7_2021-09-25_query_ext.parquet']\n",
      "\n",
      "Merging: week_20\n",
      "day_1 - mergin files: ['day_1_2021-09-26_hashtags_ext.parquet', 'day_1_2021-09-26_query_ext.parquet']\n",
      "day_2 - mergin files: ['day_2_2021-09-27_hashtags_ext.parquet', 'day_2_2021-09-27_query_ext.parquet']\n",
      "day_3 - mergin files: ['day_3_2021-09-28_hashtags_ext.parquet', 'day_3_2021-09-28_query_ext.parquet']\n",
      "day_4 - mergin files: ['day_4_2021-09-29_hashtags_ext.parquet', 'day_4_2021-09-29_query_ext.parquet']\n",
      "day_5 - mergin files: ['day_5_2021-09-30_hashtags_ext.parquet', 'day_5_2021-09-30_query_ext.parquet']\n",
      "day_6 - mergin files: ['day_6_2021-10-01_hashtags_ext.parquet', 'day_6_2021-10-01_query_ext.parquet']\n",
      "day_7 - mergin files: ['day_7_2021-10-02_hashtags_ext.parquet', 'day_7_2021-10-02_query_ext.parquet']\n",
      "\n",
      "Merging: week_21\n",
      "day_1 - mergin files: ['day_1_2021-10-03_hashtags_ext.parquet', 'day_1_2021-10-03_query_ext.parquet']\n",
      "day_2 - mergin files: ['day_2_2021-10-04_hashtags_ext.parquet', 'day_2_2021-10-04_query_ext.parquet']\n",
      "day_3 - mergin files: ['day_3_2021-10-05_hashtags_ext.parquet', 'day_3_2021-10-05_query_ext.parquet']\n",
      "day_4 - mergin files: ['day_4_2021-10-06_hashtags_ext.parquet', 'day_4_2021-10-06_query_ext.parquet']\n",
      "day_5 - mergin files: ['day_5_2021-10-07_hashtags_ext.parquet', 'day_5_2021-10-07_query_ext.parquet']\n",
      "day_6 - mergin files: ['day_6_2021-10-08_hashtags_ext.parquet', 'day_6_2021-10-08_query_ext.parquet']\n",
      "day_7 - mergin files: ['day_7_2021-10-09_hashtags_ext.parquet', 'day_7_2021-10-09_query_ext.parquet']\n",
      "\n",
      "Merging: week_pr_04\n",
      "day_1 - mergin files: ['day_1_2021-10-10_hashtags_ext.parquet', 'day_1_2021-10-10_query_ext.parquet']\n",
      "day_2 - mergin files: ['day_2_2021-10-11_hashtags_ext.parquet', 'day_2_2021-10-11_query_ext.parquet']\n",
      "day_3 - mergin files: ['day_3_2021-10-12_hashtags_ext.parquet', 'day_3_2021-10-12_query_ext.parquet']\n",
      "day_4 - mergin files: ['day_4_2021-10-13_hashtags_ext.parquet', 'day_4_2021-10-13_query_ext.parquet']\n",
      "day_5 - mergin files: ['day_5_2021-10-14_hashtags_ext.parquet', 'day_5_2021-10-14_query_ext.parquet']\n",
      "day_6 - mergin files: ['day_6_2021-10-15_hashtags_ext.parquet', 'day_6_2021-10-15_query_ext.parquet']\n",
      "day_7 - mergin files: ['day_7_2021-10-16_hashtags_ext.parquet', 'day_7_2021-10-16_query_ext.parquet']\n",
      "\n",
      "Merging: week_22\n",
      "day_1 - mergin files: ['day_1_2021-10-17_hashtags_ext.parquet', 'day_1_2021-10-17_query_ext.parquet']\n",
      "day_2 - mergin files: ['day_2_2021-10-18_hashtags_ext.parquet', 'day_2_2021-10-18_query_ext.parquet']\n",
      "day_3 - mergin files: ['day_3_2021-10-19_hashtags_ext.parquet', 'day_3_2021-10-19_query_ext.parquet']\n",
      "day_4 - mergin files: ['day_4_2021-10-20_hashtags_ext.parquet', 'day_4_2021-10-20_query_ext.parquet']\n",
      "day_5 - mergin files: ['day_5_2021-10-21_hashtags_ext.parquet', 'day_5_2021-10-21_query_ext.parquet']\n",
      "day_6 - mergin files: ['day_6_2021-10-22_hashtags_ext.parquet', 'day_6_2021-10-22_query_ext.parquet']\n",
      "day_7 - mergin files: ['day_7_2021-10-23_hashtags_ext.parquet', 'day_7_2021-10-23_query_ext.parquet']\n"
     ]
    }
   ],
   "source": [
    "day_list = ['day_1', 'day_2', 'day_3', 'day_4', 'day_5', 'day_6', 'day_7']\n",
    "\n",
    "for week in week_list:\n",
    "    print('\\nMerging: '+week)\n",
    "    week_df_list = []\n",
    "    for day in day_list:\n",
    "        df_list = []\n",
    "        file_list = [file for file in os.listdir(DATA_PATH+week) if file.startswith(day) and file.endswith('.parquet')]\n",
    "        for file in file_list:\n",
    "            df_list.append(pd.read_parquet(DATA_PATH+week+'/'+file))\n",
    "        print(f'{day} - mergin files: {file_list}')\n",
    "        merged_df = pd.concat(df_list, ignore_index=True)\n",
    "        merged_df.drop_duplicates(inplace=True)\n",
    "        merged_df['date'] = pd.to_datetime(merged_df['date'])\n",
    "        merged_df.sort_values(by='date', inplace=True)\n",
    "        week_df_list.append(merged_df)\n",
    "        merged_df.to_parquet(DATA_PATH+week+f'/merged_{day}.parquet', index=False)\n",
    "    merged_week_df = pd.concat(week_df_list, ignore_index=True)\n",
    "    merged_week_df.drop_duplicates(inplace=True)\n",
    "    merged_week_df.sort_values(by='date', inplace=True)\n",
    "    merged_week_df.to_parquet(DATA_PATH+week+f'/merged_{week}.parquet')"
   ]
  },
  {
   "cell_type": "markdown",
   "id": "d6f31442-8e94-4f82-a823-ab62084ad426",
   "metadata": {},
   "source": [
    "## __Merged Dataset Quantitative Analysis__"
   ]
  },
  {
   "cell_type": "code",
   "execution_count": 5,
   "id": "db5ee0c6-d3f1-463e-96c0-de315892947b",
   "metadata": {},
   "outputs": [],
   "source": [
    "import matplotlib.pyplot as plt\n",
    "import seaborn as sns\n",
    "#%matplotlib widget"
   ]
  },
  {
   "cell_type": "code",
   "execution_count": 6,
   "id": "4adae0ac-d444-45dd-a115-98dc7259bf56",
   "metadata": {},
   "outputs": [
    {
     "data": {
      "text/plain": [
       "[('week_01', 141280),\n",
       " ('week_02', 122068),\n",
       " ('week_03', 221369),\n",
       " ('week_04', 196475),\n",
       " ('week_05', 255865),\n",
       " ('week_06', 160194),\n",
       " ('week_07', 172813),\n",
       " ('week_08', 139144),\n",
       " ('week_09', 267384),\n",
       " ('week_10', 271970),\n",
       " ('week_11', 207538),\n",
       " ('week_12', 88968),\n",
       " ('week_pr_01', 58979),\n",
       " ('week_pr_02', 57902),\n",
       " ('week_13', 206344),\n",
       " ('week_14', 78048),\n",
       " ('week_15', 62816),\n",
       " ('week_16', 97904),\n",
       " ('week_17', 40400),\n",
       " ('week_pr_03', 163029),\n",
       " ('week_18', 61427),\n",
       " ('week_19', 70757),\n",
       " ('week_20', 137439),\n",
       " ('week_21', 49612),\n",
       " ('week_pr_04', 22960),\n",
       " ('week_22', 45248)]"
      ]
     },
     "execution_count": 6,
     "metadata": {},
     "output_type": "execute_result"
    }
   ],
   "source": [
    "tweets_amount_list = []\n",
    "\n",
    "for week in week_list:\n",
    "    df = pd.read_parquet(DATA_PATH+week+f'/merged_{week}.parquet')\n",
    "    tweets_amount_list.append((week, df.shape[0]))\n",
    "    \n",
    "tweets_amount_list"
   ]
  },
  {
   "cell_type": "code",
   "execution_count": 7,
   "id": "1e9aba55-5b4a-4826-a674-dde170955522",
   "metadata": {},
   "outputs": [
    {
     "data": {
      "text/plain": [
       "(26, 2)"
      ]
     },
     "execution_count": 7,
     "metadata": {},
     "output_type": "execute_result"
    }
   ],
   "source": [
    "weekly_tweets_amount = pd.DataFrame(tweets_amount_list, columns=['week', 'tweets_amount'])\n",
    "weekly_tweets_amount.shape"
   ]
  },
  {
   "cell_type": "code",
   "execution_count": 8,
   "id": "7b01d9e1-25e5-49c1-89e8-d50a12f957c9",
   "metadata": {},
   "outputs": [
    {
     "data": {
      "image/png": "[encoded data removed]",
      "text/plain": [
       "<Figure size 1008x432 with 1 Axes>"
      ]
     },
     "metadata": {
      "needs_background": "light"
     },
     "output_type": "display_data"
    }
   ],
   "source": [
    "plt.figure(figsize=(14,6))\n",
    "sns.set_style(\"whitegrid\")\n",
    "ax = sns.lineplot(x='week', y='tweets_amount', data=weekly_tweets_amount)\n",
    "ax.set(xlabel='week number', ylabel='amount of tweets')\n",
    "plt.title('Weekly tweets amount merged dataset')\n",
    "plt.xticks(rotation=20)\n",
    "plt.show()"
   ]
  },
  {
   "cell_type": "code",
   "execution_count": 9,
   "id": "dc816b87-bd4d-448d-bb40-376269939d7e",
   "metadata": {},
   "outputs": [
    {
     "name": "stdout",
     "output_type": "stream",
     "text": [
      "The total of tweets in all 26 weeks is: 3397933\n"
     ]
    }
   ],
   "source": [
    "total_tweets = weekly_tweets_amount['tweets_amount'].sum()\n",
    "print(f'The total of tweets in all {len(week_list)} weeks is: {total_tweets}')"
   ]
  }
 ],
 "metadata": {
  "kernelspec": {
   "display_name": "Python 3 (ipykernel)",
   "language": "python",
   "name": "python3"
  },
  "language_info": {
   "codemirror_mode": {
    "name": "ipython",
    "version": 3
   },
   "file_extension": ".py",
   "mimetype": "text/x-python",
   "name": "python",
   "nbconvert_exporter": "python",
   "pygments_lexer": "ipython3",
   "version": "3.9.7"
  }
 },
 "nbformat": 4,
 "nbformat_minor": 5
}

{
 "cells": [
  {
   "cell_type": "markdown",
   "id": "a7e2d038-49f9-4769-9cf6-ca1b2729d555",
   "metadata": {},
   "source": [
    "# __All Period CPI SNA__"
   ]
  },
  {
   "cell_type": "code",
   "execution_count": 1,
   "id": "584e8878-9a10-4240-b59d-58ec2836931e",
   "metadata": {},
   "outputs": [],
   "source": [
    "import pandas as pd\n",
    "import networkx as nx\n",
    "import os, datetime"
   ]
  },
  {
   "cell_type": "code",
   "execution_count": 3,
   "id": "32e2cd7e-f6d9-477f-96d5-5e7ab966fdd4",
   "metadata": {},
   "outputs": [],
   "source": [
    "DATA_PATH_TT = 'data/tweets/'\n",
    "DATA_PATH_NT = 'data/networks/'\n",
    "\n",
    "nodes_ = pd.read_csv(DATA_PATH_NT+'all_nodes.csv')"
   ]
  },
  {
   "cell_type": "code",
   "execution_count": 15,
   "id": "4285ccab-768e-43ca-8a77-40a914026388",
   "metadata": {},
   "outputs": [],
   "source": [
    "def create_networks(tweets_df):\n",
    "    nodes = []\n",
    "    edges = []\n",
    "    for u, tc, rt, qrt, ir, mu in tweets_df[['user', 'content', 'retweetedTweet', 'quotedTweet', 'inReplyToUser', 'mentionedUsers']].values:\n",
    "        user = eval(u)\n",
    "        retweeted = eval(rt)\n",
    "        quoted = eval(qrt)\n",
    "        in_reply = eval(ir)\n",
    "        mentioned = eval(mu)\n",
    "        tweet_content = str(tc)\n",
    "        nodes.append((user['username'], user['displayname'], user['description'], user['id']))\n",
    "        if retweeted:\n",
    "            if user['username'] != retweeted['user']['username']:\n",
    "                edges.append((user['username'], retweeted['user']['username'], 'retweet', tweet_content))\n",
    "                nodes.append((retweeted['user']['username'], retweeted['user']['displayname'], retweeted['user']['description'], retweeted['user']['id']))\n",
    "        elif quoted:\n",
    "            if user['username'] != quoted['user']['username']:\n",
    "                edges.append((user['username'], quoted['user']['username'], 'quoted_rt', tweet_content))\n",
    "                nodes.append((quoted['user']['username'], quoted['user']['displayname'], quoted['user']['description'], quoted['user']['id']))\n",
    "        elif in_reply:\n",
    "            if user['username'] != in_reply['username']:\n",
    "                edges.append((user['username'], in_reply['username'], 'reply', tweet_content))\n",
    "                nodes.append((in_reply['username'], in_reply['displayname'], in_reply['description'], in_reply['id']))\n",
    "        elif mentioned:\n",
    "            for r_user in mentioned:\n",
    "                if user['username'] != r_user['username']:\n",
    "                    edges.append((user['username'], r_user['username'], 'mention', tweet_content))\n",
    "                    nodes.append((r_user['username'], r_user['displayname'], r_user['description'], r_user['id']))\n",
    "\n",
    "    nodes_df = pd.DataFrame(nodes, columns=['Id', 'DisplayName', 'Description', 'TtId'])\n",
    "    edges_df = pd.DataFrame(edges, columns=['Source', 'Target', 'LinkType', 'TweetContent'])\n",
    "    nodes_df.drop_duplicates(subset=['TtId'], keep='last', ignore_index=True, inplace=True)\n",
    "\n",
    "    return nodes_df, edges_df\n",
    "\n",
    "def df_2_networkx(nodes, edges):\n",
    "    w_edges = []\n",
    "    G = nx.DiGraph()\n",
    "    for usr, disp_n, desc, tt_id in nodes.values:\n",
    "        G.add_node(str(usr), displayname=str(disp_n), description=str(desc if desc else ''), tt_id=tt_id)\n",
    "        #G.add_node(tt_id, username=str(usr), displayname=str(disp_n), description=str(desc if desc else 'None'))\n",
    "    edges_tuples = [tuple(x) for x in edges.to_numpy()]\n",
    "    edges_count = pd.Series(edges_tuples).value_counts()\n",
    "    for i in range(edges_count.shape[0]):\n",
    "        w_edges.append(edges_count.index[i]+(edges_count.values[i],))\n",
    "    for edge in w_edges:\n",
    "        G.add_edge(str(edge[0]), str(edge[1]), interac_type=str(edge[2]), weight=int(edge[3]))\n",
    "\n",
    "    G_quoted = nx.DiGraph([(u, v, e) for u,v,e in G.edges(data=True) if e['interac_type'] == 'quoted_rt'])\n",
    "    G_rtweet = nx.DiGraph([(u, v, e) for u,v,e in G.edges(data=True) if e['interac_type'] == 'retweeted'])\n",
    "    G_reply = nx.DiGraph([(u, v, e) for u,v,e in G.edges(data=True) if e['interac_type'] == 'reply'])\n",
    "    G_mention = nx.DiGraph([(u, v, e) for u,v,e in G.edges(data=True) if e['interac_type'] == 'mention'])\n",
    "\n",
    "    return G, G_quoted, G_rtweet, G_reply, G_mention\n",
    "\n",
    "def def_edges_weight(edges):\n",
    "    columns = ['Source', 'Target', 'Weight']\n",
    "    edges_unique = edges[['Source', 'Target']].value_counts().index\n",
    "    edges_weight = edges[['Source', 'Target']].value_counts().values\n",
    "    edges_with_weights = [(users[0], users[1], weight) for users, weight in zip(edges_unique, edges_weight)]\n",
    "    return edges_with_weights\n",
    "\n",
    "def df_2_networkx_2(edges):\n",
    "    all_edges = edges[['Source', 'Target']]\n",
    "    quoted_edges = edges[edges['LinkType']=='quoted_rt'][['Source', 'Target']]\n",
    "    rt_edges = edges[edges['LinkType']=='retweeted'][['Source', 'Target']]\n",
    "    reply_edges = edges[edges['LinkType']=='reply'][['Source', 'Target']]\n",
    "    mention_edges = edges[edges['LinkType']=='mention'][['Source', 'Target']]\n",
    "    G = nx.DiGraph()\n",
    "    for src, tgt, w in def_edges_weight(all_edges):\n",
    "        G.add_edge(src, tgt, weight=w)\n",
    "    G_quoted = nx.DiGraph()\n",
    "    for src, tgt, w in def_edges_weight(quoted_edges):\n",
    "        G_quoted.add_edge(src, tgt, weight=w)\n",
    "    G_rt = nx.DiGraph()\n",
    "    for src, tgt, w in def_edges_weight(rt_edges):\n",
    "        G_rt.add_edge(src, tgt, weight=w)\n",
    "    G_reply = nx.DiGraph()\n",
    "    for src, tgt, w in def_edges_weight(reply_edges):\n",
    "        G_reply.add_edge(src, tgt, weight=w)\n",
    "    G_mention = nx.DiGraph()\n",
    "    for src, tgt, w in def_edges_weight(mention_edges):\n",
    "        G_mention.add_edge(src, tgt, weight=w)\n",
    "    return G, G_quoted, G_rt, G_reply, G_mention"
   ]
  },
  {
   "cell_type": "code",
   "execution_count": 4,
   "id": "da141721-0f9e-4c08-90af-48965f2c1f71",
   "metadata": {},
   "outputs": [
    {
     "name": "stdout",
     "output_type": "stream",
     "text": [
      "['week_01', 'week_02', 'week_03', 'week_04', 'week_05', 'week_06', 'week_07', 'week_08', 'week_09', 'week_10', 'week_11', 'week_12', 'week_pr_01', 'week_pr_02', 'week_13', 'week_14', 'week_15', 'week_16', 'week_17', 'week_pr_03', 'week_18', 'week_19', 'week_20', 'week_21', 'week_pr_04', 'week_22']\n"
     ]
    }
   ],
   "source": [
    "week_list = [week_dir for week_dir in os.listdir(DATA_PATH_TT) if os.path.isdir(DATA_PATH_TT+week_dir) and not week_dir.endswith('.ipynb_checkpoints')]\n",
    "\n",
    "week_list.sort()\n",
    "week_list.remove('week_pr_01')\n",
    "week_list.insert(week_list.index('week_12')+1, 'week_pr_01')\n",
    "week_list.remove('week_pr_02')\n",
    "week_list.insert(week_list.index('week_pr_01')+1, 'week_pr_02')\n",
    "week_list.remove('week_pr_03')\n",
    "week_list.insert(week_list.index('week_17')+1, 'week_pr_03')\n",
    "week_list.remove('week_pr_04')\n",
    "week_list.insert(week_list.index('week_21')+1, 'week_pr_04')\n",
    "#week_list.remove('week_22')\n",
    "\n",
    "print(week_list)"
   ]
  },
  {
   "cell_type": "code",
   "execution_count": 5,
   "id": "2e2b8551-c53b-4f56-91d5-dff0c6e5a5f1",
   "metadata": {},
   "outputs": [
    {
     "name": "stdout",
     "output_type": "stream",
     "text": [
      "Starting week_01...\n",
      "Starting week_02...\n",
      "Starting week_03...\n",
      "Starting week_04...\n",
      "Starting week_05...\n",
      "Starting week_06...\n",
      "Starting week_07...\n",
      "Starting week_08...\n",
      "Starting week_09...\n",
      "Starting week_10...\n",
      "Starting week_11...\n",
      "Starting week_12...\n",
      "Starting week_pr_01...\n",
      "Starting week_pr_02...\n",
      "Starting week_13...\n",
      "Starting week_14...\n",
      "Starting week_15...\n",
      "Starting week_16...\n",
      "Starting week_17...\n",
      "Starting week_pr_03...\n",
      "Starting week_18...\n",
      "Starting week_19...\n",
      "Starting week_20...\n",
      "Starting week_21...\n",
      "Starting week_pr_04...\n",
      "Starting week_22...\n"
     ]
    }
   ],
   "source": [
    "edges_list = []\n",
    "#nodes_list = []\n",
    "\n",
    "for week in week_list:\n",
    "    print(f'Starting {week}...')\n",
    "    f_name = [f for f in os.listdir(DATA_PATH_TT+week) if f.startswith('merged_week')][0]\n",
    "    week_tt_df = pd.read_parquet(DATA_PATH_TT+week+'/'+f_name)\n",
    "    nodes, edges = create_networks(week_tt_df)\n",
    "    #nodes_list.append(nodes)\n",
    "    edges_list.append(edges)"
   ]
  },
  {
   "cell_type": "code",
   "execution_count": 6,
   "id": "b37885de-47c6-40a9-a329-7826561e3be8",
   "metadata": {},
   "outputs": [
    {
     "data": {
      "text/plain": [
       "26"
      ]
     },
     "execution_count": 6,
     "metadata": {},
     "output_type": "execute_result"
    }
   ],
   "source": [
    "len(edges_list)"
   ]
  },
  {
   "cell_type": "code",
   "execution_count": 7,
   "id": "95c1e63a-fbb5-4a6a-abef-c8d1f3674219",
   "metadata": {},
   "outputs": [
    {
     "data": {
      "text/plain": [
       "(1895008, 4)"
      ]
     },
     "execution_count": 7,
     "metadata": {},
     "output_type": "execute_result"
    }
   ],
   "source": [
    "edges_ = pd.concat(edges_list, axis=0)\n",
    "edges_.shape"
   ]
  },
  {
   "cell_type": "code",
   "execution_count": 8,
   "id": "65f4583f-e9f1-4021-b018-6660f6d9ca7a",
   "metadata": {},
   "outputs": [],
   "source": [
    "edges_.to_parquet('data/networks/complete_network_edges.parquet', index=False)"
   ]
  },
  {
   "cell_type": "code",
   "execution_count": 9,
   "id": "b27541c9-a617-4ad3-942d-866940d44d6d",
   "metadata": {},
   "outputs": [
    {
     "data": {
      "text/html": [
       "<div>\n",
       "<style scoped>\n",
       "    .dataframe tbody tr th:only-of-type {\n",
       "        vertical-align: middle;\n",
       "    }\n",
       "\n",
       "    .dataframe tbody tr th {\n",
       "        vertical-align: top;\n",
       "    }\n",
       "\n",
       "    .dataframe thead th {\n",
       "        text-align: right;\n",
       "    }\n",
       "</style>\n",
       "<table border=\"1\" class=\"dataframe\">\n",
       "  <thead>\n",
       "    <tr style=\"text-align: right;\">\n",
       "      <th></th>\n",
       "      <th>Source</th>\n",
       "      <th>Target</th>\n",
       "      <th>LinkType</th>\n",
       "      <th>TweetContent</th>\n",
       "    </tr>\n",
       "  </thead>\n",
       "  <tbody>\n",
       "    <tr>\n",
       "      <th>64885</th>\n",
       "      <td>BRASIL47682154</td>\n",
       "      <td>MarcosRogerio</td>\n",
       "      <td>reply</td>\n",
       "      <td>@MarcosRogerio tirando o foco Renan sabia de t...</td>\n",
       "    </tr>\n",
       "    <tr>\n",
       "      <th>2357</th>\n",
       "      <td>baroninho94</td>\n",
       "      <td>cirogomes</td>\n",
       "      <td>reply</td>\n",
       "      <td>@cirogomes Saiu correndo com o rabo no meio da...</td>\n",
       "    </tr>\n",
       "    <tr>\n",
       "      <th>36338</th>\n",
       "      <td>denizevicente</td>\n",
       "      <td>HBO_Brasil</td>\n",
       "      <td>reply</td>\n",
       "      <td>@HBO_Brasil As melhores? Estão transmitindo a ...</td>\n",
       "    </tr>\n",
       "    <tr>\n",
       "      <th>68636</th>\n",
       "      <td>Leo_Saramago</td>\n",
       "      <td>NatuzaNery</td>\n",
       "      <td>mention</td>\n",
       "      <td>@MarinaSilva - Um manda, o outro obedece. 442....</td>\n",
       "    </tr>\n",
       "    <tr>\n",
       "      <th>39171</th>\n",
       "      <td>adrianerikchave</td>\n",
       "      <td>nikolas_dm</td>\n",
       "      <td>mention</td>\n",
       "      <td>Farei minha contribuição também junto com o @n...</td>\n",
       "    </tr>\n",
       "  </tbody>\n",
       "</table>\n",
       "</div>"
      ],
      "text/plain": [
       "                Source         Target LinkType  \\\n",
       "64885   BRASIL47682154  MarcosRogerio    reply   \n",
       "2357       baroninho94      cirogomes    reply   \n",
       "36338    denizevicente     HBO_Brasil    reply   \n",
       "68636     Leo_Saramago     NatuzaNery  mention   \n",
       "39171  adrianerikchave     nikolas_dm  mention   \n",
       "\n",
       "                                            TweetContent  \n",
       "64885  @MarcosRogerio tirando o foco Renan sabia de t...  \n",
       "2357   @cirogomes Saiu correndo com o rabo no meio da...  \n",
       "36338  @HBO_Brasil As melhores? Estão transmitindo a ...  \n",
       "68636  @MarinaSilva - Um manda, o outro obedece. 442....  \n",
       "39171  Farei minha contribuição também junto com o @n...  "
      ]
     },
     "execution_count": 9,
     "metadata": {},
     "output_type": "execute_result"
    }
   ],
   "source": [
    "edges_.sample(5)"
   ]
  },
  {
   "cell_type": "code",
   "execution_count": 9,
   "id": "55b8fb3f-b6d2-4986-bbbc-d38e82482d2b",
   "metadata": {},
   "outputs": [],
   "source": [
    "#nodes_ = pd.concat(nodes_list, axis=0)\n",
    "#nodes_.drop_duplicates(subset=['TtId'], keep='last', ignore_index=True, inplace=True)\n",
    "#nodes_.shape"
   ]
  },
  {
   "cell_type": "code",
   "execution_count": 10,
   "id": "29c5de75-52da-4122-b42c-687673e47f8a",
   "metadata": {},
   "outputs": [],
   "source": [
    "#nodes_.tail()"
   ]
  },
  {
   "cell_type": "code",
   "execution_count": 11,
   "id": "4d132214-1ab8-48b0-8107-f159f519495b",
   "metadata": {},
   "outputs": [],
   "source": [
    "#G, G_quoted, G_rtweet, G_reply, G_mention = df_2_networkx(nodes_, edges_)"
   ]
  },
  {
   "cell_type": "code",
   "execution_count": 13,
   "id": "e3ce9155-d0f0-4a13-b49f-f2247c2a1e4b",
   "metadata": {},
   "outputs": [
    {
     "data": {
      "text/plain": [
       "(1878862, 4)"
      ]
     },
     "execution_count": 13,
     "metadata": {},
     "output_type": "execute_result"
    }
   ],
   "source": [
    "edges = pd.read_parquet('data/networks/complete_network_edges.parquet')\n",
    "edges.shape"
   ]
  },
  {
   "cell_type": "code",
   "execution_count": 10,
   "id": "1f7bab1a-9c73-4d4d-ae45-d6b142cd7222",
   "metadata": {},
   "outputs": [
    {
     "data": {
      "text/html": [
       "<div>\n",
       "<style scoped>\n",
       "    .dataframe tbody tr th:only-of-type {\n",
       "        vertical-align: middle;\n",
       "    }\n",
       "\n",
       "    .dataframe tbody tr th {\n",
       "        vertical-align: top;\n",
       "    }\n",
       "\n",
       "    .dataframe thead th {\n",
       "        text-align: right;\n",
       "    }\n",
       "</style>\n",
       "<table border=\"1\" class=\"dataframe\">\n",
       "  <thead>\n",
       "    <tr style=\"text-align: right;\">\n",
       "      <th></th>\n",
       "      <th>Source</th>\n",
       "      <th>Target</th>\n",
       "      <th>LinkType</th>\n",
       "      <th>TweetContent</th>\n",
       "    </tr>\n",
       "  </thead>\n",
       "  <tbody>\n",
       "    <tr>\n",
       "      <th>545964</th>\n",
       "      <td>Costa59Beto</td>\n",
       "      <td>gazeta</td>\n",
       "      <td>mention</td>\n",
       "      <td>Randolfe: A GAZELA SALTITANTE ‘Impeachment de ...</td>\n",
       "    </tr>\n",
       "    <tr>\n",
       "      <th>152250</th>\n",
       "      <td>assumpcao_fabio</td>\n",
       "      <td>TSEjusbr</td>\n",
       "      <td>reply</td>\n",
       "      <td>@TSEjusbr Nivelando por baixo... #VotoImpresso...</td>\n",
       "    </tr>\n",
       "    <tr>\n",
       "      <th>162413</th>\n",
       "      <td>vinnybrandt</td>\n",
       "      <td>arrobajulimaa</td>\n",
       "      <td>reply</td>\n",
       "      <td>@arrobajulimaa @Estadao estou muito surpreso: ...</td>\n",
       "    </tr>\n",
       "    <tr>\n",
       "      <th>1404668</th>\n",
       "      <td>opropriorobert</td>\n",
       "      <td>BrazilFight</td>\n",
       "      <td>reply</td>\n",
       "      <td>@BrazilFight @MarcosCruzeiro5 #BarrosoNaCadeia...</td>\n",
       "    </tr>\n",
       "    <tr>\n",
       "      <th>1402226</th>\n",
       "      <td>ThyaneGG</td>\n",
       "      <td>Rconstantino</td>\n",
       "      <td>reply</td>\n",
       "      <td>@Rconstantino Quero ver ao vivo e a cores #Bar...</td>\n",
       "    </tr>\n",
       "  </tbody>\n",
       "</table>\n",
       "</div>"
      ],
      "text/plain": [
       "                  Source         Target LinkType  \\\n",
       "545964       Costa59Beto         gazeta  mention   \n",
       "152250   assumpcao_fabio       TSEjusbr    reply   \n",
       "162413       vinnybrandt  arrobajulimaa    reply   \n",
       "1404668   opropriorobert    BrazilFight    reply   \n",
       "1402226         ThyaneGG   Rconstantino    reply   \n",
       "\n",
       "                                              TweetContent  \n",
       "545964   Randolfe: A GAZELA SALTITANTE ‘Impeachment de ...  \n",
       "152250   @TSEjusbr Nivelando por baixo... #VotoImpresso...  \n",
       "162413   @arrobajulimaa @Estadao estou muito surpreso: ...  \n",
       "1404668  @BrazilFight @MarcosCruzeiro5 #BarrosoNaCadeia...  \n",
       "1402226  @Rconstantino Quero ver ao vivo e a cores #Bar...  "
      ]
     },
     "execution_count": 10,
     "metadata": {},
     "output_type": "execute_result"
    }
   ],
   "source": [
    "edges.sample(5)"
   ]
  },
  {
   "cell_type": "code",
   "execution_count": 16,
   "id": "1f550043-2a4b-445e-ad97-14b9a5f971f7",
   "metadata": {},
   "outputs": [],
   "source": [
    "G, G_quoted, G_rtweet, G_reply, G_mention = df_2_networkx_2(edges)"
   ]
  },
  {
   "cell_type": "code",
   "execution_count": 17,
   "id": "8a854fca-b972-41c3-a137-51eb35581ca6",
   "metadata": {},
   "outputs": [
    {
     "data": {
      "text/plain": [
       "[('ptribeirao', {}),\n",
       " ('AAMachadoRP', {}),\n",
       " ('erregege1', {}),\n",
       " ('googlenews', {}),\n",
       " ('noemi_nk', {})]"
      ]
     },
     "execution_count": 17,
     "metadata": {},
     "output_type": "execute_result"
    }
   ],
   "source": [
    "list(G.nodes(data=True))[:5]"
   ]
  },
  {
   "cell_type": "code",
   "execution_count": 18,
   "id": "d35d858e-08ea-4599-a1e8-f988bb0096a6",
   "metadata": {},
   "outputs": [
    {
     "data": {
      "text/plain": [
       "(301981, 1298516)"
      ]
     },
     "execution_count": 18,
     "metadata": {},
     "output_type": "execute_result"
    }
   ],
   "source": [
    "len(G.nodes()), len(G.edges())"
   ]
  },
  {
   "cell_type": "code",
   "execution_count": 19,
   "id": "747bd150-a8df-4050-8507-8a0212eb2c72",
   "metadata": {},
   "outputs": [
    {
     "data": {
      "text/plain": [
       "(113357, 368795)"
      ]
     },
     "execution_count": 19,
     "metadata": {},
     "output_type": "execute_result"
    }
   ],
   "source": [
    "len(G_quoted.nodes()), len(G_quoted.edges())"
   ]
  },
  {
   "cell_type": "code",
   "execution_count": 20,
   "id": "9e0f87fb-93b2-42a6-b079-75dda91257a6",
   "metadata": {},
   "outputs": [
    {
     "data": {
      "text/plain": [
       "(206971, 749304)"
      ]
     },
     "execution_count": 20,
     "metadata": {},
     "output_type": "execute_result"
    }
   ],
   "source": [
    "len(G_reply.nodes()), len(G_reply.edges())"
   ]
  },
  {
   "cell_type": "code",
   "execution_count": 21,
   "id": "9bf131df-7637-48be-b5d0-cb4c2a69cfc6",
   "metadata": {},
   "outputs": [
    {
     "data": {
      "text/plain": [
       "(88205, 231094)"
      ]
     },
     "execution_count": 21,
     "metadata": {},
     "output_type": "execute_result"
    }
   ],
   "source": [
    "len(G_mention.nodes()), len(G_mention.edges())"
   ]
  },
  {
   "cell_type": "code",
   "execution_count": 22,
   "id": "5c0f429f-37b7-4b5f-a030-ae688571564f",
   "metadata": {},
   "outputs": [],
   "source": [
    "G.remove_nodes_from(list(nx.isolates(G)))\n",
    "G_quoted.remove_nodes_from(list(nx.isolates(G_quoted)))\n",
    "G_reply.remove_nodes_from(list(nx.isolates(G_reply)))\n",
    "G_mention.remove_nodes_from(list(nx.isolates(G_mention)))"
   ]
  },
  {
   "cell_type": "code",
   "execution_count": 23,
   "id": "123cee69-b36e-4dfc-9f07-04eea0545cc6",
   "metadata": {},
   "outputs": [
    {
     "data": {
      "text/plain": [
       "(301981, 1298516)"
      ]
     },
     "execution_count": 23,
     "metadata": {},
     "output_type": "execute_result"
    }
   ],
   "source": [
    "len(G.nodes()), len(G.edges())"
   ]
  },
  {
   "cell_type": "code",
   "execution_count": 24,
   "id": "15ef9807-0883-49a1-ba51-b0208a33497a",
   "metadata": {},
   "outputs": [
    {
     "data": {
      "text/plain": [
       "(113357, 368795)"
      ]
     },
     "execution_count": 24,
     "metadata": {},
     "output_type": "execute_result"
    }
   ],
   "source": [
    "len(G_quoted.nodes()), len(G_quoted.edges())"
   ]
  },
  {
   "cell_type": "code",
   "execution_count": 25,
   "id": "693bf639-aa6a-4c19-af84-3eaabcd58b65",
   "metadata": {},
   "outputs": [
    {
     "data": {
      "text/plain": [
       "(206971, 749304)"
      ]
     },
     "execution_count": 25,
     "metadata": {},
     "output_type": "execute_result"
    }
   ],
   "source": [
    "len(G_reply.nodes()), len(G_reply.edges())"
   ]
  },
  {
   "cell_type": "code",
   "execution_count": 26,
   "id": "939888b9-6e15-4907-a449-c33338fa916f",
   "metadata": {},
   "outputs": [
    {
     "data": {
      "text/plain": [
       "(88205, 231094)"
      ]
     },
     "execution_count": 26,
     "metadata": {},
     "output_type": "execute_result"
    }
   ],
   "source": [
    "len(G_mention.nodes()), len(G_mention.edges())"
   ]
  },
  {
   "cell_type": "code",
   "execution_count": 27,
   "id": "ca79d68b-f204-4970-a242-4c14b8e6de0d",
   "metadata": {},
   "outputs": [],
   "source": [
    "nx.write_gexf(G, DATA_PATH_NT+'complete_network.gexf')\n",
    "nx.write_gexf(G_quoted, DATA_PATH_NT+'quoted_network.gexf')\n",
    "nx.write_gexf(G_reply, DATA_PATH_NT+'reply_network.gexf')\n",
    "nx.write_gexf(G_mention, DATA_PATH_NT+'mention_network.gexf')"
   ]
  },
  {
   "cell_type": "code",
   "execution_count": 28,
   "id": "4a6f52cd-4ad3-4cd4-973a-7e18c2455ee0",
   "metadata": {},
   "outputs": [
    {
     "data": {
      "text/plain": [
       "[('ptribeirao', 'AAMachadoRP', {'weight': 12281}),\n",
       " ('erregege1', 'googlenews', {'weight': 358}),\n",
       " ('erregege1', 'randolfeap', {'weight': 1}),\n",
       " ('noemi_nk', 'o_antagonista', {'weight': 332}),\n",
       " ('noemi_nk', 'diogomainardi', {'weight': 131}),\n",
       " ('noemi_nk', 'claudioedantas', {'weight': 87}),\n",
       " ('noemi_nk', 'Diego1Amorim', {'weight': 32}),\n",
       " ('noemi_nk', 'RevistaCrusoe', {'weight': 28}),\n",
       " ('noemi_nk', 'VemPraRua_br', {'weight': 14}),\n",
       " ('noemi_nk', 'blogdojosias', {'weight': 13})]"
      ]
     },
     "execution_count": 28,
     "metadata": {},
     "output_type": "execute_result"
    }
   ],
   "source": [
    "list(G.edges(data=True))[:10]"
   ]
  },
  {
   "cell_type": "code",
   "execution_count": 29,
   "id": "52f624bb-d86d-4b8f-bf80-75c480a017b6",
   "metadata": {},
   "outputs": [
    {
     "data": {
      "text/plain": [
       "[('jairbolsonaro', 21895),\n",
       " ('OmarAzizSenador', 18923),\n",
       " ('randolfeap', 15265),\n",
       " ('taoquei1', 15027),\n",
       " ('CarlaZambelli38', 12095),\n",
       " ('renancalheiros', 10693),\n",
       " ('kimpaim', 10201),\n",
       " ('MarcosRogerio', 9335),\n",
       " ('Rconstantino', 9215),\n",
       " ('SenadoFederal', 8659),\n",
       " ('BolsonaroSP', 7826),\n",
       " ('folha', 7811),\n",
       " ('senadorhumberto', 7724),\n",
       " ('UOLNoticias', 7384),\n",
       " ('CNNBrasil', 6488),\n",
       " ('ArthurLira_', 6471),\n",
       " ('Metropoles', 6267),\n",
       " ('MidiaNINJA', 5837),\n",
       " ('CarlosBolsonaro', 5638),\n",
       " ('Sen_Alessandro', 5612)]"
      ]
     },
     "execution_count": 29,
     "metadata": {},
     "output_type": "execute_result"
    }
   ],
   "source": [
    "sorted(G.in_degree, key=lambda x: x[1], reverse=True)[:20]"
   ]
  },
  {
   "cell_type": "code",
   "execution_count": 30,
   "id": "8a459745-e990-4f79-8e66-1eaec1956354",
   "metadata": {},
   "outputs": [
    {
     "data": {
      "text/plain": [
       "[('taoquei1', 4486),\n",
       " ('Metropoles', 3823),\n",
       " ('CarlaZambelli38', 3814),\n",
       " ('MidiaNINJA', 3742),\n",
       " ('kimpaim', 3604),\n",
       " ('jairbolsonaro', 3293),\n",
       " ('folha', 2701),\n",
       " ('Rconstantino', 2528),\n",
       " ('randolfeap', 2233),\n",
       " ('UOLNoticias', 2134),\n",
       " ('BolsonaroSP', 1927),\n",
       " ('Estadao', 1920),\n",
       " ('ALLuSapelli', 1873),\n",
       " ('MarceloFreixo', 1830),\n",
       " ('Biakicis', 1826),\n",
       " ('GuilhermeBoulos', 1794),\n",
       " ('desmentindobozo', 1716),\n",
       " ('bolsomito_2', 1660),\n",
       " ('jairmearrependi', 1630),\n",
       " ('g1', 1590)]"
      ]
     },
     "execution_count": 30,
     "metadata": {},
     "output_type": "execute_result"
    }
   ],
   "source": [
    "sorted(G_quoted.in_degree, key=lambda x: x[1], reverse=True)[:20]"
   ]
  },
  {
   "cell_type": "code",
   "execution_count": 31,
   "id": "8f4f5bb6-0e46-4704-b503-53eb78516aec",
   "metadata": {},
   "outputs": [
    {
     "data": {
      "text/plain": [
       "[('taoquei1', 11353),\n",
       " ('jairbolsonaro', 10170),\n",
       " ('OmarAzizSenador', 9951),\n",
       " ('CarlaZambelli38', 8081),\n",
       " ('kimpaim', 6931),\n",
       " ('Rconstantino', 6868),\n",
       " ('randolfeap', 6661),\n",
       " ('SenadoFederal', 5795),\n",
       " ('BolsonaroSP', 5398),\n",
       " ('folha', 4982),\n",
       " ('UOLNoticias', 4726),\n",
       " ('senadorhumberto', 4695),\n",
       " ('o_antagonista', 4605),\n",
       " ('MarcosRogerio', 4392),\n",
       " ('CNNBrasil', 4112),\n",
       " ('CarlosBolsonaro', 3867),\n",
       " ('Jouberth19', 3801),\n",
       " ('profpaulamarisa', 3690),\n",
       " ('LaurinhaIronic', 3676),\n",
       " ('MarceloFreixo', 3546)]"
      ]
     },
     "execution_count": 31,
     "metadata": {},
     "output_type": "execute_result"
    }
   ],
   "source": [
    "sorted(G_reply.in_degree, key=lambda x: x[1], reverse=True)[:20]"
   ]
  },
  {
   "cell_type": "code",
   "execution_count": 32,
   "id": "da43d9ef-0f4c-4c55-a3fe-7968033ae75c",
   "metadata": {},
   "outputs": [
    {
     "data": {
      "text/plain": [
       "[('jairbolsonaro', 11039),\n",
       " ('OmarAzizSenador', 10056),\n",
       " ('randolfeap', 8279),\n",
       " ('renancalheiros', 7554),\n",
       " ('MarcosRogerio', 4387),\n",
       " ('ArthurLira_', 3763),\n",
       " ('YouTube', 3639),\n",
       " ('SenadoFederal', 3124),\n",
       " ('SimoneTebetms', 3023),\n",
       " ('Sen_Alessandro', 2931),\n",
       " ('ottoalencar', 2698),\n",
       " ('senadorhumberto', 2602),\n",
       " ('LulaOficial', 2478),\n",
       " ('STF_oficial', 2379),\n",
       " ('ContaratoSenado', 2349),\n",
       " ('FlavioBolsonaro', 2247),\n",
       " ('elizianegama', 2051),\n",
       " ('rpsenador', 1982),\n",
       " ('EduGiraoOficial', 1843),\n",
       " ('SenadorRogerio', 1770)]"
      ]
     },
     "execution_count": 32,
     "metadata": {},
     "output_type": "execute_result"
    }
   ],
   "source": [
    "sorted(G_mention.in_degree, key=lambda x: x[1], reverse=True)[:20]"
   ]
  },
  {
   "cell_type": "code",
   "execution_count": 32,
   "id": "92f6dc08-4af5-4f9a-a280-04383ba4680b",
   "metadata": {},
   "outputs": [],
   "source": [
    "#all_nodes = []\n",
    "\n",
    "#for u, d in list(G.nodes(data=True)):\n",
    "    #all_nodes.append((u, d['displayname'], d['tt_id'], d['description']))\n",
    "#    all_nodes.append((u, d['username'], d['displayname'], d['description']))\n",
    "    \n",
    "#all_nodes_df = pd.DataFrame(all_nodes, columns=['user', 'username', 'user_id', 'description'])\n",
    "#all_nodes_df = pd.DataFrame(all_nodes, columns=['user_id', 'username', 'displayname', 'description'])\n",
    "#all_nodes_df.to_csv(DATA_PATH_NT+'all_nodes.csv', index=False)"
   ]
  },
  {
   "cell_type": "markdown",
   "id": "b3dcb7b6-8d5d-476c-863c-caa0400fe993",
   "metadata": {},
   "source": [
    "### User Weekly Participation"
   ]
  },
  {
   "cell_type": "code",
   "execution_count": null,
   "id": "175fdfc8-2be5-460c-bf6b-9ee6157b26b1",
   "metadata": {},
   "outputs": [],
   "source": [
    "from IPython.display import clear_output, display\n",
    "\n",
    "nodes_list = nodes['Id'].values.tolist()\n",
    "user_count_list = []\n",
    "\n",
    "for usrname in nodes_list:\n",
    "    count = 0\n",
    "    for week in week_list:\n",
    "        clear_output(wait=True)\n",
    "        print(f'User: {usrname} - week: {week}')\n",
    "        week_nodes = pd.read_parquet(DATA_PATH_NT+f'{week}/{week}_node_list.parquet')\n",
    "        if usrname in week_nodes['Id'].values.tolist():\n",
    "            count+=1\n",
    "    user_count_list.append(count)"
   ]
  },
  {
   "cell_type": "markdown",
   "id": "b2096ecb-9e95-4eb4-ba1d-3a898845e842",
   "metadata": {},
   "source": [
    "## Community Detection"
   ]
  },
  {
   "cell_type": "code",
   "execution_count": 2,
   "id": "0de043b5-ea97-41a6-a6d5-13c88922a26f",
   "metadata": {},
   "outputs": [],
   "source": [
    "from networkx.algorithms.community.centrality import girvan_newman\n",
    "from networkx.algorithms.community.modularity_max import greedy_modularity_communities\n",
    "from networkx.algorithms.community.label_propagation import asyn_lpa_communities\n",
    "\n",
    "#comm_grivan = list(girvan_newman(G))"
   ]
  },
  {
   "cell_type": "code",
   "execution_count": 6,
   "id": "6789609e-b5a5-4402-af54-e8de9d4a0407",
   "metadata": {},
   "outputs": [],
   "source": [
    "G = nx.read_gexf(DATA_PATH_NT+'complete_network.gexf')\n",
    "G_quoted = nx.read_gexf(DATA_PATH_NT+'quoted_network.gexf')\n",
    "G_reply = nx.read_gexf(DATA_PATH_NT+'reply_network.gexf')\n",
    "G_mention = nx.read_gexf(DATA_PATH_NT+'mention_network.gexf')"
   ]
  },
  {
   "cell_type": "code",
   "execution_count": 7,
   "id": "f8868f4c-6bbf-428b-ba9b-2adc02851816",
   "metadata": {},
   "outputs": [
    {
     "ename": "KeyboardInterrupt",
     "evalue": "",
     "output_type": "error",
     "traceback": [
      "\u001b[0;31m---------------------------------------------------------------------------\u001b[0m",
      "\u001b[0;31mAttributeError\u001b[0m                            Traceback (most recent call last)",
      "File \u001b[0;32m~/anaconda3/envs/twitter-cpi/lib/python3.9/site-packages/networkx/utils/mapped_queue.py:61\u001b[0m, in \u001b[0;36m_HeapElement.__eq__\u001b[0;34m(self, other)\u001b[0m\n\u001b[1;32m     60\u001b[0m \u001b[38;5;28;01mtry\u001b[39;00m:\n\u001b[0;32m---> 61\u001b[0m     \u001b[38;5;28;01mreturn\u001b[39;00m \u001b[38;5;28mself\u001b[39m\u001b[38;5;241m.\u001b[39melement \u001b[38;5;241m==\u001b[39m \u001b[43mother\u001b[49m\u001b[38;5;241;43m.\u001b[39;49m\u001b[43melement\u001b[49m\n\u001b[1;32m     62\u001b[0m \u001b[38;5;28;01mexcept\u001b[39;00m \u001b[38;5;167;01mAttributeError\u001b[39;00m:\n",
      "\u001b[0;31mAttributeError\u001b[0m: 'tuple' object has no attribute 'element'",
      "\nDuring handling of the above exception, another exception occurred:\n",
      "\u001b[0;31mKeyboardInterrupt\u001b[0m                         Traceback (most recent call last)",
      "Input \u001b[0;32mIn [7]\u001b[0m, in \u001b[0;36m<cell line: 1>\u001b[0;34m()\u001b[0m\n\u001b[0;32m----> 1\u001b[0m comm_modularity \u001b[38;5;241m=\u001b[39m \u001b[38;5;28mlist\u001b[39m(\u001b[43mgreedy_modularity_communities\u001b[49m\u001b[43m(\u001b[49m\u001b[43mG_reply\u001b[49m\u001b[43m,\u001b[49m\u001b[43m \u001b[49m\u001b[43mweight\u001b[49m\u001b[38;5;241;43m=\u001b[39;49m\u001b[38;5;124;43m'\u001b[39;49m\u001b[38;5;124;43mweight\u001b[39;49m\u001b[38;5;124;43m'\u001b[39;49m\u001b[43m)\u001b[49m)\n",
      "File \u001b[0;32m~/anaconda3/envs/twitter-cpi/lib/python3.9/site-packages/networkx/algorithms/community/modularity_max.py:190\u001b[0m, in \u001b[0;36mgreedy_modularity_communities\u001b[0;34m(G, weight, resolution, n_communities)\u001b[0m\n\u001b[1;32m    187\u001b[0m \u001b[38;5;66;03m# Save old value for finding heap index\u001b[39;00m\n\u001b[1;32m    188\u001b[0m \u001b[38;5;28;01mif\u001b[39;00m w \u001b[38;5;129;01min\u001b[39;00m v_nbrs:\n\u001b[1;32m    189\u001b[0m     \u001b[38;5;66;03m# Update existing element in per-row heap\u001b[39;00m\n\u001b[0;32m--> 190\u001b[0m     \u001b[43mdq_heap_row\u001b[49m\u001b[38;5;241;43m.\u001b[39;49m\u001b[43mupdate\u001b[49m\u001b[43m(\u001b[49m\u001b[43md\u001b[49m\u001b[43m,\u001b[49m\u001b[43m \u001b[49m\u001b[43md\u001b[49m\u001b[43m,\u001b[49m\u001b[43m \u001b[49m\u001b[43mpriority\u001b[49m\u001b[38;5;241;43m=\u001b[39;49m\u001b[43md_negdq\u001b[49m\u001b[43m)\u001b[49m\n\u001b[1;32m    191\u001b[0m \u001b[38;5;28;01melse\u001b[39;00m:\n\u001b[1;32m    192\u001b[0m     \u001b[38;5;66;03m# We're creating a new nonzero element, add to heap\u001b[39;00m\n\u001b[1;32m    193\u001b[0m     dq_heap_row\u001b[38;5;241m.\u001b[39mpush(d, priority\u001b[38;5;241m=\u001b[39md_negdq)\n",
      "File \u001b[0;32m~/anaconda3/envs/twitter-cpi/lib/python3.9/site-packages/networkx/utils/mapped_queue.py:182\u001b[0m, in \u001b[0;36mMappedQueue.update\u001b[0;34m(self, elt, new, priority)\u001b[0m\n\u001b[1;32m    180\u001b[0m     new \u001b[38;5;241m=\u001b[39m _HeapElement(priority, new)\n\u001b[1;32m    181\u001b[0m \u001b[38;5;66;03m# Replace\u001b[39;00m\n\u001b[0;32m--> 182\u001b[0m pos \u001b[38;5;241m=\u001b[39m \u001b[38;5;28;43mself\u001b[39;49m\u001b[38;5;241;43m.\u001b[39;49m\u001b[43mposition\u001b[49m\u001b[43m[\u001b[49m\u001b[43melt\u001b[49m\u001b[43m]\u001b[49m\n\u001b[1;32m    183\u001b[0m \u001b[38;5;28mself\u001b[39m\u001b[38;5;241m.\u001b[39mheap[pos] \u001b[38;5;241m=\u001b[39m new\n\u001b[1;32m    184\u001b[0m \u001b[38;5;28;01mdel\u001b[39;00m \u001b[38;5;28mself\u001b[39m\u001b[38;5;241m.\u001b[39mposition[elt]\n",
      "File \u001b[0;32m~/anaconda3/envs/twitter-cpi/lib/python3.9/site-packages/networkx/utils/mapped_queue.py:61\u001b[0m, in \u001b[0;36m_HeapElement.__eq__\u001b[0;34m(self, other)\u001b[0m\n\u001b[1;32m     59\u001b[0m \u001b[38;5;28;01mdef\u001b[39;00m \u001b[38;5;21m__eq__\u001b[39m(\u001b[38;5;28mself\u001b[39m, other):\n\u001b[1;32m     60\u001b[0m     \u001b[38;5;28;01mtry\u001b[39;00m:\n\u001b[0;32m---> 61\u001b[0m         \u001b[38;5;28;01mreturn\u001b[39;00m \u001b[38;5;28mself\u001b[39m\u001b[38;5;241m.\u001b[39melement \u001b[38;5;241m==\u001b[39m \u001b[43mother\u001b[49m\u001b[38;5;241;43m.\u001b[39;49m\u001b[43melement\u001b[49m\n\u001b[1;32m     62\u001b[0m     \u001b[38;5;28;01mexcept\u001b[39;00m \u001b[38;5;167;01mAttributeError\u001b[39;00m:\n\u001b[1;32m     63\u001b[0m         \u001b[38;5;28;01mreturn\u001b[39;00m \u001b[38;5;28mself\u001b[39m\u001b[38;5;241m.\u001b[39melement \u001b[38;5;241m==\u001b[39m other\n",
      "\u001b[0;31mKeyboardInterrupt\u001b[0m: "
     ]
    }
   ],
   "source": [
    "comm_modularity = list(greedy_modularity_communities(G_reply, weight='weight'))"
   ]
  },
  {
   "cell_type": "code",
   "execution_count": null,
   "id": "0392cfc3-ec3a-4905-bf48-7d76482d8dbd",
   "metadata": {},
   "outputs": [],
   "source": [
    "len(comm_modularity)"
   ]
  },
  {
   "cell_type": "code",
   "execution_count": null,
   "id": "284c4818-5268-4c76-9937-854dd23b0065",
   "metadata": {},
   "outputs": [],
   "source": [
    "comm_label_prop =  list(asyn_lpa_communities(G, weight='weight', seed=None))"
   ]
  },
  {
   "cell_type": "code",
   "execution_count": null,
   "id": "7afcced6-c2e1-4916-b645-3a501e84f48e",
   "metadata": {},
   "outputs": [],
   "source": [
    "len(comm_grivan)"
   ]
  },
  {
   "cell_type": "code",
   "execution_count": null,
   "id": "bc81946a-e1fe-424b-8dc7-0fd803b480c0",
   "metadata": {},
   "outputs": [],
   "source": [
    "len(comm_label_prop)"
   ]
  },
  {
   "cell_type": "code",
   "execution_count": null,
   "id": "c32843d3-0be5-45d1-98b4-cfa927c4fefd",
   "metadata": {},
   "outputs": [],
   "source": []
  }
 ],
 "metadata": {
  "kernelspec": {
   "display_name": "Python 3 (ipykernel)",
   "language": "python",
   "name": "python3"
  },
  "language_info": {
   "codemirror_mode": {
    "name": "ipython",
    "version": 3
   },
   "file_extension": ".py",
   "mimetype": "text/x-python",
   "name": "python",
   "nbconvert_exporter": "python",
   "pygments_lexer": "ipython3",
   "version": "3.9.12"
  }
 },
 "nbformat": 4,
 "nbformat_minor": 5
}

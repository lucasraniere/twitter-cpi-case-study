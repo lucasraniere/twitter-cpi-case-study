{
 "cells": [
  {
   "cell_type": "markdown",
   "id": "a7e2d038-49f9-4769-9cf6-ca1b2729d555",
   "metadata": {},
   "source": [
    "# __All Period CPI SNA__"
   ]
  },
  {
   "cell_type": "code",
   "execution_count": 1,
   "id": "584e8878-9a10-4240-b59d-58ec2836931e",
   "metadata": {},
   "outputs": [],
   "source": [
    "import pandas as pd\n",
    "import networkx as nx\n",
    "import os, datetime"
   ]
  },
  {
   "cell_type": "code",
   "execution_count": 2,
   "id": "32e2cd7e-f6d9-477f-96d5-5e7ab966fdd4",
   "metadata": {},
   "outputs": [],
   "source": [
    "DATA_PATH_TT = 'data/tweets/'\n",
    "DATA_PATH_NT = 'data/networks/'\n",
    "\n",
    "nodes_ = pd.read_csv(DATA_PATH_NT+'all_nodes.csv')"
   ]
  },
  {
   "cell_type": "code",
   "execution_count": 3,
   "id": "4285ccab-768e-43ca-8a77-40a914026388",
   "metadata": {},
   "outputs": [],
   "source": [
    "def create_networks(tweets_df):\n",
    "    nodes = []\n",
    "    edges = []\n",
    "    for u, rt, qrt, ir, mu in tweets_df[['user', 'retweetedTweet', 'quotedTweet', 'inReplyToUser', 'mentionedUsers']].values:\n",
    "        user = eval(u)\n",
    "        retweeted = eval(rt)\n",
    "        quoted = eval(qrt)\n",
    "        in_reply = eval(ir)\n",
    "        mentioned = eval(mu)\n",
    "        nodes.append((user['username'], user['displayname'], user['description'], user['id']))\n",
    "        if retweeted:\n",
    "            if user['username'] != retweeted['user']['username']:\n",
    "                edges.append((user['username'], retweeted['user']['username'], 'retweet'))\n",
    "                nodes.append((retweeted['user']['username'], retweeted['user']['displayname'], retweeted['user']['description'], retweeted['user']['id']))\n",
    "        if quoted:\n",
    "            if user['username'] != quoted['user']['username']:\n",
    "                edges.append((user['username'], quoted['user']['username'], 'quoted_rt'))\n",
    "                nodes.append((quoted['user']['username'], quoted['user']['displayname'], quoted['user']['description'], quoted['user']['id']))\n",
    "        if in_reply:\n",
    "            if user['username'] != in_reply['username']:\n",
    "                edges.append((user['username'], in_reply['username'], 'reply'))\n",
    "                nodes.append((in_reply['username'], in_reply['displayname'], in_reply['description'], in_reply['id']))\n",
    "        if mentioned:\n",
    "            for r_user in mentioned:\n",
    "                if user['username'] != r_user['username']:\n",
    "                    edges.append((user['username'], r_user['username'], 'mention'))\n",
    "                    nodes.append((r_user['username'], r_user['displayname'], r_user['description'], r_user['id']))\n",
    "                \n",
    "    nodes_df = pd.DataFrame(nodes, columns=['Id', 'DisplayName', 'Description', 'TtId'])\n",
    "    edges_df = pd.DataFrame(edges, columns=['Source', 'Target', 'LinkType'])\n",
    "    nodes_df.drop_duplicates(subset=['TtId'], keep='last', ignore_index=True, inplace=True)\n",
    "    \n",
    "    return nodes_df, edges_df\n",
    "\n",
    "def df_2_networkx(nodes, edges):\n",
    "    w_edges = []\n",
    "    G = nx.DiGraph()\n",
    "    for usr, disp_n, desc, tt_id in nodes.values:\n",
    "        G.add_node(str(usr), displayname=str(disp_n), description=str(desc if desc else ''), tt_id=tt_id)\n",
    "        #G.add_node(tt_id, username=str(usr), displayname=str(disp_n), description=str(desc if desc else 'None'))\n",
    "    edges_tuples = [tuple(x) for x in edges.to_numpy()]\n",
    "    edges_count = pd.Series(edges_tuples).value_counts()\n",
    "    for i in range(edges_count.shape[0]):\n",
    "        w_edges.append(edges_count.index[i]+(edges_count.values[i],))\n",
    "    for edge in w_edges:\n",
    "        G.add_edge(str(edge[0]), str(edge[1]), interac_type=str(edge[2]), weight=int(edge[3]))\n",
    "        \n",
    "    G_quoted = nx.DiGraph([(u, v, e) for u,v,e in G.edges(data=True) if e['interac_type'] == 'quoted_rt'])\n",
    "    G_rtweet = nx.DiGraph([(u, v, e) for u,v,e in G.edges(data=True) if e['interac_type'] == 'retweeted'])\n",
    "    G_reply = nx.DiGraph([(u, v, e) for u,v,e in G.edges(data=True) if e['interac_type'] == 'reply'])\n",
    "    G_mention = nx.DiGraph([(u, v, e) for u,v,e in G.edges(data=True) if e['interac_type'] == 'mention'])\n",
    "    \n",
    "    return G, G_quoted, G_rtweet, G_reply, G_mention"
   ]
  },
  {
   "cell_type": "code",
   "execution_count": 4,
   "id": "da141721-0f9e-4c08-90af-48965f2c1f71",
   "metadata": {},
   "outputs": [
    {
     "name": "stdout",
     "output_type": "stream",
     "text": [
      "['week_01', 'week_02', 'week_03', 'week_04', 'week_05', 'week_06', 'week_07', 'week_08', 'week_09', 'week_10', 'week_11', 'week_12', 'week_pr_01', 'week_pr_02', 'week_13', 'week_14', 'week_15', 'week_16', 'week_17', 'week_pr_03', 'week_18', 'week_19', 'week_20', 'week_21', 'week_pr_04', 'week_22']\n"
     ]
    }
   ],
   "source": [
    "week_list = [week_dir for week_dir in os.listdir(DATA_PATH_TT) if os.path.isdir(DATA_PATH_TT+week_dir) and not week_dir.endswith('.ipynb_checkpoints')]\n",
    "\n",
    "week_list.sort()\n",
    "week_list.remove('week_pr_01')\n",
    "week_list.insert(week_list.index('week_12')+1, 'week_pr_01')\n",
    "week_list.remove('week_pr_02')\n",
    "week_list.insert(week_list.index('week_pr_01')+1, 'week_pr_02')\n",
    "week_list.remove('week_pr_03')\n",
    "week_list.insert(week_list.index('week_17')+1, 'week_pr_03')\n",
    "week_list.remove('week_pr_04')\n",
    "week_list.insert(week_list.index('week_21')+1, 'week_pr_04')\n",
    "#week_list.remove('week_22')\n",
    "\n",
    "print(week_list)"
   ]
  },
  {
   "cell_type": "code",
   "execution_count": 5,
   "id": "2e2b8551-c53b-4f56-91d5-dff0c6e5a5f1",
   "metadata": {},
   "outputs": [
    {
     "name": "stdout",
     "output_type": "stream",
     "text": [
      "Starting week_01...\n",
      "Starting week_02...\n",
      "Starting week_03...\n",
      "Starting week_04...\n",
      "Starting week_05...\n",
      "Starting week_06...\n",
      "Starting week_07...\n",
      "Starting week_08...\n",
      "Starting week_09...\n",
      "Starting week_10...\n",
      "Starting week_11...\n",
      "Starting week_12...\n",
      "Starting week_pr_01...\n",
      "Starting week_pr_02...\n",
      "Starting week_13...\n",
      "Starting week_14...\n",
      "Starting week_15...\n",
      "Starting week_16...\n",
      "Starting week_17...\n",
      "Starting week_pr_03...\n",
      "Starting week_18...\n",
      "Starting week_19...\n",
      "Starting week_20...\n",
      "Starting week_21...\n",
      "Starting week_pr_04...\n",
      "Starting week_22...\n"
     ]
    }
   ],
   "source": [
    "edges_list = []\n",
    "#nodes_list = []\n",
    "\n",
    "for week in week_list:\n",
    "    print(f'Starting {week}...')\n",
    "    f_name = [f for f in os.listdir(DATA_PATH_TT+week) if f.startswith('merged_week')][0]\n",
    "    week_tt_df = pd.read_parquet(DATA_PATH_TT+week+'/'+f_name)\n",
    "    nodes, edges = create_networks(week_tt_df)\n",
    "    #nodes_list.append(nodes)\n",
    "    edges_list.append(edges)"
   ]
  },
  {
   "cell_type": "code",
   "execution_count": 6,
   "id": "b37885de-47c6-40a9-a329-7826561e3be8",
   "metadata": {},
   "outputs": [
    {
     "data": {
      "text/plain": [
       "26"
      ]
     },
     "execution_count": 6,
     "metadata": {},
     "output_type": "execute_result"
    }
   ],
   "source": [
    "len(edges_list)"
   ]
  },
  {
   "cell_type": "code",
   "execution_count": 7,
   "id": "95c1e63a-fbb5-4a6a-abef-c8d1f3674219",
   "metadata": {},
   "outputs": [
    {
     "data": {
      "text/plain": [
       "(3808645, 3)"
      ]
     },
     "execution_count": 7,
     "metadata": {},
     "output_type": "execute_result"
    }
   ],
   "source": [
    "edges_ = pd.concat(edges_list, axis=0)\n",
    "edges_.shape"
   ]
  },
  {
   "cell_type": "code",
   "execution_count": 8,
   "id": "b27541c9-a617-4ad3-942d-866940d44d6d",
   "metadata": {},
   "outputs": [
    {
     "data": {
      "text/html": [
       "<div>\n",
       "<style scoped>\n",
       "    .dataframe tbody tr th:only-of-type {\n",
       "        vertical-align: middle;\n",
       "    }\n",
       "\n",
       "    .dataframe tbody tr th {\n",
       "        vertical-align: top;\n",
       "    }\n",
       "\n",
       "    .dataframe thead th {\n",
       "        text-align: right;\n",
       "    }\n",
       "</style>\n",
       "<table border=\"1\" class=\"dataframe\">\n",
       "  <thead>\n",
       "    <tr style=\"text-align: right;\">\n",
       "      <th></th>\n",
       "      <th>Source</th>\n",
       "      <th>Target</th>\n",
       "      <th>LinkType</th>\n",
       "    </tr>\n",
       "  </thead>\n",
       "  <tbody>\n",
       "    <tr>\n",
       "      <th>43466</th>\n",
       "      <td>_jeffaugusto</td>\n",
       "      <td>onyxlorenzoni</td>\n",
       "      <td>mention</td>\n",
       "    </tr>\n",
       "    <tr>\n",
       "      <th>43467</th>\n",
       "      <td>noemi_nk</td>\n",
       "      <td>Diego1Amorim</td>\n",
       "      <td>reply</td>\n",
       "    </tr>\n",
       "    <tr>\n",
       "      <th>43468</th>\n",
       "      <td>noemi_nk</td>\n",
       "      <td>Diego1Amorim</td>\n",
       "      <td>mention</td>\n",
       "    </tr>\n",
       "    <tr>\n",
       "      <th>43469</th>\n",
       "      <td>_jeffaugusto</td>\n",
       "      <td>AbrahamWeint</td>\n",
       "      <td>reply</td>\n",
       "    </tr>\n",
       "    <tr>\n",
       "      <th>43470</th>\n",
       "      <td>_jeffaugusto</td>\n",
       "      <td>AbrahamWeint</td>\n",
       "      <td>mention</td>\n",
       "    </tr>\n",
       "  </tbody>\n",
       "</table>\n",
       "</div>"
      ],
      "text/plain": [
       "             Source         Target LinkType\n",
       "43466  _jeffaugusto  onyxlorenzoni  mention\n",
       "43467      noemi_nk   Diego1Amorim    reply\n",
       "43468      noemi_nk   Diego1Amorim  mention\n",
       "43469  _jeffaugusto   AbrahamWeint    reply\n",
       "43470  _jeffaugusto   AbrahamWeint  mention"
      ]
     },
     "execution_count": 8,
     "metadata": {},
     "output_type": "execute_result"
    }
   ],
   "source": [
    "edges_.tail()"
   ]
  },
  {
   "cell_type": "code",
   "execution_count": 9,
   "id": "55b8fb3f-b6d2-4986-bbbc-d38e82482d2b",
   "metadata": {},
   "outputs": [],
   "source": [
    "#nodes_ = pd.concat(nodes_list, axis=0)\n",
    "#nodes_.drop_duplicates(subset=['TtId'], keep='last', ignore_index=True, inplace=True)\n",
    "#nodes_.shape"
   ]
  },
  {
   "cell_type": "code",
   "execution_count": 10,
   "id": "29c5de75-52da-4122-b42c-687673e47f8a",
   "metadata": {},
   "outputs": [],
   "source": [
    "#nodes_.tail()"
   ]
  },
  {
   "cell_type": "code",
   "execution_count": 11,
   "id": "4d132214-1ab8-48b0-8107-f159f519495b",
   "metadata": {},
   "outputs": [],
   "source": [
    "G, G_quoted, G_rtweet, G_reply, G_mention = df_2_networkx(nodes_, edges_)"
   ]
  },
  {
   "cell_type": "code",
   "execution_count": 12,
   "id": "8a854fca-b972-41c3-a137-51eb35581ca6",
   "metadata": {},
   "outputs": [
    {
     "data": {
      "text/plain": [
       "[('seguezaqueu',\n",
       "  {'displayname': 'Zaqueu Castelamary 🏴🏳(SDV ? )',\n",
       "   'description': 'nan',\n",
       "   'tt_id': 1247224168850034694}),\n",
       " ('zaqueusdvPT',\n",
       "  {'displayname': 'Segue de Volta Esquerdistas ?',\n",
       "   'description': 'nan',\n",
       "   'tt_id': 1573595167}),\n",
       " ('OSul_noticias',\n",
       "  {'displayname': 'Jornal O Sul', 'description': 'nan', 'tt_id': 3245657679}),\n",
       " ('farah_julioo',\n",
       "  {'displayname': 'Julio Patriota38🇧🇷🇧🇷🇧🇷',\n",
       "   'description': 'nan',\n",
       "   'tt_id': 1164340987071750145}),\n",
       " ('thivagando',\n",
       "  {'displayname': 'Thiago Barreto',\n",
       "   'description': '🏳️\\u200d🌈 O antropólogo que logo sou...\\nPalavras-chave: Gênero e Sexualidade; Estudos Sociais das Ciências; Política; Marcadores Sociais da Diferença.',\n",
       "   'tt_id': 1177650794612563969})]"
      ]
     },
     "execution_count": 12,
     "metadata": {},
     "output_type": "execute_result"
    }
   ],
   "source": [
    "list(G.nodes(data=True))[:5]"
   ]
  },
  {
   "cell_type": "code",
   "execution_count": 13,
   "id": "d35d858e-08ea-4599-a1e8-f988bb0096a6",
   "metadata": {},
   "outputs": [
    {
     "data": {
      "text/plain": [
       "(543334, 1705007)"
      ]
     },
     "execution_count": 13,
     "metadata": {},
     "output_type": "execute_result"
    }
   ],
   "source": [
    "len(G.nodes()), len(G.edges())"
   ]
  },
  {
   "cell_type": "code",
   "execution_count": 14,
   "id": "747bd150-a8df-4050-8507-8a0212eb2c72",
   "metadata": {},
   "outputs": [
    {
     "data": {
      "text/plain": [
       "(112125, 348596)"
      ]
     },
     "execution_count": 14,
     "metadata": {},
     "output_type": "execute_result"
    }
   ],
   "source": [
    "len(G_quoted.nodes()), len(G_quoted.edges())"
   ]
  },
  {
   "cell_type": "code",
   "execution_count": 15,
   "id": "9e0f87fb-93b2-42a6-b079-75dda91257a6",
   "metadata": {},
   "outputs": [
    {
     "data": {
      "text/plain": [
       "(187454, 610747)"
      ]
     },
     "execution_count": 15,
     "metadata": {},
     "output_type": "execute_result"
    }
   ],
   "source": [
    "len(G_reply.nodes()), len(G_reply.edges())"
   ]
  },
  {
   "cell_type": "code",
   "execution_count": 16,
   "id": "9bf131df-7637-48be-b5d0-cb4c2a69cfc6",
   "metadata": {},
   "outputs": [
    {
     "data": {
      "text/plain": [
       "(199286, 745664)"
      ]
     },
     "execution_count": 16,
     "metadata": {},
     "output_type": "execute_result"
    }
   ],
   "source": [
    "len(G_mention.nodes()), len(G_mention.edges())"
   ]
  },
  {
   "cell_type": "code",
   "execution_count": 20,
   "id": "5c0f429f-37b7-4b5f-a030-ae688571564f",
   "metadata": {},
   "outputs": [],
   "source": [
    "G.remove_nodes_from(list(nx.isolates(G)))\n",
    "G_quoted.remove_nodes_from(list(nx.isolates(G_quoted)))\n",
    "G_reply.remove_nodes_from(list(nx.isolates(G_reply)))\n",
    "G_mention.remove_nodes_from(list(nx.isolates(G_mention)))"
   ]
  },
  {
   "cell_type": "code",
   "execution_count": 22,
   "id": "123cee69-b36e-4dfc-9f07-04eea0545cc6",
   "metadata": {},
   "outputs": [
    {
     "data": {
      "text/plain": [
       "(325154, 1705007)"
      ]
     },
     "execution_count": 22,
     "metadata": {},
     "output_type": "execute_result"
    }
   ],
   "source": [
    "len(G.nodes()), len(G.edges())"
   ]
  },
  {
   "cell_type": "code",
   "execution_count": 23,
   "id": "15ef9807-0883-49a1-ba51-b0208a33497a",
   "metadata": {},
   "outputs": [
    {
     "data": {
      "text/plain": [
       "(112125, 348596)"
      ]
     },
     "execution_count": 23,
     "metadata": {},
     "output_type": "execute_result"
    }
   ],
   "source": [
    "len(G_quoted.nodes()), len(G_quoted.edges())"
   ]
  },
  {
   "cell_type": "code",
   "execution_count": 24,
   "id": "693bf639-aa6a-4c19-af84-3eaabcd58b65",
   "metadata": {},
   "outputs": [
    {
     "data": {
      "text/plain": [
       "(187454, 610747)"
      ]
     },
     "execution_count": 24,
     "metadata": {},
     "output_type": "execute_result"
    }
   ],
   "source": [
    "len(G_reply.nodes()), len(G_reply.edges())"
   ]
  },
  {
   "cell_type": "code",
   "execution_count": 25,
   "id": "939888b9-6e15-4907-a449-c33338fa916f",
   "metadata": {},
   "outputs": [
    {
     "data": {
      "text/plain": [
       "(199286, 745664)"
      ]
     },
     "execution_count": 25,
     "metadata": {},
     "output_type": "execute_result"
    }
   ],
   "source": [
    "len(G_mention.nodes()), len(G_mention.edges())"
   ]
  },
  {
   "cell_type": "code",
   "execution_count": 27,
   "id": "ca79d68b-f204-4970-a242-4c14b8e6de0d",
   "metadata": {},
   "outputs": [],
   "source": [
    "nx.write_gexf(G, DATA_PATH_NT+'complete_network.gexf')\n",
    "nx.write_gexf(G_quoted, DATA_PATH_NT+'quoted_network.gexf')\n",
    "nx.write_gexf(G_reply, DATA_PATH_NT+'reply_network.gexf')\n",
    "nx.write_gexf(G_mention, DATA_PATH_NT+'mention_network.gexf')"
   ]
  },
  {
   "cell_type": "code",
   "execution_count": 28,
   "id": "52f624bb-d86d-4b8f-bf80-75c480a017b6",
   "metadata": {},
   "outputs": [
    {
     "data": {
      "text/plain": [
       "[('jairbolsonaro', 34150),\n",
       " ('OmarAzizSenador', 24242),\n",
       " ('randolfeap', 19235),\n",
       " ('renancalheiros', 17346),\n",
       " ('taoquei1', 16096),\n",
       " ('CarlaZambelli38', 13610),\n",
       " ('MarcosRogerio', 11338),\n",
       " ('kimpaim', 11325),\n",
       " ('SenadoFederal', 10684),\n",
       " ('Rconstantino', 10082),\n",
       " ('BolsonaroSP', 9391),\n",
       " ('ArthurLira_', 9333),\n",
       " ('senadorhumberto', 9182),\n",
       " ('folha', 8947),\n",
       " ('UOLNoticias', 8277),\n",
       " ('LulaOficial', 8088),\n",
       " ('CNNBrasil', 7655),\n",
       " ('STF_oficial', 7377),\n",
       " ('Sen_Alessandro', 6942),\n",
       " ('Metropoles', 6789)]"
      ]
     },
     "execution_count": 28,
     "metadata": {},
     "output_type": "execute_result"
    }
   ],
   "source": [
    "sorted(G.in_degree, key=lambda x: x[1], reverse=True)[:20]"
   ]
  },
  {
   "cell_type": "code",
   "execution_count": 29,
   "id": "8a459745-e990-4f79-8e66-1eaec1956354",
   "metadata": {},
   "outputs": [
    {
     "data": {
      "text/plain": [
       "[('taoquei1', 3854),\n",
       " ('Metropoles', 3588),\n",
       " ('MidiaNINJA', 3514),\n",
       " ('CarlaZambelli38', 3314),\n",
       " ('kimpaim', 2965),\n",
       " ('jairbolsonaro', 2704),\n",
       " ('folha', 2482),\n",
       " ('Rconstantino', 2239),\n",
       " ('UOLNoticias', 1917),\n",
       " ('randolfeap', 1906),\n",
       " ('Estadao', 1771),\n",
       " ('ALLuSapelli', 1706),\n",
       " ('BolsonaroSP', 1691),\n",
       " ('MarceloFreixo', 1675),\n",
       " ('GuilhermeBoulos', 1673),\n",
       " ('Biakicis', 1629),\n",
       " ('bolsomito_2', 1527),\n",
       " ('g1', 1524),\n",
       " ('jairmearrependi', 1520),\n",
       " ('desmentindobozo', 1502)]"
      ]
     },
     "execution_count": 29,
     "metadata": {},
     "output_type": "execute_result"
    }
   ],
   "source": [
    "sorted(G_quoted.in_degree, key=lambda x: x[1], reverse=True)[:20]"
   ]
  },
  {
   "cell_type": "code",
   "execution_count": 30,
   "id": "8f4f5bb6-0e46-4704-b503-53eb78516aec",
   "metadata": {},
   "outputs": [
    {
     "data": {
      "text/plain": [
       "[('jairbolsonaro', 8703),\n",
       " ('taoquei1', 8522),\n",
       " ('OmarAzizSenador', 8505),\n",
       " ('CarlaZambelli38', 6403),\n",
       " ('randolfeap', 5464),\n",
       " ('kimpaim', 5311),\n",
       " ('Rconstantino', 5216),\n",
       " ('SenadoFederal', 4498),\n",
       " ('BolsonaroSP', 4272),\n",
       " ('folha', 3854),\n",
       " ('senadorhumberto', 3759),\n",
       " ('MarcosRogerio', 3645),\n",
       " ('UOLNoticias', 3581),\n",
       " ('o_antagonista', 3474),\n",
       " ('CNNBrasil', 3215),\n",
       " ('CarlosBolsonaro', 3127),\n",
       " ('renancalheiros', 3032),\n",
       " ('LaurinhaIronic', 3011),\n",
       " ('profpaulamarisa', 2809),\n",
       " ('MarceloFreixo', 2780)]"
      ]
     },
     "execution_count": 30,
     "metadata": {},
     "output_type": "execute_result"
    }
   ],
   "source": [
    "sorted(G_reply.in_degree, key=lambda x: x[1], reverse=True)[:20]"
   ]
  },
  {
   "cell_type": "code",
   "execution_count": 31,
   "id": "da43d9ef-0f4c-4c55-a3fe-7968033ae75c",
   "metadata": {},
   "outputs": [
    {
     "data": {
      "text/plain": [
       "[('jairbolsonaro', 22743),\n",
       " ('OmarAzizSenador', 14742),\n",
       " ('renancalheiros', 13996),\n",
       " ('randolfeap', 11865),\n",
       " ('ArthurLira_', 6599),\n",
       " ('MarcosRogerio', 6424),\n",
       " ('LulaOficial', 5675),\n",
       " ('SenadoFederal', 5580),\n",
       " ('STF_oficial', 5381),\n",
       " ('rpsenador', 5050),\n",
       " ('SimoneTebetms', 4681),\n",
       " ('FlavioBolsonaro', 4610),\n",
       " ('senadorhumberto', 4500),\n",
       " ('Sen_Alessandro', 4310),\n",
       " ('YouTube', 4283),\n",
       " ('ottoalencar', 4057),\n",
       " ('CarlaZambelli38', 3893),\n",
       " ('taoquei1', 3720),\n",
       " ('ContaratoSenado', 3546),\n",
       " ('BolsonaroSP', 3428)]"
      ]
     },
     "execution_count": 31,
     "metadata": {},
     "output_type": "execute_result"
    }
   ],
   "source": [
    "sorted(G_mention.in_degree, key=lambda x: x[1], reverse=True)[:20]"
   ]
  },
  {
   "cell_type": "code",
   "execution_count": 32,
   "id": "92f6dc08-4af5-4f9a-a280-04383ba4680b",
   "metadata": {},
   "outputs": [],
   "source": [
    "#all_nodes = []\n",
    "\n",
    "#for u, d in list(G.nodes(data=True)):\n",
    "    #all_nodes.append((u, d['displayname'], d['tt_id'], d['description']))\n",
    "#    all_nodes.append((u, d['username'], d['displayname'], d['description']))\n",
    "    \n",
    "#all_nodes_df = pd.DataFrame(all_nodes, columns=['user', 'username', 'user_id', 'description'])\n",
    "#all_nodes_df = pd.DataFrame(all_nodes, columns=['user_id', 'username', 'displayname', 'description'])\n",
    "#all_nodes_df.to_csv(DATA_PATH_NT+'all_nodes.csv', index=False)"
   ]
  },
  {
   "cell_type": "code",
   "execution_count": 26,
   "id": "76bfd2e6-a9d4-487f-8aca-4c122a66fbf8",
   "metadata": {},
   "outputs": [
    {
     "data": {
      "text/plain": [
       "[('seguezaqueu',\n",
       "  {'displayname': 'Zaqueu Castelamary 🏴🏳(SDV ? )',\n",
       "   'description': 'nan',\n",
       "   'tt_id': 1247224168850034694}),\n",
       " ('zaqueusdvPT',\n",
       "  {'displayname': 'Segue de Volta Esquerdistas ?',\n",
       "   'description': 'nan',\n",
       "   'tt_id': 1573595167}),\n",
       " ('OSul_noticias',\n",
       "  {'displayname': 'Jornal O Sul', 'description': 'nan', 'tt_id': 3245657679}),\n",
       " ('farah_julioo',\n",
       "  {'displayname': 'Julio Patriota38🇧🇷🇧🇷🇧🇷',\n",
       "   'description': 'nan',\n",
       "   'tt_id': 1164340987071750145}),\n",
       " ('thetunnes',\n",
       "  {'displayname': 'Tunnes',\n",
       "   'description': '21y |  🇧🇷 || Jogador de Valorant 💢 | Web Developer 👨\\u200d💻',\n",
       "   'tt_id': 1360024018246631425}),\n",
       " ('joaodoria45',\n",
       "  {'displayname': 'joaodoria45', 'description': 'nan', 'tt_id': 3405608584}),\n",
       " ('eriicksonsilva',\n",
       "  {'displayname': 'Erickson',\n",
       "   'description': '25, BR\\nFalo merda sobre o: @vascodagama @manutd @okcthunder',\n",
       "   'tt_id': 51587901}),\n",
       " ('Elmosol',\n",
       "  {'displayname': 'Elmo Souza Oliveira',\n",
       "   'description': 'nan',\n",
       "   'tt_id': 82350206}),\n",
       " ('silviacbap',\n",
       "  {'displayname': '🇧🇷 ♥️ Silvia ♥️ 🇧🇷',\n",
       "   'description': 'nan',\n",
       "   'tt_id': 736942609663467520}),\n",
       " ('DarlyMenconi',\n",
       "  {'displayname': 'Darly Menconi🏴😷🐊',\n",
       "   'description': 'nobody wins unless everybody wins\\npsicóloga🦋',\n",
       "   'tt_id': 1243642241186516992})]"
      ]
     },
     "execution_count": 26,
     "metadata": {},
     "output_type": "execute_result"
    }
   ],
   "source": [
    "list(G.nodes(data=True))[:10]"
   ]
  },
  {
   "cell_type": "code",
   "execution_count": 19,
   "id": "5b4de0f1-5c5e-4255-acaa-a7b8a74e616b",
   "metadata": {},
   "outputs": [
    {
     "data": {
      "text/plain": [
       "('dimerstt',\n",
       " {'displayname': 'Laila Dimerstt use pff2',\n",
       "  'description': 'nan',\n",
       "  'tt_id': 1341947278165204992})"
      ]
     },
     "execution_count": 19,
     "metadata": {},
     "output_type": "execute_result"
    }
   ],
   "source": [
    "list(G.nodes(data=True))[543333]"
   ]
  },
  {
   "cell_type": "markdown",
   "id": "b3dcb7b6-8d5d-476c-863c-caa0400fe993",
   "metadata": {},
   "source": [
    "### User Weekly Participation"
   ]
  },
  {
   "cell_type": "code",
   "execution_count": null,
   "id": "175fdfc8-2be5-460c-bf6b-9ee6157b26b1",
   "metadata": {},
   "outputs": [],
   "source": [
    "from IPython.display import clear_output, display\n",
    "\n",
    "nodes_list = nodes['Id'].values.tolist()\n",
    "user_count_list = []\n",
    "\n",
    "for usrname in nodes_list:\n",
    "    count = 0\n",
    "    for week in week_list:\n",
    "        clear_output(wait=True)\n",
    "        print(f'User: {usrname} - week: {week}')\n",
    "        week_nodes = pd.read_parquet(DATA_PATH_NT+f'{week}/{week}_node_list.parquet')\n",
    "        if usrname in week_nodes['Id'].values.tolist():\n",
    "            count+=1\n",
    "    user_count_list.append(count)"
   ]
  },
  {
   "cell_type": "markdown",
   "id": "b2096ecb-9e95-4eb4-ba1d-3a898845e842",
   "metadata": {},
   "source": [
    "## Community Detection"
   ]
  },
  {
   "cell_type": "code",
   "execution_count": null,
   "id": "0de043b5-ea97-41a6-a6d5-13c88922a26f",
   "metadata": {},
   "outputs": [],
   "source": [
    "from networkx.algorithms.community.centrality import girvan_newman\n",
    "from networkx.algorithms.community.modularity_max import greedy_modularity_communities\n",
    "from networkx.algorithms.community.label_propagation import asyn_lpa_communities\n",
    "\n",
    "comm_grivan = list(girvan_newman(G))"
   ]
  },
  {
   "cell_type": "code",
   "execution_count": null,
   "id": "f8868f4c-6bbf-428b-ba9b-2adc02851816",
   "metadata": {},
   "outputs": [],
   "source": [
    "comm_modularity = list(greedy_modularity_communities(G, weight='weight'))"
   ]
  },
  {
   "cell_type": "code",
   "execution_count": null,
   "id": "284c4818-5268-4c76-9937-854dd23b0065",
   "metadata": {},
   "outputs": [],
   "source": [
    "comm_label_prop =  list(asyn_lpa_communities(G, weight='weight', seed=None))"
   ]
  }
 ],
 "metadata": {
  "kernelspec": {
   "display_name": "Python 3 (ipykernel)",
   "language": "python",
   "name": "python3"
  },
  "language_info": {
   "codemirror_mode": {
    "name": "ipython",
    "version": 3
   },
   "file_extension": ".py",
   "mimetype": "text/x-python",
   "name": "python",
   "nbconvert_exporter": "python",
   "pygments_lexer": "ipython3",
   "version": "3.9.7"
  }
 },
 "nbformat": 4,
 "nbformat_minor": 5
}

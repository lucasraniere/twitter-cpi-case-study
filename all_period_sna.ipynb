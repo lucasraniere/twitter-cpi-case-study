{
 "cells": [
  {
   "cell_type": "markdown",
   "id": "a7e2d038-49f9-4769-9cf6-ca1b2729d555",
   "metadata": {},
   "source": [
    "# __All Period CPI SNA__"
   ]
  },
  {
   "cell_type": "code",
   "execution_count": 12,
   "id": "584e8878-9a10-4240-b59d-58ec2836931e",
   "metadata": {},
   "outputs": [],
   "source": [
    "import pandas as pd\n",
    "import networkx as nx\n",
    "import os, datetime"
   ]
  },
  {
   "cell_type": "code",
   "execution_count": 21,
   "id": "32e2cd7e-f6d9-477f-96d5-5e7ab966fdd4",
   "metadata": {},
   "outputs": [
    {
     "data": {
      "text/plain": [
       "(536263, 3)"
      ]
     },
     "execution_count": 21,
     "metadata": {},
     "output_type": "execute_result"
    }
   ],
   "source": [
    "DATA_PATH_TT = 'data/tweets/'\n",
    "DATA_PATH_NT = 'data/networks/'\n",
    "\n",
    "nodes = pd.read_csv(DATA_PATH_NT+'all_nodes.csv')\n",
    "nodes.shape"
   ]
  },
  {
   "cell_type": "code",
   "execution_count": 10,
   "id": "4285ccab-768e-43ca-8a77-40a914026388",
   "metadata": {},
   "outputs": [],
   "source": [
    "def create_networks(tweets_df):\n",
    "    nodes = []\n",
    "    edges = []\n",
    "    for u, rt, qrt, ir, mu in tweets_df[['user', 'retweetedTweet', 'quotedTweet', 'inReplyToUser', 'mentionedUsers']].values:\n",
    "        user = eval(u)\n",
    "        retweeted = eval(rt)\n",
    "        quoted = eval(qrt)\n",
    "        in_reply = eval(ir)\n",
    "        mentioned = eval(mu)\n",
    "        nodes.append((user['username'], user['displayname'], user['description']))\n",
    "        if retweeted:\n",
    "            if user['username'] != retweeted['user']['username']:\n",
    "                edges.append((user['username'], retweeted['user']['username'], 'retweet'))\n",
    "                nodes.append((retweeted['user']['username'], retweeted['user']['displayname'], retweeted['user']['description']))\n",
    "        if quoted:\n",
    "            if user['username'] != quoted['user']['username']:\n",
    "                edges.append((user['username'], quoted['user']['username'], 'quoted_rt'))\n",
    "                nodes.append((quoted['user']['username'], quoted['user']['displayname'], quoted['user']['description']))\n",
    "        if in_reply:\n",
    "            if user['username'] != in_reply['username']:\n",
    "                edges.append((user['username'], in_reply['username'], 'reply'))\n",
    "                nodes.append((in_reply['username'], in_reply['displayname'], in_reply['description']))\n",
    "        if mentioned:\n",
    "            for r_user in mentioned:\n",
    "                if user['username'] != r_user['username']:\n",
    "                    edges.append((user['username'], r_user['username'], 'mention'))\n",
    "                    nodes.append((r_user['username'], r_user['displayname'], r_user['description']))\n",
    "                \n",
    "    nodes_df = pd.DataFrame(nodes, columns=['Id', 'DisplayName', 'Description'])\n",
    "    edges_df = pd.DataFrame(edges, columns=['Source', 'Target', 'LinkType'])\n",
    "    nodes_df.drop_duplicates(subset=['Id'], keep='last', ignore_index=True, inplace=True)\n",
    "    \n",
    "    return nodes_df, edges_df\n",
    "\n",
    "def df_2_networkx(nodes, edges):\n",
    "    w_edges = []\n",
    "    G = nx.DiGraph()\n",
    "    for usr, disp_n, desc in nodes.values:\n",
    "        G.add_node(str(usr), displayname=str(disp_n), description=str(desc if desc else ''))\n",
    "    edges_tuples = [tuple(x) for x in edges.to_numpy()]\n",
    "    edges_count = pd.Series(edges_tuples).value_counts()\n",
    "    for i in range(edges_count.shape[0]):\n",
    "        w_edges.append(edges_count.index[i]+(edges_count.values[i],))\n",
    "    for edge in w_edges:\n",
    "        G.add_edge(str(edge[0]), str(edge[1]), interac_type=str(edge[2]), weight=int(edge[3]))\n",
    "        \n",
    "    G_quoted = nx.DiGraph([(u, v, e) for u,v,e in G.edges(data=True) if e['interac_type'] == 'quoted_rt'])\n",
    "    G_rtweet = nx.DiGraph([(u, v, e) for u,v,e in G.edges(data=True) if e['interac_type'] == 'retweeted'])\n",
    "    G_reply = nx.DiGraph([(u, v, e) for u,v,e in G.edges(data=True) if e['interac_type'] == 'reply'])\n",
    "    G_mention = nx.DiGraph([(u, v, e) for u,v,e in G.edges(data=True) if e['interac_type'] == 'mention'])\n",
    "    \n",
    "    return G, G_quoted, G_rtweet, G_reply, G_mention"
   ]
  },
  {
   "cell_type": "code",
   "execution_count": 5,
   "id": "da141721-0f9e-4c08-90af-48965f2c1f71",
   "metadata": {},
   "outputs": [
    {
     "name": "stdout",
     "output_type": "stream",
     "text": [
      "['week_01', 'week_02', 'week_03', 'week_04', 'week_05', 'week_06', 'week_07', 'week_08', 'week_09', 'week_10', 'week_11', 'week_12', 'week_pr_01', 'week_pr_02', 'week_13', 'week_14', 'week_15', 'week_16', 'week_17', 'week_pr_03', 'week_18', 'week_19', 'week_20', 'week_21']\n"
     ]
    }
   ],
   "source": [
    "week_list = [week_dir for week_dir in os.listdir(DATA_PATH_TT) if os.path.isdir(DATA_PATH_TT+week_dir) and not week_dir.endswith('.ipynb_checkpoints')]\n",
    "\n",
    "week_list.sort()\n",
    "week_list.remove('week_pr_01')\n",
    "week_list.insert(week_list.index('week_12')+1, 'week_pr_01')\n",
    "week_list.remove('week_pr_02')\n",
    "week_list.insert(week_list.index('week_pr_01')+1, 'week_pr_02')\n",
    "week_list.remove('week_pr_03')\n",
    "week_list.insert(week_list.index('week_17')+1, 'week_pr_03')\n",
    "\n",
    "print(week_list)"
   ]
  },
  {
   "cell_type": "code",
   "execution_count": 13,
   "id": "2e2b8551-c53b-4f56-91d5-dff0c6e5a5f1",
   "metadata": {},
   "outputs": [
    {
     "name": "stdout",
     "output_type": "stream",
     "text": [
      "Starting week_01...\n",
      "Starting week_02...\n",
      "Starting week_03...\n",
      "Starting week_04...\n",
      "Starting week_05...\n",
      "Starting week_06...\n",
      "Starting week_07...\n",
      "Starting week_08...\n",
      "Starting week_09...\n",
      "Starting week_10...\n",
      "Starting week_11...\n",
      "Starting week_12...\n",
      "Starting week_pr_01...\n",
      "Starting week_pr_02...\n",
      "Starting week_13...\n",
      "Starting week_14...\n",
      "Starting week_15...\n",
      "Starting week_16...\n",
      "Starting week_17...\n",
      "Starting week_pr_03...\n",
      "Starting week_18...\n",
      "Starting week_19...\n",
      "Starting week_20...\n",
      "Starting week_21...\n"
     ]
    }
   ],
   "source": [
    "edges_list = []\n",
    "\n",
    "for week in week_list:\n",
    "    print(f'Starting {week}...')\n",
    "    f_name = [f for f in os.listdir(DATA_PATH_TT+week) if f.startswith('merged_week')][0]\n",
    "    week_tt_df = pd.read_parquet(DATA_PATH_TT+week+'/'+f_name)\n",
    "    nodes, edges = create_networks(week_tt_df)\n",
    "    edges_list.append(edges)"
   ]
  },
  {
   "cell_type": "code",
   "execution_count": 14,
   "id": "b37885de-47c6-40a9-a329-7826561e3be8",
   "metadata": {},
   "outputs": [
    {
     "data": {
      "text/plain": [
       "24"
      ]
     },
     "execution_count": 14,
     "metadata": {},
     "output_type": "execute_result"
    }
   ],
   "source": [
    "len(edges_list)"
   ]
  },
  {
   "cell_type": "code",
   "execution_count": 20,
   "id": "95c1e63a-fbb5-4a6a-abef-c8d1f3674219",
   "metadata": {},
   "outputs": [
    {
     "data": {
      "text/plain": [
       "(3734184, 3)"
      ]
     },
     "execution_count": 20,
     "metadata": {},
     "output_type": "execute_result"
    }
   ],
   "source": [
    "edges = pd.concat(edges_list, axis=0)\n",
    "edges.shape"
   ]
  },
  {
   "cell_type": "code",
   "execution_count": 22,
   "id": "4d132214-1ab8-48b0-8107-f159f519495b",
   "metadata": {},
   "outputs": [],
   "source": [
    "G, G_quoted, G_rtweet, G_reply, G_mention = df_2_networkx(nodes, edges)"
   ]
  },
  {
   "cell_type": "code",
   "execution_count": 23,
   "id": "d35d858e-08ea-4599-a1e8-f988bb0096a6",
   "metadata": {},
   "outputs": [
    {
     "data": {
      "text/plain": [
       "(536263, 1674363)"
      ]
     },
     "execution_count": 23,
     "metadata": {},
     "output_type": "execute_result"
    }
   ],
   "source": [
    "len(G.nodes()), len(G.edges())"
   ]
  },
  {
   "cell_type": "code",
   "execution_count": 24,
   "id": "747bd150-a8df-4050-8507-8a0212eb2c72",
   "metadata": {},
   "outputs": [
    {
     "data": {
      "text/plain": [
       "(110722, 343803)"
      ]
     },
     "execution_count": 24,
     "metadata": {},
     "output_type": "execute_result"
    }
   ],
   "source": [
    "len(G_quoted.nodes()), len(G_quoted.edges())"
   ]
  },
  {
   "cell_type": "code",
   "execution_count": 26,
   "id": "9e0f87fb-93b2-42a6-b079-75dda91257a6",
   "metadata": {},
   "outputs": [
    {
     "data": {
      "text/plain": [
       "(187029, 608957)"
      ]
     },
     "execution_count": 26,
     "metadata": {},
     "output_type": "execute_result"
    }
   ],
   "source": [
    "len(G_reply.nodes()), len(G_reply.edges())"
   ]
  },
  {
   "cell_type": "code",
   "execution_count": 27,
   "id": "9bf131df-7637-48be-b5d0-cb4c2a69cfc6",
   "metadata": {},
   "outputs": [
    {
     "data": {
      "text/plain": [
       "(193304, 721603)"
      ]
     },
     "execution_count": 27,
     "metadata": {},
     "output_type": "execute_result"
    }
   ],
   "source": [
    "len(G_mention.nodes()), len(G_mention.edges())"
   ]
  },
  {
   "cell_type": "code",
   "execution_count": 32,
   "id": "5c0f429f-37b7-4b5f-a030-ae688571564f",
   "metadata": {},
   "outputs": [],
   "source": [
    "G.remove_nodes_from(list(nx.isolates(G)))\n",
    "G_quoted.remove_nodes_from(list(nx.isolates(G_quoted)))\n",
    "G_reply.remove_nodes_from(list(nx.isolates(G_reply)))\n",
    "G_mention.remove_nodes_from(list(nx.isolates(G_mention)))"
   ]
  },
  {
   "cell_type": "code",
   "execution_count": 33,
   "id": "123cee69-b36e-4dfc-9f07-04eea0545cc6",
   "metadata": {},
   "outputs": [
    {
     "data": {
      "text/plain": [
       "(320143, 1674363)"
      ]
     },
     "execution_count": 33,
     "metadata": {},
     "output_type": "execute_result"
    }
   ],
   "source": [
    "len(G.nodes()), len(G.edges())"
   ]
  },
  {
   "cell_type": "code",
   "execution_count": 34,
   "id": "15ef9807-0883-49a1-ba51-b0208a33497a",
   "metadata": {},
   "outputs": [
    {
     "data": {
      "text/plain": [
       "(110722, 343803)"
      ]
     },
     "execution_count": 34,
     "metadata": {},
     "output_type": "execute_result"
    }
   ],
   "source": [
    "len(G_quoted.nodes()), len(G_quoted.edges())"
   ]
  },
  {
   "cell_type": "code",
   "execution_count": 35,
   "id": "693bf639-aa6a-4c19-af84-3eaabcd58b65",
   "metadata": {},
   "outputs": [
    {
     "data": {
      "text/plain": [
       "(187029, 608957)"
      ]
     },
     "execution_count": 35,
     "metadata": {},
     "output_type": "execute_result"
    }
   ],
   "source": [
    "len(G_reply.nodes()), len(G_reply.edges())"
   ]
  },
  {
   "cell_type": "code",
   "execution_count": 36,
   "id": "939888b9-6e15-4907-a449-c33338fa916f",
   "metadata": {},
   "outputs": [
    {
     "data": {
      "text/plain": [
       "(193304, 721603)"
      ]
     },
     "execution_count": 36,
     "metadata": {},
     "output_type": "execute_result"
    }
   ],
   "source": [
    "len(G_mention.nodes()), len(G_mention.edges())"
   ]
  },
  {
   "cell_type": "code",
   "execution_count": 37,
   "id": "ca79d68b-f204-4970-a242-4c14b8e6de0d",
   "metadata": {},
   "outputs": [],
   "source": [
    "nx.write_gexf(G, DATA_PATH_NT+'complete_network.gexf')\n",
    "nx.write_gexf(G_quoted, DATA_PATH_NT+'quoted_network.gexf')\n",
    "nx.write_gexf(G_reply, DATA_PATH_NT+'reply_network.gexf')\n",
    "nx.write_gexf(G_mention, DATA_PATH_NT+'mention_network.gexf')"
   ]
  },
  {
   "cell_type": "code",
   "execution_count": 39,
   "id": "52f624bb-d86d-4b8f-bf80-75c480a017b6",
   "metadata": {},
   "outputs": [
    {
     "data": {
      "text/plain": [
       "[('jairbolsonaro', 33768),\n",
       " ('OmarAzizSenador', 23661),\n",
       " ('randolfeap', 18808),\n",
       " ('renancalheiros', 16845),\n",
       " ('taoquei1', 16065),\n",
       " ('CarlaZambelli38', 13475),\n",
       " ('kimpaim', 11258),\n",
       " ('MarcosRogerio', 11118),\n",
       " ('SenadoFederal', 10401),\n",
       " ('Rconstantino', 10011),\n",
       " ('BolsonaroSP', 9243),\n",
       " ('ArthurLira_', 9141),\n",
       " ('senadorhumberto', 8949),\n",
       " ('folha', 8769),\n",
       " ('UOLNoticias', 8050),\n",
       " ('LulaOficial', 7983),\n",
       " ('CNNBrasil', 7512),\n",
       " ('STF_oficial', 7294),\n",
       " ('Sen_Alessandro', 6791),\n",
       " ('CarlosBolsonaro', 6698)]"
      ]
     },
     "execution_count": 39,
     "metadata": {},
     "output_type": "execute_result"
    }
   ],
   "source": [
    "sorted(G.in_degree, key=lambda x: x[1], reverse=True)[:20]"
   ]
  },
  {
   "cell_type": "code",
   "execution_count": 40,
   "id": "8a459745-e990-4f79-8e66-1eaec1956354",
   "metadata": {},
   "outputs": [
    {
     "data": {
      "text/plain": [
       "[('taoquei1', 3856),\n",
       " ('MidiaNINJA', 3494),\n",
       " ('Metropoles', 3472),\n",
       " ('CarlaZambelli38', 3302),\n",
       " ('kimpaim', 2936),\n",
       " ('jairbolsonaro', 2707),\n",
       " ('folha', 2449),\n",
       " ('Rconstantino', 2238),\n",
       " ('randolfeap', 1872),\n",
       " ('UOLNoticias', 1862),\n",
       " ('Estadao', 1751),\n",
       " ('ALLuSapelli', 1702),\n",
       " ('BolsonaroSP', 1687),\n",
       " ('GuilhermeBoulos', 1652),\n",
       " ('MarceloFreixo', 1638),\n",
       " ('Biakicis', 1617),\n",
       " ('bolsomito_2', 1530),\n",
       " ('jairmearrependi', 1512),\n",
       " ('g1', 1503),\n",
       " ('desmentindobozo', 1486)]"
      ]
     },
     "execution_count": 40,
     "metadata": {},
     "output_type": "execute_result"
    }
   ],
   "source": [
    "sorted(G_quoted.in_degree, key=lambda x: x[1], reverse=True)[:20]"
   ]
  },
  {
   "cell_type": "code",
   "execution_count": 42,
   "id": "8f4f5bb6-0e46-4704-b503-53eb78516aec",
   "metadata": {},
   "outputs": [
    {
     "data": {
      "text/plain": [
       "[('jairbolsonaro', 8752),\n",
       " ('taoquei1', 8349),\n",
       " ('OmarAzizSenador', 8210),\n",
       " ('CarlaZambelli38', 6278),\n",
       " ('randolfeap', 5412),\n",
       " ('Rconstantino', 5263),\n",
       " ('kimpaim', 5094),\n",
       " ('SenadoFederal', 4397),\n",
       " ('BolsonaroSP', 4263),\n",
       " ('folha', 3819),\n",
       " ('senadorhumberto', 3624),\n",
       " ('o_antagonista', 3548),\n",
       " ('MarcosRogerio', 3514),\n",
       " ('UOLNoticias', 3503),\n",
       " ('CNNBrasil', 3206),\n",
       " ('CarlosBolsonaro', 3072),\n",
       " ('LaurinhaIronic', 2926),\n",
       " ('renancalheiros', 2887),\n",
       " ('profpaulamarisa', 2831),\n",
       " ('Jouberth19', 2814)]"
      ]
     },
     "execution_count": 42,
     "metadata": {},
     "output_type": "execute_result"
    }
   ],
   "source": [
    "sorted(G_reply.in_degree, key=lambda x: x[1], reverse=True)[:20]"
   ]
  },
  {
   "cell_type": "code",
   "execution_count": 43,
   "id": "da43d9ef-0f4c-4c55-a3fe-7968033ae75c",
   "metadata": {},
   "outputs": [
    {
     "data": {
      "text/plain": [
       "[('jairbolsonaro', 22309),\n",
       " ('OmarAzizSenador', 14478),\n",
       " ('renancalheiros', 13646),\n",
       " ('randolfeap', 11524),\n",
       " ('ArthurLira_', 6434),\n",
       " ('MarcosRogerio', 6365),\n",
       " ('LulaOficial', 5581),\n",
       " ('SenadoFederal', 5434),\n",
       " ('STF_oficial', 5289),\n",
       " ('rpsenador', 4992),\n",
       " ('SimoneTebetms', 4519),\n",
       " ('FlavioBolsonaro', 4502),\n",
       " ('senadorhumberto', 4433),\n",
       " ('YouTube', 4183),\n",
       " ('Sen_Alessandro', 4162),\n",
       " ('ottoalencar', 4050),\n",
       " ('CarlaZambelli38', 3895),\n",
       " ('taoquei1', 3860),\n",
       " ('ContaratoSenado', 3467),\n",
       " ('BolsonaroSP', 3293)]"
      ]
     },
     "execution_count": 43,
     "metadata": {},
     "output_type": "execute_result"
    }
   ],
   "source": [
    "sorted(G_mention.in_degree, key=lambda x: x[1], reverse=True)[:20]"
   ]
  },
  {
   "cell_type": "markdown",
   "id": "b3dcb7b6-8d5d-476c-863c-caa0400fe993",
   "metadata": {},
   "source": [
    "### User Weekly Participation"
   ]
  },
  {
   "cell_type": "code",
   "execution_count": null,
   "id": "175fdfc8-2be5-460c-bf6b-9ee6157b26b1",
   "metadata": {},
   "outputs": [
    {
     "name": "stdout",
     "output_type": "stream",
     "text": [
      "User: vicentelou - week: week_03\n"
     ]
    }
   ],
   "source": [
    "from IPython.display import clear_output, display\n",
    "\n",
    "nodes_list = nodes['Id'].values.tolist()\n",
    "user_count_list = []\n",
    "\n",
    "for usrname in nodes_list:\n",
    "    count = 0\n",
    "    for week in week_list:\n",
    "        clear_output(wait=True)\n",
    "        print(f'User: {usrname} - week: {week}')\n",
    "        week_nodes = pd.read_parquet(DATA_PATH_NT+f'{week}/{week}_node_list.parquet')\n",
    "        if usrname in week_nodes['Id'].values.tolist():\n",
    "            count+=1\n",
    "    user_count_list.append(count)"
   ]
  },
  {
   "cell_type": "markdown",
   "id": "b2096ecb-9e95-4eb4-ba1d-3a898845e842",
   "metadata": {},
   "source": [
    "## Community Detection"
   ]
  },
  {
   "cell_type": "code",
   "execution_count": 44,
   "id": "0de043b5-ea97-41a6-a6d5-13c88922a26f",
   "metadata": {},
   "outputs": [
    {
     "ename": "KeyboardInterrupt",
     "evalue": "",
     "output_type": "error",
     "traceback": [
      "\u001b[1;31m---------------------------------------------------------------------------\u001b[0m",
      "\u001b[1;31mKeyboardInterrupt\u001b[0m                         Traceback (most recent call last)",
      "\u001b[1;32m~\\AppData\\Local\\Temp/ipykernel_22744/1202580750.py\u001b[0m in \u001b[0;36m<module>\u001b[1;34m\u001b[0m\n\u001b[0;32m      3\u001b[0m \u001b[1;32mfrom\u001b[0m \u001b[0mnetworkx\u001b[0m\u001b[1;33m.\u001b[0m\u001b[0malgorithms\u001b[0m\u001b[1;33m.\u001b[0m\u001b[0mcommunity\u001b[0m\u001b[1;33m.\u001b[0m\u001b[0mlabel_propagation\u001b[0m \u001b[1;32mimport\u001b[0m \u001b[0masyn_lpa_communities\u001b[0m\u001b[1;33m\u001b[0m\u001b[1;33m\u001b[0m\u001b[0m\n\u001b[0;32m      4\u001b[0m \u001b[1;33m\u001b[0m\u001b[0m\n\u001b[1;32m----> 5\u001b[1;33m \u001b[0mcomm_grivan\u001b[0m \u001b[1;33m=\u001b[0m \u001b[0mlist\u001b[0m\u001b[1;33m(\u001b[0m\u001b[0mgirvan_newman\u001b[0m\u001b[1;33m(\u001b[0m\u001b[0mG\u001b[0m\u001b[1;33m)\u001b[0m\u001b[1;33m)\u001b[0m\u001b[1;33m\u001b[0m\u001b[1;33m\u001b[0m\u001b[0m\n\u001b[0m",
      "\u001b[1;32m~\\anaconda3\\envs\\twitter-cpi\\lib\\site-packages\\networkx\\algorithms\\community\\centrality.py\u001b[0m in \u001b[0;36mgirvan_newman\u001b[1;34m(G, most_valuable_edge)\u001b[0m\n\u001b[0;32m    145\u001b[0m     \u001b[0mg\u001b[0m\u001b[1;33m.\u001b[0m\u001b[0mremove_edges_from\u001b[0m\u001b[1;33m(\u001b[0m\u001b[0mnx\u001b[0m\u001b[1;33m.\u001b[0m\u001b[0mselfloop_edges\u001b[0m\u001b[1;33m(\u001b[0m\u001b[0mg\u001b[0m\u001b[1;33m)\u001b[0m\u001b[1;33m)\u001b[0m\u001b[1;33m\u001b[0m\u001b[1;33m\u001b[0m\u001b[0m\n\u001b[0;32m    146\u001b[0m     \u001b[1;32mwhile\u001b[0m \u001b[0mg\u001b[0m\u001b[1;33m.\u001b[0m\u001b[0mnumber_of_edges\u001b[0m\u001b[1;33m(\u001b[0m\u001b[1;33m)\u001b[0m \u001b[1;33m>\u001b[0m \u001b[1;36m0\u001b[0m\u001b[1;33m:\u001b[0m\u001b[1;33m\u001b[0m\u001b[1;33m\u001b[0m\u001b[0m\n\u001b[1;32m--> 147\u001b[1;33m         \u001b[1;32myield\u001b[0m \u001b[0m_without_most_central_edges\u001b[0m\u001b[1;33m(\u001b[0m\u001b[0mg\u001b[0m\u001b[1;33m,\u001b[0m \u001b[0mmost_valuable_edge\u001b[0m\u001b[1;33m)\u001b[0m\u001b[1;33m\u001b[0m\u001b[1;33m\u001b[0m\u001b[0m\n\u001b[0m\u001b[0;32m    148\u001b[0m \u001b[1;33m\u001b[0m\u001b[0m\n\u001b[0;32m    149\u001b[0m \u001b[1;33m\u001b[0m\u001b[0m\n",
      "\u001b[1;32m~\\anaconda3\\envs\\twitter-cpi\\lib\\site-packages\\networkx\\algorithms\\community\\centrality.py\u001b[0m in \u001b[0;36m_without_most_central_edges\u001b[1;34m(G, most_valuable_edge)\u001b[0m\n\u001b[0;32m    164\u001b[0m     \u001b[0mnum_new_components\u001b[0m \u001b[1;33m=\u001b[0m \u001b[0moriginal_num_components\u001b[0m\u001b[1;33m\u001b[0m\u001b[1;33m\u001b[0m\u001b[0m\n\u001b[0;32m    165\u001b[0m     \u001b[1;32mwhile\u001b[0m \u001b[0mnum_new_components\u001b[0m \u001b[1;33m<=\u001b[0m \u001b[0moriginal_num_components\u001b[0m\u001b[1;33m:\u001b[0m\u001b[1;33m\u001b[0m\u001b[1;33m\u001b[0m\u001b[0m\n\u001b[1;32m--> 166\u001b[1;33m         \u001b[0medge\u001b[0m \u001b[1;33m=\u001b[0m \u001b[0mmost_valuable_edge\u001b[0m\u001b[1;33m(\u001b[0m\u001b[0mG\u001b[0m\u001b[1;33m)\u001b[0m\u001b[1;33m\u001b[0m\u001b[1;33m\u001b[0m\u001b[0m\n\u001b[0m\u001b[0;32m    167\u001b[0m         \u001b[0mG\u001b[0m\u001b[1;33m.\u001b[0m\u001b[0mremove_edge\u001b[0m\u001b[1;33m(\u001b[0m\u001b[1;33m*\u001b[0m\u001b[0medge\u001b[0m\u001b[1;33m)\u001b[0m\u001b[1;33m\u001b[0m\u001b[1;33m\u001b[0m\u001b[0m\n\u001b[0;32m    168\u001b[0m         \u001b[0mnew_components\u001b[0m \u001b[1;33m=\u001b[0m \u001b[0mtuple\u001b[0m\u001b[1;33m(\u001b[0m\u001b[0mnx\u001b[0m\u001b[1;33m.\u001b[0m\u001b[0mconnected_components\u001b[0m\u001b[1;33m(\u001b[0m\u001b[0mG\u001b[0m\u001b[1;33m)\u001b[0m\u001b[1;33m)\u001b[0m\u001b[1;33m\u001b[0m\u001b[1;33m\u001b[0m\u001b[0m\n",
      "\u001b[1;32m~\\anaconda3\\envs\\twitter-cpi\\lib\\site-packages\\networkx\\algorithms\\community\\centrality.py\u001b[0m in \u001b[0;36mmost_valuable_edge\u001b[1;34m(G)\u001b[0m\n\u001b[0;32m    136\u001b[0m             \u001b[1;31m# We have guaranteed that the graph is non-empty, so this\u001b[0m\u001b[1;33m\u001b[0m\u001b[1;33m\u001b[0m\u001b[0m\n\u001b[0;32m    137\u001b[0m             \u001b[1;31m# dictionary will never be empty.\u001b[0m\u001b[1;33m\u001b[0m\u001b[1;33m\u001b[0m\u001b[0m\n\u001b[1;32m--> 138\u001b[1;33m             \u001b[0mbetweenness\u001b[0m \u001b[1;33m=\u001b[0m \u001b[0mnx\u001b[0m\u001b[1;33m.\u001b[0m\u001b[0medge_betweenness_centrality\u001b[0m\u001b[1;33m(\u001b[0m\u001b[0mG\u001b[0m\u001b[1;33m)\u001b[0m\u001b[1;33m\u001b[0m\u001b[1;33m\u001b[0m\u001b[0m\n\u001b[0m\u001b[0;32m    139\u001b[0m             \u001b[1;32mreturn\u001b[0m \u001b[0mmax\u001b[0m\u001b[1;33m(\u001b[0m\u001b[0mbetweenness\u001b[0m\u001b[1;33m,\u001b[0m \u001b[0mkey\u001b[0m\u001b[1;33m=\u001b[0m\u001b[0mbetweenness\u001b[0m\u001b[1;33m.\u001b[0m\u001b[0mget\u001b[0m\u001b[1;33m)\u001b[0m\u001b[1;33m\u001b[0m\u001b[1;33m\u001b[0m\u001b[0m\n\u001b[0;32m    140\u001b[0m \u001b[1;33m\u001b[0m\u001b[0m\n",
      "\u001b[1;32m~\\anaconda3\\envs\\twitter-cpi\\lib\\site-packages\\networkx\\utils\\decorators.py\u001b[0m in \u001b[0;36mfunc\u001b[1;34m(_argmap__wrapper, *args, **kwargs)\u001b[0m\n\u001b[0;32m    793\u001b[0m \u001b[1;33m\u001b[0m\u001b[0m\n\u001b[0;32m    794\u001b[0m             \u001b[1;32mdef\u001b[0m \u001b[0mfunc\u001b[0m\u001b[1;33m(\u001b[0m\u001b[1;33m*\u001b[0m\u001b[0margs\u001b[0m\u001b[1;33m,\u001b[0m \u001b[0m__wrapper\u001b[0m\u001b[1;33m=\u001b[0m\u001b[1;32mNone\u001b[0m\u001b[1;33m,\u001b[0m \u001b[1;33m**\u001b[0m\u001b[0mkwargs\u001b[0m\u001b[1;33m)\u001b[0m\u001b[1;33m:\u001b[0m\u001b[1;33m\u001b[0m\u001b[1;33m\u001b[0m\u001b[0m\n\u001b[1;32m--> 795\u001b[1;33m                 \u001b[1;32mreturn\u001b[0m \u001b[0margmap\u001b[0m\u001b[1;33m.\u001b[0m\u001b[0m_lazy_compile\u001b[0m\u001b[1;33m(\u001b[0m\u001b[0m__wrapper\u001b[0m\u001b[1;33m)\u001b[0m\u001b[1;33m(\u001b[0m\u001b[1;33m*\u001b[0m\u001b[0margs\u001b[0m\u001b[1;33m,\u001b[0m \u001b[1;33m**\u001b[0m\u001b[0mkwargs\u001b[0m\u001b[1;33m)\u001b[0m\u001b[1;33m\u001b[0m\u001b[1;33m\u001b[0m\u001b[0m\n\u001b[0m\u001b[0;32m    796\u001b[0m \u001b[1;33m\u001b[0m\u001b[0m\n\u001b[0;32m    797\u001b[0m         \u001b[1;31m# standard function-wrapping stuff\u001b[0m\u001b[1;33m\u001b[0m\u001b[1;33m\u001b[0m\u001b[0m\n",
      "\u001b[1;32m~\\anaconda3\\envs\\twitter-cpi\\lib\\site-packages\\networkx\\utils\\decorators.py\u001b[0m in \u001b[0;36margmap_edge_betweenness_centrality_14\u001b[1;34m(G, k, normalized, weight, seed)\u001b[0m\n\u001b[0;32m      2\u001b[0m \u001b[1;32mfrom\u001b[0m \u001b[0mos\u001b[0m\u001b[1;33m.\u001b[0m\u001b[0mpath\u001b[0m \u001b[1;32mimport\u001b[0m \u001b[0msplitext\u001b[0m\u001b[1;33m\u001b[0m\u001b[1;33m\u001b[0m\u001b[0m\n\u001b[0;32m      3\u001b[0m \u001b[1;32mfrom\u001b[0m \u001b[0mcontextlib\u001b[0m \u001b[1;32mimport\u001b[0m \u001b[0mcontextmanager\u001b[0m\u001b[1;33m\u001b[0m\u001b[1;33m\u001b[0m\u001b[0m\n\u001b[1;32m----> 4\u001b[1;33m \u001b[1;32mfrom\u001b[0m \u001b[0mpathlib\u001b[0m \u001b[1;32mimport\u001b[0m \u001b[0mPath\u001b[0m\u001b[1;33m\u001b[0m\u001b[1;33m\u001b[0m\u001b[0m\n\u001b[0m\u001b[0;32m      5\u001b[0m \u001b[1;32mimport\u001b[0m \u001b[0mwarnings\u001b[0m\u001b[1;33m\u001b[0m\u001b[1;33m\u001b[0m\u001b[0m\n\u001b[0;32m      6\u001b[0m \u001b[1;33m\u001b[0m\u001b[0m\n",
      "\u001b[1;32m~\\anaconda3\\envs\\twitter-cpi\\lib\\site-packages\\networkx\\algorithms\\centrality\\betweenness.py\u001b[0m in \u001b[0;36medge_betweenness_centrality\u001b[1;34m(G, k, normalized, weight, seed)\u001b[0m\n\u001b[0;32m    226\u001b[0m         \u001b[1;31m# single source shortest paths\u001b[0m\u001b[1;33m\u001b[0m\u001b[1;33m\u001b[0m\u001b[0m\n\u001b[0;32m    227\u001b[0m         \u001b[1;32mif\u001b[0m \u001b[0mweight\u001b[0m \u001b[1;32mis\u001b[0m \u001b[1;32mNone\u001b[0m\u001b[1;33m:\u001b[0m  \u001b[1;31m# use BFS\u001b[0m\u001b[1;33m\u001b[0m\u001b[1;33m\u001b[0m\u001b[0m\n\u001b[1;32m--> 228\u001b[1;33m             \u001b[0mS\u001b[0m\u001b[1;33m,\u001b[0m \u001b[0mP\u001b[0m\u001b[1;33m,\u001b[0m \u001b[0msigma\u001b[0m\u001b[1;33m,\u001b[0m \u001b[0m_\u001b[0m \u001b[1;33m=\u001b[0m \u001b[0m_single_source_shortest_path_basic\u001b[0m\u001b[1;33m(\u001b[0m\u001b[0mG\u001b[0m\u001b[1;33m,\u001b[0m \u001b[0ms\u001b[0m\u001b[1;33m)\u001b[0m\u001b[1;33m\u001b[0m\u001b[1;33m\u001b[0m\u001b[0m\n\u001b[0m\u001b[0;32m    229\u001b[0m         \u001b[1;32melse\u001b[0m\u001b[1;33m:\u001b[0m  \u001b[1;31m# use Dijkstra's algorithm\u001b[0m\u001b[1;33m\u001b[0m\u001b[1;33m\u001b[0m\u001b[0m\n\u001b[0;32m    230\u001b[0m             \u001b[0mS\u001b[0m\u001b[1;33m,\u001b[0m \u001b[0mP\u001b[0m\u001b[1;33m,\u001b[0m \u001b[0msigma\u001b[0m\u001b[1;33m,\u001b[0m \u001b[0m_\u001b[0m \u001b[1;33m=\u001b[0m \u001b[0m_single_source_dijkstra_path_basic\u001b[0m\u001b[1;33m(\u001b[0m\u001b[0mG\u001b[0m\u001b[1;33m,\u001b[0m \u001b[0ms\u001b[0m\u001b[1;33m,\u001b[0m \u001b[0mweight\u001b[0m\u001b[1;33m)\u001b[0m\u001b[1;33m\u001b[0m\u001b[1;33m\u001b[0m\u001b[0m\n",
      "\u001b[1;32m~\\anaconda3\\envs\\twitter-cpi\\lib\\site-packages\\networkx\\algorithms\\centrality\\betweenness.py\u001b[0m in \u001b[0;36m_single_source_shortest_path_basic\u001b[1;34m(G, s)\u001b[0m\n\u001b[0;32m    263\u001b[0m     \u001b[1;32mwhile\u001b[0m \u001b[0mQ\u001b[0m\u001b[1;33m:\u001b[0m  \u001b[1;31m# use BFS to find shortest paths\u001b[0m\u001b[1;33m\u001b[0m\u001b[1;33m\u001b[0m\u001b[0m\n\u001b[0;32m    264\u001b[0m         \u001b[0mv\u001b[0m \u001b[1;33m=\u001b[0m \u001b[0mQ\u001b[0m\u001b[1;33m.\u001b[0m\u001b[0mpop\u001b[0m\u001b[1;33m(\u001b[0m\u001b[1;36m0\u001b[0m\u001b[1;33m)\u001b[0m\u001b[1;33m\u001b[0m\u001b[1;33m\u001b[0m\u001b[0m\n\u001b[1;32m--> 265\u001b[1;33m         \u001b[0mS\u001b[0m\u001b[1;33m.\u001b[0m\u001b[0mappend\u001b[0m\u001b[1;33m(\u001b[0m\u001b[0mv\u001b[0m\u001b[1;33m)\u001b[0m\u001b[1;33m\u001b[0m\u001b[1;33m\u001b[0m\u001b[0m\n\u001b[0m\u001b[0;32m    266\u001b[0m         \u001b[0mDv\u001b[0m \u001b[1;33m=\u001b[0m \u001b[0mD\u001b[0m\u001b[1;33m[\u001b[0m\u001b[0mv\u001b[0m\u001b[1;33m]\u001b[0m\u001b[1;33m\u001b[0m\u001b[1;33m\u001b[0m\u001b[0m\n\u001b[0;32m    267\u001b[0m         \u001b[0msigmav\u001b[0m \u001b[1;33m=\u001b[0m \u001b[0msigma\u001b[0m\u001b[1;33m[\u001b[0m\u001b[0mv\u001b[0m\u001b[1;33m]\u001b[0m\u001b[1;33m\u001b[0m\u001b[1;33m\u001b[0m\u001b[0m\n",
      "\u001b[1;31mKeyboardInterrupt\u001b[0m: "
     ]
    }
   ],
   "source": [
    "from networkx.algorithms.community.centrality import girvan_newman\n",
    "from networkx.algorithms.community.modularity_max import greedy_modularity_communities\n",
    "from networkx.algorithms.community.label_propagation import asyn_lpa_communities\n",
    "\n",
    "comm_grivan = list(girvan_newman(G))"
   ]
  },
  {
   "cell_type": "code",
   "execution_count": 45,
   "id": "f8868f4c-6bbf-428b-ba9b-2adc02851816",
   "metadata": {},
   "outputs": [
    {
     "ename": "KeyboardInterrupt",
     "evalue": "",
     "output_type": "error",
     "traceback": [
      "\u001b[1;31m---------------------------------------------------------------------------\u001b[0m",
      "\u001b[1;31mKeyboardInterrupt\u001b[0m                         Traceback (most recent call last)",
      "\u001b[1;32m~\\AppData\\Local\\Temp/ipykernel_22744/2130599624.py\u001b[0m in \u001b[0;36m<module>\u001b[1;34m\u001b[0m\n\u001b[1;32m----> 1\u001b[1;33m \u001b[0mcomm_modularity\u001b[0m \u001b[1;33m=\u001b[0m \u001b[0mlist\u001b[0m\u001b[1;33m(\u001b[0m\u001b[0mgreedy_modularity_communities\u001b[0m\u001b[1;33m(\u001b[0m\u001b[0mG\u001b[0m\u001b[1;33m,\u001b[0m \u001b[0mweight\u001b[0m\u001b[1;33m=\u001b[0m\u001b[1;34m'weight'\u001b[0m\u001b[1;33m)\u001b[0m\u001b[1;33m)\u001b[0m\u001b[1;33m\u001b[0m\u001b[1;33m\u001b[0m\u001b[0m\n\u001b[0m",
      "\u001b[1;32m~\\anaconda3\\envs\\twitter-cpi\\lib\\site-packages\\networkx\\algorithms\\community\\modularity_max.py\u001b[0m in \u001b[0;36mgreedy_modularity_communities\u001b[1;34m(G, weight, resolution, n_communities)\u001b[0m\n\u001b[0;32m    115\u001b[0m     \u001b[1;31m# Use -dq to get a max_heap instead of a min_heap\u001b[0m\u001b[1;33m\u001b[0m\u001b[1;33m\u001b[0m\u001b[0m\n\u001b[0;32m    116\u001b[0m     \u001b[1;31m# dq_heap holds a heap for each node's neighbors\u001b[0m\u001b[1;33m\u001b[0m\u001b[1;33m\u001b[0m\u001b[0m\n\u001b[1;32m--> 117\u001b[1;33m     \u001b[0mdq_heap\u001b[0m \u001b[1;33m=\u001b[0m \u001b[1;33m{\u001b[0m\u001b[0mu\u001b[0m\u001b[1;33m:\u001b[0m \u001b[0mMappedQueue\u001b[0m\u001b[1;33m(\u001b[0m\u001b[1;33m{\u001b[0m\u001b[1;33m(\u001b[0m\u001b[0mu\u001b[0m\u001b[1;33m,\u001b[0m \u001b[0mv\u001b[0m\u001b[1;33m)\u001b[0m\u001b[1;33m:\u001b[0m \u001b[1;33m-\u001b[0m\u001b[0mdq\u001b[0m \u001b[1;32mfor\u001b[0m \u001b[0mv\u001b[0m\u001b[1;33m,\u001b[0m \u001b[0mdq\u001b[0m \u001b[1;32min\u001b[0m \u001b[0mdq_dict\u001b[0m\u001b[1;33m[\u001b[0m\u001b[0mu\u001b[0m\u001b[1;33m]\u001b[0m\u001b[1;33m.\u001b[0m\u001b[0mitems\u001b[0m\u001b[1;33m(\u001b[0m\u001b[1;33m)\u001b[0m\u001b[1;33m}\u001b[0m\u001b[1;33m)\u001b[0m \u001b[1;32mfor\u001b[0m \u001b[0mu\u001b[0m \u001b[1;32min\u001b[0m \u001b[0mG\u001b[0m\u001b[1;33m}\u001b[0m\u001b[1;33m\u001b[0m\u001b[1;33m\u001b[0m\u001b[0m\n\u001b[0m\u001b[0;32m    118\u001b[0m     \u001b[1;31m# H -> all_dq_heap holds a heap with the best items for each node\u001b[0m\u001b[1;33m\u001b[0m\u001b[1;33m\u001b[0m\u001b[0m\n\u001b[0;32m    119\u001b[0m     \u001b[0mH\u001b[0m \u001b[1;33m=\u001b[0m \u001b[0mMappedQueue\u001b[0m\u001b[1;33m(\u001b[0m\u001b[1;33m[\u001b[0m\u001b[0mdq_heap\u001b[0m\u001b[1;33m[\u001b[0m\u001b[0mn\u001b[0m\u001b[1;33m]\u001b[0m\u001b[1;33m.\u001b[0m\u001b[0mheap\u001b[0m\u001b[1;33m[\u001b[0m\u001b[1;36m0\u001b[0m\u001b[1;33m]\u001b[0m \u001b[1;32mfor\u001b[0m \u001b[0mn\u001b[0m \u001b[1;32min\u001b[0m \u001b[0mG\u001b[0m \u001b[1;32mif\u001b[0m \u001b[0mlen\u001b[0m\u001b[1;33m(\u001b[0m\u001b[0mdq_heap\u001b[0m\u001b[1;33m[\u001b[0m\u001b[0mn\u001b[0m\u001b[1;33m]\u001b[0m\u001b[1;33m)\u001b[0m \u001b[1;33m>\u001b[0m \u001b[1;36m0\u001b[0m\u001b[1;33m]\u001b[0m\u001b[1;33m)\u001b[0m\u001b[1;33m\u001b[0m\u001b[1;33m\u001b[0m\u001b[0m\n",
      "\u001b[1;32m~\\anaconda3\\envs\\twitter-cpi\\lib\\site-packages\\networkx\\algorithms\\community\\modularity_max.py\u001b[0m in \u001b[0;36m<dictcomp>\u001b[1;34m(.0)\u001b[0m\n\u001b[0;32m    115\u001b[0m     \u001b[1;31m# Use -dq to get a max_heap instead of a min_heap\u001b[0m\u001b[1;33m\u001b[0m\u001b[1;33m\u001b[0m\u001b[0m\n\u001b[0;32m    116\u001b[0m     \u001b[1;31m# dq_heap holds a heap for each node's neighbors\u001b[0m\u001b[1;33m\u001b[0m\u001b[1;33m\u001b[0m\u001b[0m\n\u001b[1;32m--> 117\u001b[1;33m     \u001b[0mdq_heap\u001b[0m \u001b[1;33m=\u001b[0m \u001b[1;33m{\u001b[0m\u001b[0mu\u001b[0m\u001b[1;33m:\u001b[0m \u001b[0mMappedQueue\u001b[0m\u001b[1;33m(\u001b[0m\u001b[1;33m{\u001b[0m\u001b[1;33m(\u001b[0m\u001b[0mu\u001b[0m\u001b[1;33m,\u001b[0m \u001b[0mv\u001b[0m\u001b[1;33m)\u001b[0m\u001b[1;33m:\u001b[0m \u001b[1;33m-\u001b[0m\u001b[0mdq\u001b[0m \u001b[1;32mfor\u001b[0m \u001b[0mv\u001b[0m\u001b[1;33m,\u001b[0m \u001b[0mdq\u001b[0m \u001b[1;32min\u001b[0m \u001b[0mdq_dict\u001b[0m\u001b[1;33m[\u001b[0m\u001b[0mu\u001b[0m\u001b[1;33m]\u001b[0m\u001b[1;33m.\u001b[0m\u001b[0mitems\u001b[0m\u001b[1;33m(\u001b[0m\u001b[1;33m)\u001b[0m\u001b[1;33m}\u001b[0m\u001b[1;33m)\u001b[0m \u001b[1;32mfor\u001b[0m \u001b[0mu\u001b[0m \u001b[1;32min\u001b[0m \u001b[0mG\u001b[0m\u001b[1;33m}\u001b[0m\u001b[1;33m\u001b[0m\u001b[1;33m\u001b[0m\u001b[0m\n\u001b[0m\u001b[0;32m    118\u001b[0m     \u001b[1;31m# H -> all_dq_heap holds a heap with the best items for each node\u001b[0m\u001b[1;33m\u001b[0m\u001b[1;33m\u001b[0m\u001b[0m\n\u001b[0;32m    119\u001b[0m     \u001b[0mH\u001b[0m \u001b[1;33m=\u001b[0m \u001b[0mMappedQueue\u001b[0m\u001b[1;33m(\u001b[0m\u001b[1;33m[\u001b[0m\u001b[0mdq_heap\u001b[0m\u001b[1;33m[\u001b[0m\u001b[0mn\u001b[0m\u001b[1;33m]\u001b[0m\u001b[1;33m.\u001b[0m\u001b[0mheap\u001b[0m\u001b[1;33m[\u001b[0m\u001b[1;36m0\u001b[0m\u001b[1;33m]\u001b[0m \u001b[1;32mfor\u001b[0m \u001b[0mn\u001b[0m \u001b[1;32min\u001b[0m \u001b[0mG\u001b[0m \u001b[1;32mif\u001b[0m \u001b[0mlen\u001b[0m\u001b[1;33m(\u001b[0m\u001b[0mdq_heap\u001b[0m\u001b[1;33m[\u001b[0m\u001b[0mn\u001b[0m\u001b[1;33m]\u001b[0m\u001b[1;33m)\u001b[0m \u001b[1;33m>\u001b[0m \u001b[1;36m0\u001b[0m\u001b[1;33m]\u001b[0m\u001b[1;33m)\u001b[0m\u001b[1;33m\u001b[0m\u001b[1;33m\u001b[0m\u001b[0m\n",
      "\u001b[1;32m~\\anaconda3\\envs\\twitter-cpi\\lib\\site-packages\\networkx\\algorithms\\community\\modularity_max.py\u001b[0m in \u001b[0;36m<dictcomp>\u001b[1;34m(.0)\u001b[0m\n\u001b[0;32m    115\u001b[0m     \u001b[1;31m# Use -dq to get a max_heap instead of a min_heap\u001b[0m\u001b[1;33m\u001b[0m\u001b[1;33m\u001b[0m\u001b[0m\n\u001b[0;32m    116\u001b[0m     \u001b[1;31m# dq_heap holds a heap for each node's neighbors\u001b[0m\u001b[1;33m\u001b[0m\u001b[1;33m\u001b[0m\u001b[0m\n\u001b[1;32m--> 117\u001b[1;33m     \u001b[0mdq_heap\u001b[0m \u001b[1;33m=\u001b[0m \u001b[1;33m{\u001b[0m\u001b[0mu\u001b[0m\u001b[1;33m:\u001b[0m \u001b[0mMappedQueue\u001b[0m\u001b[1;33m(\u001b[0m\u001b[1;33m{\u001b[0m\u001b[1;33m(\u001b[0m\u001b[0mu\u001b[0m\u001b[1;33m,\u001b[0m \u001b[0mv\u001b[0m\u001b[1;33m)\u001b[0m\u001b[1;33m:\u001b[0m \u001b[1;33m-\u001b[0m\u001b[0mdq\u001b[0m \u001b[1;32mfor\u001b[0m \u001b[0mv\u001b[0m\u001b[1;33m,\u001b[0m \u001b[0mdq\u001b[0m \u001b[1;32min\u001b[0m \u001b[0mdq_dict\u001b[0m\u001b[1;33m[\u001b[0m\u001b[0mu\u001b[0m\u001b[1;33m]\u001b[0m\u001b[1;33m.\u001b[0m\u001b[0mitems\u001b[0m\u001b[1;33m(\u001b[0m\u001b[1;33m)\u001b[0m\u001b[1;33m}\u001b[0m\u001b[1;33m)\u001b[0m \u001b[1;32mfor\u001b[0m \u001b[0mu\u001b[0m \u001b[1;32min\u001b[0m \u001b[0mG\u001b[0m\u001b[1;33m}\u001b[0m\u001b[1;33m\u001b[0m\u001b[1;33m\u001b[0m\u001b[0m\n\u001b[0m\u001b[0;32m    118\u001b[0m     \u001b[1;31m# H -> all_dq_heap holds a heap with the best items for each node\u001b[0m\u001b[1;33m\u001b[0m\u001b[1;33m\u001b[0m\u001b[0m\n\u001b[0;32m    119\u001b[0m     \u001b[0mH\u001b[0m \u001b[1;33m=\u001b[0m \u001b[0mMappedQueue\u001b[0m\u001b[1;33m(\u001b[0m\u001b[1;33m[\u001b[0m\u001b[0mdq_heap\u001b[0m\u001b[1;33m[\u001b[0m\u001b[0mn\u001b[0m\u001b[1;33m]\u001b[0m\u001b[1;33m.\u001b[0m\u001b[0mheap\u001b[0m\u001b[1;33m[\u001b[0m\u001b[1;36m0\u001b[0m\u001b[1;33m]\u001b[0m \u001b[1;32mfor\u001b[0m \u001b[0mn\u001b[0m \u001b[1;32min\u001b[0m \u001b[0mG\u001b[0m \u001b[1;32mif\u001b[0m \u001b[0mlen\u001b[0m\u001b[1;33m(\u001b[0m\u001b[0mdq_heap\u001b[0m\u001b[1;33m[\u001b[0m\u001b[0mn\u001b[0m\u001b[1;33m]\u001b[0m\u001b[1;33m)\u001b[0m \u001b[1;33m>\u001b[0m \u001b[1;36m0\u001b[0m\u001b[1;33m]\u001b[0m\u001b[1;33m)\u001b[0m\u001b[1;33m\u001b[0m\u001b[1;33m\u001b[0m\u001b[0m\n",
      "\u001b[1;31mKeyboardInterrupt\u001b[0m: "
     ]
    }
   ],
   "source": [
    "comm_modularity = list(greedy_modularity_communities(G, weight='weight'))"
   ]
  },
  {
   "cell_type": "code",
   "execution_count": null,
   "id": "284c4818-5268-4c76-9937-854dd23b0065",
   "metadata": {},
   "outputs": [],
   "source": [
    "comm_label_prop =  list(asyn_lpa_communities(G, weight='weight', seed=None))"
   ]
  }
 ],
 "metadata": {
  "kernelspec": {
   "display_name": "twitter-cpi",
   "language": "python",
   "name": "twitter-cpi"
  },
  "language_info": {
   "codemirror_mode": {
    "name": "ipython",
    "version": 3
   },
   "file_extension": ".py",
   "mimetype": "text/x-python",
   "name": "python",
   "nbconvert_exporter": "python",
   "pygments_lexer": "ipython3",
   "version": "3.9.7"
  }
 },
 "nbformat": 4,
 "nbformat_minor": 5
}
